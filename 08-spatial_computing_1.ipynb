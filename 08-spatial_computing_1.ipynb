{
 "cells": [
  {
   "cell_type": "code",
   "execution_count": 1,
   "metadata": {},
   "outputs": [],
   "source": [
    "import warnings\n",
    "\n",
    "warnings.filterwarnings('ignore')"
   ]
  },
  {
   "cell_type": "markdown",
   "metadata": {},
   "source": [
    "# 2 基于geopandsa的矢量计算"
   ]
  },
  {
   "cell_type": "markdown",
   "metadata": {},
   "source": [
    "## 2.1 构造方法"
   ]
  },
  {
   "cell_type": "code",
   "execution_count": 1,
   "metadata": {},
   "outputs": [],
   "source": [
    "import shapely\n",
    "import geopandas as gpd\n",
    "import matplotlib.pyplot as plt\n",
    "\n",
    "plt.rcParams['font.sans-serif'] = ['SimHei'] # 解决中文字体乱码问题"
   ]
  },
  {
   "cell_type": "markdown",
   "metadata": {},
   "source": [
    "- **buffer()**"
   ]
  },
  {
   "cell_type": "code",
   "execution_count": 2,
   "metadata": {},
   "outputs": [
    {
     "name": "stderr",
     "output_type": "stream",
     "text": [
      "D:\\miniconda3\\lib\\site-packages\\geopandas\\plotting.py:470: UserWarning: Glyph 8722 (\\N{MINUS SIGN}) missing from current font.\n",
      "  plt.draw()\n",
      "D:\\miniconda3\\lib\\site-packages\\geopandas\\plotting.py:470: UserWarning: Glyph 8722 (\\N{MINUS SIGN}) missing from current font.\n",
      "  plt.draw()\n",
      "D:\\miniconda3\\lib\\site-packages\\geopandas\\plotting.py:470: UserWarning: Glyph 8722 (\\N{MINUS SIGN}) missing from current font.\n",
      "  plt.draw()\n",
      "D:\\miniconda3\\lib\\site-packages\\geopandas\\plotting.py:470: UserWarning: Glyph 8722 (\\N{MINUS SIGN}) missing from current font.\n",
      "  plt.draw()\n",
      "D:\\miniconda3\\lib\\site-packages\\geopandas\\plotting.py:470: UserWarning: Glyph 8722 (\\N{MINUS SIGN}) missing from current font.\n",
      "  plt.draw()\n",
      "D:\\miniconda3\\lib\\site-packages\\geopandas\\plotting.py:470: UserWarning: Glyph 8722 (\\N{MINUS SIGN}) missing from current font.\n",
      "  plt.draw()\n",
      "D:\\miniconda3\\lib\\site-packages\\geopandas\\plotting.py:470: UserWarning: Glyph 8722 (\\N{MINUS SIGN}) missing from current font.\n",
      "  plt.draw()\n",
      "D:\\miniconda3\\lib\\site-packages\\geopandas\\plotting.py:470: UserWarning: Glyph 8722 (\\N{MINUS SIGN}) missing from current font.\n",
      "  plt.draw()\n",
      "D:\\miniconda3\\lib\\site-packages\\geopandas\\plotting.py:470: UserWarning: Glyph 8722 (\\N{MINUS SIGN}) missing from current font.\n",
      "  plt.draw()\n"
     ]
    },
    {
     "data": {
      "image/png": "[encoded data removed]",
      "text/plain": [
       "<Figure size 648x648 with 9 Axes>"
      ]
     },
     "metadata": {
      "needs_background": "light"
     },
     "output_type": "display_data"
    }
   ],
   "source": [
    "fig, axes = plt.subplots(3, 3, figsize=(9, 9))\n",
    "\n",
    "axes = axes.flatten()\n",
    "\n",
    "pt = shapely.geometry.Point([0, 0])\n",
    "ls = shapely.geometry.LineString([(0, 0), (1, 0), (1, 1)])\n",
    "polygon = shapely.geometry.Polygon([(0, 0), (1, 0), (1, 1), (0, 1)])\n",
    "\n",
    "axes[0] = gpd.GeoSeries([pt,\n",
    "                         pt.buffer(distance=0.2, resolution=1)]) \\\n",
    "             .plot(ax=axes[0],\n",
    "                   alpha=0.2)\n",
    "axes[0].axis('off')\n",
    "axes[0].set_title('点：resolution=3')\n",
    "\n",
    "axes[1] = gpd.GeoSeries([pt,\n",
    "                         pt.buffer(distance=0.2, resolution=4)]) \\\n",
    "             .plot(ax=axes[1],\n",
    "                   alpha=0.2)\n",
    "axes[1].axis('off')\n",
    "axes[1].set_title('点：resolution=16')\n",
    "\n",
    "axes[2] = gpd.GeoSeries([pt,\n",
    "                         pt.buffer(distance=0.2, resolution=16)]) \\\n",
    "             .plot(ax=axes[2],\n",
    "                   alpha=0.2)\n",
    "axes[2].axis('off')\n",
    "axes[2].set_title('点：resolution=16')\n",
    "\n",
    "axes[3] = gpd.GeoSeries([ls,\n",
    "                         ls.buffer(distance=0.2, resolution=1)]) \\\n",
    "             .plot(ax=axes[3],\n",
    "                   alpha=0.2)\n",
    "axes[3].axis('off')\n",
    "axes[3].set_title('线：resolution=1')\n",
    "\n",
    "axes[4] = gpd.GeoSeries([ls,\n",
    "                         ls.buffer(distance=0.2, resolution=4)]) \\\n",
    "             .plot(ax=axes[4],\n",
    "                   alpha=0.2)\n",
    "axes[4].axis('off')\n",
    "axes[4].set_title('线：resolution=4')\n",
    "\n",
    "axes[5] = gpd.GeoSeries([ls,\n",
    "                         ls.buffer(distance=0.2, resolution=16)]) \\\n",
    "             .plot(ax=axes[5],\n",
    "                   alpha=0.2)\n",
    "axes[5].axis('off')\n",
    "axes[5].set_title('线：resolution=16')\n",
    "\n",
    "axes[6] = gpd.GeoSeries([polygon,\n",
    "                         polygon.buffer(distance=0.2, resolution=1)]) \\\n",
    "             .plot(ax=axes[6],\n",
    "                   alpha=0.2)\n",
    "axes[6].axis('off')\n",
    "axes[6].set_title('面：resolution=1')\n",
    "\n",
    "axes[7] = gpd.GeoSeries([polygon,\n",
    "                         polygon.buffer(distance=0.2, resolution=4)]) \\\n",
    "             .plot(ax=axes[7],\n",
    "                   alpha=0.2)\n",
    "axes[7].axis('off')\n",
    "axes[7].set_title('面：resolution=4')\n",
    "\n",
    "axes[8] = gpd.GeoSeries([polygon,\n",
    "                         polygon.buffer(distance=0.2, resolution=16)]) \\\n",
    "             .plot(ax=axes[8],\n",
    "                   alpha=0.2)\n",
    "axes[8].axis('off')\n",
    "axes[8].set_title('面：resolution=16')\n",
    "\n",
    "plt.savefig('图2.png', dpi=300, bbox_inches='tight', pad_inches=0)"
   ]
  },
  {
   "cell_type": "code",
   "execution_count": 4,
   "metadata": {},
   "outputs": [
    {
     "data": {
      "image/png": "[encoded data removed]",
      "text/plain": [
       "<Figure size 432x288 with 1 Axes>"
      ]
     },
     "metadata": {
      "needs_background": "light"
     },
     "output_type": "display_data"
    }
   ],
   "source": [
    "# 分别绘制多边形、多边形正向缓冲区、多边形负向缓冲区\n",
    "ax = gpd.GeoSeries([polygon,\n",
    "                    polygon.buffer(distance=1),\n",
    "                    polygon.buffer(distance=-0.25)]) \\\n",
    "        .plot(alpha=0.2)\n",
    "ax.axis('off')\n",
    "\n",
    "plt.savefig('图3.png', dpi=300, bbox_inches='tight', pad_inches=0)"
   ]
  },
  {
   "cell_type": "code",
   "execution_count": 5,
   "metadata": {},
   "outputs": [
    {
     "name": "stdout",
     "output_type": "stream",
     "text": [
      "False\n"
     ]
    },
    {
     "data": {
      "image/svg+xml": "<svg xmlns=\"http://www.w3.org/2000/svg\" xmlns:xlink=\"http://www.w3.org/1999/xlink\" width=\"100.0\" height=\"100.0\" viewBox=\"-0.04 -0.04 1.08 1.08\" preserveAspectRatio=\"xMinYMin meet\"><g transform=\"matrix(1,0,0,-1,0,1.0)\"><path fill-rule=\"evenodd\" fill=\"#ff3333\" stroke=\"#555555\" stroke-width=\"0.0216\" opacity=\"0.6\" d=\"M 0.0,0.0 L 1.0,1.0 L 1.0,0.0 L 0.0,1.0 L 0.0,0.0 z\" /></g></svg>",
      "text/plain": [
       "<shapely.geometry.polygon.Polygon at 0x244fe5b8430>"
      ]
     },
     "execution_count": 5,
     "metadata": {},
     "output_type": "execute_result"
    }
   ],
   "source": [
    "polygon = shapely.geometry.Polygon([(0, 0), (1, 1), (1, 0), (0, 1)])\n",
    "print(polygon.is_valid)\n",
    "polygon"
   ]
  },
  {
   "cell_type": "code",
   "execution_count": 6,
   "metadata": {},
   "outputs": [
    {
     "name": "stdout",
     "output_type": "stream",
     "text": [
      "True\n"
     ]
    },
    {
     "data": {
      "image/svg+xml": "<svg xmlns=\"http://www.w3.org/2000/svg\" xmlns:xlink=\"http://www.w3.org/1999/xlink\" width=\"100.0\" height=\"100.0\" viewBox=\"-0.04 -0.04 1.08 1.08\" preserveAspectRatio=\"xMinYMin meet\"><g transform=\"matrix(1,0,0,-1,0,1.0)\"><path fill-rule=\"evenodd\" fill=\"#ff3333\" stroke=\"#555555\" stroke-width=\"0.0216\" opacity=\"0.6\" d=\"M 0.0,0.0 L 1.0,1.0 L 1.0,0.0 L 0.0,1.0 L 0.0,0.0 z\" /></g></svg>",
      "text/plain": [
       "<shapely.geometry.polygon.Polygon at 0x244fe5b8430>"
      ]
     },
     "execution_count": 6,
     "metadata": {},
     "output_type": "execute_result"
    }
   ],
   "source": [
    "print(polygon.buffer(0).is_valid)\n",
    "polygon"
   ]
  },
  {
   "cell_type": "markdown",
   "metadata": {},
   "source": [
    "- **total_bounds**"
   ]
  },
  {
   "cell_type": "code",
   "execution_count": 7,
   "metadata": {},
   "outputs": [
    {
     "data": {
      "image/png": "[encoded data removed]",
      "text/plain": [
       "<Figure size 432x288 with 1 Axes>"
      ]
     },
     "metadata": {
      "needs_background": "light"
     },
     "output_type": "display_data"
    }
   ],
   "source": [
    "geom = gpd.GeoSeries([shapely.geometry.Point([0, 0]),\n",
    "                      shapely.geometry.Point([0, 1]),\n",
    "                      shapely.geometry.Polygon([(1, 1), (1.5, 1), (1.25, 1.25)])])\n",
    "\n",
    "ax = geom.plot(alpha=0.4)\n",
    "\n",
    "# 绘制total_bounds范围\n",
    "ax = gpd.GeoSeries([shapely.geometry.box(*geom.total_bounds.tolist())]) \\\n",
    "        .plot(ax=ax,\n",
    "              alpha=0.1,\n",
    "              color='red')\n",
    "\n",
    "ax.axis('off')\n",
    "\n",
    "plt.savefig('图5.png', dpi=300, bbox_inches='tight', pad_inches=0)"
   ]
  },
  {
   "cell_type": "markdown",
   "metadata": {},
   "source": [
    "- **simplify()**"
   ]
  },
  {
   "cell_type": "code",
   "execution_count": 8,
   "metadata": {},
   "outputs": [
    {
     "data": {
      "image/png": "[encoded data removed]",
      "text/plain": [
       "<Figure size 432x288 with 1 Axes>"
      ]
     },
     "metadata": {
      "needs_background": "light"
     },
     "output_type": "display_data"
    }
   ],
   "source": [
    "import numpy as np\n",
    "import matplotlib.patches as mpatches\n",
    "\n",
    "np.random.seed(10) # 固定随机数种子\n",
    "\n",
    "# 创建线\n",
    "line = shapely.geometry.LineString([(_, np.random.uniform(-1, 1)) for _ in range(10)])\n",
    "\n",
    "# 绘制简化前\n",
    "ax = gpd.GeoSeries([line]).plot(color='red')\n",
    "\n",
    "# 绘制简化后\n",
    "ax = gpd.GeoSeries([line]).simplify(tolerance=0.5).plot(color='blue', \n",
    "                                                        ax=ax,\n",
    "                                                        linestyle='--')\n",
    "\n",
    "# 制作图例映射对象列表\n",
    "LegendElement = [plt.Line2D([], [], color='red', label='简化前'),\n",
    "                 plt.Line2D([], [], color='blue', linestyle='--', label='简化后')]\n",
    "\n",
    "# 将制作好的图例映射对象列表导入legend()中，并配置相关参数\n",
    "ax.legend(handles = LegendElement, \n",
    "          loc='lower left', \n",
    "          fontsize=10)\n",
    "\n",
    "ax.set_ylim((-2.5, 1))\n",
    "ax.axis('off')\n",
    "plt.savefig('图7.png', dpi=300, bbox_inches='tight', pad_inches=0)"
   ]
  },
  {
   "cell_type": "markdown",
   "metadata": {},
   "source": [
    "- **unary_union**"
   ]
  },
  {
   "cell_type": "code",
   "execution_count": 21,
   "metadata": {},
   "outputs": [
    {
     "data": {
      "image/svg+xml": "<svg xmlns=\"http://www.w3.org/2000/svg\" xmlns:xlink=\"http://www.w3.org/1999/xlink\" width=\"300\" height=\"202.44513\" viewBox=\"-194.4 -104.4 388.80000000000007 202.44513\" preserveAspectRatio=\"xMinYMin meet\"><g transform=\"matrix(1,0,0,-1,0,-6.354869999999991)\"><g><path fill-rule=\"evenodd\" fill=\"#66cc99\" stroke=\"#555555\" stroke-width=\"2.5920000000000005\" opacity=\"0.6\" d=\"M -163.7128956777287,-78.59566741324154 L -163.7128956777287,-78.59566660579729 L -163.1058009511638,-78.22333791113434 L -161.24511349184644,-78.38017588314018 L -160.24620805564453,-78.69364512142268 L -159.48240454815448,-79.04633757925897 L -159.20818356019765,-79.49705942170868 L -161.12760128481472,-79.63420867301133 L -162.43984676821842,-79.28146534618699 L -163.027407803377,-78.92877369579496 L -163.06660437727038,-78.8699659158468 L -163.7128956777287,-78.59566741324154 z\" /><path fill-rule=\"evenodd\" fill=\"#66cc99\" stroke=\"#555555\" stroke-width=\"2.5920000000000005\" opacity=\"0.6\" d=\"M -66.29003089055513,-80.25577280061798 L -64.03768775089767,-80.29494353629522 L -61.88324561221718,-80.39287037548831 L -61.13897579613348,-79.98137094514813 L -60.61011918805844,-79.6286792947561 L -59.572094692611586,-80.04017872509628 L -59.86584937197473,-80.54965667106185 L -60.15965572777019,-81.00032683707929 L -62.25539343936711,-80.86317758577665 L -64.48812537296979,-80.92193368929253 L -65.74166642928991,-80.5888274067391 L -65.74166642928991,-80.54965667106185 L -66.29003089055513,-80.25577280061798 z\" /><path fill-rule=\"evenodd\" fill=\"#66cc99\" stroke=\"#555555\" stroke-width=\"2.5920000000000005\" opacity=\"0.6\" d=\"M -48.66061601418252,-78.04701873159873 L -48.1513964503784,-78.04706960058677 L -46.66285681821098,-77.83147552506506 L -45.15475765642109,-78.04706960058677 L -43.92082780615574,-78.47810272233328 L -43.48994971370611,-79.0855599913685 L -43.37243750667439,-79.51664478954731 L -43.33326677099714,-80.0261227355129 L -44.880536668464266,-80.33964365022769 L -46.50617387550203,-80.59435678499433 L -48.38642086444183,-80.82948455192233 L -50.48210689960646,-81.02544158317313 L -52.85198808451179,-80.96668547965729 L -54.16425940613162,-80.63352752067158 L -53.987991095584036,-80.22202809033138 L -51.85313432474216,-79.94772958772612 L -50.99132646341059,-79.6146233051727 L -50.364594692574755,-79.1834868305616 L -49.91413123228649,-78.81120900488669 L -49.30695899107312,-78.45856903092695 L -48.66061601418252,-78.04701792415447 L -48.66061601418252,-78.04701873159873 z\" /><path fill-rule=\"evenodd\" fill=\"#66cc99\" stroke=\"#555555\" stroke-width=\"2.5920000000000005\" opacity=\"0.6\" d=\"M 180.0,-84.71337999999997 L 180.0,-90.0 L -179.99999999999994,-90.0 L -179.99999999999994,-84.71337999999997 L -179.94249935617898,-84.72144337355252 L -179.05867733469117,-84.13941171664914 L -177.25677181710577,-84.45293263136392 L -177.1408066732658,-84.41794122714828 L -176.08467281807765,-84.09925912875838 L -175.94723461362773,-84.11044871021659 L -175.82988216866258,-84.11791432081571 L -174.38250281481567,-84.53432301222352 L -173.11655941474544,-84.11791432081571 L -172.88910559801278,-84.06101856886238 L -169.9512229075714,-83.88464690545015 L -168.9999889801587,-84.11791432081571 L -168.5301985341933,-84.23739023227444 L -167.02209937240337,-84.57049651482794 L -164.1821435211551,-84.82520964959463 L -161.9297745432814,-85.13873056430941 L -158.07137956442492,-85.37391000766968 L -155.19225297749927,-85.09955982863215 L -150.942098965438,-85.29551685988292 L -148.53307288307155,-85.60903777459771 L -145.88891822633295,-85.31510222772158 L -143.10771847860048,-85.04075204868394 L -142.89227943237557,-84.57049651482794 L -146.82906836646328,-84.53127410271838 L -150.06073157448392,-84.29614633579035 L -150.9029282297608,-83.90423227328881 L -153.58620113830017,-83.68868987419938 L -153.4099069895364,-83.23801970818204 L -153.03775916238646,-82.82652027784184 L -152.66563717345272,-82.45419158317884 L -152.86151669005503,-82.04269215283858 L -154.52629879455392,-81.76839365023335 L -155.29017981669236,-81.41565032340901 L -156.83744971415953,-81.10212940869428 L -154.4087865875222,-81.16093718864244 L -152.0976615061328,-81.00415089306881 L -150.6482926096426,-81.33730885205455 L -148.86599829811203,-81.0433733051783 L -147.22074988501947,-80.67104461051548 L -146.41774899619182,-80.33793832796204 L -146.77028642473124,-79.92643889762189 L -148.06294654029634,-79.65208871858425 L -149.53190080462508,-79.35820484814042 L -151.58841610411247,-79.29939706819226 L -153.39032162169778,-79.16224781688965 L -155.32937639058574,-79.06426930126423 L -155.97566769104412,-78.69193979915707 L -157.26830196839302,-78.37841888444223 L -158.05176835837008,-78.02567555761794 L -158.365134243788,-76.889207458655 L -157.8754742096064,-76.98723765071264 L -156.974573127246,-77.30075856542754 L -155.32937639058574,-77.20272837336978 L -153.74283240457677,-77.06557912206722 L -152.92024695535474,-77.49666392024602 L -151.33378048399427,-77.39873708105284 L -150.00194963275192,-77.18314300553124 L -148.7484860910803,-76.90884450292594 L -147.61248308000805,-76.57573822037256 L -146.10440894899006,-76.47775970474709 L -146.14352800823497,-76.1054310100842 L -146.4960912749905,-75.7331539918535 L -146.20230994996697,-75.38041066502922 L -144.9096239961858,-75.20403900161699 L -144.32203712281103,-75.53719696060273 L -142.79435259318257,-75.34123992935196 L -141.63876421427165,-75.08647511815298 L -140.2090065238362,-75.06688975031443 L -138.85759030475532,-74.96891123468896 L -137.5061999238905,-74.73378346776099 L -136.42890133990187,-74.51824106867161 L -135.21458269569132,-74.30269866958218 L -134.43119382036258,-74.36145477309799 L -133.7456542695786,-74.43984792088486 L -132.25716792873203,-74.30269866958218 L -130.92531123927358,-74.47901865656195 L -129.55428381413782,-74.45943328872346 L -128.2420383307342,-74.32228403742073 L -126.89062211165322,-74.4202625530462 L -125.40208247948584,-74.51824106867161 L -124.01149552472765,-74.47901865656195 L -122.56215246645365,-74.49860402440066 L -121.07361283428622,-74.51824106867161 L -119.70255957093428,-74.47901865656195 L -118.68414547409799,-74.18508310968588 L -117.46980099167126,-74.02834849054466 L -116.21631161178345,-74.24389088963397 L -115.02155249719539,-74.06751922622186 L -113.9443314278551,-73.71482757582987 L -113.29798845096451,-74.02834849054466 L -112.94545182986934,-74.38104014093665 L -112.29908301476263,-74.71419809992238 L -111.26105851931567,-74.4202625530462 L -110.06632524294378,-74.79253957127685 L -108.71490902386279,-74.91010345474086 L -107.55934648316816,-75.18445363377845 L -106.14914832235507,-75.12569753026253 L -104.87607357462872,-74.94932586685042 L -103.36794857462269,-74.98849660252768 L -102.01650651732564,-75.12569753026253 L -100.64553076862228,-75.30201751724246 L -100.1166999987633,-74.87093271906349 L -100.763042975654,-74.53782643651022 L -101.25270300983556,-74.18508310968588 L -102.54533728718457,-74.10674163833141 L -103.11331295450452,-73.73441294366842 L -103.32875200072931,-73.36208424900553 L -103.68128862182442,-72.61753021254418 L -102.9174851143344,-72.75467946384686 L -101.60523963093078,-72.81343556736266 L -100.31252783893342,-72.75467946384686 L -99.13737993040007,-72.91141408298807 L -98.11888912635953,-73.2053496298642 L -97.68803687212608,-73.5580412802563 L -96.33659481482897,-73.6168490602044 L -95.0439605374799,-73.47969980890184 L -93.67290727412814,-73.28374277765096 L -92.43900326207898,-73.16617889418706 L -91.42056413447074,-73.40130666111509 L -90.08873328322846,-73.32291351332816 L -89.22695126011297,-72.55872243259591 L -88.42395117872957,-73.00939259861343 L -87.26833696160259,-73.18576426202566 L -86.01482174349849,-73.08778574640019 L -85.19223629427654,-73.47969980890184 L -83.87999081087281,-73.51887054457893 L -82.66564632844609,-73.63643442804306 L -81.4709130520742,-73.85197682713243 L -80.68744666209705,-73.47969980890184 L -80.29579098175702,-73.12695648207739 L -79.29688554555503,-73.51887054457893 L -77.92585812041932,-73.42089202895363 L -76.90736731637878,-73.63643442804306 L -76.2218794420271,-73.96954071059645 L -74.89004859078483,-73.87161387140338 L -73.85202409533798,-73.65601979588166 L -72.83353329129744,-73.40130666111509 L -71.61921464708689,-73.26415740981241 L -70.20904232448999,-73.1465418499161 L -68.93591590033128,-73.00939259861343 L -67.95662167018412,-72.79385019952406 L -67.36906063502556,-72.48032928480927 L -67.13403622096206,-72.04924448663041 L -67.25154842799373,-71.63774505629027 L -67.56494015162792,-71.24583099378873 L -67.91747677272303,-70.85391693128707 L -68.23084265814094,-70.46205454521782 L -68.48545244004305,-70.10931121839354 L -68.54420854355897,-69.717397155892 L -68.44628170436579,-69.3255347698227 L -67.97623287623895,-68.95320607515976 L -67.58449968125035,-68.5417066448195 L -67.42784257675754,-68.14984425875025 L -67.62367041692767,-67.7187594605715 L -67.74118262395939,-67.3268453980699 L -67.25154842799373,-66.87617523205245 L -66.7031839667286,-66.5822396851762 L -66.05681515162189,-66.20996266694567 L -65.37132727727015,-65.89639007579859 L -64.56827551945446,-65.6025062053547 L -64.17654232446586,-65.1714230220644 L -63.62815202498456,-64.8970728430267 L -63.00139441593262,-64.6423080318279 L -62.041685553624006,-64.58355192831198 L -61.41492794457207,-64.27003101359719 L -60.70985470238173,-64.07407398234642 L -59.887269253159616,-63.956510098882404 L -59.16258480491456,-63.701745287683536 L -58.59455746116231,-63.38822437296864 L -57.811142747617566,-63.27066048950462 L -57.223581712458895,-63.52542530070366 L -57.5957295396089,-63.85853158325705 L -58.61414282900097,-64.15246713013318 L -59.04507259788289,-64.3680095292226 L -59.78934241396661,-64.2112232336491 L -60.61192786318867,-64.3092017492744 L -61.29741573754035,-64.54432951620254 L -62.02210018578546,-64.7990943274014 L -62.51176021996696,-65.09302987427748 L -62.6488577948374,-65.48494232189068 L -62.59012752953771,-65.85721934012133 L -62.12007870141076,-66.19032562267466 L -62.80556657576244,-66.42550506603499 L -63.7456900702324,-66.50384653738956 L -64.29410620792999,-66.83700449637524 L -64.88169308130466,-67.15047373465768 L -65.50842485214054,-67.58161020926889 L -65.66508195663334,-67.95388722749948 L -65.31254533553812,-68.36533498140739 L -64.7837145656793,-68.67890757255452 L -63.961103278241126,-68.9139836630502 L -63.1972997707511,-69.22755625419728 L -62.78595536970778,-69.61941864026653 L -62.570516323482934,-69.99174733492953 L -62.27673580590357,-70.38366139743107 L -61.80666113956062,-70.71676767998451 L -61.51290646019743,-71.0890446982151 L -61.37580888532716,-72.01007375095315 L -61.08197669131556,-72.38235076918386 L -61.003661058177215,-72.7742648316854 L -60.69026933454313,-73.16617889418706 L -60.827366909413456,-73.69524220799121 L -61.37580888532716,-74.10674163833141 L -61.96336992048572,-74.43984792088486 L -63.29520077172799,-74.57699717218742 L -63.7456900702324,-74.92974049901176 L -64.35283647322962,-75.2628467815652 L -65.86098731145182,-75.63512379979574 L -67.19281816269415,-75.79191009536942 L -68.44628170436579,-76.00745249445879 L -69.7977237616629,-76.22299489354822 L -70.6007238430463,-76.63449432388842 L -72.2067756822454,-76.67366505956568 L -73.9695363023697,-76.63449432388842 L -75.55597693551408,-76.71288747167517 L -77.24037024606764,-76.71288747167517 L -76.92697852243361,-77.10480153417677 L -75.39929399280499,-77.28106984472436 L -74.28287634957144,-77.55542002376177 L -73.6561187405195,-77.90811167415393 L -74.7725363837531,-78.22163258886872 L -76.49610042998398,-78.12365407324324 L -77.92585812041932,-78.37841888444223 L -77.98466590036753,-78.78991831478237 L -78.0237849596125,-79.18183318472825 L -76.8486370510791,-79.51493946728169 L -76.63322384307043,-79.88721648551223 L -75.36009741891172,-80.25954518017522 L -73.24485185412459,-80.41633147574879 L -71.44294633653925,-80.69062997835402 L -70.01316280788774,-81.00415089306881 L -68.19164608424757,-81.3176718077836 L -65.70427853052672,-81.47445810335722 L -63.25603003605073,-81.74875660596251 L -61.55202551944234,-82.04269215283858 L -59.69141557477349,-82.37585011182438 L -58.71212134462627,-82.84610564568038 L -58.22248714866089,-83.21843434034338 L -57.008116828017876,-82.86569101351904 L -55.362894253141576,-82.5717554666428 L -53.61977067728827,-82.25823455192807 L -51.54364417174605,-82.00352141716132 L -49.76134986021549,-81.7291712381238 L -47.27393063006224,-81.70958587028525 L -44.82570797380254,-81.84673512158781 L -42.80836340999241,-82.08191456494814 L -42.162020433101816,-81.65082976676933 L -40.771433478343624,-81.3568942198932 L -38.24481767429711,-81.33730885205455 L -36.26666968438025,-81.12171477653294 L -34.38639685722438,-80.90617237744351 L -32.31029618989834,-80.76902312614078 L -30.097097947702025,-80.59265146272867 L -28.549802212018733,-80.33793832796204 L -29.25490129242513,-79.9851950011377 L -29.685805223090995,-79.63250335074571 L -29.685805223090995,-79.260226332515 L -31.62480831554666,-79.29939706819226 L -33.68132361503399,-79.45613168733348 L -35.63991207532831,-79.45613168733348 L -35.91410722506902,-79.08385466910289 L -35.77700965019869,-78.33924814876502 L -35.32654618991046,-78.12365407324324 L -33.89676266125889,-77.88852630631527 L -32.21236935070527,-77.65345021581953 L -30.99805070649461,-77.35951466894335 L -29.783732062284116,-77.06557912206722 L -28.882779303491418,-76.67366505956568 L -27.511751878355653,-76.49734507258574 L -26.16033565927478,-76.36014414485078 L -25.474821946706925,-76.28180267349632 L -23.927552049239807,-76.24258026138676 L -22.458597784910978,-76.1054310100842 L -21.224693772861826,-75.90947397883343 L -20.010375128651106,-75.6743462119054 L -18.913542853256217,-75.43921844497731 L -17.5229817367142,-75.12569753026253 L -16.641588507544043,-74.79253957127685 L -15.70149085129026,-74.49860402440066 L -15.407710333710895,-74.10674163833141 L -16.4653201969964,-73.87161387140338 L -16.11278357590129,-73.46011444106318 L -15.44685523117198,-73.1465418499161 L -14.408804897509015,-72.95058481866533 L -13.311972622114013,-72.7154570517373 L -12.293507656289592,-72.40193613702252 L -11.510067104528616,-72.01007375095315 L -11.020432908563066,-71.53976654066486 L -10.295774298534184,-71.26541636162733 L -9.101015183946117,-71.32422414157548 L -8.611380987980624,-71.65733042412887 L -7.416621873392444,-71.69650115980608 L -7.377451137715298,-71.32422414157548 L -6.868231573911146,-70.93231007907394 L -5.790984666354802,-71.0302885946993 L -5.536374884452698,-71.4026172893623 L -4.341667446296924,-71.4613733928781 L -3.0489814925156224,-71.28505340589817 L -1.7954921126278123,-71.16743784600186 L -0.6594891015555504,-71.22624562595007 L -0.22863684732209322,-71.63774505629027 L 0.8681954280729087,-71.30463877373683 L 1.8866862321135045,-71.12826711032471 L 3.022637566753417,-70.9911178590221 L 4.139055209987021,-70.85391693128707 L 5.157546014027616,-70.61878916435904 L 6.273911980828871,-70.46205454521782 L 7.135719842160597,-70.24651214612834 L 7.742866245157813,-69.89376881930406 L 8.487110223025297,-70.14853363050304 L 9.525134718472202,-70.01133270276819 L 10.249845004933434,-70.48163991305648 L 10.817820672253333,-70.83433156344853 L 11.953823683325595,-70.63837453219776 L 12.404287143613942,-70.24651214612834 L 13.422777947654367,-69.97216196709093 L 14.734997592841978,-70.03091807060673 L 15.126756626046586,-70.40324676526973 L 15.94934207526859,-70.03091807060673 L 17.02658898282516,-69.91335418714277 L 18.201711053142276,-69.87418345146551 L 19.259372592860018,-69.89376881930406 L 20.375738559661443,-70.01133270276819 L 21.452985467217786,-70.07014048271628 L 21.923034295344735,-70.40324676526973 L 22.56940311045139,-70.69718231214586 L 23.666183709414213,-70.52081064873374 L 24.841357456163564,-70.48163991305648 L 25.977308790803647,-70.48163991305648 L 27.09372643403725,-70.46205454521782 L 28.09258019380684,-70.32485361748297 L 29.15024173352458,-70.20728973401896 L 30.031583286262503,-69.93293955498132 L 30.97173261894858,-69.7566195680015 L 31.990171746556825,-69.65864105237603 L 32.75405276869532,-69.3842908733385 L 33.30244306817667,-68.83564219169574 L 33.87041873549657,-68.50258758557459 L 34.908494907375825,-68.65927052828351 L 35.300202264148254,-69.01201385510791 L 36.16201012547975,-69.24714162203594 L 37.2000346209266,-69.16874847424907 L 37.905107863116825,-69.52144012464123 L 38.649403517416886,-69.77620493584016 L 39.66789432145737,-69.54107716891207 L 40.02043094255248,-69.10994069430097 L 40.92135786312906,-68.93362070732115 L 41.959434035008144,-68.60051442476771 L 42.938702426939074,-68.46331349703274 L 44.11387617368865,-68.26740814221426 L 44.897290887233396,-68.05186574312489 L 45.719928012887806,-67.8167379761968 L 46.50334272643261,-67.60119557710749 L 47.443440382686276,-67.7187594605715 L 48.34441897969509,-67.36606781017946 L 48.99073611836957,-67.09171763114188 L 49.930885451055644,-67.11130299898048 L 50.753470900277705,-66.87617523205245 L 50.94932457866389,-66.52348358166046 L 51.79154707215696,-66.24913340262287 L 52.61413252137896,-66.0531763713721 L 53.61303795758079,-65.89639007579859 L 54.533550245996025,-65.81804860444396 L 55.41494347516618,-65.87680470795993 L 56.35504113141985,-65.97478322358535 L 57.15809288923566,-66.24913340262287 L 57.25596805199649,-66.68021820080168 L 58.13736128116665,-67.01332448335512 L 58.744507684163864,-67.28767466239265 L 59.93931847518422,-67.40523854585672 L 60.60522098169736,-67.67958872489424 L 61.42780643091936,-67.95388722749948 L 62.38748945501169,-68.01269500744758 L 63.19048953639515,-67.8167379761968 L 64.052349074159,-67.40523854585672 L 64.9924467304129,-67.62072926851374 L 65.97171512234388,-67.73834482840999 L 66.91186445502973,-67.85590871187412 L 67.89113284696089,-67.93430185966076 L 68.89003828316288,-67.93430185966076 L 69.71262373238477,-68.97279144299841 L 69.67345299670745,-69.22755625419728 L 69.55594078967584,-69.67822642021474 L 68.59625776558352,-69.93293955498132 L 67.81273969917413,-70.30526824964431 L 67.94988895047663,-70.69718231214586 L 69.06630659371024,-70.67754526787496 L 68.92915734240779,-71.06945933037656 L 68.41998945503593,-71.4417880250395 L 67.94988895047663,-71.85328745537964 L 68.71376997261513,-72.16680837009437 L 69.86930667509387,-72.26478688571984 L 71.02489505400456,-72.08841522230773 L 71.57328535348603,-71.69650115980608 L 71.90628828317489,-71.32422414157548 L 72.45462690622401,-71.01070322686058 L 73.08141035349206,-70.71676767998451 L 73.33602013539416,-70.36402435316018 L 73.86487674346921,-69.87418345146551 L 74.49155683787268,-69.77620493584016 L 75.62755984894494,-69.73703420016284 L 76.62646528514676,-69.61941864026653 L 77.64490441275518,-69.46268402112526 L 78.13453860872056,-69.07076995862371 L 78.42837080273216,-68.69844126396072 L 79.1138586770839,-68.32621592216248 L 80.09312706901488,-68.07150278739579 L 80.93534956250772,-67.87554575614502 L 81.48379153842143,-67.54238779715922 L 82.05176720574138,-67.36606781017946 L 82.77642581577044,-67.20928151460589 L 83.77533125197237,-67.30726003023125 L 84.6762064961166,-67.20928151460589 L 85.65552656447994,-67.09171763114188 L 86.75235883987477,-67.15047373465768 L 87.47701744990383,-66.87617523205245 L 87.98628869014021,-66.20991099051338 L 88.35841067907398,-66.4842611695509 L 88.82840783076853,-66.95456837983926 L 89.6706303242616,-67.15047373465768 L 90.63036502478627,-67.22886688244449 L 91.59009972531084,-67.11130299898048 L 92.60853885291903,-67.18969614676723 L 93.54863650917292,-67.20928151460589 L 94.17541995644098,-67.11130299898048 L 95.01759077350164,-67.17011077892869 L 95.78147179564019,-67.385653178018 L 96.68239871621677,-67.24850392671544 L 97.75964562377311,-67.24850392671544 L 98.68020958862053,-67.11130299898048 L 99.71818240763503,-67.24850392671544 L 100.38418826701275,-66.9153459677297 L 100.8933561543846,-66.5822396851762 L 101.57889570516852,-66.30788950613868 L 102.83241092327262,-65.56328379324515 L 103.47867638551475,-65.70048472098 L 104.24255740765307,-65.97478322358535 L 104.9084599141662,-66.32752655040969 L 106.18156050010873,-66.93493133556836 L 107.16088056847207,-66.95456837983926 L 108.08139285688713,-66.95456837983926 L 109.15863976444365,-66.83700449637524 L 110.23583499556781,-66.69980356864033 L 111.05847212122205,-66.42550506603499 L 111.74395999557385,-66.13156951915892 L 112.86037763880745,-66.09234710704936 L 113.60467329310734,-65.87680470795993 L 114.38808800665197,-66.0727617392107 L 114.89730757045618,-66.38628265392543 L 115.60238081264652,-66.69980356864033 L 116.69916141160934,-66.66063283296302 L 117.38470096239314,-66.9153459677297 L 118.57946007698126,-67.17011077892869 L 119.83292361865301,-67.26808929455399 L 120.8709997905321,-67.18969614676723 L 121.65441450407707,-66.87617523205245 L 122.32036868702232,-66.56265431733766 L 123.2212956075989,-66.4842611695509 L 124.1222742046076,-66.62146209728587 L 125.16024702362222,-66.71938893647894 L 126.10039635630835,-66.56265431733766 L 127.00142662974929,-66.56265431733766 L 127.88276818248721,-66.66063283296302 L 128.80328047090234,-66.75861134858849 L 129.70425906791115,-66.5822396851762 L 130.78145429903543,-66.42550506603499 L 131.79994510307586,-66.38628265392543 L 132.9358964377161,-66.38628265392543 L 133.85646040256336,-66.28830413830013 L 134.75738732313982,-66.20996266694567 L 135.0315824728807,-65.72007008881866 L 135.0707532085578,-65.30857065847846 L 135.6974849793935,-65.58286916108369 L 135.87380496637343,-66.03359100353345 L 136.2067045431977,-66.4450904338737 L 136.61804894424108,-66.77819671642698 L 137.46027143773392,-66.95456837983926 L 138.59622277237406,-66.8957605998911 L 139.90844241756145,-66.87617523205245 L 140.80942101457026,-66.81736745210435 L 142.1216923361901,-66.81736745210435 L 143.06184166887613,-66.79778208426569 L 144.37406131406362,-66.83700449637524 L 145.490427280865,-66.9153459677297 L 146.1955521994878,-67.22886688244449 L 145.99969852110144,-67.60119557710749 L 146.64606733620815,-67.89513112398367 L 147.7232625673323,-68.1302588909117 L 148.83962853413368,-68.38502370211057 L 150.13231448791487,-68.56129201265821 L 151.48370486877957,-68.71812998466402 L 152.50224734925246,-68.87481292737294 L 153.63819868389248,-68.89450164807613 L 154.2845674989992,-68.56129201265821 L 155.16585737530477,-68.83564219169574 L 155.92979007387544,-69.14921478284282 L 156.81113162661336,-69.3842908733385 L 158.02552778547238,-69.48226938896397 L 159.1810128115187,-69.59983327242799 L 159.6706986839165,-69.99174733492953 L 160.8066500185564,-70.2268751018575 L 161.57047936426272,-70.57961842868184 L 162.68689700749633,-70.73635304782317 L 163.8424337099749,-70.71676767998451 L 164.91968061753118,-70.77552378350032 L 166.11443973211942,-70.75593841566177 L 167.30909549384296,-70.83433156344853 L 168.42561648994115,-70.97148081475109 L 169.46358930895587,-71.20666025811136 L 170.50166548083496,-71.4026172893623 L 171.20679039945753,-71.69650115980608 L 171.0892265159937,-72.08841522230773 L 170.5604215843507,-72.44115854913207 L 170.10995812406236,-72.89182871514942 L 169.75736982653507,-73.24452036554152 L 169.2873209984083,-73.65601979588166 L 167.97510135322068,-73.81280609145517 L 167.38748864162972,-74.16549774184722 L 166.09480268784841,-74.38104014093665 L 165.64439090399242,-74.77295420343819 L 164.9588513532085,-75.14528289810119 L 164.23419274317962,-75.45880381281597 L 163.8227966657039,-75.87030324315617 L 163.56823856023425,-76.24258026138676 L 163.47026004460895,-76.69330210383652 L 163.48989708887973,-77.06557912206722 L 164.05787275619969,-77.45744150813647 L 164.27336347885694,-77.82977020279935 L 164.74346398341606,-78.18251352962375 L 166.60412560451732,-78.31961110449402 L 166.99578128485734,-78.75074757910522 L 165.19387576727195,-78.90748300569072 L 163.66621707585955,-79.12302540477998 L 161.7663847190811,-79.16224781688965 L 160.92416222558825,-79.73048186637101 L 160.74789391504066,-80.20073740022713 L 160.31696414615863,-80.57306609489001 L 159.78821089094833,-80.945394789553 L 161.12001590397438,-81.27850107210645 L 161.62928714421082,-81.6900005024466 L 162.49099165267796,-82.0622775206773 L 163.70533613510474,-82.39543547966286 L 165.09594892807877,-82.70895639437782 L 166.60412560451732,-83.02247730909255 L 168.89566531806793,-83.3359982238074 L 169.40478152900755,-83.82589080193435 L 172.28393395414935,-84.04143320102366 L 172.47704878162415,-84.11791432081571 L 173.22408328683537,-84.41371021925437 L 175.9856718285131,-84.15899708448768 L 178.27721154206392,-84.47251799920247 L 180.0,-84.71337999999997 z\" /><path fill-rule=\"evenodd\" fill=\"#66cc99\" stroke=\"#555555\" stroke-width=\"2.5920000000000005\" opacity=\"0.6\" d=\"M -122.62173458544193,-73.65777760202387 L -122.6217353928862,-73.65777679457962 L -122.40624467022907,-73.32461883559391 L -121.21151139385711,-73.50099049900608 L -119.91885127829204,-73.65772511814733 L -118.72414303269196,-73.48135345473517 L -119.29211870001194,-73.8340967815595 L -120.23221716370998,-74.08880991632614 L -121.62282995668428,-74.01046844497165 L -122.62173458544193,-73.65777760202387 z\" /><path fill-rule=\"evenodd\" fill=\"#66cc99\" stroke=\"#555555\" stroke-width=\"2.5920000000000005\" opacity=\"0.6\" d=\"M -127.28312964568192,-73.46176889434079 L -127.28313045312619,-73.46176808689654 L -126.55847184309725,-73.24622568780714 L -125.55956640689534,-73.48135345473517 L -124.03188187726683,-73.87326751723673 L -124.61946875064157,-73.8340967815595 L -125.91218054263894,-73.7361182659341 L -127.28312964568192,-73.46176889434079 z\" /><path fill-rule=\"evenodd\" fill=\"#66cc99\" stroke=\"#555555\" stroke-width=\"2.5920000000000005\" opacity=\"0.6\" d=\"M -102.33072506387639,-71.89416432076682 L -102.33072506387639,-71.89416351332257 L -101.70396745482441,-71.7177918499104 L -100.43091854531409,-71.85499277764532 L -98.98154964882391,-71.9333342489998 L -97.88474321164506,-72.07053517673472 L -96.78793677446619,-71.95297129327072 L -96.20034990109144,-72.52120534275215 L -96.98376461463623,-72.44286387139768 L -98.19808325884682,-72.48203460707492 L -99.43201310911218,-72.44286387139768 L -100.78345516640925,-72.50161997491354 L -101.80186845580137,-72.30566294366275 L -102.33072506387639,-71.89416432076682 z\" /><path fill-rule=\"evenodd\" fill=\"#66cc99\" stroke=\"#555555\" stroke-width=\"2.5920000000000005\" opacity=\"0.6\" d=\"M -73.9158186510023,-71.26934457792578 L -73.9158186510023,-71.26934377048153 L -73.23033077665059,-71.15177988701751 L -72.07471655952358,-71.19095062269476 L -71.78096188016042,-70.68147267672917 L -71.72217993842841,-70.30919565849851 L -71.74179114448319,-69.50578216565675 L -71.1738154771632,-69.03547495536841 L -70.25325151231577,-68.87874033622717 L -69.72444658067303,-69.25101735445783 L -69.48942216660959,-69.62334604912077 L -69.05851823594381,-70.0740162151382 L -68.72554114447112,-70.5051526897493 L -68.45134599473043,-70.95582285576673 L -68.33383378769872,-71.40649302178416 L -68.51012793646244,-71.79840708428573 L -68.78429724798698,-72.17073577894867 L -69.95947099473648,-72.3078850302513 L -71.07588863797011,-72.50384206150208 L -72.38813412137378,-72.48425669366347 L -71.89849992540829,-72.0923426311619 L -73.07362199572549,-72.22949188246453 L -74.19003963895912,-72.36669281019945 L -74.95389482288145,-72.07275726332328 L -75.01262508818117,-71.6612578329831 L -73.9158186510023,-71.26934457792578 z\" /><path fill-rule=\"evenodd\" fill=\"#66cc99\" stroke=\"#555555\" stroke-width=\"2.5920000000000005\" opacity=\"0.6\" d=\"M -66.95992000000001,-54.896810000000016 L -67.29102999999992,-55.30123999999995 L -68.14862999999991,-55.61183 L -68.63999081081187,-55.58001799908692 L -69.2321,-55.49905999999993 L -69.95808999999997,-55.19843000000003 L -71.00567999999998,-55.053830000000005 L -72.26390000000004,-54.49513999999999 L -73.28519999999997,-53.95751999999993 L -74.66253,-52.837489999999946 L -73.8381,-53.04743000000002 L -72.43417999999997,-53.71539999999999 L -71.10773,-54.07432999999992 L -70.59177999999986,-53.61582999999996 L -70.26747999999998,-52.93123000000003 L -69.34564999999992,-52.518299999999954 L -68.63401022758323,-52.63637045887449 L -68.25,-53.1 L -67.75,-53.85 L -66.45,-54.45 L -65.05,-54.699999999999996 L -65.5,-55.2 L -66.45,-55.25 L -66.95992000000001,-54.896810000000016 z\" /><path fill-rule=\"evenodd\" fill=\"#66cc99\" stroke=\"#555555\" stroke-width=\"2.5920000000000005\" opacity=\"0.6\" d=\"M 169.66781456937315,-43.555325616226376 L 170.52491987536615,-43.031688327812816 L 171.125089960004,-42.51275359473782 L 171.56971398344325,-41.767424411792135 L 171.94870893787186,-41.514416599291124 L 172.0972270042787,-40.956104424809716 L 172.79857954334403,-40.4939620908235 L 173.02037479074076,-40.919052422856446 L 173.2472343285021,-41.33199879330081 L 173.9584053897028,-40.926700534835646 L 174.24758670480816,-41.34915536882171 L 174.24851688058942,-41.77000823340673 L 173.87644656808794,-42.23318409603879 L 173.2227396995957,-42.970038344088614 L 172.71124637277074,-43.372287693048555 L 173.08011274647015,-43.853343601253606 L 172.3085836123525,-43.86569426857136 L 171.45292524646362,-44.2425188128437 L 171.18513797432718,-44.89710418068486 L 170.61669721911653,-45.908928724959736 L 169.8314221540093,-46.35577483498757 L 169.33233117093428,-46.641235446967876 L 168.41135379462855,-46.61994475686363 L 167.76374474514682,-46.29019744240919 L 166.67688602118417,-46.219917494492236 L 166.50914432196467,-45.85270476662619 L 167.0464241885033,-45.110941257508635 L 168.30376346259686,-44.12397307716614 L 168.94940880765157,-43.935819187191434 L 169.66781456937315,-43.555325616226376 z\" /><path fill-rule=\"evenodd\" fill=\"#66cc99\" stroke=\"#555555\" stroke-width=\"2.5920000000000005\" opacity=\"0.6\" d=\"M 147.68925947488418,-40.808258152022674 L 148.289067824496,-40.87543751400211 L 148.35986453673587,-42.06244516374644 L 148.01730146707303,-42.40702361426865 L 147.91405195535384,-43.211522312188535 L 147.56456424376393,-42.937688897473905 L 146.87034305235488,-43.6345972633621 L 146.66332726459365,-43.58085377377856 L 146.04837772032033,-43.549744561538844 L 145.4319295595106,-42.693776137056254 L 145.29509036680173,-42.033609714527564 L 144.71807132383066,-41.16255177181576 L 144.7437545106797,-40.70397511165767 L 145.3979781434948,-40.79254851660594 L 146.3641207216237,-41.13769540788336 L 146.90858361225088,-41.00054615658073 L 147.68925947488418,-40.808258152022674 z\" /><path fill-rule=\"evenodd\" fill=\"#66cc99\" stroke=\"#555555\" stroke-width=\"2.5920000000000005\" opacity=\"0.6\" d=\"M 176.8858236026052,-40.0659778785822 L 176.50801720611926,-40.60480803808957 L 176.01244022044023,-41.28962411882147 L 175.23956749908297,-41.68830779395328 L 175.06789839100935,-41.42589487077513 L 174.65097293527847,-41.2818209775454 L 175.22763024322356,-40.45923552832336 L 174.9001566917899,-39.9089332008472 L 173.82404666574394,-39.50885426204351 L 173.85226199777532,-39.14660247167748 L 174.57480187408035,-38.797683200842755 L 174.74347374908098,-38.02780771255843 L 174.6970166364506,-37.38112883885792 L 174.2920284365792,-36.71109221776149 L 174.31900353423552,-36.53482390721391 L 173.8409965355357,-36.12198088963413 L 173.0541711774596,-35.23712533950039 L 172.63600548735377,-34.52910654066943 L 173.00704227120946,-34.45066171645037 L 173.55129845610747,-35.00618336358801 L 174.3293904971262,-35.26549570082862 L 174.61200890533044,-36.15639739354052 L 175.33661583892712,-37.20909799575827 L 175.3575964704376,-36.52619394302117 L 175.80888675364253,-36.79894215265767 L 175.9584900251275,-37.55538176854612 L 176.76319542877656,-37.881253350578675 L 177.4388131045605,-37.961248467766495 L 178.01035444570866,-37.579824721020174 L 178.51709354076274,-37.6953732236248 L 178.27473107331383,-38.58281259537314 L 177.97046023997927,-39.166342868812976 L 177.20699262929918,-39.14577564876082 L 176.93998050364706,-39.44973642350161 L 177.0329464053401,-39.879942722331464 L 176.8858236026052,-40.0659778785822 z\" /><path fill-rule=\"evenodd\" fill=\"#66cc99\" stroke=\"#555555\" stroke-width=\"2.5920000000000005\" opacity=\"0.6\" d=\"M -61.2,-51.85 L -60.0,-51.25 L -59.15,-51.5 L -58.550000000000004,-51.10000000000001 L -57.75,-51.55 L -58.050000000000004,-51.900000000000006 L -59.400000000000006,-52.199999999999996 L -59.85000000000001,-51.85 L -60.7,-52.300000000000004 L -61.2,-51.85 z\" /><path fill-rule=\"evenodd\" fill=\"#66cc99\" stroke=\"#555555\" stroke-width=\"2.5920000000000005\" opacity=\"0.6\" d=\"M 68.935,-48.62500000000001 L 69.58,-48.940000000000005 L 70.525,-49.065000000000005 L 70.56,-49.255 L 70.28,-49.71 L 68.745,-49.775000000000006 L 68.72000000000001,-49.2425 L 68.8675,-48.830000000000005 L 68.935,-48.62500000000001 z\" /><path fill-rule=\"evenodd\" fill=\"#66cc99\" stroke=\"#555555\" stroke-width=\"2.5920000000000005\" opacity=\"0.6\" d=\"M -58.42707414410439,-33.909454441057576 L -58.49544206402655,-34.43148976007008 L -57.22582963726366,-35.28802662530788 L -57.36235877137878,-35.977390232081476 L -56.73748735210545,-36.41312590916655 L -56.78828528504836,-36.901571547189334 L -57.74915686708346,-38.18387053807989 L -59.23185706240189,-38.720220228837235 L -61.23744523786564,-38.9284245745412 L -62.33595699731013,-38.827707208004334 L -62.125763108962936,-39.42410491308485 L -62.330530971919494,-40.17258635840034 L -62.145994432205214,-40.67689666113672 L -62.745802781816984,-41.0287614886121 L -63.77049475773255,-41.16678923926369 L -64.73208980981973,-40.80267709733515 L -65.11803524439158,-41.06431487402891 L -64.97856055363582,-42.05800099056934 L -64.3034079657425,-42.35901620866951 L -63.75594784204239,-42.043686618824495 L -63.458059048095876,-42.563138116222405 L -64.37880388045633,-42.87355844499969 L -65.18180396183975,-43.495380954767796 L -65.32882341171013,-44.501366062193696 L -65.5652689276616,-45.036785577169795 L -66.50996578638934,-45.03962778094586 L -67.29379391139247,-45.55189625425519 L -67.58054643418008,-46.30177296324257 L -66.59706641301729,-47.033924655953825 L -65.64102657740149,-47.23613453551193 L -65.98508826360079,-48.133289076531135 L -67.16617896184769,-48.697337334996945 L -67.81608761256643,-49.86966887797038 L -68.72874508327321,-50.26421843851883 L -69.13853919134777,-50.732510267947795 L -68.81556148952356,-51.771104011594126 L -68.14999487982038,-52.34998340612768 L -68.57154537624133,-52.299443855346226 L -69.46128434922667,-52.29195077266391 L -69.9427795071062,-52.53793059037322 L -70.8451016913546,-52.89920052852571 L -71.00633216010525,-53.83325204220132 L -71.429794684521,-53.85645476030037 L -72.55794287788488,-53.53141000118449 L -73.7027567206629,-52.835069268607235 L -73.7027567206629,-52.835070076051494 L -74.94676347522517,-52.262753588419 L -75.2600260077785,-51.62935475037325 L -74.97663245308988,-51.0433956846157 L -75.47975419788355,-50.37837167745158 L -75.60801510283198,-48.67377288187184 L -75.18276974150216,-47.7119194476232 L -74.1265809801047,-46.93925343199511 L -75.64439531116545,-46.64764332457207 L -74.69215369332312,-45.76397633238103 L -74.35170935738425,-44.10304412208794 L -73.24035600451522,-44.454960625995604 L -72.7178039211798,-42.38335580827898 L -73.38889990913822,-42.117532240569574 L -73.70133561877488,-43.365776462579774 L -74.33194312203261,-43.22495818458442 L -74.0179571194272,-41.79481292090683 L -73.67709937202999,-39.94221282324317 L -73.21759253609065,-39.25868865331856 L -73.50555945503712,-38.282882582351114 L -73.58806087919109,-37.15628468195598 L -73.1667170884993,-37.12378020604439 L -72.55313696968174,-35.50884002049106 L -71.86173214383263,-33.90909270603153 L -71.4384504869299,-32.41889942803078 L -71.66872066922247,-30.920644626592495 L -71.37008256700773,-30.09568206148503 L -71.48989437527645,-28.861442152625923 L -70.90512386746161,-27.640379734001247 L -70.72495398627599,-25.705924167587256 L -70.40396582709502,-23.628996677344574 L -70.09124589708074,-21.39331918710126 L -70.16441972520605,-19.756468194256165 L -70.37257239447771,-18.34797535570887 L -71.37525021023693,-17.773798516513857 L -71.46204077827113,-17.363487644116383 L -73.44452958850042,-16.359362888252996 L -75.23788265654144,-15.265682875227782 L -76.00920508492995,-14.649286390850321 L -76.42346920439775,-13.823186944232432 L -76.25924150257417,-13.535039157772943 L -77.10619238962184,-12.22271615972082 L -78.09215287953464,-10.377712497604065 L -79.03695309112695,-8.386567884965892 L -79.44592037628485,-7.93083342858386 L -79.76057817251005,-7.194340915560084 L -80.53748165558608,-6.541667575713717 L -81.24999630402642,-6.136834405139183 L -80.92634680858244,-5.690556735866565 L -81.41094255239946,-4.7367648250554595 L -81.09966956248937,-4.036394138203697 L -80.30256059438722,-3.4048564591647126 L -79.77029334178093,-2.65751189535964 L -79.98655921092242,-2.220794366061014 L -80.36878394236925,-2.6851587866357884 L -80.96776546906436,-2.246942640800704 L -80.76480628123804,-1.9650477026485331 L -80.93365902375172,-1.057454522306358 L -80.58337032746127,-0.9066626928786832 L -80.39932471385376,-0.28370330160014134 L -80.02089820018037,0.3603400740534682 L -80.09060970734211,0.7684288598623965 L -79.5427620103998,0.982937730305963 L -78.85525875518871,1.380923773601822 L -78.99093522817104,1.6913699405952514 L -78.61783138702371,1.766404120283056 L -78.66211808949785,2.2673554549204766 L -78.42761043975733,2.629555568854215 L -77.93154252797149,2.6966057397529255 L -77.51043128122501,3.325016994638247 L -77.12768978545526,3.8496361352653565 L -77.49627193877703,4.087606105969428 L -77.3076012844794,4.6679841170394525 L -77.53322058786573,5.582811997902497 L -77.31881507028675,5.84535411216136 L -77.47666073272228,6.691116441266303 L -77.88157141794525,7.223771267114785 L -78.21493608266012,7.512254950384161 L -78.42916073272607,8.052041123888927 L -78.18209570993864,8.319182440621773 L -78.4354652574657,8.38770538984079 L -78.62212053090394,8.718124497915028 L -79.12030717641375,8.996092027213024 L -79.55787736684519,8.932374986197146 L -79.76057817251005,8.5845150822244 L -80.16448116730334,8.333315944853595 L -80.38265906443962,8.298408514840432 L -80.4806892564973,8.09030752200107 L -80.00368994822716,7.547524115423372 L -80.276670701809,7.419754136581716 L -80.42115800649708,7.271571966984765 L -80.8864009264208,7.220541490096537 L -81.05954281281473,7.817921047390597 L -81.18971574575795,7.64790558515034 L -81.51951473664468,7.706610012233909 L -81.72131120474447,8.108962714058435 L -82.13144120962892,8.175392767769637 L -82.39093441438257,8.29236237226229 L -82.82008134635042,8.290863755725823 L -82.85095801464482,8.073822740099956 L -82.96578304719736,8.225027980985985 L -83.50843726269431,8.446926581247283 L -83.71147396516908,8.656836249216866 L -83.59631303580665,8.830443223501419 L -83.63264156770784,9.051385809765321 L -83.90988562695374,9.29080272057358 L -84.30340165885636,9.487354030795714 L -84.64764421256866,9.61553742109571 L -84.71335079622777,9.908051866083852 L -84.97566036654133,10.086723130733006 L -84.91137488477024,9.795991522658923 L -85.11092342806532,9.55703969974131 L -85.33948828809227,9.83454214114866 L -85.66078650586698,9.933347479690724 L -85.79744483106285,10.134885565629034 L -85.79170874707843,10.439337266476613 L -85.65931372754667,10.75433095951172 L -85.94172543002176,10.895278428587801 L -85.7125404528073,11.088444932494824 L -86.05848832878526,11.403438625529944 L -86.52584998243296,11.806876532432597 L -86.74599158399633,12.143961900272487 L -87.16751624220116,12.458257961471658 L -87.66849341505471,12.909909979702633 L -87.55746660027562,13.064551703336065 L -87.39238623731923,12.914018256069838 L -87.31665442579549,12.984685777228975 L -87.48940873894713,13.297534898323931 L -87.79311113152657,13.384480495655055 L -87.90411210808952,13.149016831917137 L -88.48330156121682,13.163951320849492 L -88.84322791212972,13.259733588102478 L -89.2567427233293,13.458532823129303 L -89.81239356154767,13.520622056527998 L -90.09555457229098,13.735337632700734 L -90.60862403030085,13.909771429901951 L -91.23241024449605,13.927832342987957 L -91.68974667027913,14.126218166556455 L -92.22775000686983,14.538828640190928 L -93.35946387406176,15.615429592343673 L -93.87516883011853,15.940164292865916 L -94.69165646033014,16.200975246642884 L -95.25022701697304,16.128318182840644 L -96.05338212765332,15.752087917539598 L -96.55743404822829,15.653515122942792 L -97.26359249549665,15.917064927631316 L -98.01302995480961,16.107311713113916 L -98.94767574745651,16.566043402568766 L -99.69739742714705,16.70616404872817 L -100.82949886758132,17.17107107184205 L -101.66608862995446,17.649026394109626 L -101.91852800170022,17.916090196193977 L -102.47813208698892,17.975750637275098 L -103.50098954955808,18.29229462327885 L -103.91752743204682,18.74857168220001 L -104.9920096504755,19.316133938061682 L -105.49303849976144,19.946767279535436 L -105.73139604370766,20.434101874264115 L -105.39777299683135,20.531718654863425 L -105.50066077352443,20.81689504646613 L -105.27075232625793,21.07628489835514 L -105.26581722697404,21.42210358325235 L -105.6031609769754,21.87114594165257 L -105.69341386597313,22.269080308516152 L -106.02871639689897,22.773752346278627 L -106.90998043498837,23.767774359628902 L -107.91544877809139,24.54891531015295 L -108.40190487347098,25.172313951105934 L -109.26019873740665,25.58060944264406 L -109.44408932171734,25.82488393808768 L -109.29164384645628,26.442934068298428 L -109.80145768923182,26.676175645447927 L -110.3917317370857,27.16211497650454 L -110.64101884646163,27.859876003525528 L -111.17891883018785,27.94124054616907 L -111.75960689985163,28.46795258230395 L -112.2282346260904,28.95440867768349 L -112.27182369672869,29.266844387320077 L -112.80959448937398,30.02111359305235 L -113.16381059451868,30.786880804969428 L -113.14866939985717,31.170965887978923 L -113.87188106978186,31.567608344035193 L -114.20573666060352,31.524045111613134 L -114.77645117883503,31.79953217216115 L -114.93669979537214,31.393484605427602 L -114.7712318591735,30.913617255165263 L -114.67389929895177,30.162681179315996 L -114.33097449426293,29.750432440707414 L -113.58887508833544,29.061611436473015 L -113.42405310754054,28.82617361095123 L -113.27196936730553,28.7547826197399 L -113.14003943566439,28.41128937429596 L -112.9622983467965,28.42519033458251 L -112.76158708377488,27.780216783147523 L -112.45791052941166,27.52581370697476 L -112.2449519519368,27.17172679291076 L -111.61648902061921,26.662817287700477 L -111.28467464887302,25.732589830014433 L -110.9878193835724,25.294606228124564 L -110.71000688357134,24.82600434010186 L -110.65504899782889,24.298594672131117 L -110.17285620811344,24.265547593680424 L -109.77184709352855,23.811182562754198 L -109.40910437705571,23.36467234953625 L -109.43339230023292,23.1855876734287 L -109.85421932660171,22.818271592698068 L -110.03139197471444,22.823077500901206 L -110.29507097048366,23.43097321216669 L -110.94950130902805,24.000964260345995 L -111.6705684070127,24.484423122652515 L -112.18203589562148,24.738412787367167 L -112.14898881717085,25.47012523040405 L -112.3007108223797,26.012004299416617 L -112.77729671919155,26.32195954030317 L -113.46467078332194,26.768185533143424 L -113.59672990604383,26.639459540304472 L -113.84893673384425,26.90006378835244 L -114.46574662968004,27.142090358991368 L -115.05514217818501,27.72272675222291 L -114.98225257043742,27.798200181585116 L -114.57036556685495,27.74148529714489 L -114.19932878299926,28.115002549750557 L -114.16201839888464,28.566111965442303 L -114.93184221073665,29.27947927501549 L -115.518653937627,29.5563615992354 L -115.88736528202958,30.180793768834178 L -116.25835038945291,30.836464341753583 L -116.72152625208497,31.635743720012044 L -117.12775999999985,32.53533999999996 L -117.29593769127393,33.04622461520387 L -117.94400000000002,33.621236431201396 L -118.41060227589753,33.74090922312445 L -118.51989482279976,34.02778157757575 L -119.08100000000002,34.07799999999992 L -119.43884064201671,34.34847717828427 L -120.36777999999998,34.447110000000066 L -120.62286,34.60854999999998 L -120.74432999999999,35.15686000000011 L -121.71456999999992,36.161529999999914 L -122.54746999999998,37.551760000000115 L -122.51201000000003,37.78339000000011 L -122.95319,38.11371000000008 L -123.72720000000004,38.95166000000012 L -123.86516999999998,39.76699000000008 L -124.39807000000002,40.313199999999995 L -124.17885999999999,41.142020000000116 L -124.21370000000002,41.99964000000011 L -124.53283999999996,42.7659900000001 L -124.14213999999998,43.708380000000034 L -124.020535,44.615894999999966 L -123.89892999999995,45.52341000000007 L -124.079635,46.864750000000015 L -124.39566999999994,47.72017000000011 L -124.68721008300781,48.18443298339855 L -124.56610107421875,48.37971496582037 L -123.12,48.04000000000002 L -122.58735999999993,47.09600000000006 L -122.34000000000003,47.360000000000014 L -122.5,48.180000000000064 L -122.84000000000003,49.000000000000114 L -122.97421000000001,49.00253777777778 L -124.91024,49.98456 L -125.62461,50.416560000000004 L -127.43561000000001,50.83061 L -127.99276,51.71583 L -127.85032,52.32961 L -129.12979,52.75538 L -129.30523,53.561589999999995 L -130.51497,54.28757 L -130.53610895273684,54.80275447679924 L -130.5361101894673,54.8027534043494 L -131.08581823797215,55.17890615500204 L -131.9672114671423,55.497775580459006 L -132.2500107428595,56.3699962428974 L -133.53918108435641,57.17888743756214 L -134.07806292029608,58.12306753196691 L -135.0382110322791,58.18771474876394 L -136.62806230995471,58.21220937767043 L -137.800006279686,58.49999542910376 L -139.867787041413,59.53776154238915 L -140.825273817133,59.727517401765056 L -142.57444353556446,60.08444651960497 L -143.9588809948799,59.999180406323376 L -145.92555681682788,60.45860972761426 L -147.11437394914665,60.884656073644635 L -148.22430620012761,60.67298940697714 L -148.01806555885082,59.97832896589364 L -148.57082251686086,59.914172675203304 L -149.72785783587585,59.70565827090553 L -150.60824337461642,59.368211168039466 L -151.7163927886833,59.15582103131993 L -151.85943315326722,59.744984035879554 L -151.40971900124717,60.72580272077937 L -150.3469414947325,61.03358755150987 L -150.62111080625704,61.2844249538544 L -151.89583919981683,60.727197984451266 L -152.57832984109558,60.061657212964235 L -154.01917212625764,59.35027944603428 L -153.28751135965317,58.86472768821977 L -154.23249243875847,58.14637360293051 L -155.3074914215102,57.727794501366304 L -156.30833472392305,57.422774359763594 L -156.55609737854638,56.97998484967064 L -158.11721655986779,56.46360809999419 L -158.43332129619714,55.99415355083852 L -159.60332739971741,55.56668610292013 L -160.28971961163427,55.643580634170576 L -161.22304765525777,55.364734605523495 L -162.23776607974105,55.02418691672011 L -163.06944658104638,54.68973704692712 L -164.78556922102717,54.40417308208214 L -164.94222632552007,54.57222483989534 L -163.84833960676565,55.03943146424609 L -162.87000139061595,55.34804311789321 L -161.80417497459607,55.89498647727038 L -160.5636047027812,56.00805451112501 L -160.07055986228448,56.41805532492873 L -158.6844429189195,57.01667511659787 L -158.46109737855403,57.21692129172885 L -157.72277035218391,57.57000051536306 L -157.55027442119362,58.328326321030204 L -157.04167497457698,58.91888458926172 L -158.19473120830554,58.61580231386978 L -158.51721798402303,58.78778148053732 L -159.0586061269288,58.42418610293163 L -159.71166704001737,58.93139028587632 L -159.98128882550017,58.572549140041644 L -160.3552711659965,59.07112335879361 L -161.3550034251151,58.670837714260756 L -161.96889360252632,58.67166453717738 L -162.05498653872465,59.26692536074745 L -161.8741707021354,59.63362132429057 L -162.51805904849212,59.98972361921386 L -163.8183414378202,59.79805573184336 L -164.66221757714652,60.26748444278263 L -165.3463877024748,60.50749563256238 L -165.3508318756519,61.073895168697504 L -166.12137915755602,61.50001902937623 L -165.73445187077058,62.074996853271784 L -164.9191786367179,62.63307648380794 L -164.56250790103934,63.14637848576302 L -163.75333248599708,63.21944896102377 L -163.06722449445786,63.05945872664802 L -162.26055538638175,63.54193573674115 L -161.53444983624863,63.455816962326764 L -160.7725066803211,63.766108100023246 L -160.9583351308426,64.22279857040274 L -161.51806840721218,64.40278758407527 L -160.77777767641481,64.78860382756642 L -161.39192623598765,64.77723501246231 L -162.4530500966689,64.55944468856819 L -162.75778601789415,64.33860545516876 L -163.54639421288428,64.5591604681905 L -164.96082984114514,64.44694509546883 L -166.42528825586447,64.68667206487066 L -166.8450042389391,65.08889557561452 L -168.11056006576715,65.66999705673675 L -166.70527116602193,66.08831777613938 L -164.47470964257548,66.5766600612975 L -163.65251176659564,66.5766600612975 L -163.78860165103623,66.07720734319668 L -161.67777442121013,66.11611969671242 L -162.48971452538004,66.73556509059512 L -163.71971696679117,67.11639455837008 L -164.4309913808565,67.61633820257777 L -165.39028683170673,68.04277212185025 L -166.76444068099605,68.35887685817966 L -166.20470740462667,68.88303091091615 L -164.43081051334346,68.91553538682774 L -163.1686136546145,69.37111481391287 L -162.930566169262,69.85806183539927 L -161.90889726463556,70.33332998318764 L -160.93479651593367,70.44768992784958 L -159.03917578838713,70.89164215766891 L -158.11972286683394,70.82472117785102 L -156.58082455139808,71.35776357694175 L -155.06779029032427,71.14777639432367 L -154.3441652089412,70.69640859647018 L -153.9000062733926,70.88998851183567 L -152.21000606993528,70.82999217394485 L -152.27000240782613,70.60000621202983 L -150.73999243874448,70.43001658800569 L -149.7200030181675,70.53001048449045 L -147.61336157935705,70.2140349392418 L -145.68998980022533,70.12000967068673 L -144.9200109590764,69.98999176704046 L -143.58944618042523,70.15251414659832 L -142.07251034871348,69.85193817817265 L -140.98598752156073,69.71199839952635 L -140.98598761037601,69.71199839952635 L -139.12052,69.47102 L -137.54636000000002,68.99002 L -136.50358,68.89804 L -135.62576,69.31512000000001 L -134.41464000000002,69.62743 L -132.92925000000002,69.50534 L -131.43135999999998,69.94451 L -129.79471,70.19369 L -129.10773,69.77927000000001 L -128.36156,70.01286 L -128.13817,70.48384 L -127.44712000000001,70.37721 L -125.75632000000002,69.48058 L -124.42483,70.1584 L -124.28968,69.39968999999999 L -123.06108,69.56372 L -122.6835,69.85553 L -121.47226,69.79778 L -119.94288,69.37786 L -117.60268,69.01128 L -116.22643,68.84151 L -115.24690000000001,68.90591 L -113.89793999999999,68.3989 L -115.30489,67.90261000000001 L -113.49727,67.68815000000001 L -110.798,67.80611999999999 L -109.94619,67.98104000000001 L -108.8802,67.38144 L -107.79239,67.88736 L -108.81299,68.31164 L -108.16721000000001,68.65392 L -106.95,68.7 L -106.15,68.8 L -105.34282000000002,68.56122 L -104.33791000000001,68.018 L -103.22115000000001,68.09775 L -101.45433,67.64689 L -99.90195,67.80566 L -98.4432,67.78165 L -98.5586,68.40394 L -97.66948000000001,68.57864000000001 L -96.11991,68.23939 L -96.12588,67.29338 L -95.48943,68.0907 L -94.685,68.06383 L -94.23282000000002,69.06903000000001 L -95.30408,69.68571 L -96.47131,70.08976 L -96.39115,71.19482 L -95.2088,71.92053 L -93.88997,71.76015 L -92.87818,71.31869 L -91.51964000000001,70.19129000000001 L -92.40692000000001,69.69997000000001 L -90.5471,69.49766 L -90.55151000000001,68.47499 L -89.21515,69.25873 L -88.01966,68.61508 L -88.31748999999999,67.87338000000001 L -87.35017,67.19872 L -86.30606999999999,67.92146 L -85.57664,68.78456 L -85.52197,69.88211 L -84.10081000000001,69.80539 L -82.62258,69.65826 L -81.28043000000001,69.16202000000001 L -81.22019999999999,68.66567 L -81.96436000000001,68.13253 L -81.25928,67.59716 L -81.38653000000001,67.11078 L -83.34456,66.41154 L -84.73542,66.2573 L -85.76943,66.55833 L -86.06760000000001,66.05625 L -87.03143,65.21297 L -87.32324,64.77563 L -88.48296,64.09897000000001 L -89.91444,64.03273 L -90.70398,63.610170000000004 L -90.77004000000001,62.960210000000004 L -91.93342,62.83508 L -93.15698,62.02469000000001 L -94.24153,60.89865 L -94.62930999999999,60.11021 L -94.6846,58.94882 L -93.21502000000001,58.78212 L -92.76462000000001,57.84571 L -92.29702999999999,57.08709 L -90.89769,57.28468 L -89.03953,56.85172 L -88.03978000000001,56.47162 L -87.32421,55.999140000000004 L -86.07121,55.72383 L -85.01181000000001,55.302600000000005 L -83.36055,55.24489 L -82.27285,55.14832 L -82.43620000000001,54.282270000000004 L -82.12502,53.27703 L -81.40075,52.157880000000006 L -79.91289,51.208420000000004 L -79.14301,51.533930000000005 L -78.60191,52.56208 L -79.12421,54.14145 L -79.82958,54.66772 L -78.22874,55.136449999999996 L -77.0956,55.83741 L -76.54137,56.53423000000001 L -76.62319000000001,57.20263 L -77.30226,58.05209 L -78.51688,58.80458 L -77.33676,59.852610000000006 L -77.77272,60.75788000000001 L -78.10687,62.31964000000001 L -77.41067,62.55053 L -75.69621000000001,62.2784 L -74.6682,62.181110000000004 L -73.83988000000001,62.4438 L -72.90853,62.10507 L -71.67708,61.52535 L -71.37369000000001,61.137170000000005 L -69.59042,61.06141 L -69.62033,60.221250000000005 L -69.28790000000001,58.95736 L -68.37455,58.80106 L -67.64976,58.21206 L -66.20178,58.76731 L -65.24517,59.87071 L -64.58352000000001,60.33558 L -63.804750000000006,59.442600000000006 L -62.502359999999996,58.16708 L -61.396550000000005,56.96745000000001 L -61.798660000000005,56.33945 L -60.46853,55.775479999999995 L -59.56962,55.20407 L -57.97508,54.94549000000001 L -57.3332,54.6265 L -56.93689,53.780319999999996 L -56.15811,53.647490000000005 L -55.75632,53.27036 L -55.68338,52.146640000000005 L -56.40916000000001,51.770700000000005 L -57.12691,51.419720000000005 L -58.77482,51.0643 L -60.03309000000001,50.24277 L -61.72366,50.08046 L -63.86251,50.29099 L -65.36331,50.2982 L -66.39905,50.228970000000004 L -67.23631,49.511559999999996 L -68.51114,49.068360000000006 L -69.95362,47.74488 L -71.10458,46.82171 L -70.25522,46.986059999999995 L -68.65,48.3 L -66.55243,49.1331 L -65.05626,49.232780000000005 L -64.17099,48.74248 L -65.11545000000001,48.07085 L -64.79854,46.99297 L -64.47219,46.238490000000006 L -63.17329000000001,45.73902 L -61.520720000000004,45.883770000000005 L -60.518150000000006,47.00793 L -60.448600000000006,46.28264 L -59.80287,45.9204 L -61.03988,45.265249999999995 L -63.254709999999996,44.67014 L -64.24656,44.265530000000005 L -65.36406000000001,43.54523 L -66.1234,43.61867 L -66.16173,44.46512 L -64.42549,45.29204 L -66.02605000000001,45.25931 L -67.13741,45.13753 L -66.96465999999998,44.809700000000134 L -68.03251999999998,44.325199999999995 L -69.05999999999995,43.980000000000075 L -70.11616999999995,43.68405000000013 L -70.64547563341102,43.09023834896402 L -70.81488999999999,42.865299999999934 L -70.82499999999999,42.33499999999998 L -70.49499999999995,41.80500000000001 L -70.07999999999998,41.78000000000003 L -70.185,42.145000000000095 L -69.88496999999995,41.92283000000009 L -69.96502999999996,41.63717000000014 L -70.63999999999999,41.47500000000002 L -71.12039000000004,41.49445000000014 L -71.8599999999999,41.32000000000005 L -72.29500000000002,41.26999999999998 L -72.87643000000003,41.220650000000035 L -73.71000000000004,40.93110235165449 L -72.24125999999995,41.119480000000124 L -71.94499999999988,40.930000000000064 L -73.34499999999997,40.63000000000005 L -73.98200000000003,40.62799999999993 L -73.95232499999997,40.75075000000004 L -74.25671,40.47351000000003 L -73.96243999999996,40.42763000000002 L -74.17838,39.70925999999997 L -74.90603999999996,38.93954000000002 L -74.98041,39.19640000000004 L -75.20002,39.248450000000105 L -75.52805000000001,39.49850000000009 L -75.32,38.960000000000036 L -75.07183476478986,38.782032230179254 L -75.05672999999996,38.40412000000009 L -75.37746999999996,38.015510000000006 L -75.94022999999999,37.21689000000009 L -76.03126999999995,37.25659999999999 L -75.72204999999985,37.93705000000011 L -76.23286999999999,38.319214999999986 L -76.35000000000002,39.14999999999998 L -76.54272499999996,38.71761500000008 L -76.32933000000003,38.08326000000005 L -76.98999793161352,38.23999176691336 L -76.30161999999996,37.91794499999992 L -76.25873999999999,36.96640000000008 L -75.97179999999997,36.89726000000002 L -75.8680399999999,36.55125000000004 L -75.72748999999999,35.55074000000013 L -76.36318,34.80854000000011 L -77.39763499999992,34.512009999999975 L -78.05496,33.92547000000002 L -78.55434999999989,33.86133000000012 L -79.06067000000002,33.493949999999984 L -79.20357000000001,33.158390000000054 L -80.30132499999996,32.509355000000085 L -80.86498,32.033300000000054 L -81.33629000000002,31.44049000000001 L -81.49041999999997,30.7299900000001 L -81.31371000000001,30.035520000000076 L -80.97999999999996,29.18000000000012 L -80.53558499999991,28.472129999999993 L -80.52999999999986,28.040000000000077 L -80.05653928497759,26.88000000000011 L -80.08801499999998,26.205764999999985 L -80.13155999999992,25.816775000000064 L -80.38103000000001,25.20616000000001 L -80.67999999999995,25.08000000000004 L -81.17212999999998,25.201260000000104 L -81.33000000000004,25.639999999999986 L -81.70999999999987,25.870000000000005 L -82.23999999999995,26.730000000000132 L -82.70515,27.495040000000074 L -82.85525999999999,27.886240000000043 L -82.64999999999998,28.550000000000125 L -82.92999999999995,29.10000000000008 L -83.70958999999999,29.936560000000043 L -84.09999999999997,30.09000000000009 L -85.10881999999998,29.636150000000043 L -85.28784000000002,29.68612000000013 L -85.7731,30.152610000000095 L -86.39999999999992,30.40000000000009 L -87.53035999999992,30.27433000000002 L -88.41781999999995,30.384900000000016 L -89.1804899999999,30.315980000000025 L -89.5938311784198,30.159994004836847 L -89.41373499999997,29.89418999999998 L -89.43,29.488639999999975 L -89.21767,29.291080000000022 L -89.40822999999995,29.159610000000043 L -89.77927999999997,29.307140000000118 L -90.15463,29.11743000000007 L -90.88022499999994,29.148535000000095 L -91.62678499999993,29.677000000000135 L -92.49905999999999,29.552300000000002 L -93.22636999999997,29.783750000000055 L -93.84841999999998,29.71363000000008 L -94.69,29.480000000000132 L -95.60025999999999,28.738630000000057 L -96.59403999999995,28.307480000000055 L -97.13999999999987,27.83000000000004 L -97.36999999999995,27.380000000000052 L -97.37999999999994,26.690000000000055 L -97.32999999999998,26.210000000000093 L -97.13999999999987,25.870000000000005 L -97.52999999999992,25.84000000000009 L -97.14000830767071,25.8699974634784 L -97.52807247596655,24.9921440699203 L -97.70294552284224,24.272343044526735 L -97.77604183631905,22.93257986092766 L -97.87236670611111,22.44421173755336 L -97.69904395220419,21.898689480064263 L -97.38895952023677,21.411018988525825 L -97.18933346229329,20.635433254473128 L -96.52557552772032,19.890930894444068 L -96.29212724484177,19.320371405509547 L -95.90088497595997,18.82802419684873 L -94.83906348344271,18.562717393462208 L -94.42572953975622,18.144370835843347 L -93.5486512926824,18.423836981677937 L -92.7861138577835,18.52483856859226 L -92.0373481920904,18.704569200103435 L -91.40790340855926,18.87608327888023 L -90.77186987991087,19.28412038825678 L -90.53358985061305,19.8674181177513 L -90.45147599970124,20.707521877520435 L -90.2786183336849,20.999855454995554 L -89.60132117385149,21.26172577563449 L -88.54386633986286,21.49367544197662 L -87.65841651075772,21.45884552661198 L -87.05189022494807,21.5435431991383 L -86.81198238803296,21.331514797444754 L -86.84590796583262,20.849864610268355 L -87.38329118523586,20.25540477139873 L -87.62105445021075,19.64655304613592 L -87.43675045444178,19.47240346931227 L -87.58656043165593,19.04013011319074 L -87.83719112827151,18.25981598558343 L -88.09066402866318,18.51664785407405 L -88.3000310940937,18.4999822046599 L -88.29633622918482,18.35327281338327 L -88.10681291375438,18.348673610909287 L -88.1234785631685,18.07667470954101 L -88.2853549873228,17.644142971258034 L -88.19786678745265,17.489475409408456 L -88.30264075392444,17.131693630435663 L -88.23951799187991,17.036066392479555 L -88.35542822951057,16.530774237529627 L -88.55182451043585,16.265467434143147 L -88.73243364129594,16.233634751851355 L -88.93061275913527,15.887273464415076 L -88.60458614780585,15.70638011317736 L -88.51836402052686,15.855389105690975 L -88.22502275262202,15.727722479713904 L -88.12115312371537,15.688655096901357 L -87.90181250685242,15.864458319558196 L -87.61568010125234,15.878798529519202 L -87.52292090528846,15.797278957578783 L -87.36776241733213,15.846940009011291 L -86.90319129102818,15.75671295822957 L -86.44094560417739,15.782835394753192 L -86.11923397494434,15.893448798073962 L -86.00195431185784,16.00540578863439 L -85.68331743034628,15.953651841693954 L -85.44400387240256,15.885749009662447 L -85.18244361035721,15.909158433490632 L -84.98372188997882,15.995923163308703 L -84.52697974316715,15.857223619037427 L -84.36825558138258,15.835157782448732 L -84.06305457226682,15.648244126849136 L -83.77397661002612,15.424071763566872 L -83.41038123242038,15.270902818253774 L -83.14721900097413,14.99582916916411 L -83.23323442252394,14.899866034398102 L -83.2841615465476,14.6766238468972 L -83.18212643098728,14.31070302983845 L -83.41249996614445,13.970077826386557 L -83.51983191601468,13.567699286345883 L -83.55220720084554,13.127054348193086 L -83.49851538769427,12.869292303921227 L -83.47332312695198,12.419087225794428 L -83.62610449902292,12.320850328007566 L -83.71961300325506,11.893124497927728 L -83.65085751009072,11.62903209070012 L -83.8554703437504,11.373311265503787 L -83.80893571647155,11.103043524617275 L -83.65561174186158,10.938764146361422 L -83.40231970898296,10.395438137244653 L -83.01567664257517,9.992982082555557 L -82.54619625520348,9.566134751824677 L -82.18712256542341,9.20744863528678 L -82.20758643261097,8.9955752628901 L -81.80856686066929,8.950616766796173 L -81.71415401887204,9.031955471223583 L -81.43928707551154,8.786234035675719 L -80.94730160187676,8.858503526235907 L -80.52190121125008,9.111072089062432 L -79.91459977895599,9.31276520429762 L -79.57330278188431,9.611610012241528 L -79.02119177927793,9.552931423374105 L -79.05845048696037,9.454565334506526 L -78.50088762074719,9.420458889193881 L -78.05592770049802,9.2477304142583 L -77.72951351592641,8.946844387238869 L -77.35336076527386,8.67050466555807 L -76.83667395700357,8.638749497914716 L -76.08638383655786,9.336820583529487 L -75.67460018584006,9.443248195834599 L -75.66470414905618,9.774003200718738 L -75.48042599150335,10.618990383339309 L -74.90689510771199,11.083044745320322 L -74.27675269234489,11.102035834187587 L -74.1972226630477,11.310472723836867 L -73.41476396350029,11.22701528568548 L -72.62783525255963,11.731971543825523 L -72.23819495307892,11.955549628136326 L -71.75409013536864,12.437303168177309 L -71.3998223537917,12.376040757695293 L -71.13746110704588,12.112981879113505 L -71.3315836249503,11.776284084515808 L -71.36000566271082,11.539993597861212 L -71.94704993354651,11.423282375530022 L -71.62086829292019,10.969459947142795 L -71.63306393094109,10.446494452349029 L -72.07417395698451,9.865651353388373 L -71.69564409044654,9.072263088411248 L -71.26455929226773,9.137194525585983 L -71.03999935574339,9.859992784052409 L -71.35008378771079,10.211935126176215 L -71.40062333849224,10.968969021036015 L -70.15529883490652,11.37548167566004 L -70.29384334988103,11.846822414594214 L -69.94324459499683,12.162307033736099 L -69.58430009629747,11.459610907431212 L -68.88299923366445,11.443384507691563 L -68.23327145045873,10.885744126829946 L -68.19412655299763,10.554653225135922 L -67.29624854192633,10.54586823164631 L -66.227864142508,10.648626817258688 L -65.65523759628175,10.200798855017323 L -64.89045223657817,10.0772146671913 L -64.32947872583374,10.38959870039568 L -64.31800655786495,10.64141795495398 L -63.07932247582873,10.7017243514386 L -61.880946010980196,10.715625311725104 L -62.73011898461641,10.420268662960906 L -62.388511928950976,9.94820445397464 L -61.58876746280194,9.873066921422264 L -60.83059668643172,9.381339829948942 L -60.67125240745973,8.580174261911878 L -60.15009558779618,8.602756862823426 L -59.758284878159195,8.367034816924047 L -59.10168412945866,7.999201971870492 L -58.48296220562806,7.347691351750697 L -58.45487606467742,6.832787380394464 L -58.078103196837375,6.809093736188643 L -57.542218593970645,6.321268215353356 L -57.14743648947689,5.973149929219161 L -55.9493184067898,5.772877915872002 L -55.841779751190415,5.95312531170606 L -55.033250291551774,6.025291449401664 L -53.9580446030709,5.756548163267765 L -53.618452928264844,5.6465290389183735 L -52.88214128275409,5.409850979021584 L -51.8233428615259,4.565768133966131 L -51.65779741067889,4.156232408053029 L -51.31714636901086,4.203490505383954 L -51.069771287629656,3.650397650564031 L -50.508875291533656,1.901563828942457 L -49.97407589374506,1.736483465986069 L -49.94710079608871,1.0461896834312228 L -50.699251268096916,0.22298411702168153 L -50.38821082213214,-0.07844451253681939 L -48.62056677915632,-0.2354891902718208 L -48.58449662941659,-1.2378052710050014 L -47.824956427590635,-0.5816179337628 L -46.566583624851226,-0.941027520352776 L -44.905703090990414,-1.551739597178134 L -44.417619187993665,-2.137750339367976 L -44.58158850765578,-2.691308282078524 L -43.418791266440195,-2.383110039889793 L -41.47265682632825,-2.9120183243971165 L -39.97866533055404,-2.873054294449041 L -38.50038347019657,-3.7006523576033956 L -37.2232521225352,-4.820945733258917 L -36.45293738457639,-5.109403578312154 L -35.59779578301047,-5.149504489770649 L -35.23538896334756,-5.464937432480247 L -34.89602983248683,-6.738193047719711 L -34.729993455533034,-7.343220716992967 L -35.12821204277422,-8.996401462442286 L -35.636966518687714,-9.649281508017815 L -37.046518724097,-11.040721123908803 L -37.68361161960736,-12.171194756725823 L -38.42387651218844,-13.038118584854288 L -38.67388709161652,-13.057652276260619 L -38.953275722802545,-13.793369642800023 L -38.88229814304965,-15.667053724838768 L -39.16109249526431,-17.208406670808472 L -39.2673392400564,-17.867746270420483 L -39.58352149103423,-18.262295830968938 L -39.76082333022764,-19.59911345792741 L -40.77474077001034,-20.904511814052423 L -40.94475623225061,-21.93731698983781 L -41.754164191238225,-22.370675551037458 L -41.98828426773656,-22.970070489190896 L -43.07470374202475,-22.96769337330547 L -44.64781185563781,-23.351959323827842 L -45.35213578955992,-23.796841729428582 L -46.47209326840554,-24.088968601174543 L -47.64897233742066,-24.885199069927722 L -48.4954581365777,-25.877024834905654 L -48.64100480812774,-26.623697605090932 L -48.474735887228654,-27.17591196056189 L -48.661520351747626,-28.18613453543572 L -48.8884574041574,-28.674115085567884 L -49.587329474472675,-29.224469089476337 L -50.696874152211485,-30.98446502047296 L -51.576226162306156,-31.77769825615321 L -52.256081305538046,-32.24536996839467 L -52.712099982297694,-33.19657805759118 L -53.373661668498244,-33.768377780900764 L -53.806425950726535,-34.39681487400223 L -54.93586605489773,-34.952646579733624 L -55.67408972840329,-34.75265878676407 L -56.21529700379607,-34.85983570733742 L -57.1396850246331,-34.430456231424245 L -57.81786068381551,-34.4625472958775 L -58.42707414410439,-33.909454441057576 z\" /><path fill-rule=\"evenodd\" fill=\"#66cc99\" stroke=\"#555555\" stroke-width=\"2.5920000000000005\" opacity=\"0.6\" d=\"M 126.14871382050114,-32.21596607842059 L 125.08862348846566,-32.72875131605285 L 124.22164798390492,-32.95948658623607 L 124.02894656788851,-33.4838473447017 L 123.65966678273077,-33.89017913181271 L 122.81103641163364,-33.914467054989885 L 122.1830644064228,-34.0034021949642 L 121.29919070850259,-33.821036065406176 L 120.58026818245806,-33.93017669040661 L 119.89369510302822,-33.9760653622818 L 119.29889936734875,-34.50936614353394 L 119.00734093635802,-34.46414926527854 L 118.5057178081008,-34.74681934991509 L 118.02497195848949,-35.0647327613747 L 117.29550744025741,-35.02545867283287 L 116.62510908413495,-35.02509693780683 L 115.56434695847966,-34.38642791111157 L 115.02680870977957,-34.19651702243893 L 115.04861616420676,-33.623425388322055 L 115.54512332566708,-33.48725798923297 L 115.7146737000167,-33.25957162855497 L 115.67937869676135,-32.900368747694166 L 115.80164513556394,-32.205062351207005 L 115.68961063035516,-31.612437025683807 L 115.160909051577,-30.601594333622465 L 114.99704308477948,-30.03072478609414 L 115.04003787644629,-29.46109547294082 L 114.64197431850201,-28.81023080822467 L 114.6164978373821,-28.51639861421308 L 114.17357913620847,-28.11807667410732 L 114.04888390508816,-27.334765313427106 L 113.47749759323692,-26.543134047147902 L 113.33895307826242,-26.116545098578484 L 113.77835778204022,-26.549025160429174 L 113.44096235560656,-25.621278171493167 L 113.93690107631167,-25.91123463308287 L 114.23285200404723,-26.29844614024588 L 114.21616051641698,-25.786281019801123 L 113.7212553243577,-24.99893889740214 L 113.62534386602397,-24.683971042583167 L 113.39352339076264,-24.384764499613226 L 113.5020438985756,-23.806350192970285 L 113.70699262904515,-23.56021534596409 L 113.84341841029567,-23.059987481378755 L 113.73655154831609,-22.47547535572538 L 114.1497563009219,-21.75588103606104 L 114.22530724493262,-22.517488295178673 L 114.6477620789187,-21.829519952076954 L 115.46016727097924,-21.495173435148537 L 115.94737267462702,-21.068687839443704 L 116.71161543179153,-20.701681817306824 L 117.16631635952771,-20.623598728113805 L 117.44154503791424,-20.74689869556221 L 118.229558953933,-20.37420826587322 L 118.83608523974274,-20.263310642174858 L 118.98780724495168,-20.044202569257315 L 119.25249393115067,-19.952941989829867 L 119.80522505094451,-19.976506442954964 L 120.85622033089668,-19.683707777589206 L 121.39985639860717,-19.239755547769725 L 121.65513797412902,-18.70531788500717 L 122.24166548064179,-18.197648614171804 L 122.28662397673571,-17.798603204013958 L 122.3127722514754,-17.25496713630345 L 123.01257449757193,-16.405199883695886 L 123.43378909718304,-17.268558037996215 L 123.85934451710659,-17.069035332917288 L 123.50324222218329,-16.596506036040402 L 123.81707319549184,-16.111316013252 L 124.25828657439985,-16.327943617419535 L 124.37972619028575,-15.56705982835399 L 124.92615278534004,-15.07510019293536 L 125.16727501841387,-14.680395603090028 L 125.67008670461381,-14.510070082256014 L 125.68579634003055,-14.23065561285385 L 126.12514936737608,-14.347340996968903 L 126.14282270721986,-14.095986830301227 L 126.58258914602374,-13.952791436420448 L 127.06586714081732,-13.817967624570954 L 127.80463341686196,-14.27690601975508 L 128.35968997610894,-14.869169610252243 L 128.98554324759584,-14.875990899314765 L 129.62147342337965,-14.969783623924522 L 129.40960005098293,-14.42066985439107 L 129.8886405783286,-13.618703301653492 L 130.33946577364293,-13.357375583553484 L 130.18350630098604,-13.107520033422276 L 130.61779503796697,-12.536392103732489 L 131.22349450086,-12.183648776908166 L 131.73509118054955,-12.302452894747184 L 132.5752982931831,-12.114040622611007 L 132.55721154188097,-11.603012383676678 L 131.82469811414364,-11.27378183354515 L 132.3572237489114,-11.128519382372696 L 133.01956058159635,-11.376411228076812 L 133.55084598198908,-11.786515394745116 L 134.39306847548204,-12.042365411022182 L 134.67863244032696,-11.941182956594693 L 135.29849124566795,-12.248606052299046 L 135.8826933127276,-11.962266940969776 L 136.2583809754895,-12.049341729381588 L 136.49247521377168,-11.857208754120398 L 136.951620314685,-12.351958916882793 L 136.6851249533558,-12.887223402562022 L 136.3054065288751,-13.291229750219884 L 135.96175825413417,-13.324509372615852 L 136.07761681533253,-13.724278252825783 L 135.78383629775323,-14.2239893530882 L 135.4286641786112,-14.715432224183912 L 135.50018436090318,-14.997740573794424 L 136.2951745952813,-15.55026498785913 L 137.06536014215942,-15.87076222093333 L 137.5804708192448,-16.21508228929408 L 138.30321740127897,-16.807604261952704 L 138.58516401586343,-16.806622409739155 L 139.10854292211548,-17.06267913174539 L 139.2605749859182,-17.371600843986208 L 140.21524539607827,-17.710804945550066 L 140.87546349503924,-17.369068698803908 L 141.07111046769626,-16.83204721442676 L 141.27409549373874,-16.38887013109165 L 141.39822228410384,-15.840531508042588 L 141.70218305884464,-15.044921156476901 L 141.56338016170866,-14.561333103089552 L 141.6355204611881,-14.270394789286307 L 141.5198686057189,-13.698078301653808 L 141.65092003801107,-12.944687595270585 L 141.8426912782462,-12.741547539931231 L 141.68699018775084,-12.407614434461145 L 141.9286291851476,-11.877465915578817 L 142.11848839738798,-11.328042087451612 L 142.1437064963464,-11.042736504768186 L 142.51526004452495,-10.668185723516686 L 142.797310011974,-11.157354831591562 L 142.86676313697427,-11.784706719614903 L 143.11594689348573,-11.905629571177885 L 143.15863162655876,-12.325655612846232 L 143.5221236512998,-12.834358412327433 L 143.5971578309876,-13.400422051652612 L 143.5618111513,-13.763655694232192 L 143.9220992372389,-14.548310642151996 L 144.56371382057483,-14.171176039285903 L 144.89490807513346,-14.594457696188641 L 145.3747237489635,-14.98497649501833 L 145.27199100156724,-15.428205254785732 L 145.4852596376358,-16.28567229580478 L 145.637033319277,-16.78491830817657 L 145.88890425026761,-16.906926364817686 L 146.16030887266453,-17.761654554925272 L 146.06367394427872,-18.28007252367734 L 146.38747846901964,-18.958274021075887 L 147.4710815777479,-19.48072275154673 L 148.17760176004242,-19.9559392229028 L 148.84841352762322,-20.391209812097244 L 148.71746544819558,-20.63346892668155 L 149.28942020080206,-21.260510756111135 L 149.6783370302307,-22.342511895438385 L 150.07738244038853,-22.122783705333337 L 150.48293908101516,-22.556142266532994 L 150.72726525289113,-22.402404880464665 L 150.89955447815225,-23.462236830338696 L 151.60917524638427,-24.07625619883074 L 152.07353966695905,-24.457886651306225 L 152.8551973818059,-25.267501316023 L 153.1361621441768,-26.071173191026215 L 153.16194868389044,-26.641319268502457 L 153.0929089703485,-27.260299574494514 L 153.56946902894418,-28.11006682710208 L 153.51210818910022,-28.99507740653271 L 153.339095493787,-29.45820159273248 L 153.06924116435886,-30.350240166954794 L 153.08960167868184,-30.923641859665423 L 152.89157759013938,-31.640445651986 L 152.45000247620533,-32.550002536755265 L 151.70911746643674,-33.041342054986394 L 151.3439717958624,-33.81602345147387 L 151.0105554547152,-34.31036020277793 L 150.71413943908902,-35.173459974916796 L 150.3282198427333,-35.671879164371916 L 150.0752120302323,-36.42020558039054 L 149.9461243023672,-37.10905242284121 L 149.99728397033613,-37.42526051203518 L 149.42388227762552,-37.77268116633344 L 148.30462243061584,-37.809061374666925 L 147.38173302631526,-38.21921721776752 L 146.92212283751132,-38.606532077795116 L 146.31792199115478,-39.03575652441141 L 145.4896521343806,-38.59376799901902 L 144.87697635312816,-38.41744801203915 L 145.03221235573295,-37.89618783951102 L 144.48568240781407,-38.085323581699285 L 143.60997358619602,-38.8094654274053 L 142.74542687395297,-38.538267510737555 L 142.17832970598192,-38.380034275059835 L 141.60658165910468,-38.30851409276788 L 140.63857872941327,-38.019332777662555 L 139.99215823787426,-37.402936293285094 L 139.8065881695141,-36.64360279718831 L 139.57414757706528,-36.13836231867066 L 139.08280805883413,-35.732754001611745 L 138.12074791885635,-35.61229623793939 L 138.44946170466494,-35.127261244447865 L 138.20756432510672,-34.38472258884593 L 137.71917036351618,-35.076825046531 L 136.8294055523147,-35.26053476332861 L 137.35237104710848,-34.7073385556441 L 137.50388634658827,-34.13026783624075 L 137.8901160015377,-33.64047861097838 L 137.81032759007905,-32.90000701266812 L 136.9968371929404,-33.752771498348615 L 136.37206912653164,-34.094766127256236 L 135.98904341038428,-34.89011809666046 L 135.20821251845405,-34.478670342752565 L 135.23921837782916,-33.94795338311502 L 134.6134167827746,-33.222778008763164 L 134.08590376193916,-32.84807219821479 L 134.27390262261702,-32.61723357516699 L 132.99077680880976,-32.01122405368019 L 132.28808068250487,-31.982646986622782 L 131.32633060112084,-31.49580331800104 L 129.53579389863972,-31.590422865527465 L 128.24093753470225,-31.948488864877852 L 127.1028674663383,-32.28226694105106 L 126.14871382050114,-32.21596607842059 z\" /><path fill-rule=\"evenodd\" fill=\"#66cc99\" stroke=\"#555555\" stroke-width=\"2.5920000000000005\" opacity=\"0.6\" d=\"M 32.830120477028885,-26.742191664336197 L 32.580264926897684,-27.470157566031816 L 32.46213260267845,-28.301011244420557 L 32.20338870619304,-28.75240488049007 L 31.521001417778876,-29.257386976846256 L 31.325561150851,-29.401977634398914 L 30.901762729625347,-29.909956963828037 L 30.62281334811382,-30.42377573010613 L 30.05571618014278,-31.140269463832958 L 28.92555260591954,-32.1720411109725 L 28.2197558936771,-32.771952813448856 L 27.464608188595975,-33.2269637997788 L 26.419452345492825,-33.61495045342619 L 25.90966434093349,-33.6670402971764 L 25.780628289500697,-33.94464609144834 L 25.172861769315972,-33.796851495093584 L 24.677853224392123,-33.98717579522455 L 23.594043409934642,-33.794474379208154 L 22.988188917744736,-33.91643075941698 L 22.574157342222236,-33.86408253350531 L 21.542799106541025,-34.258838799782936 L 20.689052768647002,-34.417175388325234 L 20.071261020597632,-34.79513681410799 L 19.61640506356457,-34.81916635512371 L 19.193278435958717,-34.46259897230979 L 18.85531456876987,-34.444305515278465 L 18.42464318204938,-33.99787281670897 L 18.377410922934615,-34.13652068454807 L 18.24449913907992,-33.86775156019803 L 18.250080193767445,-33.28143075941444 L 17.92519046394844,-32.61129078545343 L 18.247909783611192,-32.42913136162457 L 18.22176150887148,-31.66163298922567 L 17.56691775886887,-30.725721123987547 L 17.064416131262703,-29.878641045859162 L 17.062917514726223,-29.875953871379984 L 16.344976840895242,-28.5767050106977 L 15.601818068105816,-27.821247247022804 L 15.21047244635946,-27.090955905874047 L 14.989710727608553,-26.117371921495156 L 14.743214145576331,-25.39292001719538 L 14.408144158595833,-23.853014011329847 L 14.385716586981149,-22.65665292734069 L 14.257714064194175,-22.111208184499958 L 13.86864220546866,-21.699036960539978 L 13.35249799973744,-20.872834161057504 L 12.826845330464494,-19.673165785401665 L 12.608564080463621,-19.0453488094877 L 11.794918654028066,-18.069129327061916 L 11.734198846085121,-17.301889336824473 L 11.64009606288161,-16.67314218512925 L 11.778537224991537,-15.793816013250735 L 12.12358076340439,-14.878316338767904 L 12.175618930722294,-14.449143568583892 L 12.50009524908299,-13.54769988368445 L 12.738478631245385,-13.137905775609902 L 13.312913852601866,-12.483630466362492 L 13.6337211442698,-12.03864470789717 L 13.738727654686897,-11.297863050993165 L 13.686379428775238,-10.73107594161589 L 13.387327915102162,-10.373578383020714 L 13.120987583069846,-9.766897067914122 L 12.875369500386569,-9.166933689005468 L 12.92906131353783,-8.959091078327553 L 13.236432732809874,-8.562629489784307 L 12.93304039882429,-7.596538588087733 L 12.728298374083892,-6.927122084178805 L 12.227347039446471,-6.294447523629394 L 12.32243167486351,-6.10009246177966 L 12.182336866920252,-5.789930515163839 L 11.91496300624209,-5.037986748884791 L 11.093772820691925,-3.978826592630547 L 10.06613528813574,-2.9694825171056816 L 9.40524539555497,-2.144313246269043 L 8.79799563969317,-1.111301364754496 L 8.830086704146424,-0.7790735815500369 L 9.048419630579588,-0.45935149496021666 L 9.29135053878369,0.2686660831676875 L 9.492888624721985,1.010119533691494 L 9.305613234096256,1.1609113631191832 L 9.649158155972628,2.2838660750377358 L 9.795195753629457,3.073404445809117 L 9.404366896206,3.734526882335203 L 8.948115675501072,3.9041289331171356 L 8.744923943729418,4.35221527751996 L 8.48881554529089,4.495617377129918 L 8.500287713259695,4.7719829370268485 L 7.462108188515941,4.412108262546241 L 7.0825964697644395,4.4646890324032285 L 6.6980721370806,4.240594183769517 L 5.898172641634687,4.262453314628985 L 5.3628048030908815,4.887970689305959 L 5.033574252959369,5.611802476418234 L 4.325607130560684,6.2706511499234665 L 3.574180128604553,6.258300482605719 L 2.6917016943562544,6.258817246928629 L 1.8652405127123188,6.142157701029731 L 1.0601216976049272,5.928837388528876 L -0.5076379052659377,5.3434726017426755 L -1.0636246402941936,5.000547797053812 L -1.9647065901675944,4.710462144383371 L -2.856125047202397,4.994475816259509 L -3.3110843571000714,4.984295559098015 L -4.008819545904942,5.179813340674315 L -4.649917364917911,5.168263658057086 L -5.8344962223445265,4.993700669775137 L -6.528769090185847,4.705087795425015 L -7.5189412093304355,4.338288479017308 L -7.7121593896697505,4.364565944837722 L -7.974107224957251,4.355755113131963 L -9.004793667018674,4.8324185245922 L -9.913420376006684,5.593560695819207 L -10.765383876986645,6.140710760925558 L -11.438779466182055,6.7859168563057475 L -11.70819454593574,6.860098374860726 L -12.428098924193819,7.26294200279203 L -12.949049038128194,7.798645738145738 L -13.124025437868482,8.163946438016978 L -13.246550258832515,8.903048610871508 L -13.685153977909792,9.49474376061346 L -14.074044969122282,9.886166897008252 L -14.33007585291237,10.015719712763968 L -14.579698859098258,10.214467271358515 L -14.693231980843505,10.656300767454042 L -14.839553798877944,10.87657156009814 L -15.130311245168173,11.040411688679526 L -15.664180467175527,11.458474025920795 L -16.085214199273565,11.52459402103824 L -16.314786749730203,11.80651479740655 L -16.30894731288123,11.95870189050612 L -16.61383826340328,12.170911159712702 L -16.677451951554573,12.384851589401052 L -16.841524624081273,13.15139394780256 L -16.71372880702347,13.594958604379855 L -17.126106736712615,14.373515733289224 L -17.62504269049066,14.729540513564073 L -17.18517289882223,14.919477240452862 L -16.700706346085923,15.621527411354108 L -16.463098110407884,16.13503611903846 L -16.549707810929064,16.673892116761962 L -16.270551723688357,17.166962795474873 L -16.14634741867485,18.108481553616656 L -16.256883307347167,19.096715806550307 L -16.37765112961327,19.593817246981985 L -16.277838100641517,20.0925206568147 L -16.536323614965468,20.567866319251493 L -17.06342322434257,20.999752102130827 L -17.02042843267577,21.422310288981578 L -16.973247849993243,21.885744533774982 L -16.589136928767687,22.158234361250095 L -16.261921759495635,22.679339504481277 L -16.3264139469959,23.017768459560898 L -15.982610642958036,23.723358466074046 L -15.426003790742186,24.35913361256104 L -15.089331834360735,24.520260728447 L -14.824645148161665,25.103532619725343 L -14.800925665739726,25.63626496022232 L -14.439939947964831,26.254418443297652 L -13.773804897506466,26.618892320252314 L -13.13994177901435,27.640147813420526 L -13.121613369914769,27.65414767171984 L -12.618836635783111,28.03818553314869 L -11.688919236690765,28.148643907172527 L -10.900956997104402,28.83214223888092 L -10.399592251008642,29.09858592377782 L -9.564811163765683,29.93357371674989 L -9.814718390329176,31.17773550060906 L -9.434793260119363,32.038096421836485 L -9.300692918321886,32.564679266890664 L -8.657476365585012,33.240245266242425 L -7.6541784326382185,33.69706492770251 L -6.912544114601417,34.110476386037476 L -6.2443420068514115,35.145865383437524 L -5.92999426921989,35.75998810479399 L -5.193863491222032,35.75518219659085 L -4.591006232105144,35.330711981745594 L -3.640056525070065,35.399855048152006 L -2.604305792644084,35.179093329401155 L -2.169913702798624,35.16839630791668 L -1.208602871089056,35.7148487411871 L -0.12745439289460592,35.888662421200806 L 0.5038765804152092,36.30127289483528 L 1.466918572606545,36.605647081034405 L 3.1616988460508253,36.78390493422522 L 4.81575809084913,36.86503693292346 L 5.3201200700177935,36.71651886651662 L 6.261819695672613,37.11065501560674 L 7.330384962603971,37.11838064223437 L 7.737078484741005,36.885707505840216 L 8.420964389691676,36.94642731378316 L 9.509993523810607,37.349994411766545 L 10.210002475636317,37.230001735984814 L 10.180650262094531,36.724037787415085 L 11.02886722173335,37.09210317641396 L 11.100025668999251,36.899996039368915 L 10.600004510143094,36.410000108377375 L 10.593286573945138,35.94744436293281 L 10.939518670300687,35.698984076473494 L 10.807847120821009,34.83350718844919 L 10.149592726287125,34.33077301689771 L 10.339658644256616,33.78574168551532 L 10.856836378633687,33.76874013929128 L 11.108500603895122,33.293342800422195 L 11.488787469131012,33.13699575452324 L 12.663310000000024,32.79278000000005 L 13.083260000000053,32.878820000000076 L 13.918679999999995,32.71196000000009 L 15.245630000000006,32.26508000000007 L 15.713939999999923,31.376259999999945 L 16.611620000000016,31.18217999999996 L 18.02108999999996,30.76356999999996 L 19.08641,30.26639 L 19.574040000000082,30.52582000000001 L 20.053349999999966,30.985760000000028 L 19.82033000000007,31.751790000000142 L 20.13396999999992,32.238200000000006 L 20.854520000000093,32.70679999999999 L 21.54298,32.843200000000024 L 22.895760000000053,32.63857999999999 L 23.236800000000017,32.191490000000044 L 23.609130000000107,32.18725999999998 L 23.92750000000001,32.01667000000009 L 24.921139999999923,31.89936 L 25.16482,31.56915 L 26.49533,31.58568 L 27.457620000000002,31.32126 L 28.450480000000002,31.025769999999998 L 28.913529999999998,30.87005 L 29.683419999999998,31.186860000000003 L 30.09503,31.4734 L 30.976930000000003,31.55586 L 31.687960000000004,31.4296 L 31.96041,30.933600000000002 L 32.19247,31.26034 L 32.99392,31.024070000000002 L 33.7734,30.967460000000003 L 34.26543474464621,31.21935730952032 L 34.26543338393569,31.219360866820153 L 34.55637169773891,31.548823960896996 L 34.48810713068136,31.60553884533732 L 34.75258711115117,32.07292633720117 L 34.95541710789678,32.82737641044638 L 35.098457472480675,33.080539252244265 L 35.126052687324545,33.09090037691878 L 35.48220665868013,33.90545014091944 L 35.9795923194894,34.61005829521913 L 35.99840254084364,34.644914048800004 L 35.905023227692226,35.410009467097325 L 36.149762811026534,35.82153473565367 L 35.782084995269855,36.27499542901485 L 36.160821567537,36.65060557712833 L 35.55093631362831,36.565442816711325 L 34.714553256984345,36.7955321314909 L 34.026894972476384,36.219960028624016 L 32.509158156064075,36.107563788389186 L 31.699595167779567,36.64427521417258 L 30.621624790171097,36.6778648951623 L 30.391096225717064,36.26298065850699 L 29.69997562024554,36.144357408180994 L 28.732902866335422,36.67683136651647 L 27.641186557737317,36.65882212986274 L 27.048767937943264,37.653360907536 L 26.318218214633045,38.208133246405396 L 26.804700148228733,38.985760199533516 L 26.17078535330433,39.463612168936464 L 27.28001997244939,40.42001373957831 L 28.81997765474722,40.46001129817221 L 29.240003696415584,41.21999074967267 L 31.14593387220444,41.08762156835702 L 32.34797936374571,41.736264146484615 L 33.51328291192746,42.01896006933731 L 35.167703891751785,42.040224921225416 L 36.9131270688421,41.33535838476427 L 38.34766482926452,40.94858612727573 L 39.512606642420195,41.10276276301855 L 40.373432651538224,41.01367259374735 L 41.55408410011066,41.53565623632757 L 41.70317060727271,41.96294281673292 L 41.45347008643839,42.64512339941794 L 40.87546919125379,43.013628038091284 L 40.32139448422032,43.128633938156845 L 39.955008579270924,43.43499766699922 L 38.68000000000001,44.280000000000086 L 37.539120000000025,44.65721000000002 L 36.6754600000001,45.244690000000105 L 37.4031700000001,45.40451000000013 L 38.23295000000002,46.24087000000003 L 37.67372,46.636570000000006 L 39.14767000000012,47.044750000000136 L 39.121200000000044,47.26336000000009 L 38.223538038899335,47.10218984637595 L 37.4251371599899,47.02222056740419 L 36.75985477066445,46.69870026304102 L 35.82368452326489,46.64596446388714 L 34.96234174982385,46.27319651954974 L 35.01265897004737,45.73772519982549 L 35.02078779474607,45.65121898048466 L 35.51000857925311,45.40999339454612 L 36.52999799983019,45.46998973243717 L 36.334712762199274,45.11321564389402 L 35.239999220528205,44.93999624285175 L 33.882511020652885,44.361478583344194 L 33.32642093276013,44.564877020844904 L 33.546924269349404,45.03477081967486 L 32.4541744321055,45.327466132176085 L 32.63080447767919,45.51918569597899 L 33.58816206231842,45.85156850848023 L 33.435988094713366,45.971917370797485 L 33.29856733575474,46.08059845639781 L 31.744140252415207,46.33334788673733 L 31.67530724460255,46.70624502215554 L 30.74874881360921,46.583100084004116 L 30.377608676888883,46.03241018328572 L 29.603289015427436,45.293308010431126 L 29.62654340995877,45.0353909368624 L 29.141611769331835,44.820210272799045 L 28.8378577003202,44.913873806328056 L 28.558081495891997,43.70746165625813 L 28.03909508638472,43.293171698574184 L 27.67389773937805,42.57789236100622 L 27.99672041190539,42.00735871028779 L 28.115524529744416,41.62288605403624 L 28.988442824018733,41.29993419042819 L 28.806438429486743,41.05496206314856 L 27.61901736828409,40.99982330989314 L 27.19237674328238,40.69056570084242 L 26.35800906749779,40.151993923496505 L 26.04335127127257,40.61775360774317 L 26.05694217296534,40.82412344010076 L 25.44767703624416,40.85254547786144 L 24.92584842296094,40.947061672523205 L 23.71481123220076,40.687129218095095 L 24.40799889496401,40.12499298762407 L 23.899967889102584,39.96200552017552 L 23.342999301860743,39.96099782974579 L 22.813987664488934,40.476005153966526 L 22.626298862404724,40.25656118423916 L 22.84974775563478,39.659310818025745 L 23.35002729665257,39.190011298167235 L 22.973099399515547,38.97090322524963 L 23.530016310324925,38.51000112563844 L 24.025024855248887,38.21999298761642 L 24.040011020613576,37.655014553369426 L 23.115002882589124,37.920011298162194 L 23.409971958111043,37.40999074965737 L 22.77497195810861,37.30501007745653 L 23.15422529469862,36.422505804992056 L 22.490028110451078,36.4100001083774 L 21.67002648284364,36.8449864771942 L 21.29501061370155,37.64498932550464 L 21.120034213961333,38.31032339126273 L 20.730032179454554,38.769985256498785 L 20.217712029712857,39.34023468683961 L 20.15001590341052,39.62499766698397 L 19.980000441170148,39.69499339452341 L 19.960001661873207,39.91500580500605 L 19.406081984136733,40.250773423822466 L 19.319058872157143,40.72723012955356 L 19.40354983895429,41.40956574153546 L 19.540027296637106,41.71998607031276 L 19.37176883309496,41.877547512370654 L 19.37176816334725,41.877550679783496 L 19.162459999999953,41.95502000000005 L 18.88214000000005,42.281510000000026 L 18.45001688302086,42.47999224531218 L 18.450016310304818,42.47999136002932 L 17.509970330483327,42.849994615239154 L 16.930005730871642,43.20999848080038 L 16.015384555737683,43.50721548112722 L 15.174453973052096,44.243191229827914 L 15.376250441151797,44.31791535092208 L 14.92030927904051,44.73848399512946 L 14.901602410550879,45.07606028907611 L 14.258747592839995,45.23377676043094 L 13.952254672917036,44.80212352149687 L 13.656975538801191,45.13693512631596 L 13.67940311041582,45.48414907488501 L 13.715059848697223,45.500323798192376 L 13.937630242578308,45.59101593686462 L 13.141606479554296,45.73669179949542 L 12.32858117030625,45.381778062514826 L 12.383874952858548,44.885374253919096 L 12.261453484759102,44.600482082693986 L 12.589237094786455,44.09136587175446 L 13.526905958722494,43.587727362637864 L 14.029820997787029,42.761007798832466 L 15.142569614327925,41.95513967545685 L 15.926191033601896,41.961315009115715 L 16.169897088290384,41.74029490820339 L 15.889345737377797,41.541082261718216 L 16.785001661860548,41.17960561783656 L 17.51916873543118,40.87714345963222 L 18.37668745288252,40.35562490494263 L 18.48024702319543,40.16886627863981 L 18.293385044028042,39.810774441073264 L 17.738380161213314,40.277671006830346 L 16.869595981522338,40.44223460546381 L 16.448743116937322,39.79540070246644 L 17.17148969897147,39.42469981542068 L 17.052840610429314,38.90287120213735 L 16.635088331781816,38.843572496082416 L 16.100960727613,37.9858987493342 L 15.684086948314473,37.908849188787016 L 15.687962680736348,38.21459280044188 L 15.89198123542468,38.75094249119924 L 16.109332309644287,38.9645470240777 L 15.718813510814613,39.54407237401492 L 15.413612501698793,40.048356838535156 L 14.99849572109818,40.17294871679087 L 14.703268263414714,40.604550279292596 L 14.060671827865264,40.7863479680954 L 13.627985060285397,41.1882872584616 L 12.888081902730365,41.253089504555604 L 12.106682570044939,41.70453481705741 L 11.191906365614216,42.3554253199897 L 10.51194786951774,42.93146251074721 L 10.200028924203991,43.9200068222746 L 9.702488234097842,44.03627879493132 L 8.88894616052687,44.36633616797951 L 8.428560825238577,44.23122813575242 L 7.8507666357831445,43.76714793555524 L 7.435184767291872,43.69384491634922 L 6.52924523278304,43.128892320318315 L 4.556962517931424,43.399650987311595 L 3.1004105973526634,43.075200507167054 L 2.9859989762584576,42.47301504166986 L 3.0394840836805486,41.892120266276905 L 2.0918416683121848,41.226088568683096 L 0.8105245296351882,41.01473196060934 L 0.7213310074994013,40.678318386389236 L 0.10669152181986874,40.12393362076202 L -0.27871131021294104,39.30997813573272 L 0.11129072429383768,38.73851430923304 L -0.4671235823491031,38.29236583104115 L -0.6833894514905978,37.642353827457825 L -1.4383821272748492,37.44306366632422 L -2.146452602538119,36.67414419203729 L -3.4157808089233868,36.65889964451118 L -4.368900926114719,36.677839056946155 L -4.995219285492212,36.32470815687964 L -5.3771597965614575,35.946850083961465 L -5.866432257500904,36.02981659600606 L -6.236693894872175,36.367677110330334 L -6.520190802425404,36.94291331638732 L -7.453725551778092,37.09778758396607 L -7.855613165711986,36.83826854099627 L -8.382816127953689,36.97888011326246 L -8.898856980820327,36.86880931248078 L -8.746101446965554,37.65134552667661 L -8.83999752443988,38.266243394517616 L -9.287463751655224,38.3584858261586 L -9.526570603869715,38.73742910415491 L -9.446988898140233,39.39206614842837 L -9.048305223008427,39.75509308527877 L -8.977353481471681,40.15930613866581 L -8.768684047877102,40.76063894303019 L -8.79085323733031,41.18433401139126 L -8.99078935386757,41.54345937760364 L -9.034817674180246,41.880570583659676 L -8.984433152695672,42.59277517350627 L -9.392883673530648,43.0266246608127 L -7.97818966310831,43.74833771420099 L -6.754491746436756,43.567909450853925 L -5.411886359061597,43.57423981380968 L -4.3478427799557835,43.40344920508504 L -3.5175317041060907,43.4559007838613 L -1.901351284177764,43.42280202897834 L -1.384225226232985,44.022610378590116 L -1.1937975732374184,46.01491771095486 L -2.2257242496738456,47.06436269793822 L -2.9632761295596026,47.57032664650795 L -4.4915549381594815,47.954954332056374 L -4.592349819344776,48.68416046812699 L -3.295813971357802,48.90169240985963 L -1.6165107893849608,48.64442129169454 L -1.933494025063311,49.776341864615745 L -0.98946895995536,49.34737580016091 L 1.3387610205226963,50.12717316344526 L 1.6390010921384996,50.9466063502975 L 2.5135730322461427,51.14850617126183 L 3.3149711442285366,51.345780951536085 L 3.3150114849641596,51.34577662473805 L 3.8302885270431375,51.62054454203195 L 4.705997348661185,53.091798407597764 L 6.074182570020923,53.510403347378144 L 6.905139601274129,53.48216217713065 L 7.100424838905269,53.69393219666267 L 7.936239454793963,53.74829580343379 L 8.121706170289485,53.52779246684429 L 8.800734490604668,54.020785630908904 L 8.57211795414537,54.39564647075406 L 8.526229282270208,54.96274363872516 L 8.120310906617533,55.5177226833236 L 8.08997684086222,56.54001170513759 L 8.256581658571207,56.80996938743033 L 8.543437534223415,57.11000275331695 L 9.424469028367554,57.1720661484995 L 9.775558709358535,57.44794078228966 L 10.580005730846125,57.73001658795485 L 10.546105991262664,57.21573273378612 L 10.250000034230226,56.89001618105044 L 10.369992710011957,56.60998159446079 L 10.912181837618306,56.458621324277885 L 10.667803989310016,56.08138336854721 L 10.369992710011957,56.19000722922473 L 9.649984978889279,55.469999498102055 L 9.921906365609118,54.98310415304803 L 9.9395797054529,54.596641954153256 L 10.950112338920519,54.363607082733154 L 10.93946699386845,54.00869334575259 L 11.956252475643282,54.19648550070116 L 12.518440382546714,54.470370591847995 L 13.647467075259499,54.0755109727059 L 14.119686313542559,53.75702912049104 L 14.802900424873458,54.05070628520575 L 16.36347700365573,54.513158677785725 L 17.622831658608675,54.85153595643291 L 18.62085859546164,54.68260569927078 L 18.696254510175464,54.43871877706929 L 19.660640089606403,54.42608388937393 L 19.888481479581287,54.86616038677151 L 21.268448927503467,55.190481675835315 L 21.055800408622417,56.031076361711065 L 21.090423618257972,56.78387278912294 L 21.581866489353672,57.411870632549935 L 22.52434126149288,57.75337433535076 L 23.318452996522097,57.00623647727487 L 24.12072960785343,57.02569265403277 L 24.312862583114622,57.79342357037697 L 24.42892785004216,58.38341339785329 L 24.061198357853186,58.25737457949341 L 23.426560092876684,58.612753404364625 L 23.339795363058645,59.187240302153384 L 24.604214308376186,59.46585378685502 L 25.86418908051664,59.61109039981133 L 26.949135776484525,59.445803331125774 L 27.981114129353244,59.475388088612874 L 27.981126857000987,59.47537333432527 L 29.117700000000013,60.02805000000012 L 28.070001921525666,60.50351912796823 L 28.069997592895277,60.50351654727584 L 26.255172967236973,60.4239606797625 L 24.496623976344523,60.05731639265166 L 22.869694858499457,59.846373196036225 L 22.290763787533592,60.39192129174154 L 21.322244093519316,60.720169989659524 L 21.544866163832694,61.70532949487179 L 21.05921105315369,62.60739329695874 L 21.536029493910803,63.18973501245587 L 22.442744174903993,63.81781037053129 L 24.730511508897536,64.90234365504084 L 25.398067661243942,65.11142650009374 L 25.294043003040404,65.53434642197045 L 23.903378533633802,66.00692739527962 L 22.18317345550193,65.72374054632017 L 21.21351687997722,65.02600535751527 L 21.369631381930958,64.41358795842429 L 19.77887576669022,63.60955434839504 L 17.84777916837521,62.74940013289681 L 17.119554884518124,61.34116567651097 L 17.83134606290639,60.63658336042741 L 18.78772179533209,60.081914374422595 L 17.86922488777634,58.9537661810587 L 16.829185011470088,58.71982697207339 L 16.447709588291474,57.041118069071885 L 15.879785597403783,56.10430186626866 L 14.666681349352075,56.200885118222175 L 14.100721062891465,55.40778107362265 L 12.942910597392057,55.36173737245058 L 12.625100538797028,56.30708018658197 L 11.787942335668674,57.44181712506307 L 11.027368605196868,58.85614940045936 L 10.356556837616067,59.469807033925356 L 8.382000359743586,58.313288479233215 L 7.048748406613271,58.078884182357285 L 5.665835402050419,58.5881554225937 L 5.308234490590678,59.663231919993834 L 4.992078077828978,61.97099803328432 L 5.912900424837886,62.614472968182724 L 8.553411085655739,63.45400828719648 L 10.527709181366758,64.4860383164975 L 12.358346795306373,65.87972585719318 L 14.761145867581604,67.81064158799516 L 16.435927361728943,68.56320547146173 L 19.18402835457846,69.81744415961778 L 21.378416375420585,70.2551693793461 L 23.023742303161526,70.2020718451662 L 24.546543409938465,71.03049673123722 L 26.37004967622181,70.98626170519539 L 28.165547316202943,71.18547435168055 L 31.293418409965454,70.4537877468599 L 30.005435011522792,70.18625885688489 L 31.101042202597625,69.55810108805622 L 31.10108000000008,69.55811000000011 L 32.13272000000018,69.90595000000019 L 33.77547000000004,69.30142000000012 L 36.51396,69.06342000000006 L 40.29234000000014,67.93240000000003 L 41.059870000000046,67.45713000000012 L 41.1259500000001,66.79158000000007 L 40.01583000000005,66.26618000000013 L 38.382949999999994,65.9995300000001 L 33.91871000000015,66.75961000000001 L 33.18444000000005,66.63252999999997 L 34.814770000000124,65.90015000000017 L 34.87857425307874,65.4362128770482 L 34.94391000000007,64.41437000000019 L 36.23129,64.10945000000004 L 37.01273000000009,63.84983000000011 L 37.141970000000185,64.33471000000009 L 36.53957903508979,64.76446000000004 L 37.17604000000006,65.14322000000016 L 39.59345000000002,64.5207900000002 L 40.43560000000008,64.76446000000004 L 39.76260000000019,65.49682000000001 L 42.09309000000013,66.47623000000004 L 43.01604000000009,66.41858000000013 L 43.94975000000011,66.06908000000004 L 44.53226000000001,66.75634000000014 L 43.698390000000074,67.35245000000003 L 44.18795000000017,67.95051000000012 L 43.45282000000003,68.57078999999999 L 46.250000000000114,68.25 L 46.82134000000008,67.68997000000007 L 45.55517000000003,67.56652000000003 L 45.56202000000013,67.01005000000015 L 46.34915000000012,66.6676700000001 L 47.89416000000017,66.8845500000001 L 48.13876000000005,67.52238000000006 L 50.22766000000013,67.99867000000017 L 53.71743000000015,68.85738000000015 L 54.47171000000009,68.80815000000001 L 53.48582000000016,68.20130999999998 L 54.726279999999974,68.09701999999999 L 55.44268000000011,68.43866000000008 L 57.31702000000007,68.4662800000001 L 58.802000000000135,68.88081999999997 L 59.94142000000011,68.27844000000005 L 61.07784000000021,68.94069000000007 L 60.02999999999997,69.5200000000001 L 60.55000000000001,69.85000000000002 L 63.50400000000013,69.54739000000006 L 64.88811500000003,69.23483500000009 L 68.51216000000016,68.09233000000012 L 69.18068000000011,68.61563000000012 L 68.16444000000007,69.14436000000006 L 68.13522,69.35649000000012 L 66.93008000000015,69.45461000000012 L 67.25976000000009,69.92873000000009 L 66.72492000000017,70.70889000000017 L 66.69466000000006,71.02897000000019 L 68.54006000000004,71.93450000000018 L 69.19636000000003,72.84336000000019 L 69.94,73.04000000000008 L 72.58754000000005,72.77629000000013 L 72.79603000000003,72.22005999999999 L 71.84811000000008,71.4089800000001 L 72.47010999999998,71.09019000000006 L 72.79188000000005,70.39114000000001 L 72.56470000000013,69.02085 L 73.66787,68.40789999999998 L 73.23870000000005,67.74040000000002 L 71.28000000000009,66.3200000000001 L 72.42301000000009,66.17267000000021 L 72.82076999999998,66.53267000000005 L 73.92099000000013,66.78946000000013 L 74.18651000000011,67.28429 L 75.05200000000008,67.76047000000011 L 74.46926000000013,68.32899000000009 L 74.9358400000001,68.98918000000009 L 73.84235999999999,69.07146000000006 L 73.60187000000019,69.62763000000001 L 74.39980000000003,70.63175000000001 L 73.10109999999997,71.4471700000002 L 74.89082000000019,72.12119000000013 L 74.65926000000007,72.83227000000005 L 75.1580100000001,72.85497000000015 L 75.68351000000013,72.30056000000013 L 75.2889800000001,71.3355600000001 L 76.35911000000004,71.15287000000018 L 75.90313000000015,71.87401000000006 L 77.57665000000009,72.26717000000002 L 79.6520200000001,72.32011 L 81.50000000000006,71.75000000000006 L 80.6107100000001,72.58285000000012 L 80.51109000000002,73.64819999999997 L 82.25000000000006,73.85000000000014 L 84.65526,73.80591000000021 L 86.82230000000015,73.93688000000003 L 86.00956000000002,74.45967000000019 L 87.16682000000014,75.11643000000004 L 88.31571000000008,75.14393000000007 L 90.26000000000005,75.64000000000004 L 92.90057999999999,75.7733300000001 L 93.23421000000008,76.04720000000009 L 95.86000000000018,76.1400000000001 L 96.67821000000009,75.91548 L 98.92254000000014,76.44689 L 100.75967000000014,76.43028000000004 L 101.03532000000001,76.86189000000007 L 101.9908400000001,77.28754000000015 L 104.35160000000013,77.69792000000007 L 106.06664000000018,77.37389000000007 L 104.70500000000015,77.12740000000008 L 106.9701300000001,76.97419000000008 L 107.24000000000012,76.48000000000002 L 108.1538000000001,76.7233500000001 L 111.0772600000002,76.71000000000004 L 113.33150999999998,76.22224 L 114.13417000000004,75.84764000000001 L 113.88539000000003,75.32779000000016 L 112.77918,75.03186000000011 L 110.15125000000012,74.47673000000003 L 109.40000000000003,74.18000000000006 L 110.63999999999999,74.04000000000002 L 112.11919,73.78774000000016 L 113.01954000000023,73.97693000000015 L 113.52958000000024,73.33505000000014 L 113.96880999999996,73.59488000000005 L 115.56781999999998,73.75285000000008 L 118.77633000000014,73.58771999999999 L 119.01999999999998,73.12000000000006 L 123.20066000000008,72.97122000000007 L 123.25777000000016,73.73503000000005 L 125.38000000000011,73.56000000000006 L 126.97644000000003,73.56549000000012 L 128.59126000000003,73.0387100000001 L 129.05156999999997,72.39872000000008 L 128.46000000000004,71.98000000000002 L 129.71599000000015,71.19304000000011 L 131.28858000000025,70.78699000000012 L 132.25350000000014,71.83630000000011 L 133.85766000000024,71.3864200000001 L 135.56192999999996,71.65525000000014 L 137.49755000000005,71.3476300000001 L 138.23409000000015,71.62803000000002 L 139.8698300000001,71.48783000000014 L 139.14791000000002,72.41619000000014 L 140.46817,72.84941000000015 L 149.5,72.20000000000005 L 150.3511800000001,71.60643000000005 L 152.9689000000002,70.84222000000005 L 157.00688000000002,71.03141000000005 L 158.99779,70.86671999999999 L 159.83031000000017,70.45324000000005 L 159.70866,69.72198000000003 L 160.9405300000003,69.4372800000001 L 162.27907000000005,69.64204000000001 L 164.05248000000006,69.66823 L 165.94037000000014,69.47199 L 167.83566999999994,69.58269000000013 L 169.5776300000001,68.69380000000007 L 170.8168800000002,69.01362999999998 L 170.0082000000001,69.65276000000006 L 170.4534500000002,70.09703000000007 L 173.64391000000012,69.81743000000006 L 175.7240300000002,69.87725000000017 L 178.60000000000002,69.40000000000003 L 180.0,68.96363636363651 L 180.0,64.97970870219848 L 179.99280999999996,64.97433000000001 L 178.70720000000028,64.53493000000003 L 177.41128000000003,64.60821000000004 L 178.3130000000001,64.07593000000003 L 178.90825000000018,63.251970000000085 L 179.37033999999994,62.98262000000011 L 179.48636,62.56894 L 179.22825,62.304100000000176 L 177.36430000000007,62.52190000000007 L 174.56929000000025,61.769150000000025 L 173.68013000000008,61.652610000000095 L 172.14999999999998,60.94999999999999 L 170.69850000000008,60.33618000000013 L 170.33085000000028,59.881770000000074 L 168.90045999999995,60.57355000000007 L 166.29498000000024,59.78855000000016 L 165.84000000000015,60.160000000000025 L 164.87673999999993,59.731600000000014 L 163.53929000000005,59.86871000000002 L 163.21711000000016,59.211010000000044 L 162.01733000000002,58.24328000000003 L 162.05296999999996,57.83911999999998 L 163.19191,57.615030000000104 L 163.05794000000014,56.159240000000125 L 162.12958000000015,56.122190000000046 L 161.70146,55.285680000000184 L 162.1174900000001,54.855140000000006 L 160.36877000000027,54.34433000000007 L 160.02173000000016,53.202570000000094 L 158.5309400000001,52.958680000000186 L 158.23118,51.94269000000003 L 156.78979000000027,51.01105000000007 L 156.42000000000007,51.700000000000045 L 155.99181999999996,53.158950000000004 L 155.43366000000003,55.38103000000012 L 155.9144200000003,56.767920000000174 L 156.75815,57.36470000000003 L 156.81035000000008,57.832040000000006 L 158.3643300000001,58.055750000000046 L 160.15064000000007,59.31477000000007 L 161.87203999999997,60.343000000000075 L 163.66968999999995,61.1409000000001 L 164.47355000000005,62.550610000000006 L 163.25842000000011,62.46627000000012 L 162.65791000000002,61.64250000000004 L 160.12148000000002,60.544230000000084 L 159.30232,61.7739600000001 L 156.72068000000002,61.434420000000046 L 154.21806000000026,59.75818000000015 L 155.04375000000005,59.14495000000005 L 152.81185000000005,58.88385000000005 L 151.2657300000002,58.78089 L 151.33815000000004,59.50396000000006 L 149.78371000000004,59.655730000000176 L 148.54480999999998,59.164480000000026 L 145.48721999999998,59.336370000000045 L 142.1978200000001,59.03998000000013 L 138.95848000000024,57.08805000000007 L 135.12618999999995,54.72959000000009 L 136.70171000000005,54.603550000000155 L 137.19342000000006,53.97732000000002 L 138.16470000000004,53.7550100000002 L 138.80462999999997,54.25455000000005 L 139.90151000000003,54.18968000000012 L 141.34531000000004,53.08957000000015 L 141.37923,52.238770000000045 L 140.59742000000017,51.2396700000001 L 140.51307999999995,50.045530000000156 L 140.0619300000002,48.44671000000011 L 138.5547200000002,46.999649999999974 L 138.21970999999996,46.307950000000005 L 136.86232000000007,45.14350000000013 L 135.51535000000013,43.98900000000009 L 134.86939000000018,43.39821000000006 L 133.53687000000025,42.8114700000001 L 132.90627000000006,42.79849000000013 L 132.27807000000018,43.28456000000011 L 130.93587000000014,42.552740000000085 L 130.78000485358513,42.22001036108258 L 130.78000735893113,42.22000722916885 L 130.78000366004676,42.220007813203225 L 130.77999999999997,42.22000000000014 L 130.77999231657833,42.22000960427719 L 130.40003055228902,42.28000356705971 L 129.96594852103726,41.94136790625106 L 129.66736209525482,41.60110443782523 L 129.70518924369247,40.88282786718433 L 129.18811486218,40.66180776627199 L 129.01039961152821,40.485436102859815 L 128.63336836152672,40.18984691015031 L 127.96741417858135,40.02541250259756 L 127.53343550019417,39.7568500839767 L 127.5021195822253,39.32393077245153 L 127.38543419811027,39.213472398427655 L 127.78334272675772,39.05089834243742 L 128.34971642467661,38.61224294692785 L 129.21291954968007,37.43239248305595 L 129.46044966035817,36.78418915460283 L 129.4683044780665,35.63214061130395 L 129.0913765809296,35.082484239231434 L 128.1858504578791,34.89037710218639 L 127.3865194031884,34.47567373304412 L 126.48574751190876,34.39004588473648 L 126.37391971242914,34.934560451795946 L 126.55923139862779,35.6845405136479 L 126.11739790253229,36.72548472751926 L 126.86014326386339,36.893924058574626 L 126.17475874237624,37.74968577732804 L 125.68910363169721,37.94001007745902 L 125.5684391622957,37.75208873142962 L 125.2753304383362,37.669070542952724 L 125.24008711151316,37.85722443292744 L 124.98103315643397,37.94882090916478 L 124.71216067921938,38.10834605564979 L 124.98599409393398,38.54847422947968 L 125.2219486837787,38.66585724543067 L 125.13285851450752,38.84855927179859 L 125.3865897970606,39.387957872061165 L 125.32111575734682,39.55138458918421 L 124.7374821310424,39.66034434667162 L 124.26562462778531,39.928493353834156 L 122.86757042856095,39.63778758397622 L 122.1313879741309,39.170451768544666 L 121.05455447803286,38.897471014962846 L 121.58599490772248,39.36085358332407 L 121.37675703337268,39.75026133885949 L 122.16859500538106,40.422442531896024 L 121.64035851449353,40.94638987890333 L 120.76862877816194,40.59338816991754 L 119.63960208544907,39.898055935214245 L 119.02346398323306,39.252333075511146 L 118.04274865119791,39.2042739934797 L 117.53270226447711,38.73763580988408 L 118.05969852098964,38.06147553156106 L 118.87814985562832,37.89732534438593 L 118.91163618375344,37.44846385349871 L 119.70280236214205,37.15638865818505 L 120.8234574728236,37.87042776137801 L 121.711258579598,37.48112335870718 L 122.35793745329849,37.45448415786072 L 122.5199947449658,36.93061432550185 L 121.10416385303307,36.651329047180425 L 120.63700890511453,36.111439520811075 L 119.66456180224606,35.60979055433772 L 119.1512081238586,34.90985911716044 L 120.22752485563373,34.36033193616865 L 120.62036909391655,33.37672272392514 L 121.22901411345023,32.46031871187719 L 121.90814578663003,31.692174384074647 L 121.89191938689038,30.949351508095106 L 121.26425744027328,30.6762674016487 L 121.50351932178467,30.14291494396429 L 122.0921138855891,29.83252045340315 L 121.93842817595306,29.01802236583478 L 121.68443851123851,28.225512600206617 L 121.12566124886649,28.135673122667185 L 120.39547326058232,27.05320689544932 L 119.5854968608395,25.740780544532612 L 118.65687137255452,24.54739085540024 L 117.28160647997088,23.624501451099658 L 115.89073530483512,22.78287323657807 L 114.76382734584624,22.668074042241667 L 114.15254682826564,22.22376007739615 L 113.80677981980074,22.5483397486214 L 113.24107791550159,22.051367499270455 L 111.84359215703248,21.550493679281473 L 110.78546552942407,21.397143866455338 L 110.44403934127168,20.34103261970633 L 109.88986128137361,20.282457383703488 L 109.62765506392466,21.008227037026703 L 109.86448815311832,21.395050970947523 L 108.5228129415244,21.715212307211814 L 108.05018029178294,21.55237986906012 L 106.7150679870901,20.69685069425202 L 105.88168216351903,19.752050482659698 L 105.66200564984631,19.05816518806057 L 106.42681684776602,18.004120998603227 L 107.36195356651974,16.697456569887052 L 108.26949507042963,16.07974233648615 L 108.87710656131748,15.27669057867044 L 109.33526981001722,13.426028347217724 L 109.20013593957398,11.666859239137764 L 108.36612999881545,11.008320624226272 L 107.22092858279524,10.364483954301832 L 106.40511274620343,9.53083974856932 L 105.15826378786511,8.599759629750494 L 104.79518517458239,9.241038316276502 L 105.07620161338562,9.918490505406808 L 104.33433475140347,10.48654368737523 L 103.4972799011397,10.632555446815928 L 103.09068973186726,11.153660590047165 L 102.5849324890267,12.186594956913282 L 101.68715783081996,12.645740057826572 L 100.83180952352487,12.627084865769206 L 100.9784672383692,13.412721665902566 L 100.09779747925111,13.406856390837433 L 100.01873253784456,12.307001044153354 L 99.47892052612363,10.846366685423547 L 99.15377241414316,9.963061428258555 L 99.22239871622676,9.239255479362427 L 99.87383182169813,9.20786204674512 L 100.27964684448622,8.295152899606052 L 100.45927412313276,7.429572658717177 L 101.01732791545273,6.856868597842478 L 101.62307905477806,6.74062246340192 L 102.14118696493638,6.221636053894628 L 102.37114708863521,6.128205064310919 L 102.96170535686673,5.524495144061106 L 103.38121463421217,4.8550011255037475 L 103.43857547405612,4.181605536308339 L 103.33212202353486,3.726697902842986 L 103.42942874554049,3.3828687605890053 L 103.50244754436889,2.7910185815501762 L 103.8546741068703,2.515454006353764 L 104.24793175661145,1.6311410587590842 L 104.22881147666348,1.2930480004894918 L 103.51970747275439,1.2263337264006822 L 102.57361535035477,1.9671153833046873 L 101.39063846232919,2.760813706875581 L 101.27353966675582,3.270291652841152 L 100.69543541870664,3.9391397159948696 L 100.55740766805502,4.767280381688295 L 100.19670617065775,5.312492580583708 L 100.30626020711652,6.0405618351439045 L 100.0857568705271,6.4644894474502905 L 99.69069054565576,6.8482127954335965 L 99.51964155476963,7.34345388430276 L 98.9882528015123,7.907993068875328 L 98.503786248776,8.382305202666288 L 98.339661899817,7.794511623562386 L 98.15000939330582,8.350007432483878 L 98.25915001830626,8.973922837759801 L 98.55355065307305,9.932959906448545 L 98.45717410684873,10.67526601810515 L 98.76454552612078,11.441291612183749 L 98.42833865762985,12.032986761925685 L 98.50957400919268,13.122377631070677 L 98.1036039571077,13.640459703012851 L 97.77773237507517,14.837285874892642 L 97.59707156778276,16.10056793869977 L 97.1645398294998,16.92873444260934 L 96.505768670643,16.42724050543285 L 95.3693522481124,15.7143899601826 L 94.80840457558412,15.80345429123764 L 94.18880415240454,16.037936102762018 L 94.53348595579135,17.277240301985728 L 94.32481652219676,18.2135139022499 L 93.54098839719364,19.366492621330025 L 93.66325483599621,19.726961574781996 L 93.07827762245219,19.855144965081976 L 92.36855350135562,20.670883287025347 L 92.08288618364614,21.19219513598577 L 92.02521528520839,21.701569729086767 L 91.83489098507744,22.182935695885565 L 91.41708702999766,22.76501902922122 L 90.49600630082728,22.80501658781513 L 90.58695682166098,22.392793687422866 L 90.27297081905556,21.83636770272011 L 89.84746707556428,22.039146023033425 L 89.70204959509493,21.857115790285306 L 89.41886274613549,21.9661789006373 L 89.03196129756623,22.055708319582976 L 88.88876590368542,21.690588487224748 L 88.20849734899522,21.703171698487807 L 86.97570438024027,21.49556163175521 L 87.03316857294887,20.743307806882413 L 86.49935102737379,20.151638495356607 L 85.0602657409097,19.4785788029711 L 83.94100589390001,18.302009792549725 L 83.18921715691785,17.67122142177898 L 82.19279218946592,17.016636053937816 L 82.19124189649719,16.556664130107848 L 81.69271935417748,16.310219224507904 L 80.79199913933014,15.951972357644493 L 80.32489586784388,15.89918488205835 L 80.02506920768644,15.136414903214147 L 80.2332735533904,13.835770778859981 L 80.28629357292186,13.006260687710835 L 79.8625468281285,12.056215318240888 L 79.85799930208682,10.35727509199711 L 79.340511509116,10.30885427493962 L 78.88534549348918,9.546135972527722 L 79.1897196796883,9.216543687370148 L 78.2779407083305,8.933046779816934 L 77.94116539908435,8.252959092639742 L 77.53989790233794,7.965534776232332 L 76.59297895702167,8.89927623131419 L 76.13006147655108,10.299630031775521 L 75.7464673196485,11.308250637248307 L 75.39610110870959,11.781245022015824 L 74.86481570831683,12.741935736537897 L 74.61671715688354,13.99258291264968 L 74.44385949086723,14.617221787977698 L 73.5341992532334,15.99065216721496 L 73.11990929554943,17.928570054592498 L 72.82090945830865,19.208233547436166 L 72.8244751321368,20.419503282141534 L 72.6305334817454,21.356009426351008 L 71.17527347197395,20.757441311114235 L 70.4704586119451,20.877330634031384 L 69.16413008003883,22.0892980005727 L 69.6449276060824,22.450774644454338 L 69.34959679553435,22.84317963306269 L 68.1766451353734,23.69196503345671 L 67.44366661974547,23.94484365487699 L 67.14544192898907,24.663611151624647 L 66.37282758979327,25.42514089609385 L 64.53040774929113,25.23703868255143 L 62.90570071803461,25.21840932871021 L 61.49736290878419,25.0782370061185 L 59.616134067630846,25.380156561783778 L 58.525761346272304,25.60996165618573 L 57.39725141788239,25.73990204518364 L 56.970765822177555,26.966106268821363 L 56.492138706290206,27.143304755150197 L 55.723710158110066,26.964633490501043 L 54.71508955263727,26.480657863871514 L 53.49309695823135,26.81236888275305 L 52.48359785340961,27.580849107365495 L 51.52076256694742,27.865689602158298 L 50.85294803243954,28.814520575469388 L 50.115008579311585,30.147772528599717 L 49.576850213423995,29.985715236932407 L 48.94133344909855,30.317090359004037 L 48.567971225789755,29.926778265903522 L 47.974519077349896,29.975819200148504 L 48.18318851094449,29.534476630159762 L 48.09394331237642,29.306299343375002 L 48.416094191283946,28.55200429942667 L 48.80759484232718,27.689627997339883 L 49.29955447774583,27.46121816660981 L 49.47091352722566,27.109999294538085 L 50.15242231629088,26.689663194275997 L 50.212935418504685,26.277026882425375 L 50.11330325704594,25.94397227630425 L 50.239858839728754,25.608049628190926 L 50.527386509000735,25.327808335872103 L 50.66055667501689,24.999895534764022 L 50.81010827006958,24.754742539971378 L 50.74391076030369,25.482424221289396 L 51.013351678273494,26.006991685484195 L 51.28646162293606,26.11458201751587 L 51.58907881043726,25.80111277923338 L 51.60670047384881,25.21567047779874 L 51.38960778179063,24.62738597258806 L 51.57951867046327,24.245497137951105 L 51.757440626844186,24.29407298430547 L 51.79438927593287,24.019826158132506 L 52.57708051942561,24.177439276622707 L 53.404006788960146,24.15131684009917 L 54.00800092958758,24.121757920828216 L 54.69302371604863,24.79789236093509 L 55.43902469261414,25.43914520924494 L 56.07082075381456,26.05546417897398 L 56.36201744977927,26.39593435312898 L 56.48567915225374,26.309117946878633 L 56.39142133975335,25.895990708921246 L 56.261041701080956,25.71460643157677 L 56.396847365144005,24.924732163995486 L 56.845140415276006,24.241673081961505 L 57.4034525897574,23.878594468678813 L 58.13694786970825,23.74793060962881 L 58.72921146020542,23.56566783293536 L 59.18050174341033,22.992395331305474 L 59.45009769067703,22.6602709009656 L 59.80806033716286,22.533611965418217 L 59.806148309168066,22.310524807214193 L 59.442191196536385,21.714540513592027 L 59.28240766788991,21.43388580981485 L 58.86114139184656,21.114034532144302 L 58.48798587426694,20.428985907467094 L 58.034318475176605,20.481437486243337 L 57.826372511634105,20.24300242764863 L 57.665762160070955,19.73600495043307 L 57.788700392493325,19.067570298737678 L 57.694390903560645,18.94470958096376 L 57.234263950433814,18.947991034414287 L 56.60965091332193,18.574267076079465 L 56.51218916201947,18.087113348863966 L 56.28352094912793,17.876066799383963 L 55.66149173363064,17.884128322821496 L 55.26993940615512,17.632309068263197 L 55.27490034365513,17.22835439703762 L 54.79100223167404,16.95069692633338 L 54.23925296409371,17.044980577049913 L 53.570508253804576,16.707662665264706 L 53.10857262554751,16.651051133688952 L 52.38520592632588,16.382411200419654 L 52.19172936382509,15.93843313238402 L 52.1681649107,15.597420355689948 L 51.172515089732485,15.175249742081492 L 49.57457645040315,14.708766587782748 L 48.67923058451416,14.00320241948566 L 48.23894738138742,13.948089504446372 L 47.938914015500785,14.007233181204427 L 47.354453566279716,13.592219753468383 L 46.717076450391744,13.39969920496502 L 45.87759280781027,13.347764390511685 L 45.62505008319988,13.290946153206763 L 45.406458774605255,13.026905422411433 L 45.14435591002086,12.95393830001531 L 44.989533318874415,12.69958690027471 L 44.49457645038285,12.721652736863348 L 44.17511274595449,12.585950425664876 L 43.48295861183713,12.636800035040084 L 43.22287112811213,13.220950425667425 L 43.25144819516953,13.767583726450852 L 43.08794396339806,14.06263031662131 L 42.892245314308724,14.802249253798749 L 42.60487267433362,15.213335272680595 L 42.80501549660005,15.261962795467255 L 42.70243777850066,15.718885809791999 L 42.823670688657415,15.911742255105267 L 42.77933230975097,16.347891343648683 L 42.649572788266084,16.774635321514964 L 42.34798912941071,17.075805568912003 L 42.270887892431226,17.474721787989125 L 41.75438195167396,17.833046169500975 L 41.22139122901558,18.67159963630121 L 40.93934126156654,19.486485297111756 L 40.247652215339826,20.17463450772649 L 39.80168460466095,20.338862209550058 L 39.139399448408284,21.291904812092934 L 39.023695916506796,21.986875311770195 L 39.06632897314759,22.57965566659027 L 38.49277225114008,23.688451036060854 L 38.02386030452362,24.078685614512935 L 37.483634881344386,24.285494696545015 L 37.154817742671185,24.85848297779731 L 37.209491408036,25.084541530858107 L 36.93162723160259,25.60295949961018 L 36.639603712721225,25.826227525327223 L 36.249136590323815,26.57013560638488 L 35.64018151219639,27.376520494083422 L 35.13018680190788,28.06335195567472 L 34.63233605320798,28.058546047471566 L 34.787778761541944,28.6074272730597 L 34.832220493312946,28.957483425404845 L 34.95603722508426,29.356554673778845 L 34.92260257339143,29.501326198844524 L 34.823243288783814,29.76108076171822 L 34.9226,29.50133 L 34.64174,29.099420000000002 L 34.42655,28.343989999999998 L 34.15451,27.8233 L 33.92136,27.6487 L 33.58811,27.97136 L 33.13676,28.417650000000002 L 32.423230000000004,29.851080000000003 L 32.32046,29.76043 L 32.73482,28.70523 L 33.34876,27.69989 L 34.10455,26.14227 L 34.473870000000005,25.598560000000003 L 34.79507,25.03375 L 35.69241,23.92671 L 35.49372,23.752370000000003 L 35.52598,23.10244 L 36.690690000000004,22.20485 L 36.86622999999997,22.0 L 37.1887200000001,21.018850000000043 L 36.969409999999925,20.83744000000013 L 37.11470000000014,19.807960000000094 L 37.4817900000001,18.61409000000009 L 37.862760000000094,18.36785999999995 L 38.410089959473225,17.998307399970315 L 38.990622999840014,16.840626125551694 L 39.26611006038803,15.92272349696725 L 39.814293654140215,15.435647284400318 L 41.17927493669765,14.491079616753211 L 41.73495161313235,13.921036892141558 L 42.27683068214486,13.343992010954423 L 42.58957645037526,13.000421250861905 L 43.08122602720016,12.699638576707116 L 43.31785241066467,12.390148423711025 L 43.286381463398925,11.974928290245884 L 42.715873650896526,11.735640570518342 L 43.14530480324214,11.462039699748857 L 43.470659620951665,11.277709865763882 L 43.66666832863484,10.86416921634816 L 44.11780358254282,10.445538438351605 L 44.614259067570856,10.442205308468942 L 45.55694054543915,10.698029486529776 L 46.645401238803004,10.816549383991173 L 47.525657586462785,11.12722809492999 L 48.02159630716778,11.193063869669743 L 48.37878380716927,11.375481675660126 L 48.94820641459347,11.41062164961852 L 48.94820475850985,11.41061728169797 L 49.26776,11.43033 L 49.72862,11.5789 L 50.25878000000001,11.67957 L 50.73202,12.021900000000002 L 51.1112,12.024640000000002 L 51.13387,11.74815 L 51.04153,11.16651 L 51.04531,10.6409 L 50.834179999999996,10.279720000000001 L 50.55239,9.19874 L 50.07092,8.08173 L 49.45270000000001,6.80466 L 48.594550000000005,5.339110000000001 L 47.740790000000004,4.2194 L 46.56476,2.85529 L 45.563990000000004,2.04576 L 44.068149999999996,1.0528300000000002 L 43.13597,0.2922 L 42.04157000000001,-0.9191600000000001 L 41.81095,-1.4464700000000001 L 41.58513,-1.6832500000000001 L 40.88477,-2.08255 L 40.63785000000001,-2.49979 L 40.26304000000001,-2.57309 L 40.12119,-3.27768 L 39.80006,-3.68116 L 39.604890000000005,-4.3465300000000004 L 39.20222,-4.67677 L 38.74053999999995,-5.9089499999999475 L 38.79977000000008,-6.475660000000005 L 39.44,-6.839999999999861 L 39.47000000000014,-7.099999999999966 L 39.19468999999998,-7.703899999999976 L 39.25203000000005,-8.00780999999995 L 39.18652000000009,-8.48550999999992 L 39.53574000000009,-9.112369999999885 L 39.94960000000003,-10.098400000000026 L 40.316586229110854,-10.317097752817492 L 40.31658857601719,-10.317096042525698 L 40.47838748552303,-10.765440769089993 L 40.437253045418686,-11.761710707245015 L 40.56081139502857,-12.639176527561027 L 40.59962039567975,-14.201975192931862 L 40.775475294768995,-14.691764418194241 L 40.4772506040126,-15.406294447493972 L 40.08926395036522,-16.10077402106446 L 39.45255862809705,-16.72089120856694 L 38.53835086442152,-17.101023044505958 L 37.41113284683888,-17.586368096591237 L 36.28127933120936,-18.65968759529345 L 35.89649661636406,-18.842260430580637 L 35.198399692533144,-19.552811374593894 L 34.78638349787005,-19.784011732667736 L 34.70189253107284,-20.49704314543101 L 35.176127150215365,-21.25436126066841 L 35.37342776870574,-21.840837090748877 L 35.385848253705404,-22.14 L 35.562545536369086,-22.090000000000003 L 35.533934767404304,-23.070787855727758 L 35.37177412287238,-23.5353589820317 L 35.60747033055563,-23.706563002214683 L 35.45874555841962,-24.12260995859655 L 35.04073489761066,-24.478350518493805 L 34.21582400893547,-24.81631438568266 L 33.01321007663901,-25.357573337507738 L 32.574632195777866,-25.727318210556092 L 32.66036339695009,-26.148584486599447 L 32.91595503106569,-26.215867201443466 L 32.830120477028885,-26.742191664336197 z M 48.88324913920249,38.32024526626262 L 49.19961225769334,37.582874253889884 L 50.14777143738462,37.37456655532134 L 50.84235436381971,36.8728142359834 L 52.264024692601424,36.7004216578577 L 53.82578982932642,36.965030829408235 L 53.92159793479556,37.19891836196126 L 53.73551110211252,37.90613617609169 L 53.880928582581845,38.95209300389536 L 53.1010278664329,39.29057363540713 L 53.35780805849123,39.97528636327445 L 52.69397260926982,40.03362905533197 L 52.915251092343624,40.87652334244473 L 53.858139275941134,40.63103445084218 L 54.73684533063215,40.95101491959346 L 54.008310988181314,41.55121084244742 L 53.72171349469059,42.12319143327003 L 52.916749708880076,41.86811656347733 L 52.81468875510362,41.13537059179471 L 52.50245975119615,41.78331553808637 L 52.44633914572722,42.027150783855575 L 52.692112257707265,42.44389537207337 L 52.50142622255032,42.7922978785852 L 51.342427199108215,43.132974758469345 L 50.89129194520024,44.03103363705378 L 50.339129266161365,44.284015611338475 L 50.30564293803627,44.609835516938915 L 51.278503452363225,44.51485423438646 L 51.31689904155604,45.2459982366679 L 52.16738976421573,45.40839142514511 L 53.0408764992452,45.25904653582177 L 53.220865512917726,46.234645901059935 L 53.042736850807785,46.85300608986449 L 52.04202273947561,46.80463694923924 L 51.191945428274266,47.048704738953916 L 50.03408328634248,46.60898997658222 L 49.10116000000011,46.399330000000134 L 48.64541000000008,45.806290000000104 L 47.67590999999999,45.64149000000015 L 46.68201000000005,44.6092000000001 L 47.59093999999999,43.660160000000076 L 47.49252000000007,42.98658000000012 L 48.58437000000015,41.808880000000045 L 48.58435339611342,41.80886879162067 L 49.110263706260696,41.28228668880051 L 49.6189148293096,40.57292430272996 L 50.08482954285313,40.52615713150581 L 50.39282107931268,40.25656118423912 L 49.569202101444795,40.176100979160665 L 49.395259230350376,39.39948171646225 L 49.22322838725071,39.04921885838793 L 48.85653242370759,38.81548635513178 L 48.88324913920249,38.32024526626262 z\" /><path fill-rule=\"evenodd\" fill=\"#66cc99\" stroke=\"#555555\" stroke-width=\"2.5920000000000005\" opacity=\"0.6\" d=\"M 178.12557,-17.50481 L 178.3736,-17.33992 L 178.71806,-17.62846 L 178.55271,-18.15059 L 177.93266000000003,-18.28799 L 177.38146,-18.16432 L 177.28504,-17.72465 L 177.67087,-17.381140000000002 L 178.12557,-17.50481 z\" /><path fill-rule=\"evenodd\" fill=\"#66cc99\" stroke=\"#555555\" stroke-width=\"2.5920000000000005\" opacity=\"0.6\" d=\"M 180.0,-16.067132663642447 L 180.0,-16.555216566639196 L 179.36414266196414,-16.801354076946883 L 178.72505936299711,-17.01204167436804 L 178.59683859511713,-16.639150000000004 L 179.0966093629971,-16.433984277547403 L 179.4135093629971,-16.379054277547404 L 180.0,-16.067132663642447 z\" /><path fill-rule=\"evenodd\" fill=\"#66cc99\" stroke=\"#555555\" stroke-width=\"2.5920000000000005\" opacity=\"0.6\" d=\"M 165.77998986232637,-21.08000497811563 L 166.59999148993384,-21.700018812753527 L 167.1200114280869,-22.15999073658349 L 166.7400346214448,-22.39997608814695 L 166.18973229396866,-22.129708347260454 L 165.47437544175222,-21.679606621998232 L 164.82981530177568,-21.14981983814195 L 164.16799523341365,-20.444746595951628 L 164.029605747736,-20.105645847252354 L 164.45996707586272,-20.1200118954295 L 165.02003624904205,-20.45999114347773 L 165.46000939357512,-20.80002206795826 L 165.77998986232637,-21.08000497811563 z\" /><path fill-rule=\"evenodd\" fill=\"#66cc99\" stroke=\"#555555\" stroke-width=\"2.5920000000000005\" opacity=\"0.6\" d=\"M 49.54351891459575,-12.469832858940554 L 49.808980747279094,-12.895284925999555 L 50.056510857957164,-13.555761407121985 L 50.21743126811407,-14.758788750876796 L 50.47653689962553,-15.226512139550543 L 50.377111443895956,-15.706069431219127 L 50.20027469259318,-16.000263360256767 L 49.86060550313868,-15.414252618066918 L 49.67260664246086,-15.710203545802479 L 49.863344354050156,-16.451036879138776 L 49.77456424337271,-16.8750420060936 L 49.49861209493412,-17.106035658438273 L 49.435618523970305,-17.953064060134366 L 49.041792433473944,-19.118781019774445 L 48.54854088724801,-20.496888116134127 L 47.93074913919867,-22.391501153251085 L 47.54772342305131,-23.781958916928517 L 47.095761346226595,-24.941629733990453 L 46.282477654817086,-25.178462823184105 L 45.40950768411045,-25.60143442149309 L 44.833573846217554,-25.34610116953894 L 44.03972049334976,-24.988345228782308 L 43.76376834491117,-24.46067717864999 L 43.697777540874455,-23.574116306250602 L 43.345654331237625,-22.776903985283873 L 43.254187046081,-22.057413018484123 L 43.43329756040464,-21.33647511158019 L 43.893682895692926,-21.16330738697013 L 43.896370070172104,-20.830459486578174 L 44.37432539243966,-20.07236622485639 L 44.46439741392439,-19.435454196859048 L 44.23242190936617,-18.961994724200906 L 44.042976108584156,-18.33138722094317 L 43.96308434426091,-17.409944756746782 L 44.31246870298628,-16.850495700754955 L 44.4465173683514,-16.216219170804507 L 44.94493655780653,-16.1793738745804 L 45.50273196796499,-15.97437346767854 L 45.87299360533626,-15.793454278224687 L 46.31224327981721,-15.780018405828798 L 46.882182651564285,-15.210182386946315 L 47.70512983581236,-14.594302666891764 L 48.005214878131255,-14.091232598530375 L 47.869047479042166,-13.663868503476586 L 48.29382775248138,-13.784067884987486 L 48.84506025573879,-13.089174899958664 L 48.86350874206698,-12.48786793381042 L 49.194651320193316,-12.04055673589197 L 49.54351891459575,-12.469832858940554 z\" /><path fill-rule=\"evenodd\" fill=\"#66cc99\" stroke=\"#555555\" stroke-width=\"2.5920000000000005\" opacity=\"0.6\" d=\"M -179.79332010904864,-16.020882256741224 L -179.9173693847653,-16.501783135649397 L -180.0,-16.555216566639196 L -180.0,-16.067132663642447 L -179.79332010904864,-16.020882256741224 z\" /><path fill-rule=\"evenodd\" fill=\"#66cc99\" stroke=\"#555555\" stroke-width=\"2.5920000000000005\" opacity=\"0.6\" d=\"M 166.79315799384085,-15.668810723536687 L 166.6498592470955,-15.392703545801211 L 166.6291369977464,-14.626497084209605 L 167.10771243720149,-14.933920179913954 L 167.27002811103023,-15.740020847234888 L 167.00120731024793,-15.614602146062516 L 166.79315799384085,-15.668810723536687 z\" /><path fill-rule=\"evenodd\" fill=\"#66cc99\" stroke=\"#555555\" stroke-width=\"2.5920000000000005\" opacity=\"0.6\" d=\"M 167.2168013857696,-15.89184620530842 L 167.84487674384502,-16.46633310309717 L 167.51518110582288,-16.59784962327999 L 167.1800077659778,-16.159995212470946 L 167.2168013857696,-15.89184620530842 z\" /><path fill-rule=\"evenodd\" fill=\"#66cc99\" stroke=\"#555555\" stroke-width=\"2.5920000000000005\" opacity=\"0.6\" d=\"M 162.1190246930409,-10.48271900802115 L 162.3986458681722,-10.826367282762106 L 161.70003218001835,-10.820011081590211 L 161.31979699121476,-10.204751478723168 L 161.91738325423802,-10.446700534713713 L 162.1190246930409,-10.48271900802115 z\" /><path fill-rule=\"evenodd\" fill=\"#66cc99\" stroke=\"#555555\" stroke-width=\"2.5920000000000005\" opacity=\"0.6\" d=\"M 160.85222863183787,-9.872937106977048 L 160.4625883323572,-9.895209649294841 L 159.84944746321412,-9.794027194867354 L 159.64000288313514,-9.639979750205278 L 159.70294477766663,-9.242949720906815 L 160.36295617089843,-9.40030445723557 L 160.68851769433724,-9.610162448772869 L 160.85222863183787,-9.872937106977048 z\" /><path fill-rule=\"evenodd\" fill=\"#66cc99\" stroke=\"#555555\" stroke-width=\"2.5920000000000005\" opacity=\"0.6\" d=\"M 120.29501427620689,-10.258649997603591 L 118.96780846565471,-9.557969252158074 L 119.90030968636157,-9.361340427287502 L 120.42575564990534,-9.665921319215798 L 120.77550174365675,-9.96967538822743 L 120.71560875863045,-10.239581394087885 L 120.29501427620689,-10.258649997603591 z\" /><path fill-rule=\"evenodd\" fill=\"#66cc99\" stroke=\"#555555\" stroke-width=\"2.5920000000000005\" opacity=\"0.6\" d=\"M 125.08852013560109,-9.393173109579294 L 124.43595014861933,-10.140000909061449 L 123.57998172413669,-10.359987481327956 L 123.459989048355,-10.239994805546223 L 123.55000939340744,-9.900015557497987 L 123.9800089865081,-9.290026950724716 L 124.96868248911623,-8.892790215697083 L 125.08624637258026,-8.65688730228468 L 125.94707238169826,-8.432094821815035 L 126.64470421763855,-8.398246758663852 L 126.95724328013983,-8.273344821814398 L 127.33592817597463,-8.397316582882603 L 126.96799197805655,-8.668256117388893 L 125.9258850444586,-9.106007175333353 L 125.08852013560109,-9.393173109579294 z\" /><path fill-rule=\"evenodd\" fill=\"#66cc99\" stroke=\"#555555\" stroke-width=\"2.5920000000000005\" opacity=\"0.6\" d=\"M 161.67998172428912,-9.599982191611367 L 161.5293966005906,-9.784312025596485 L 160.78825320866054,-8.917543226764892 L 160.57999718652434,-8.32000864017396 L 160.92002811100485,-8.32000864017396 L 161.28000613835,-9.120011488484451 L 161.67998172428912,-9.599982191611367 z\" /><path fill-rule=\"evenodd\" fill=\"#66cc99\" stroke=\"#555555\" stroke-width=\"2.5920000000000005\" opacity=\"0.6\" d=\"M 118.26061648974044,-8.362383314653293 L 118.87845991422208,-8.280682875199844 L 119.12650678922307,-8.705824883665088 L 117.97040164598928,-8.906639499551304 L 117.27773074754901,-9.040894870645594 L 116.74014082241665,-9.032936700072646 L 117.0837374207253,-8.45715789147659 L 117.6320243673421,-8.449303073768228 L 117.90001834520776,-8.09568124759494 L 118.26061648974044,-8.362383314653293 z\" /><path fill-rule=\"evenodd\" fill=\"#66cc99\" stroke=\"#555555\" stroke-width=\"2.5920000000000005\" opacity=\"0.6\" d=\"M 121.34166873584651,-8.536739597206072 L 122.00736453663043,-8.460620212440148 L 122.90353722543607,-8.094234307490765 L 122.75698286345632,-8.649807631060696 L 121.2544905945701,-8.933666273639957 L 119.92439090380958,-8.81041798262384 L 119.92092858284605,-8.444858900591122 L 120.71509199430757,-8.236964613480914 L 121.34166873584651,-8.536739597206072 z\" /><path fill-rule=\"evenodd\" fill=\"#66cc99\" stroke=\"#555555\" stroke-width=\"2.5920000000000005\" opacity=\"0.6\" d=\"M 159.64000288313514,-8.020026950719632 L 159.87502729719859,-8.337320244991737 L 159.91740197167792,-8.53828989017483 L 159.13367719953936,-8.114181410355428 L 158.5861137229747,-7.7548235001977375 L 158.21114953026483,-7.421872246941199 L 158.35997765526542,-7.320017998893917 L 158.8200012555277,-7.560003350457379 L 159.64000288313514,-8.020026950719632 z\" /><path fill-rule=\"evenodd\" fill=\"#66cc99\" stroke=\"#555555\" stroke-width=\"2.5920000000000005\" opacity=\"0.6\" d=\"M 108.48684614464926,-6.42198495852574 L 108.62347863162896,-6.777673841990705 L 110.53922732955328,-6.877357679881726 L 110.75957563684585,-6.465186455921747 L 112.6148112325564,-6.946035658397626 L 112.97876834518806,-7.594213148634594 L 114.47893517462114,-7.7765276017603275 L 115.70552697150106,-8.370806573116873 L 114.56451134649649,-8.751816908404855 L 113.46473351446085,-8.348947442257405 L 112.55967247930097,-8.376180922075221 L 111.52206139531245,-8.302128594600973 L 110.58614953007432,-8.122604668819001 L 109.42766727095511,-7.740664157749762 L 108.69365522668133,-7.641600437046243 L 108.27776329959633,-7.766657403192576 L 106.45410200401612,-7.354899590690934 L 106.28062422081231,-6.924899997590252 L 105.36548628135552,-6.851416110871206 L 106.05164594932702,-5.895918877794472 L 107.2650085795402,-5.954985039904081 L 108.07209109907467,-6.3457622208952245 L 108.48684614464926,-6.42198495852574 z\" /><path fill-rule=\"evenodd\" fill=\"#66cc99\" stroke=\"#555555\" stroke-width=\"2.5920000000000005\" opacity=\"0.6\" d=\"M 157.14000044171888,-7.021638278840641 L 157.5384257346892,-7.347819919466943 L 157.33941979393325,-7.404767347852592 L 156.90203047101483,-7.1768742814454285 L 156.4913578635913,-6.765943291860452 L 156.542827590154,-6.599338474151452 L 157.14000044171888,-7.021638278840641 z\" /><path fill-rule=\"evenodd\" fill=\"#66cc99\" stroke=\"#555555\" stroke-width=\"2.5920000000000005\" opacity=\"0.6\" d=\"M 141.00021040259185,-2.60015105551566 L 142.73524661679147,-3.28915292726321 L 144.58397098203324,-3.861417738463416 L 145.27317955950997,-4.373737888205049 L 145.8297864117257,-4.876497897972683 L 145.981921828393,-5.465609226100043 L 147.64807335834757,-6.0836593563108465 L 147.89110761941623,-6.614014580922343 L 146.97090538959486,-6.721656589386313 L 147.19187381407494,-7.388024183790023 L 148.08463585834932,-8.044108168167647 L 148.73410525939357,-9.104663588093764 L 149.30683515848443,-9.07143564213009 L 149.26663089416132,-9.514406019736029 L 150.03872846903425,-9.684318129111709 L 149.7387984560122,-9.872937106977048 L 150.80162763895913,-10.293686618697478 L 150.6905749859639,-10.582712904505925 L 150.02839318257583,-10.652476088099952 L 149.78231001200197,-10.393267103723923 L 148.92313764871727,-10.280922539921384 L 147.913018426708,-10.13044076908745 L 147.13544315001218,-9.492443536011983 L 146.56788089415056,-8.942554619994155 L 146.04848107318492,-8.067414239131281 L 144.74416792213805,-7.630128269077446 L 143.89708784400966,-7.915330498896296 L 143.28637576718432,-8.24549122480908 L 143.41391320208066,-8.983068942910982 L 142.62843143124417,-9.326820570516524 L 142.06825890520025,-9.159595635620022 L 141.03385176001382,-9.117892754760483 L 140.14341515519254,-8.29716765710095 L 139.1277665549281,-8.096042982620979 L 138.881476678625,-8.380935153846075 L 137.61447391169287,-8.41168263105974 L 138.03909915583517,-7.597882175327321 L 138.66862145401478,-7.320224704623087 L 138.4079138531023,-6.232849216337485 L 137.92783979711078,-5.393365573756 L 135.98925011611345,-4.54654387778907 L 135.16459760959975,-4.462931410340822 L 133.66288048719787,-3.538853448097541 L 133.36770470594672,-4.024818617370315 L 132.98395551974727,-4.112978610860253 L 132.75694095268904,-3.7462826473171233 L 132.75378869031925,-3.3117872046070502 L 131.98980431531618,-2.820551039240499 L 133.0668445171434,-2.460417982598436 L 133.78003095920354,-2.4798483211401816 L 133.69621178602614,-2.214541517753702 L 132.23237348849426,-2.2125261368943185 L 131.83622195854474,-1.6171619604596472 L 130.94283979708285,-1.4325220678807826 L 130.5195581401801,-0.9377202286860893 L 131.8675378765136,-0.6954611141017892 L 132.3801164084167,-0.36953785563694913 L 133.98554813042836,-0.7802104630604559 L 134.14336795464772,-1.151867364103623 L 134.42262739475302,-2.769184665542376 L 135.45760298069467,-3.367752780779149 L 136.29331424371884,-2.307042331556154 L 137.44073774632756,-1.7035132788193648 L 138.3297274110447,-1.7026864559026933 L 139.18492068904288,-2.0512956681436734 L 139.92668419816044,-2.409051608900313 L 141.00021040259185,-2.60015105551566 z\" /><path fill-rule=\"evenodd\" fill=\"#66cc99\" stroke=\"#555555\" stroke-width=\"2.5920000000000005\" opacity=\"0.6\" d=\"M 134.21013390516885,-6.89523772545472 L 134.11277550673094,-6.142467136259 L 134.29033572808584,-5.783057549669017 L 134.49962527886788,-5.445042006047871 L 134.72700158095216,-5.737582289252167 L 134.7246244650667,-6.214400730009288 L 134.21013390516885,-6.89523772545472 z\" /><path fill-rule=\"evenodd\" fill=\"#66cc99\" stroke=\"#555555\" stroke-width=\"2.5920000000000005\" opacity=\"0.6\" d=\"M 154.75999067608439,-5.339983819198495 L 155.06291792217934,-5.56679168052753 L 155.5477462099417,-6.200654799019645 L 156.0199654482248,-6.540013929880381 L 155.8800256695784,-6.819996840037753 L 155.59999108298877,-6.9199907365225215 L 155.16699425681514,-6.535931491729322 L 154.72919152243838,-5.900828138862195 L 154.51411421123964,-5.139117526879986 L 154.65250369691728,-5.04243092206189 L 154.75999067608439,-5.339983819198495 z\" /><path fill-rule=\"evenodd\" fill=\"#66cc99\" stroke=\"#555555\" stroke-width=\"2.5920000000000005\" opacity=\"0.6\" d=\"M 151.30139041565388,-5.840728448106752 L 150.75444705627666,-6.083762709175431 L 150.2411967307538,-6.317753594593028 L 149.70996300679332,-6.316513360218025 L 148.89006473205046,-6.026040134305404 L 148.31893680236067,-5.747142429226166 L 148.40182579975686,-5.437755629094717 L 149.29841190002082,-5.58374155031926 L 149.84556196512722,-5.505503431829368 L 149.99625044169028,-5.026101169457654 L 150.13975589416486,-5.0013481583898525 L 150.23690758687354,-5.532220147324267 L 150.80746707580812,-5.455842380396874 L 151.08967207255404,-5.113692722192383 L 151.6478808941709,-4.757073662946162 L 151.53786176982146,-4.167807305521933 L 152.1367916200843,-4.14879037843852 L 152.33874311748093,-4.312966403829805 L 152.3186926617517,-4.867661228050771 L 151.98279585185452,-5.478063246282382 L 151.45910688700866,-5.560280450058754 L 151.30139041565388,-5.840728448106752 z\" /><path fill-rule=\"evenodd\" fill=\"#66cc99\" stroke=\"#555555\" stroke-width=\"2.5920000000000005\" opacity=\"0.6\" d=\"M 152.64001671774253,-3.659983005389691 L 153.0199935243847,-3.9800151505732653 L 153.14003787659874,-4.4999834122940925 L 152.82729210836828,-4.7664270971909914 L 152.63867313050298,-4.176127211120921 L 152.40602583232493,-3.7897425268745835 L 151.95323693258354,-3.4620622697118155 L 151.38427941305002,-3.0354216447101123 L 150.66204959533883,-2.741486097833935 L 150.93996544820448,-2.500002129734007 L 151.47998416565457,-2.779985039891379 L 151.8200150901351,-2.9999716121578857 L 152.23998945537113,-3.24000864015364 L 152.64001671774253,-3.659983005389691 z\" /><path fill-rule=\"evenodd\" fill=\"#66cc99\" stroke=\"#555555\" stroke-width=\"2.5920000000000005\" opacity=\"0.6\" d=\"M 129.37099775606094,-2.8021542293445947 L 130.47134402885177,-3.093764336767634 L 130.83483605359282,-3.8584721818227763 L 129.99054650280817,-3.446300957862796 L 129.15524865124235,-3.3626368139822485 L 128.59068362845363,-3.428679294451264 L 127.89889122936235,-3.393435967628207 L 128.13587934785284,-2.843650404474971 L 129.37099775606094,-2.8021542293445947 z\" /><path fill-rule=\"evenodd\" fill=\"#66cc99\" stroke=\"#555555\" stroke-width=\"2.5920000000000005\" opacity=\"0.6\" d=\"M 127.93237755748748,2.1745962589565693 L 128.00415612194087,1.6285313989283452 L 128.5945593608755,1.5408106551128782 L 128.6882487326207,1.1323859724940633 L 128.63595218314134,0.2584858260061935 L 128.1201697124361,0.3564126651992865 L 127.96803429576886,-0.25207732503751856 L 128.3799988139997,-0.7800037573313005 L 128.1000159038423,-0.8999964331130315 L 127.69647464407507,-0.26659840251153355 L 127.39949018769369,1.011721503092545 L 127.60051150930906,1.810690822757195 L 127.93237755748748,2.1745962589565693 z\" /><path fill-rule=\"evenodd\" fill=\"#66cc99\" stroke=\"#555555\" stroke-width=\"2.5920000000000005\" opacity=\"0.6\" d=\"M 122.5860889018671,9.981044826696134 L 122.83708133350875,10.261156927934225 L 122.9474105164519,10.88186839440806 L 123.49884972543845,10.94062449792392 L 123.33777428598472,10.267383938025404 L 124.0779358257012,11.232725531453738 L 123.98243777882584,10.278778591345755 L 123.62318322153271,9.950090643753299 L 123.30992068897939,9.318268744336706 L 122.99588300994166,9.022188625520414 L 122.38005496631942,9.713360907424217 L 122.5860889018671,9.981044826696134 z\" /><path fill-rule=\"evenodd\" fill=\"#66cc99\" stroke=\"#555555\" stroke-width=\"2.5920000000000005\" opacity=\"0.6\" d=\"M 122.03837039600555,11.415840969279998 L 121.88354780485909,11.891755072471994 L 122.48382124236149,11.582187404827538 L 123.12021650603594,11.583660183147856 L 123.10083784392646,11.16593374271649 L 122.63771365772669,10.74130849857417 L 122.00261030485957,10.441016750526089 L 121.96736697803652,10.905691229694625 L 122.03837039600555,11.415840969279998 z\" /><path fill-rule=\"evenodd\" fill=\"#66cc99\" stroke=\"#555555\" stroke-width=\"2.5920000000000005\" opacity=\"0.6\" d=\"M 125.50255171112354,12.162694606978292 L 125.78346479706221,11.046121934447783 L 125.01188398651226,11.311454576050409 L 125.03276126515817,10.975816148314692 L 125.27744917206019,10.358722032101284 L 124.80181928924577,10.134678859899864 L 124.76016808481853,10.837995103392258 L 124.45910119028605,10.889929917845592 L 124.30252160044171,11.495370998577187 L 124.89101281138153,11.415582587118536 L 124.87799035044401,11.794189968304947 L 124.26676150929569,12.557760931849671 L 125.22711632700788,12.53572093347718 L 125.50255171112354,12.162694606978292 z\" /><path fill-rule=\"evenodd\" fill=\"#66cc99\" stroke=\"#555555\" stroke-width=\"2.5920000000000005\" opacity=\"0.6\" d=\"M 118.50458092659036,9.316382554558047 L 117.17427453010066,8.367499904814679 L 117.66447716682137,9.066888739452892 L 118.38691369026175,9.68449961998921 L 118.98734215706105,10.376292019080523 L 119.51149620979751,11.3696680770272 L 119.68967654833989,10.554291490109875 L 119.02945844937892,10.003653265823829 L 118.50458092659036,9.316382554558047 z\" /><path fill-rule=\"evenodd\" fill=\"#66cc99\" stroke=\"#555555\" stroke-width=\"2.5920000000000005\" opacity=\"0.6\" d=\"M -61.68000000000001,10.760000000000002 L -61.105000000000004,10.89 L -60.895,10.855 L -60.935,10.11 L -61.77000000000001,10.0 L -61.95,10.09 L -61.660000000000004,10.365000000000002 L -61.68000000000001,10.760000000000002 z\" /><path fill-rule=\"evenodd\" fill=\"#66cc99\" stroke=\"#555555\" stroke-width=\"2.5920000000000005\" opacity=\"0.6\" d=\"M 126.87492272349886,-3.7909827612495874 L 126.18380211802736,-3.607376397316564 L 125.98903364471926,-3.177273451351305 L 127.00065148326497,-3.129317722184446 L 127.24921512258891,-3.45906503663889 L 126.87492272349886,-3.7909827612495874 z\" /><path fill-rule=\"evenodd\" fill=\"#66cc99\" stroke=\"#555555\" stroke-width=\"2.5920000000000005\" opacity=\"0.6\" d=\"M 122.9275667664518,0.8751923689774088 L 124.07752241424288,0.9171019555661245 L 125.0659892111218,1.6432591821315297 L 125.2405005229715,1.4198361271176054 L 124.4370353536974,0.4278811710589565 L 123.6855049988767,0.235593166500891 L 122.72308312387287,0.4311367862933366 L 121.05672488818911,0.3812173526993945 L 120.18308312386272,0.2372468123342344 L 120.04086958219548,-0.5196578914448367 L 120.93590538949073,-1.408905938323393 L 121.4758207540762,-0.9559620092851304 L 123.34056481332846,-0.6156727026431383 L 123.25839928598441,-1.0762130672283092 L 122.82271528533161,-0.9309506160558526 L 122.38852990121529,-1.516858005381117 L 121.50827355355551,-1.904482924002458 L 122.4545723816843,-3.1860584448409237 L 122.2718961935325,-3.5295000138527115 L 123.17096276254655,-4.683693129091701 L 123.1623327983538,-5.340603936385996 L 122.62851525277875,-5.634591159694466 L 122.23639448454801,-5.2829330379482675 L 122.71956912647701,-4.464171644715826 L 121.73823367725436,-4.851331475446543 L 121.48946333220127,-4.574552504091265 L 121.61917117725386,-4.1884778784386825 L 120.89818159391766,-3.602105401222794 L 120.97238895068878,-2.627642917494939 L 120.30545291552986,-2.9316036922357327 L 120.39004723519167,-4.097579034037274 L 120.43071658740537,-5.528241062037793 L 119.79654341031949,-5.673400160345665 L 119.36690555224489,-5.3798780249278195 L 119.65360639860017,-4.459417412944973 L 119.49883548388601,-3.4944117163265322 L 119.07834435432704,-3.487021986508793 L 118.76776899625287,-2.801999200047718 L 119.18097374885869,-2.1471037736128054 L 119.3233939962551,-1.3531470678804638 L 119.82599897672587,0.1542544620734816 L 120.0357019389663,0.5664773624657613 L 120.88577925016762,1.3092227237968501 L 121.66681684782696,1.0139435896810909 L 122.9275667664518,0.8751923689774088 z\" /><path fill-rule=\"evenodd\" fill=\"#66cc99\" stroke=\"#555555\" stroke-width=\"2.5920000000000005\" opacity=\"0.6\" d=\"M 104.36999148968489,-1.0848430314210589 L 104.53949018760221,-1.7823715144967662 L 104.88789269411402,-2.340425306816705 L 105.62211144411697,-2.4288436824680986 L 106.10859337771265,-3.0617766251789647 L 105.85744591677414,-4.305524997579774 L 105.8176550639094,-5.85235564537242 L 104.71038414919144,-5.873284600450632 L 103.86821333213078,-5.037314955264996 L 102.5842606954069,-4.2202588842981825 L 102.156173130301,-3.6141460099468006 L 101.39911339722507,-2.7997771134591645 L 100.90250288290015,-2.050262139497832 L 100.14198082886065,-0.6503475887109857 L 99.26373986206028,0.1831415877246343 L 98.97001102091326,1.042882391764536 L 98.60135135294306,1.8235065779655741 L 97.69959760944985,2.45318390544206 L 97.17694217324984,3.3087905948985963 L 96.42401655475726,3.868859768077925 L 95.3808760925135,4.970782172053688 L 95.29302615761729,5.479820868344788 L 95.93686282754174,5.439513251157123 L 97.4848820332771,5.246320909033955 L 98.36916914265566,4.2683702661263965 L 99.1425586283358,3.590349636240873 L 99.69399783732241,3.174328518075143 L 100.64143354696162,2.099381211755741 L 101.65801232300734,2.0836974145551608 L 102.49827111207323,1.3987004663102311 L 103.07684044801303,0.5613613956688681 L 103.83839603069836,0.10454173420869493 L 103.4376452982749,-0.7119458960029021 L 104.01078860882404,-1.0592115210042863 L 104.36999148968489,-1.0848430314210589 z\" /><path fill-rule=\"evenodd\" fill=\"#66cc99\" stroke=\"#555555\" stroke-width=\"2.5920000000000005\" opacity=\"0.6\" d=\"M 117.88203494677018,4.137551377779516 L 117.3132324565335,3.234428208830593 L 118.0483297058854,2.2876901310273325 L 117.87562706916597,1.8276406925489255 L 118.99674726773816,0.9022191430660627 L 117.8118583517178,0.7842418481437078 L 117.47833865770603,0.10247467691702639 L 117.52164350796664,-0.8037232397532676 L 116.56004845587947,-1.4876608211362097 L 116.5337968282752,-2.483517347832901 L 116.14808393764866,-4.012726332214022 L 116.00085778204911,-3.6570374487490582 L 114.86480309454456,-4.106984144714396 L 114.46865156459506,-3.495703627133828 L 113.75567182826407,-3.4391696102065197 L 113.25699425664752,-3.118775729996905 L 112.06812625534067,-3.4783920223160507 L 111.70329064336005,-2.9944422339026535 L 111.04824018762824,-3.0494259578612106 L 110.223846063276,-2.9340324845534553 L 110.07093550012434,-1.5928740372824635 L 109.571947869914,-1.3149065079844746 L 109.0918738139225,-0.45950652425709393 L 108.9526575053282,0.41537547444431766 L 109.06913618371408,1.3419339054376138 L 109.66326012577375,2.0064669864949565 L 110.3961352885371,1.663774725751395 L 111.16885298059748,1.8506367049188128 L 111.37008100794205,2.6973033715888595 L 111.7969283386729,2.885896511238059 L 112.99561486211522,3.102394924324855 L 113.71293541875868,3.8935094262811556 L 114.20401655482837,4.5258739282368055 L 114.59996137904872,4.900011298029966 L 115.45071048386981,5.447729803891534 L 116.22074100145102,6.1431912296755655 L 116.72510298061971,6.924771429873999 L 117.12962609260047,6.92805288332454 L 117.64339318244627,6.422166449403249 L 117.68907514859231,5.987490139180154 L 118.34769127815224,5.708695786965492 L 119.18190392463997,5.407835598162207 L 119.11069380094176,5.016128241389808 L 118.43972700406408,4.966518866389606 L 118.6183207540648,4.478202419447555 L 117.88203494677018,4.137551377779516 z\" /><path fill-rule=\"evenodd\" fill=\"#66cc99\" stroke=\"#555555\" stroke-width=\"2.5920000000000005\" opacity=\"0.6\" d=\"M 126.37681359263745,8.414706325713297 L 126.47851281138789,7.750354112168978 L 126.53742394420061,7.189380601424545 L 126.19677290253259,6.274294338400054 L 125.83142052622907,7.293715318221842 L 125.36385216685221,6.786485297060949 L 125.68316084198369,6.049656887227272 L 125.39651167206063,5.5810033227722755 L 124.21978763234239,6.161355495626154 L 123.9387195171069,6.885135606306136 L 124.24366214406128,7.360610459823661 L 123.61021243702749,7.83352732994274 L 123.29607140512519,7.418875637232759 L 122.82550581267537,7.457374579290204 L 122.08549930225573,6.899424139834836 L 121.91992801319256,7.192119452336015 L 122.31235884001705,8.034962063016465 L 122.94239790251959,8.316236883981134 L 123.48768761606347,8.69300975182118 L 123.84115441293983,8.240324204944372 L 124.60146976125021,8.514157619659002 L 124.76461225799562,8.960409450715488 L 125.47139082245155,8.986996975129657 L 125.41211795461277,9.760334784377534 L 126.2227144715431,9.286074327018866 L 126.30663699758514,8.78248749433456 L 126.37681359263745,8.414706325713297 z\" /><path fill-rule=\"evenodd\" fill=\"#66cc99\" stroke=\"#555555\" stroke-width=\"2.5920000000000005\" opacity=\"0.6\" d=\"M 81.7879590188914,7.523055324733164 L 81.63732221876059,6.481775214051922 L 81.21801964714433,6.197141424988288 L 80.34835696810441,5.968369859232155 L 79.87246870312853,6.76346344647493 L 79.69516686393513,8.200843410673386 L 80.14780073437964,9.824077663609557 L 80.83881798698656,9.268426825391188 L 81.30431928907177,8.56420624433369 L 81.7879590188914,7.523055324733164 z\" /><path fill-rule=\"evenodd\" fill=\"#66cc99\" stroke=\"#555555\" stroke-width=\"2.5920000000000005\" opacity=\"0.6\" d=\"M -159.36569,22.21494 L -159.34512,21.982000000000003 L -159.46372,21.88299 L -159.80051,22.065330000000003 L -159.74877,22.1382 L -159.5962,22.236179999999997 L -159.36569,22.21494 z\" /><path fill-rule=\"evenodd\" fill=\"#66cc99\" stroke=\"#555555\" stroke-width=\"2.5920000000000005\" opacity=\"0.6\" d=\"M -158.0252,21.71696 L -157.94161,21.65272 L -157.65283000000002,21.322170000000003 L -157.70703,21.26442 L -157.7786,21.27729 L -158.12667000000002,21.31244 L -158.2538,21.53919 L -158.29265,21.57912 L -158.0252,21.71696 z\" /><path fill-rule=\"evenodd\" fill=\"#66cc99\" stroke=\"#555555\" stroke-width=\"2.5920000000000005\" opacity=\"0.6\" d=\"M -156.75824,21.176840000000002 L -156.78933,21.068730000000002 L -157.32521,21.097770000000004 L -157.25027,21.219579999999997 L -156.75824,21.176840000000002 z\" /><path fill-rule=\"evenodd\" fill=\"#66cc99\" stroke=\"#555555\" stroke-width=\"2.5920000000000005\" opacity=\"0.6\" d=\"M 132.37117638563024,33.46364248304006 L 132.92437259331473,34.06029857028204 L 133.4929683778222,33.94462087659667 L 133.90410607313635,34.36493113864263 L 134.63842817600386,34.149233710256354 L 134.76637902235854,33.80633474378362 L 134.2034159689709,33.20117788342964 L 133.79295006727654,33.5219851750976 L 133.28026818250885,33.28957042086489 L 133.0148580262578,32.70456736910474 L 132.36311486219267,32.989382025681394 L 132.37117638563024,33.46364248304006 z\" /><path fill-rule=\"evenodd\" fill=\"#66cc99\" stroke=\"#555555\" stroke-width=\"2.5920000000000005\" opacity=\"0.6\" d=\"M 120.83389611214656,12.704496161342433 L 120.32343631396745,13.466413479053825 L 121.18012820850211,13.429697373910443 L 121.5273938335035,13.06959015548452 L 121.26219038298159,12.205560207564403 L 120.83389611214656,12.704496161342433 z\" /><path fill-rule=\"evenodd\" fill=\"#66cc99\" stroke=\"#555555\" stroke-width=\"2.5920000000000005\" opacity=\"0.6\" d=\"M 122.336956821788,18.224882717354106 L 122.17427941293317,17.810282701076403 L 122.5156539246533,17.093504746971973 L 122.25231082569393,16.26244436285407 L 121.66278608610821,15.931017564350142 L 121.50506961475342,15.124813544164622 L 121.7288285665772,14.328376369682275 L 122.25892540902726,14.21820221603599 L 122.70127566944569,14.336541245984378 L 123.9502950379403,13.782130642141027 L 123.85510704965867,13.237771104378425 L 124.18128869028493,12.9975273706535 L 124.0774190613783,12.536676947474575 L 123.29803510955225,13.02752553959894 L 122.92865197152994,13.552919826710422 L 122.6713550151487,13.185836289925092 L 122.03464969288052,13.784481919810304 L 121.12638471891857,13.636687323455547 L 120.62863732308324,13.857655747935596 L 120.67938357959386,14.271015529838294 L 120.99181928923053,14.52539276779504 L 120.69333621631267,14.756670640517312 L 120.56414513558299,14.396279201713796 L 120.07042850146644,14.970869452367126 L 119.92092858284605,15.406346747290739 L 119.88377322802819,16.363704331929995 L 120.28648766487875,16.034628811095345 L 120.39004723519167,17.599081122299523 L 120.71586714079191,18.505227362537525 L 121.32130822152351,18.504064642810945 L 121.9376013530364,18.218552354398355 L 122.24600630095429,18.478949896717097 L 122.336956821788,18.224882717354106 z\" /><path fill-rule=\"evenodd\" fill=\"#66cc99\" stroke=\"#555555\" stroke-width=\"2.5920000000000005\" opacity=\"0.6\" d=\"M -155.99566000000002,20.76404 L -156.07926,20.643970000000003 L -156.41445,20.57241 L -156.58673,20.783 L -156.70167,20.8643 L -156.71054999999998,20.92676 L -156.61258,21.01249 L -156.25711,20.917450000000002 L -155.99566000000002,20.76404 z\" /><path fill-rule=\"evenodd\" fill=\"#66cc99\" stroke=\"#555555\" stroke-width=\"2.5920000000000005\" opacity=\"0.6\" d=\"M -155.40214,20.07975 L -155.22452,19.99302 L -155.06226,19.8591 L -154.80741,19.50871 L -154.83147,19.453280000000003 L -155.22217,19.23972 L -155.54211,19.08348 L -155.68817,18.91619 L -155.93665,19.05939 L -155.90806,19.33888 L -156.07347000000001,19.70294 L -156.02368,19.81422 L -155.85008000000002,19.97729 L -155.91907,20.17395 L -155.86108000000002,20.267210000000002 L -155.78505,20.2487 L -155.40214,20.07975 z\" /><path fill-rule=\"evenodd\" fill=\"#66cc99\" stroke=\"#555555\" stroke-width=\"2.5920000000000005\" opacity=\"0.6\" d=\"M -77.56960079619921,18.490525417550487 L -76.89661861846213,18.400866807524082 L -76.36535905628554,18.160700588447597 L -76.19965857614164,17.886867173732966 L -76.9025614081757,17.868237819891746 L -77.20634131540348,17.70111623785982 L -77.76602291534061,17.86159739834224 L -78.33771928578561,18.225967922432233 L -78.21772661000388,18.454532782459196 L -77.79736467152563,18.524218451404778 L -77.56960079619921,18.490525417550487 z\" /><path fill-rule=\"evenodd\" fill=\"#66cc99\" stroke=\"#555555\" stroke-width=\"2.5920000000000005\" opacity=\"0.6\" d=\"M 109.47520958866365,18.197700913968575 L 108.65520796105616,18.507681993071387 L 108.62621748254044,19.367887885001906 L 109.11905561730804,19.821038519769345 L 110.21159874882281,20.101253973872033 L 110.78655073450221,20.077534491450052 L 111.01005130416458,19.69592987719072 L 110.57064660038677,19.25587921800927 L 110.33918786015147,18.678395087147592 L 109.47520958866365,18.197700913968575 z\" /><path fill-rule=\"evenodd\" fill=\"#66cc99\" stroke=\"#555555\" stroke-width=\"2.5920000000000005\" opacity=\"0.6\" d=\"M -66.28243445500821,18.514761664295364 L -65.7713028632093,18.426679185453878 L -65.59100379094295,18.228034979723915 L -65.84716386581377,17.97590566657186 L -66.59993445500949,17.981822618069273 L -67.18416236028527,17.946553453030077 L -67.24242753769435,18.374460150622937 L -67.10067908391774,18.52060110114435 L -66.28243445500821,18.514761664295364 z\" /><path fill-rule=\"evenodd\" fill=\"#66cc99\" stroke=\"#555555\" stroke-width=\"2.5920000000000005\" opacity=\"0.6\" d=\"M -71.71236141629296,19.714455878167357 L -71.58730445014663,19.8849105900821 L -70.80670610216174,19.880285549391985 L -70.21436499701613,19.62288524014616 L -69.95081519232758,19.64799998624001 L -69.76925004747008,19.29326711677244 L -69.22212582057988,19.313214219637103 L -69.25434607611385,19.015196234609874 L -68.80941199408083,18.979074408437853 L -68.31794328476897,18.612197577381693 L -68.68931596543452,18.205142320218613 L -69.16494584824892,18.42264842373511 L -69.62398759629764,18.38071299893025 L -69.95293392605154,18.42830699307106 L -70.1332329983179,18.245915025296895 L -70.51713721381422,18.184290879788833 L -70.66929846869763,18.426885891183034 L -70.99995012071719,18.283328762276213 L -71.4002099270339,17.5985643579766 L -71.65766191271202,17.7575727401387 L -71.70830481635805,18.044997056546094 L -72.37247616238935,18.21496084235406 L -72.84441118029488,18.145611070218365 L -73.45455481636503,18.2179063989947 L -73.92243323433566,18.030992743395004 L -74.45803361682478,18.342549953682706 L -74.36992529976713,18.66490753831941 L -73.44954220243272,18.526052964751145 L -72.69493709989064,18.445799465401862 L -72.334881557897,18.668421535715254 L -72.79164954292489,19.10162506761803 L -72.78410478381028,19.48359141690341 L -73.41502234566175,19.639550889560283 L -73.18979061551762,19.915683905511912 L -72.57967281766362,19.871500555902358 L -71.71236141629296,19.714455878167357 z\" /><path fill-rule=\"evenodd\" fill=\"#66cc99\" stroke=\"#555555\" stroke-width=\"2.5920000000000005\" opacity=\"0.6\" d=\"M 121.77781782438993,24.3942735865194 L 121.17563235889274,22.790857245367167 L 120.74707970589623,21.970571397382113 L 120.22008344938368,22.81486094816674 L 120.1061885926124,23.556262722258236 L 120.69467980355225,24.538450832613737 L 121.49504438688878,25.295458889257386 L 121.95124393116146,24.997595933527037 L 121.77781782438993,24.3942735865194 z\" /><path fill-rule=\"evenodd\" fill=\"#66cc99\" stroke=\"#555555\" stroke-width=\"2.5920000000000005\" opacity=\"0.6\" d=\"M -82.26815121125706,23.188610744717707 L -81.40445716014683,23.117271429938782 L -80.6187686835812,23.105980129483 L -79.67952368846025,22.76530324959883 L -79.28148596873208,22.399201565027056 L -78.34743445505649,22.512166246017088 L -77.99329586456028,22.277193508385935 L -77.14642249216105,21.657851467367834 L -76.52382483590856,21.206819566324373 L -76.19462012399319,21.220565497314013 L -75.59822241891267,21.016624457274133 L -75.67106035022806,20.735091254148003 L -74.9338960435845,20.693905137611385 L -74.17802486845126,20.28462779385974 L -74.29664811877726,20.05037852628068 L -74.96159461129294,19.92343537035569 L -75.63468014189459,19.873774318923196 L -76.323656175426,19.95289093676206 L -77.75548092315307,19.855480861891877 L -77.08510840524674,20.413353786698792 L -77.49265458851661,20.673105373613893 L -78.13729224314159,20.739948838783434 L -78.48282670766119,21.02861338956585 L -78.71986650258401,21.598113511638434 L -79.28499996612794,21.5591753199065 L -80.21747534861865,21.827324327069036 L -80.51753455272141,22.03707896574176 L -81.82094336620318,22.19205658618507 L -82.16999182811864,22.387109279870753 L -81.79500179719267,22.636964830001958 L -82.77589799674085,22.688150336187064 L -83.49445878775936,22.16851797127613 L -83.90880042187563,22.154565334557333 L -84.05215084505326,21.910575059491254 L -84.54703019889638,21.801227728761646 L -84.97491105827311,21.89602814380109 L -84.44706214062776,22.204949856041907 L -84.23035702181178,22.565754706303764 L -83.7782399156902,22.788118394455694 L -83.26754757356575,22.983041897060644 L -82.51043616405751,23.078746649665188 L -82.26815121125706,23.188610744717707 z\" /><path fill-rule=\"evenodd\" fill=\"#66cc99\" stroke=\"#555555\" stroke-width=\"2.5920000000000005\" opacity=\"0.6\" d=\"M -78.19087,25.210300000000004 L -77.89,25.17 L -77.54,24.34 L -77.53466,23.759750000000004 L -77.78,23.710000000000004 L -78.03405000000001,24.28615 L -78.40848,24.575640000000003 L -78.19087,25.210300000000004 z\" /><path fill-rule=\"evenodd\" fill=\"#66cc99\" stroke=\"#555555\" stroke-width=\"2.5920000000000005\" opacity=\"0.6\" d=\"M -77.79,27.040000000000003 L -77.0,26.59 L -77.17255,25.87918 L -77.35641,26.00735 L -77.34,26.53 L -77.78802,26.925159999999998 L -77.79,27.040000000000003 z\" /><path fill-rule=\"evenodd\" fill=\"#66cc99\" stroke=\"#555555\" stroke-width=\"2.5920000000000005\" opacity=\"0.6\" d=\"M -78.98,26.790000000000003 L -78.51,26.870000000000005 L -77.85000000000001,26.84 L -77.82000000000001,26.580000000000005 L -78.91000000000001,26.42 L -78.98,26.790000000000003 z\" /><path fill-rule=\"evenodd\" fill=\"#66cc99\" stroke=\"#555555\" stroke-width=\"2.5920000000000005\" opacity=\"0.6\" d=\"M 33.97361657078346,35.058506374648005 L 34.00488081232004,34.97809784600186 L 32.97982710137845,34.57186941175544 L 32.49029625827754,34.701654771456475 L 32.25666710788596,35.10323232679663 L 32.73178022637745,35.14002594658844 L 32.80247358575275,35.14550364841138 L 32.946960890440806,35.3867033961337 L 33.667227003724946,35.37321584730552 L 34.576473829900465,35.67159556735879 L 33.900804477684204,35.245755927057616 L 33.97361657078346,35.058506374648005 z\" /><path fill-rule=\"evenodd\" fill=\"#66cc99\" stroke=\"#555555\" stroke-width=\"2.5920000000000005\" opacity=\"0.6\" d=\"M 14.761249220446189,38.14387360285046 L 15.520376010813806,38.23115509699143 L 15.160242954171736,37.44404551853776 L 15.309897902089006,37.13421946873183 L 15.099988234119422,36.6199872909954 L 14.335228712631988,36.996630967754726 L 13.826732618879959,37.10453135838016 L 12.431003859108756,37.61294993748375 L 12.570943637755136,38.12638113051966 L 13.741156447004613,38.03496552179533 L 14.761249220446189,38.14387360285046 z\" /><path fill-rule=\"evenodd\" fill=\"#66cc99\" stroke=\"#555555\" stroke-width=\"2.5920000000000005\" opacity=\"0.6\" d=\"M 26.290002882601698,35.29999034274793 L 26.16499759288766,35.00499542900977 L 24.724982130642303,34.91998769788964 L 24.735007358506916,35.08499054619759 L 23.51497846852808,35.27999156345098 L 23.699980096133004,35.70500438083549 L 24.246665073348705,35.368022365860185 L 25.02501549652891,35.42499563246197 L 25.769207797964185,35.35401805270908 L 25.745023227651586,35.1799976669662 L 26.290002882601698,35.29999034274793 z\" /><path fill-rule=\"evenodd\" fill=\"#66cc99\" stroke=\"#555555\" stroke-width=\"2.5920000000000005\" opacity=\"0.6\" d=\"M 141.88460086483497,39.180864569651476 L 140.95948937394581,38.17400096287662 L 140.97638756730527,37.14207428644019 L 140.5997697287621,36.3439834661245 L 140.77407433488258,35.842877102190215 L 140.2532792502451,35.138113918593646 L 138.9755277853962,34.66760000257614 L 137.21759891169125,34.60628591566183 L 135.79298302626893,33.46480520276663 L 135.1209827007454,33.849071153289 L 135.0794348491827,34.596544908174806 L 133.34031619683202,34.375938218720805 L 132.15677086805124,33.90493337659652 L 130.98614464734345,33.88576142021624 L 132.00003624890996,33.149992377244544 L 131.33279015515734,31.450354519164822 L 130.686317987186,31.029579169228246 L 130.2024198752049,31.418237616495432 L 130.44767622286213,32.319474595665696 L 129.81469160371893,32.61030955660436 L 129.40846316947255,33.29605581311752 L 130.35393517468464,33.60415070244167 L 130.87845096244718,34.23274282484002 L 131.8842293641439,34.74971385348792 L 132.61767296766243,35.433393052709405 L 134.6083008159777,35.731617743465804 L 135.67753787652885,35.52713410088687 L 136.72383060114242,37.304984239240326 L 137.39061160700447,36.82739065199884 L 138.8576021669062,37.82748464614346 L 139.42640465714283,38.21596222589761 L 140.054790073812,39.43880748143637 L 139.88337934789985,40.56331248632368 L 140.30578250545364,41.19500519465953 L 141.3689734234266,41.378559882160275 L 141.91426313697048,39.991616115878685 L 141.88460086483497,39.180864569651476 z\" /><path fill-rule=\"evenodd\" fill=\"#66cc99\" stroke=\"#555555\" stroke-width=\"2.5920000000000005\" opacity=\"0.6\" d=\"M 144.61342654843963,43.96088288021748 L 145.32082523008307,44.38473297787541 L 145.5431372418027,43.26208832455062 L 144.05966189999987,42.98835826270056 L 143.18384972551723,41.9952147486992 L 141.6114909201724,42.6787905950561 L 141.06728641170668,41.58459381770797 L 139.955106235921,41.56955597591103 L 139.81754357315998,42.563758856774385 L 140.31208703019325,43.33327261003269 L 141.38054894426,43.38882477474644 L 141.67195234595386,44.77212535255146 L 141.96764489152798,45.55148346616134 L 143.14287031470974,44.51035838477697 L 143.91016198137947,44.17409983985374 L 144.61342654843963,43.96088288021748 z\" /><path fill-rule=\"evenodd\" fill=\"#66cc99\" stroke=\"#555555\" stroke-width=\"2.5920000000000005\" opacity=\"0.6\" d=\"M -64.01486,47.03601 L -63.6645,46.55001 L -62.9393,46.41587 L -62.012080000000005,46.44314 L -62.503910000000005,46.033390000000004 L -62.87433,45.968180000000004 L -64.14280000000001,46.39265 L -64.39261,46.72747 L -64.01486,47.03601 z\" /><path fill-rule=\"evenodd\" fill=\"#66cc99\" stroke=\"#555555\" stroke-width=\"2.5920000000000005\" opacity=\"0.6\" d=\"M 8.709990675500109,40.899984442705225 L 9.210011834356266,41.209991360024176 L 9.80997521326492,40.50000885676613 L 9.669518670295616,39.17737641047178 L 9.214817742559433,39.24047333430015 L 8.806935662479674,38.906617743478506 L 8.428302443077115,39.17184703221655 L 8.388253208050912,40.37831085871876 L 8.159998406617689,40.95000722916376 L 8.709990675500109,40.899984442705225 z\" /><path fill-rule=\"evenodd\" fill=\"#66cc99\" stroke=\"#555555\" stroke-width=\"2.5920000000000005\" opacity=\"0.6\" d=\"M 8.746009148807559,42.62812185319392 L 9.390000848028876,43.00998484961471 L 9.560016310269134,42.15249197037952 L 9.229752231491773,41.380006822264455 L 8.775723097375362,41.58361196549443 L 8.544212680707773,42.25651662858306 L 8.746009148807559,42.62812185319392 z\" /><path fill-rule=\"evenodd\" fill=\"#66cc99\" stroke=\"#555555\" stroke-width=\"2.5920000000000005\" opacity=\"0.6\" d=\"M 142.91461551327654,53.704577541714784 L 143.2608476096321,52.74076040303906 L 143.23526777564763,51.75666026468876 L 143.64800744036285,50.747600409541505 L 144.6541475770856,48.97639069273754 L 143.1739278505172,49.306551418650315 L 142.55866824765013,47.86157501890495 L 143.53349246640403,46.83672801369252 L 143.50527713437265,46.137907619809525 L 142.74770063697383,46.74076487892651 L 142.09203006405454,45.966755276058834 L 141.906925083585,46.80592886004656 L 142.01844282447087,47.78013296161296 L 141.90444461483503,48.85918854429957 L 142.1358000022057,49.61516307229739 L 142.17998335181528,50.9523424342819 L 141.59407596249002,51.9354348822025 L 141.6825460145737,53.301966457728795 L 142.60693403541075,53.762145087287934 L 142.20974897681543,54.225475979216874 L 142.65478641171302,54.36588084575389 L 142.91461551327654,53.704577541714784 z\" /><path fill-rule=\"evenodd\" fill=\"#66cc99\" stroke=\"#555555\" stroke-width=\"2.5920000000000005\" opacity=\"0.6\" d=\"M -132.71000788443126,54.04000931542356 L -131.74998958400334,54.12000438090922 L -132.049480347351,52.98462148702447 L -131.1790425218266,52.180432847698285 L -131.57782954982298,52.18237071390928 L -132.18042842677852,52.639707139692405 L -132.54999243231384,53.100014960332146 L -133.05461117875552,53.411468817755406 L -133.2396644827927,53.851080227262344 L -133.1800040417117,54.169975490935315 L -132.71000788443126,54.04000931542356 z\" /><path fill-rule=\"evenodd\" fill=\"#66cc99\" stroke=\"#555555\" stroke-width=\"2.5920000000000005\" opacity=\"0.6\" d=\"M -64.51912,49.87304 L -64.17322,49.95718 L -62.858290000000004,49.70641 L -61.835584999999995,49.28855 L -61.806304999999995,49.10506000000001 L -62.29318,49.08717 L -63.589259999999996,49.400690000000004 L -64.51912,49.87304 z\" /><path fill-rule=\"evenodd\" fill=\"#66cc99\" stroke=\"#555555\" stroke-width=\"2.5920000000000005\" opacity=\"0.6\" d=\"M -123.51000158755119,48.51001089130341 L -124.01289078839955,48.37084625914139 L -125.65501277733838,48.8250045843385 L -125.95499446679275,49.17999583596759 L -126.85000443587185,49.53000031188043 L -127.02999344954443,49.81499583597008 L -128.0593363043662,49.9949590114266 L -128.44458410710214,50.539137681676095 L -128.35841365625546,50.77064809834371 L -127.30858109602994,50.552573554071955 L -126.69500097721235,50.400903225295394 L -125.7550066738232,50.29501821552935 L -125.4150015875588,49.95000051533259 L -124.92076818911934,49.475274970083376 L -123.92250870832106,49.06248362893581 L -123.51000158755119,48.51001089130341 z\" /><path fill-rule=\"evenodd\" fill=\"#66cc99\" stroke=\"#555555\" stroke-width=\"2.5920000000000005\" opacity=\"0.6\" d=\"M -55.600218268442056,51.31707469339794 L -56.13403581401709,50.68700979267928 L -56.795881720595276,49.81230866149089 L -56.14310502788433,50.15011749938286 L -55.471492275603,49.93581533466846 L -55.82240108908096,49.58712860777905 L -54.935142584845636,49.3130109726868 L -54.473775397343786,49.556691189159125 L -53.47654944519137,49.24913890237404 L -53.786013759971254,48.516780503933624 L -53.08613399922626,48.68780365660358 L -52.958648240762216,48.15716421161447 L -52.64809872090421,47.53554840757552 L -53.069158291218386,46.65549876564492 L -53.521456264853,46.61829173439477 L -54.17893551290251,46.80706574155698 L -53.9618686590605,47.62520701760193 L -54.24048214376214,47.752279364607645 L -55.40077307801157,46.884993801453135 L -55.99748084168583,46.919720363953275 L -55.29121904155279,47.38956248635099 L -56.250798712780586,47.632545070987376 L -57.32522925477708,47.57280711525797 L -59.26601518414682,47.60334788674247 L -59.419494188053676,47.899453843774886 L -58.79658647320744,48.25152537697942 L -59.23162451845657,48.52318838153781 L -58.3918049790652,49.12558055276418 L -57.35868974468606,50.71827403421587 L -56.738650071832026,51.28743825947855 L -55.87097693543532,51.63209422464921 L -55.40697424988659,51.5882726100657 L -55.600218268442056,51.31707469339794 z\" /><path fill-rule=\"evenodd\" fill=\"#66cc99\" stroke=\"#555555\" stroke-width=\"2.5920000000000005\" opacity=\"0.6\" d=\"M -6.197884894220991,53.867565009163364 L -6.032985398777611,53.15316417094435 L -6.788856573910849,52.260117906292336 L -8.56161658368356,51.669301255899356 L -9.977085740590269,51.82045482035308 L -9.166282517930782,52.86462881124268 L -9.688524542672454,53.8813626165853 L -8.327987433292009,54.66451894796863 L -7.572167934591064,55.13162221945487 L -6.733847011736145,55.17286001242378 L -5.661948614921968,54.55460317648381 L -6.197884894220991,53.867565009163364 z\" /><path fill-rule=\"evenodd\" fill=\"#66cc99\" stroke=\"#555555\" stroke-width=\"2.5920000000000005\" opacity=\"0.6\" d=\"M -3.093830673788716,53.404547400669685 L -3.0920796370471066,53.40444082296358 L -2.945008510744344,53.98499970154671 L -3.614700825433033,54.600936773292574 L -3.6300054589893307,54.615012925833014 L -4.8441690739030605,54.790971177786844 L -5.0825266178492825,55.06160065369937 L -4.7191121077567,55.50847260194348 L -5.047980922862109,55.78398550070756 L -5.586397670911197,55.31114614523682 L -5.644998745130238,56.27501496034483 L -6.1499808414864106,56.785009670633485 L -5.786824713555291,57.81884837506465 L -5.009998745127632,58.63001333275008 L -4.211494513353557,58.55084503847911 L -3.0050048486352807,58.63500010846633 L -4.073828497728073,57.55302480735526 L -3.0550017968777183,57.69001902936094 L -1.9592805647769183,57.68479970969952 L -2.219988165689358,56.87001740175356 L -3.1190030582711756,55.973793036515474 L -2.085009324543023,55.9099984808513 L -2.005675679673857,55.804902850350175 L -1.11499101399221,54.624986477265395 L -0.4304849918542004,54.46437612570219 L 0.18498131674203933,53.32501414653103 L 0.469976840831805,52.929999498092 L 1.6815307959146821,52.739520168664 L 1.5599878271643206,52.09999848083601 L 1.0505615576309424,51.806760565795685 L 1.4498653499502439,51.28942780212191 L 0.5503336930455021,50.765738837275876 L -0.7875174625586965,50.77498891865622 L -2.4899975244144343,50.50001862243124 L -2.956273972984093,50.696879991247044 L -3.617448085942385,50.22835561787275 L -4.542507900399244,50.341837063185665 L -5.245023159191135,49.95999990498109 L -5.776566941745273,50.15967763935686 L -4.309989793301895,51.21000112568919 L -3.414850633142123,51.42600861266925 L -3.4227194671083794,51.42684816740609 L -4.9843672347109305,51.593466091511004 L -5.267295701508942,51.991400458374585 L -4.222346564134909,52.301355699261364 L -4.77001339356417,52.840004991255626 L -4.579999152026971,53.49500377055517 L -3.093830673788716,53.404547400669685 z\" /><path fill-rule=\"evenodd\" fill=\"#66cc99\" stroke=\"#555555\" stroke-width=\"2.5920000000000005\" opacity=\"0.6\" d=\"M 12.370904168353292,56.111407375708794 L 12.690006137755603,55.60999095318074 L 12.089991082414684,54.80001455343792 L 11.043543328504226,55.36486379660424 L 10.903913608451603,55.77995473898872 L 12.370904168353292,56.111407375708794 z\" /><path fill-rule=\"evenodd\" fill=\"#66cc99\" stroke=\"#555555\" stroke-width=\"2.5920000000000005\" opacity=\"0.6\" d=\"M -153.22872941792113,57.96896841087248 L -152.56479061583514,57.901427313866996 L -152.1411472239064,57.591058661522 L -153.00631405333692,57.11584219016593 L -154.0050902984581,56.734676825581076 L -154.51640275777004,56.99274892844669 L -154.67099280497118,57.46119578717253 L -153.7627795074415,57.81657461204373 L -153.22872941792113,57.96896841087248 z\" /><path fill-rule=\"evenodd\" fill=\"#66cc99\" stroke=\"#555555\" stroke-width=\"2.5920000000000005\" opacity=\"0.6\" d=\"M -166.46779212142462,60.384169826897754 L -165.67442969466364,60.29360687930625 L -165.57916419173358,59.90998688418753 L -166.19277014876727,59.75444082298899 L -166.84833736882197,59.941406155020985 L -167.45527706609008,60.21306915957936 L -166.46779212142462,60.384169826897754 z\" /><path fill-rule=\"evenodd\" fill=\"#66cc99\" stroke=\"#555555\" stroke-width=\"2.5920000000000005\" opacity=\"0.6\" d=\"M -80.315395,62.08556500000001 L -79.92939,62.3856 L -79.52002,62.363710000000005 L -79.26582,62.158674999999995 L -79.65752,61.63308 L -80.09956000000001,61.71810000000001 L -80.36215,62.016490000000005 L -80.315395,62.08556500000001 z\" /><path fill-rule=\"evenodd\" fill=\"#66cc99\" stroke=\"#555555\" stroke-width=\"2.5920000000000005\" opacity=\"0.6\" d=\"M -83.99367000000001,62.452799999999996 L -83.25048,62.91409 L -81.87699,62.90458 L -81.89825,62.7108 L -83.06857000000001,62.159220000000005 L -83.77462000000001,62.18231 L -83.99367000000001,62.452799999999996 z\" /><path fill-rule=\"evenodd\" fill=\"#66cc99\" stroke=\"#555555\" stroke-width=\"2.5920000000000005\" opacity=\"0.6\" d=\"M -171.73165686753944,63.782515367275934 L -171.1144335602453,63.59219106714495 L -170.4911124339407,63.694975490973505 L -169.6825054596536,63.43111562769119 L -168.6894394603007,63.297506212000556 L -168.77194088445466,63.18859813094544 L -169.5294398672051,62.97693146427792 L -170.29055620021595,63.194437567794424 L -170.67138566799093,63.3758218451389 L -171.55306311753873,63.317789211675105 L -171.79111060289122,63.40584585230046 L -171.73165686753944,63.782515367275934 z\" /><path fill-rule=\"evenodd\" fill=\"#66cc99\" stroke=\"#555555\" stroke-width=\"2.5920000000000005\" opacity=\"0.6\" d=\"M -83.88262630891977,65.10961782496354 L -82.78757687043883,64.76669302027467 L -81.6420137193926,64.45513580998697 L -81.55344031444432,63.97960928003714 L -80.81736121287886,64.057485663501 L -80.10345130076664,63.72598135034862 L -80.99101986359572,63.41124603947496 L -82.54717810741704,63.65172231714521 L -83.10879757356511,64.10187571883971 L -84.10041663281388,63.569711819098 L -85.52340471061905,63.052379055424055 L -85.8667687649824,63.63725291610349 L -87.22198320183678,63.54123810490519 L -86.35275977247133,64.0358332383707 L -86.2248864407651,64.82291697860823 L -85.88384782585486,65.7387783881171 L -85.1613079495499,65.6572846543928 L -84.97576371940592,65.21751821558898 L -84.4640120104195,65.37177236598022 L -83.88262630891977,65.10961782496354 z\" /><path fill-rule=\"evenodd\" fill=\"#66cc99\" stroke=\"#555555\" stroke-width=\"2.5920000000000005\" opacity=\"0.6\" d=\"M -14.508695441129234,66.45589223903143 L -14.739637417041607,65.8087482774403 L -13.60973222497981,65.12667104761987 L -14.909833746794902,64.36408193628868 L -17.794438035543422,63.678749091233854 L -18.656245896874992,63.49638296167582 L -19.97275468594276,63.64363495549153 L -22.762971971110158,63.960178941495386 L -21.778484259517683,64.40211579045551 L -23.95504391121911,64.8911298692335 L -22.184402635170358,65.0849681667603 L -22.227423265053332,65.37859365504274 L -24.326184047939336,65.61118927678847 L -23.65051469572309,66.26251902939522 L -22.134922451250887,66.41046865504687 L -20.57628373867955,65.73211212835143 L -19.05684160000159,66.27660085719477 L -17.79862382655905,65.99385325790978 L -16.167818976292125,66.52679230413587 L -14.508695441129234,66.45589223903143 z\" /><path fill-rule=\"evenodd\" fill=\"#66cc99\" stroke=\"#555555\" stroke-width=\"2.5920000000000005\" opacity=\"0.6\" d=\"M -174.92825000000002,67.20589000000001 L -175.01425000000003,66.58435 L -174.33983000000003,66.33556 L -174.57182,67.06219 L -171.85731,66.91308000000001 L -169.89958000000001,65.97724 L -170.89107,65.54138999999999 L -172.53025000000002,65.43791 L -172.555,64.46079 L -172.95533,64.25269 L -173.89184,64.2826 L -174.65392000000003,64.63125000000001 L -175.98353,64.92288 L -176.20716,65.35667000000001 L -177.22266,65.52024 L -178.35993000000002,65.39052000000001 L -178.90332000000004,65.74044 L -178.68610999999999,66.11211 L -179.88377,65.87456 L -179.43268,65.40411 L -180.0,64.9797087021984 L -180.0,68.96363636363635 L -177.55000000000004,68.2 L -174.92825000000002,67.20589000000001 z\" /><path fill-rule=\"evenodd\" fill=\"#66cc99\" stroke=\"#555555\" stroke-width=\"2.5920000000000005\" opacity=\"0.6\" d=\"M -75.21597,67.44425 L -75.86588,67.14886 L -76.98687,67.09873 L -77.2364,67.58809000000001 L -76.81166,68.14856 L -75.89521,68.28721 L -75.11449999999999,68.01035999999999 L -75.10333,67.58202 L -75.21597,67.44425 z\" /><path fill-rule=\"evenodd\" fill=\"#66cc99\" stroke=\"#555555\" stroke-width=\"2.5920000000000005\" opacity=\"0.6\" d=\"M -78.77063859731078,72.35217316353418 L -77.8246239895596,72.74961660429098 L -75.60584469267573,72.2436784939374 L -74.228616095665,71.76714427355789 L -74.09914079455771,71.33084015571758 L -72.24222571479768,71.55692454699452 L -71.20001542833518,70.92001251899718 L -68.7860542466849,70.52502370877427 L -67.91497046575694,70.12194753689765 L -66.9690333726542,69.18608734809182 L -68.8051228502006,68.72019847276444 L -66.4498660956339,68.06716339789203 L -64.86231441919524,67.84753856065159 L -63.424934454996794,66.92847321234059 L -61.851981370680605,66.86212067327783 L -62.16317684594226,66.16025136988962 L -63.918444383384184,64.9986685248329 L -65.14886023625368,65.42603261988667 L -66.72121904159852,66.38804108343219 L -68.015016038674,66.26272573512439 L -68.1412874009792,65.68978913030439 L -67.08964616562342,65.10845510523696 L -65.73208045109976,64.64840566675856 L -65.32016760930125,64.38273712834605 L -64.66940629744968,63.392926744227495 L -65.01380388045888,62.67418508569598 L -66.27504472519048,62.94509878198612 L -68.7831862046927,63.74567007105183 L -67.36968075221309,62.88396556258484 L -66.32829728866726,62.28007477482201 L -66.16556820338015,61.93089712182582 L -68.87736650254465,62.330149237712824 L -71.02343705919385,62.91070811629588 L -72.23537858751902,63.39783600529522 L -71.88627844917127,63.67998932560887 L -73.37830624051838,64.19396312118384 L -74.83441891142263,64.6790756293238 L -74.81850257027673,64.38909332951793 L -77.70997982452008,64.22954234481678 L -78.5559488593542,64.57290639918013 L -77.89728105336198,65.30919220647475 L -76.01827429879717,65.32696889918314 L -73.95979529488268,65.45476471624094 L -74.29388342964964,65.81177134872938 L -73.94491248238262,66.31057811142666 L -72.65116716173942,67.28457550726391 L -72.92605994331605,67.72692576768235 L -73.31161780464572,68.06943716091287 L -74.84330725777684,68.55462718370127 L -76.86910091826672,68.89473562283025 L -76.22864905465738,69.14776927354741 L -77.28736996123715,69.76954010688321 L -78.1686339993266,69.82648753526887 L -78.95724219431673,70.16688019477543 L -79.49245500356366,69.87180776638884 L -81.30547095409176,69.74318512641436 L -84.94470618359851,69.96663401964442 L -87.06000342481789,70.26000112576538 L -88.68171322300148,70.4107412787608 L -89.51341956252303,70.76203766548095 L -88.46772111688082,71.21818553332132 L -89.88815121128755,71.22255219184997 L -90.20516028518205,72.23507436796079 L -89.436576707705,73.12946421985238 L -88.40824154331287,73.53788890247121 L -85.82615108920098,73.80381582304518 L -86.56217851433412,73.15744700793844 L -85.77437130404454,72.53412588163387 L -84.85011247428822,73.34027822538708 L -82.31559017610101,73.7509508328106 L -80.60008765330768,72.71654368762417 L -80.74894161652443,72.06190664335072 L -78.77063859731078,72.35217316353418 z\" /><path fill-rule=\"evenodd\" fill=\"#66cc99\" stroke=\"#555555\" stroke-width=\"2.5920000000000005\" opacity=\"0.6\" d=\"M 178.7253,71.0988 L 180.00000000000006,71.51571433642829 L 180.00000000000006,70.83219920854673 L 178.90342499999997,70.78114000000001 L 178.7253,71.0988 z\" /><path fill-rule=\"evenodd\" fill=\"#66cc99\" stroke=\"#555555\" stroke-width=\"2.5920000000000005\" opacity=\"0.6\" d=\"M -178.69378000000003,70.89302 L -180.0,70.83219920854673 L -180.0,71.51571433642827 L -179.871875,71.55762000000001 L -179.02433000000002,71.55553 L -177.57794500000003,71.26948 L -177.663575,71.13277000000001 L -178.69378000000003,70.89302 z\" /><path fill-rule=\"evenodd\" fill=\"#66cc99\" stroke=\"#555555\" stroke-width=\"2.5920000000000005\" opacity=\"0.6\" d=\"M -96.25740120380055,69.49003035832177 L -95.64768120380054,69.10769035832178 L -96.26952120380055,68.75704035832177 L -97.61740120380055,69.06003035832177 L -98.43180120380055,68.95070035832177 L -99.79740120380055,69.40003035832177 L -98.91740120380055,69.71003035832177 L -98.21826120380055,70.14354035832177 L -97.15740120380055,69.86003035832177 L -96.55740120380055,69.68003035832177 L -96.25740120380055,69.49003035832177 z\" /><path fill-rule=\"evenodd\" fill=\"#66cc99\" stroke=\"#555555\" stroke-width=\"2.5920000000000005\" opacity=\"0.6\" d=\"M -106.52258999999992,73.07601 L -105.40245999999996,72.67259000000007 L -104.77484000000004,71.6984000000001 L -104.4647599999999,70.99297000000007 L -102.78537,70.49776000000003 L -100.98077999999992,70.02431999999999 L -101.08928999999995,69.58447000000012 L -102.73115999999993,69.50402000000003 L -102.09329000000002,69.11962000000011 L -102.43024000000003,68.75281999999999 L -104.24000000000001,68.91000000000008 L -105.96000000000004,69.18000000000012 L -107.12254000000001,69.11922000000004 L -108.99999999999994,68.78000000000003 L -111.53414887520017,68.63005915681794 L -113.31320000000005,68.53553999999997 L -113.85495999999989,69.00744000000009 L -115.22000000000003,69.28000000000009 L -116.10793999999999,69.16821000000004 L -117.34000000000003,69.9600000000001 L -116.67472999999995,70.06655 L -115.13112000000001,70.23730000000006 L -113.72140999999999,70.1923700000001 L -112.41610000000003,70.36637999999999 L -114.35000000000002,70.60000000000002 L -116.48684000000003,70.52044999999998 L -117.90480000000002,70.54056000000014 L -118.43238000000002,70.90920000000006 L -116.11311,71.30917999999997 L -117.65567999999996,71.29520000000002 L -119.40199000000001,71.55858999999998 L -118.56266999999997,72.30785000000003 L -117.86641999999995,72.70594000000006 L -115.18909000000002,73.31459000000012 L -114.16716999999994,73.1214500000001 L -114.66633999999999,72.65277000000009 L -112.44101999999992,72.95540000000011 L -111.05039,72.45040000000006 L -109.92034999999993,72.96113000000008 L -109.00653999999997,72.63335000000001 L -108.18834999999996,71.65089 L -107.68599,72.0654800000001 L -108.39639,73.08953000000008 L -107.51645000000002,73.23597999999998 L -106.52258999999992,73.07601 z\" /><path fill-rule=\"evenodd\" fill=\"#66cc99\" stroke=\"#555555\" stroke-width=\"2.5920000000000005\" opacity=\"0.6\" d=\"M -100.43836,72.70588000000001 L -101.54,73.36 L -100.35642000000001,73.84389 L -99.16387,73.63339 L -97.38,73.76 L -97.12,73.47 L -98.05359,72.99052 L -96.54,72.56 L -96.72000000000001,71.66 L -98.35966,71.27284999999999 L -99.32286,71.35639 L -100.01482,71.73827 L -102.5,72.51 L -102.48000000000002,72.83000000000001 L -100.43836,72.70588000000001 z\" /><path fill-rule=\"evenodd\" fill=\"#66cc99\" stroke=\"#555555\" stroke-width=\"2.5920000000000005\" opacity=\"0.6\" d=\"M -94.50365759965237,74.13490672473922 L -92.42001217321173,74.1000251329422 L -90.50979285354263,73.85673248971206 L -92.00396521682987,72.96624420845852 L -93.19629553910026,72.77199249947334 L -94.26904659704726,72.02459625923599 L -95.40985551632266,72.06188080513458 L -96.03374508338244,72.94027680123183 L -96.01826799191102,73.43742991809582 L -95.49579342322404,73.86241689726417 L -94.50365759965237,74.13490672473922 z\" /><path fill-rule=\"evenodd\" fill=\"#66cc99\" stroke=\"#555555\" stroke-width=\"2.5920000000000005\" opacity=\"0.6\" d=\"M -106.6,73.60000000000001 L -105.26,73.64 L -104.5,73.42 L -105.38000000000001,72.76 L -106.94,73.46000000000001 L -106.6,73.60000000000001 z\" /><path fill-rule=\"evenodd\" fill=\"#66cc99\" stroke=\"#555555\" stroke-width=\"2.5920000000000005\" opacity=\"0.6\" d=\"M -79.77583312988281,72.8029022216797 L -80.87609863281251,73.33318328857422 L -80.83388519287111,73.69318389892578 L -80.35305786132812,73.75971984863281 L -78.06443786621094,73.65193176269531 L -76.34,73.10268498995305 L -76.25140380859375,72.82638549804688 L -77.31443786621094,72.85554504394531 L -78.39167022705078,72.87665557861328 L -79.4862518310547,72.74220275878906 L -79.77583312988281,72.8029022216797 z\" /><path fill-rule=\"evenodd\" fill=\"#66cc99\" stroke=\"#555555\" stroke-width=\"2.5920000000000005\" opacity=\"0.6\" d=\"M 139.86312,73.36983000000001 L 140.81171,73.76506 L 142.06207,73.85758 L 143.48283,73.47525 L 143.60385,73.21244 L 142.08763000000002,73.20544 L 140.03815500000002,73.31692000000001 L 139.86312,73.36983000000001 z\" /><path fill-rule=\"evenodd\" fill=\"#66cc99\" stroke=\"#555555\" stroke-width=\"2.5920000000000005\" opacity=\"0.6\" d=\"M 148.22223,75.345845 L 150.73167,75.08406 L 149.575925,74.68892 L 147.977465,74.778355 L 146.11919,75.17298 L 146.358485,75.49682 L 148.22223,75.345845 z\" /><path fill-rule=\"evenodd\" fill=\"#66cc99\" stroke=\"#555555\" stroke-width=\"2.5920000000000005\" opacity=\"0.6\" d=\"M 138.831075,76.13676000000001 L 141.47161499999999,76.09289 L 145.086285,75.562625 L 144.3,74.82000000000001 L 140.61381,74.84768 L 138.95544,74.61148 L 136.97439,75.26167000000001 L 137.51176,75.94917 L 138.831075,76.13676000000001 z\" /><path fill-rule=\"evenodd\" fill=\"#66cc99\" stroke=\"#555555\" stroke-width=\"2.5920000000000005\" opacity=\"0.6\" d=\"M -46.76379,82.62796 L -43.40644,83.22516000000002 L -39.89753,83.18018 L -38.62214,83.54905 L -35.08787,83.64513000000001 L -27.10046,83.51966 L -20.84539,82.72668999999999 L -22.69182,82.34165 L -26.51753,82.29765 L -31.900000000000002,82.2 L -31.396459999999998,82.02154 L -27.85666,82.13177999999999 L -24.84448,81.78697 L -22.90328,82.09317 L -22.071749999999998,81.73449000000001 L -23.169610000000002,81.15271 L -20.62363,81.52462 L -15.768180000000001,81.91245 L -12.77018,81.71885 L -12.20855,81.29154 L -16.285330000000002,80.58004 L -16.85,80.35 L -20.04624,80.17708 L -17.73035,80.12912 L -18.900000000000002,79.4 L -19.70499,78.75128000000001 L -19.67353,77.63859000000001 L -18.47285,76.98565 L -20.03503,76.94434000000001 L -21.679440000000003,76.62795 L -19.83407,76.09808 L -19.59896,75.24838 L -20.66818,75.15585 L -19.37281,74.29561000000001 L -21.594220000000004,74.22382 L -20.434540000000002,73.81713 L -20.762340000000002,73.46436 L -22.17221,73.30955 L -23.56593,73.30663 L -22.313109999999998,72.62928 L -22.29954,72.18409 L -24.278340000000004,72.59788 L -24.79296,72.3302 L -23.442960000000003,72.08015999999999 L -22.13281,71.46898 L -21.753560000000004,70.66369 L -23.53603,70.471 L -24.307019999999998,70.85649000000001 L -25.543409999999998,71.43093999999999 L -25.20135,70.75225999999999 L -26.36276,70.22646 L -23.727420000000002,70.18401 L -22.349020000000003,70.12946000000001 L -25.029270000000004,69.25880000000001 L -27.74737,68.47046 L -30.67371,68.12503 L -31.77665,68.12078000000001 L -32.81105,67.73547 L -34.20196,66.67974 L -36.35284,65.9789 L -37.043780000000005,65.93768 L -38.37505,65.69213 L -39.81222,65.45848 L -40.66899,64.83997000000001 L -40.68281,64.13902 L -41.188700000000004,63.482459999999996 L -42.819379999999995,62.68233 L -42.41666000000001,61.90093 L -42.86619,61.074040000000004 L -43.3784,60.09772 L -44.7875,60.03676000000001 L -46.26364,60.85328 L -48.26294000000001,60.858430000000006 L -49.23308000000001,61.40681000000001 L -49.90039,62.38336 L -51.63325,63.62691 L -52.140139999999995,64.27842 L -52.27659,65.17670000000001 L -53.66166,66.09957 L -53.30161,66.8365 L -53.96911,67.18899 L -52.9804,68.35759 L -51.47536,68.72958000000001 L -51.08041,69.14781 L -50.87122,69.9291 L -52.013585,69.574925 L -52.55792,69.42616 L -53.456289999999996,69.283625 L -54.68336,69.61003 L -54.750009999999996,70.28932 L -54.35884,70.82131500000001 L -53.431315000000005,70.835755 L -51.39014,70.56978 L -53.109370000000006,71.20485000000001 L -54.00422,71.54719 L -55.0,71.40653696727257 L -55.83468,71.65444000000001 L -54.71819000000001,72.58625 L -55.32634,72.95861000000001 L -56.12003,73.64977 L -57.32363,74.71026 L -58.59679,75.09861000000001 L -58.58516,75.51727 L -61.26861,76.10238000000001 L -63.39165,76.1752 L -66.06427,76.13486 L -68.50438,76.06141000000001 L -69.66485,76.37975 L -71.40257,77.00857 L -68.77671,77.32312 L -66.76397,77.37595 L -71.04293,77.63595 L -73.297,78.04419 L -73.15938,78.43271 L -69.37345,78.91388 L -65.7107,79.39436 L -65.3239,79.75814 L -68.02298,80.11721 L -67.15129,80.51582 L -63.68925,81.21396000000001 L -62.234440000000006,81.3211 L -62.65116,81.77042 L -60.28249,82.03363000000002 L -57.207440000000005,82.19074 L -54.13442,82.19962 L -53.043279999999996,81.88833 L -50.39061,82.43883 L -48.003859999999996,82.06481000000001 L -46.59984000000001,81.985945 L -44.523,81.6607 L -46.9007,82.19979000000001 L -46.76379,82.62796 z\" /><path fill-rule=\"evenodd\" fill=\"#66cc99\" stroke=\"#555555\" stroke-width=\"2.5920000000000005\" opacity=\"0.6\" d=\"M -121.53787999999997,74.44893000000002 L -120.10978,74.24135000000001 L -117.55563999999993,74.18576999999993 L -116.58442000000002,73.89607000000007 L -115.51080999999999,73.47519 L -116.76793999999995,73.22291999999999 L -119.22000000000003,72.51999999999998 L -120.45999999999998,71.82000000000005 L -120.45999999999998,71.38360179308756 L -123.09218999999996,70.90164000000004 L -123.62,71.34000000000009 L -125.92894873747338,71.86868846301138 L -125.49999999999994,72.29226081179502 L -124.80729000000002,73.02255999999994 L -123.93999999999994,73.68000000000012 L -124.91774999999996,74.29275000000013 L -121.53787999999997,74.44893000000002 z\" /><path fill-rule=\"evenodd\" fill=\"#66cc99\" stroke=\"#555555\" stroke-width=\"2.5920000000000005\" opacity=\"0.6\" d=\"M 53.50828982932515,73.7498139513002 L 55.90245893740766,74.62748647734536 L 55.631932814359686,75.08141225859718 L 57.86864383324885,75.60939036732326 L 61.170044386647476,76.25188345000812 L 64.49836836127017,76.43905548776927 L 66.21097700385513,76.80978221303117 L 68.1570597675348,76.93969676381293 L 68.85221113472508,76.5448113064546 L 68.1805725442276,76.23364166940907 L 64.63732628770302,75.73775462513625 L 61.58350752141476,75.26088450794684 L 58.47708214705335,74.30905630156285 L 56.98678551618803,73.33304352486623 L 55.419335971910925,72.37126760526603 L 55.62283776227633,71.54059479439032 L 57.535692579992315,70.72046397570212 L 56.94497928246388,70.63274323188666 L 53.67737511578417,70.76265778266846 L 53.412016635965394,71.20666168892022 L 51.601894565645665,71.47475901965045 L 51.455753615124216,72.01488108996513 L 52.47827518088354,72.22944163684097 L 52.44416873557088,72.77473135038481 L 54.42761355979758,73.6275475124976 L 53.50828982932515,73.7498139513002 z\" /><path fill-rule=\"evenodd\" fill=\"#66cc99\" stroke=\"#555555\" stroke-width=\"2.5920000000000005\" opacity=\"0.6\" d=\"M -107.81943000000001,75.84552000000001 L -106.92893000000001,76.01282 L -105.881,75.96940000000001 L -105.70498,75.47951 L -106.31347000000001,75.00527 L -109.70000000000002,74.85000000000001 L -112.22306999999999,74.41696 L -113.74381,74.39427 L -113.87135,74.72029 L -111.79420999999999,75.16250000000001 L -116.31221,75.04343 L -117.7104,75.2222 L -116.34602000000001,76.19903000000001 L -115.40487,76.47887 L -112.59056000000001,76.14134 L -110.81422,75.54919 L -109.06710000000001,75.47321000000001 L -110.49726000000001,76.42982 L -109.58109999999999,76.79417 L -108.54858999999999,76.67832000000001 L -108.21141,76.20168000000001 L -107.81943000000001,75.84552000000001 z\" /><path fill-rule=\"evenodd\" fill=\"#66cc99\" stroke=\"#555555\" stroke-width=\"2.5920000000000005\" opacity=\"0.6\" d=\"M -93.61275590694046,74.97999726022438 L -94.15690873897391,74.59234650338688 L -95.60868058956564,74.66686391875176 L -96.82093217648455,74.92762319609658 L -96.28858740922982,75.37782827422338 L -94.85081987178917,75.64721751576089 L -93.97774654821797,75.29648956979595 L -93.61275590694046,74.97999726022438 z\" /><path fill-rule=\"evenodd\" fill=\"#66cc99\" stroke=\"#555555\" stroke-width=\"2.5920000000000005\" opacity=\"0.6\" d=\"M -122.85492448615902,76.11654287383568 L -122.85492529360326,76.11654287383568 L -121.15753536032824,76.86450755482828 L -119.1039389718211,77.51221995717462 L -117.570130784966,77.4983189968881 L -116.19858659550738,77.6452867703262 L -116.33581336145845,76.87696157501061 L -117.10605058476882,76.53003184681911 L -118.04041215703819,76.48117178008714 L -119.89931758688572,76.053213406062 L -121.49999507712648,75.90001862253276 L -122.85492448615902,76.11654287383568 z\" /><path fill-rule=\"evenodd\" fill=\"#66cc99\" stroke=\"#555555\" stroke-width=\"2.5920000000000005\" opacity=\"0.6\" d=\"M 102.837815,79.28129 L 105.37243000000001,78.71334 L 105.07547000000002,78.30689 L 99.43814,77.921 L 101.2649,79.23399 L 102.08635,79.34641 L 102.837815,79.28129 z\" /><path fill-rule=\"evenodd\" fill=\"#66cc99\" stroke=\"#555555\" stroke-width=\"2.5920000000000005\" opacity=\"0.6\" d=\"M 93.77766000000001,81.0246 L 95.94089500000001,81.2504 L 97.88385,80.74697500000002 L 100.186655,79.780135 L 99.93976,78.88094 L 97.75794,78.75619999999999 L 94.97259,79.044745 L 93.31288,79.4265 L 92.5454,80.14379000000001 L 91.18107000000002,80.34146000000001 L 93.77766000000001,81.0246 z\" /><path fill-rule=\"evenodd\" fill=\"#66cc99\" stroke=\"#555555\" stroke-width=\"2.5920000000000005\" opacity=\"0.6\" d=\"M 44.84695804218114,80.58980988231714 L 46.79913862487123,80.77191762971368 L 48.31847741068461,80.78400991486998 L 48.52280602396667,80.51456899690017 L 49.097189568890855,80.7539859077084 L 50.03976769389462,80.91888540315178 L 51.522932977103665,80.69972565380193 L 51.13618655783128,80.54728017854093 L 49.79368452332071,80.4154277615482 L 48.89441124857755,80.33956675894375 L 48.75493655782177,80.17546824820089 L 47.58611901224418,80.01018117951533 L 46.50282596210963,80.2472468126543 L 47.07245527526294,80.55942414012951 L 44.84695804218114,80.58980988231714 z\" /><path fill-rule=\"evenodd\" fill=\"#66cc99\" stroke=\"#555555\" stroke-width=\"2.5920000000000005\" opacity=\"0.6\" d=\"M -98.50000000000001,76.72 L -97.735585,76.25656000000001 L -97.70441500000001,75.74344 L -98.16000000000001,75.0 L -99.80874,74.89744 L -100.88365999999999,75.05736 L -100.86292000000002,75.64075 L -102.50209,75.5638 L -102.56552,76.3366 L -101.48973,76.30537 L -99.98349,76.64634 L -98.57699,76.58859 L -98.50000000000001,76.72 z\" /><path fill-rule=\"evenodd\" fill=\"#66cc99\" stroke=\"#555555\" stroke-width=\"2.5920000000000005\" opacity=\"0.6\" d=\"M 24.724120000000003,77.85385 L 22.490320000000004,77.44493 L 20.726010000000002,77.67704 L 21.416110000000003,77.93504 L 20.8119,78.25463 L 22.884259999999998,78.45494000000001 L 23.281340000000004,78.07954 L 24.724120000000003,77.85385 z\" /><path fill-rule=\"evenodd\" fill=\"#66cc99\" stroke=\"#555555\" stroke-width=\"2.5920000000000005\" opacity=\"0.6\" d=\"M -96.75439876990876,78.76581268992702 L -95.5592779202946,78.41831452098033 L -95.83029496944934,78.05694122996324 L -97.30984290239799,77.85059723582181 L -98.12428931353404,78.08285696075761 L -98.55286780474668,78.45810537384507 L -98.63198442258553,78.87193024363837 L -97.33723141151266,78.83198436147676 L -96.75439876990876,78.76581268992702 z\" /><path fill-rule=\"evenodd\" fill=\"#66cc99\" stroke=\"#555555\" stroke-width=\"2.5920000000000005\" opacity=\"0.6\" d=\"M 15.142820000000002,79.67431 L 15.52255,80.01608 L 16.990850000000002,80.05086 L 18.25183,79.70175 L 21.54383,78.95611 L 19.02737,78.5626 L 18.47172,77.82669 L 17.59441,77.63796 L 17.1182,76.80941 L 15.91315,76.77045 L 13.76259,77.38035 L 14.669560000000002,77.73565 L 13.1706,78.02493 L 11.22231,78.8693 L 10.44453,79.65239 L 13.170770000000001,80.01046000000001 L 13.71852,79.66039 L 15.142820000000002,79.67431 z\" /><path fill-rule=\"evenodd\" fill=\"#66cc99\" stroke=\"#555555\" stroke-width=\"2.5920000000000005\" opacity=\"0.6\" d=\"M -93.84000301794399,77.51999726023455 L -94.29560828324529,77.49134267852868 L -96.16965410031007,77.55511139597685 L -96.43630449093614,77.83462921824362 L -94.42257727738641,77.820004787905 L -93.7206562975659,77.63433136668031 L -93.84000301794399,77.51999726023455 z\" /><path fill-rule=\"evenodd\" fill=\"#66cc99\" stroke=\"#555555\" stroke-width=\"2.5920000000000005\" opacity=\"0.6\" d=\"M -88.15035030796028,74.39230703398503 L -89.7647220527584,74.51555532500116 L -92.42244096552946,74.83775788034099 L -92.76828548864282,75.38681997344214 L -92.88990597204175,75.88265534128267 L -93.89382402217599,76.31924367950056 L -95.9624574450358,76.4413809272224 L -97.1213789538295,76.7510777859476 L -96.74512285031237,77.16138865834507 L -94.68408586299944,77.09787832305837 L -93.57392106807313,76.77629588490605 L -91.6050231595366,76.7785179714946 L -90.7418458727493,76.44959747995681 L -90.96966142450802,76.07401317005947 L -89.82223792189926,75.84777374948565 L -89.18708289259985,75.61016551380762 L -87.83827633334965,75.56618886992725 L -86.37919226758864,75.4824213731821 L -84.78962521029058,75.69920400664653 L -82.75344458691006,75.78431509063124 L -81.12853084992436,75.71398346628199 L -80.05751095245915,75.33684886341591 L -79.83393286814837,74.92312734648716 L -80.45777075877587,74.65730377877777 L -81.94884253612557,74.44245901152432 L -83.22889360221143,74.56402781849094 L -86.09745235873332,74.41003205026117 L -88.15035030796028,74.39230703398503 z\" /><path fill-rule=\"evenodd\" fill=\"#66cc99\" stroke=\"#555555\" stroke-width=\"2.5920000000000005\" opacity=\"0.6\" d=\"M -111.26444332563088,78.15295604116154 L -109.85445187054711,77.99632477488488 L -110.18693803591302,77.69701487905034 L -112.0511911690585,77.4092288276169 L -113.53427893761912,77.73220652944111 L -112.7245867582539,78.05105011668196 L -111.26444332563088,78.15295604116154 z\" /><path fill-rule=\"evenodd\" fill=\"#66cc99\" stroke=\"#555555\" stroke-width=\"2.5920000000000005\" opacity=\"0.6\" d=\"M -105.4922891914932,79.30159393992916 L -103.52928239623795,79.16534902619163 L -100.8251580472688,78.80046173777872 L -100.0601918200522,78.32475434031589 L -99.67093909381364,77.90754466420744 L -101.30394019245301,78.01898489044486 L -102.94980872273302,78.34322866486023 L -105.17613277873151,78.3803323432458 L -104.21042945027713,78.67742015249176 L -105.41958045125853,78.91833567983649 L -105.4922891914932,79.30159393992916 z\" /><path fill-rule=\"evenodd\" fill=\"#66cc99\" stroke=\"#555555\" stroke-width=\"2.5920000000000005\" opacity=\"0.6\" d=\"M -110.96366065147602,78.8044408230652 L -109.6631457182026,78.60197256134565 L -110.88131425661892,78.40691986765997 L -112.54209143761516,78.4079017198735 L -112.52589087609164,78.55055451121522 L -111.5000103422334,78.8499935981305 L -110.96366065147602,78.8044408230652 z\" /><path fill-rule=\"evenodd\" fill=\"#66cc99\" stroke=\"#555555\" stroke-width=\"2.5920000000000005\" opacity=\"0.6\" d=\"M -91.58702000000001,81.89429000000001 L -90.10000000000001,82.08500000000004 L -88.93227,82.11751000000001 L -86.97024,82.27961 L -85.5,82.65227345805702 L -84.260005,82.60000000000001 L -83.18,82.32 L -82.42,82.86000000000001 L -81.1,83.02 L -79.30664,83.13056 L -76.25,83.17205882352941 L -75.71878000000001,83.06404000000002 L -72.83153,83.23324000000001 L -70.66576500000001,83.16978075838284 L -68.50000000000001,83.10632151676572 L -65.82735,83.02801000000001 L -63.68,82.9 L -61.85,82.62860000000002 L -61.89388,82.36165000000001 L -64.334,81.92775000000002 L -66.75342,81.72527000000001 L -67.65755,81.50141 L -65.48031,81.50657000000002 L -67.84,80.90000000000003 L -69.4697,80.61683000000001 L -71.18,79.8 L -73.2428,79.63415 L -73.88000000000001,79.43016220480206 L -76.90773,79.32309000000001 L -75.52924,79.19766000000001 L -76.22046,79.01907 L -75.39345,78.52581 L -76.34354,78.18296000000001 L -77.88851000000001,77.89991 L -78.36269,77.50859000000001 L -79.75951,77.20967999999999 L -79.61965000000001,76.98336 L -77.91089000000001,77.022045 L -77.88911,76.777955 L -80.56125,76.17812 L -83.17439,76.45403 L -86.11184,76.29901000000001 L -87.60000000000001,76.42 L -89.49068,76.47239 L -89.6161,76.95213000000001 L -87.76739,77.17833 L -88.26,77.9 L -87.65,77.97022222222223 L -84.97634,77.53873 L -86.34,78.18 L -87.96191999999999,78.37181 L -87.15198000000001,78.75867 L -85.37868,78.99690000000001 L -85.09495,79.34543000000001 L -86.50734,79.73624 L -86.93179,80.25145 L -84.19844,80.20836 L -83.40869565217389,80.10000000000001 L -81.84823,80.46442 L -84.1,80.58 L -87.59895,80.51627 L -89.36663,80.85569000000001 L -90.2,81.26 L -91.36786000000001,81.5531 L -91.58702000000001,81.89429000000001 z\" /><path fill-rule=\"evenodd\" fill=\"#66cc99\" stroke=\"#555555\" stroke-width=\"2.5920000000000005\" opacity=\"0.6\" d=\"M -96.01644,80.60233000000001 L -95.32345000000001,80.90729 L -94.29843,80.97727 L -94.73542,81.20646000000002 L -92.40983999999999,81.25739000000003 L -91.13288999999999,80.72345000000003 L -89.45000000000002,80.50932203389831 L -87.81,80.32000000000001 L -87.02000000000001,79.66000000000001 L -85.81435,79.3369 L -87.18755999999999,79.0393 L -89.03535000000001,78.28723 L -90.80436,78.21533000000001 L -92.87669000000001,78.34333000000001 L -93.95116000000002,78.75099 L -93.93574,79.11373 L -93.14524,79.3801 L -94.974,79.37248 L -96.07614000000001,79.70502 L -96.70972,80.15777 L -96.01644,80.60233000000001 z\" /><path fill-rule=\"evenodd\" fill=\"#66cc99\" stroke=\"#555555\" stroke-width=\"2.5920000000000005\" opacity=\"0.6\" d=\"M 27.407505730913446,80.05640574820042 L 25.92465050629815,79.51783397085451 L 23.024465773213617,79.40001170522903 L 20.075188429451828,79.56682322866722 L 19.897266473070914,79.84236196564747 L 18.462263624757867,79.85988027619443 L 17.368015170977458,80.31889618602698 L 20.45599205901064,80.59815562613225 L 21.907944777115404,80.35767934846204 L 22.91925255706738,80.65714427359343 L 25.447625359811866,80.40734039989452 L 27.407505730913446,80.05640574820042 z\" /></g></g></svg>",
      "text/plain": [
       "<shapely.geometry.multipolygon.MultiPolygon at 0x244feb95490>"
      ]
     },
     "execution_count": 21,
     "metadata": {},
     "output_type": "execute_result"
    }
   ],
   "source": [
    "world = gpd.read_file(gpd.datasets.get_path('naturalearth_lowres'))\n",
    "world.geometry.unary_union"
   ]
  },
  {
   "cell_type": "code",
   "execution_count": 22,
   "metadata": {},
   "outputs": [
    {
     "data": {
      "text/plain": [
       "shapely.geometry.multipolygon.MultiPolygon"
      ]
     },
     "execution_count": 22,
     "metadata": {},
     "output_type": "execute_result"
    }
   ],
   "source": [
    "type(world.geometry.unary_union)"
   ]
  },
  {
   "cell_type": "code",
   "execution_count": 17,
   "metadata": {},
   "outputs": [
    {
     "data": {
      "text/plain": [
       "(-0.575, 1.075, -0.05000000000000003, 1.05)"
      ]
     },
     "execution_count": 17,
     "metadata": {},
     "output_type": "execute_result"
    },
    {
     "data": {
      "image/png": "[encoded data removed]",
      "text/plain": [
       "<Figure size 432x288 with 1 Axes>"
      ]
     },
     "metadata": {
      "needs_background": "light"
     },
     "output_type": "display_data"
    }
   ],
   "source": [
    "polygons = gpd.GeoSeries([shapely.geometry.Polygon([(0, 0), (1, 0), (1, 1), (0, 1)]),\n",
    "                          shapely.geometry.Polygon([(-0.5, 0), (0.5, 0), (0.5, 1), (-0.5, 1)])])\n",
    "ax = polygons.plot(alpha=0.2)\n",
    "ax.axis('off')"
   ]
  },
  {
   "cell_type": "code",
   "execution_count": 19,
   "metadata": {},
   "outputs": [
    {
     "data": {
      "image/svg+xml": "<svg xmlns=\"http://www.w3.org/2000/svg\" xmlns:xlink=\"http://www.w3.org/1999/xlink\" width=\"100.0\" height=\"100.0\" viewBox=\"-0.56 -0.06 1.62 1.12\" preserveAspectRatio=\"xMinYMin meet\"><g transform=\"matrix(1,0,0,-1,0,1.0)\"><path fill-rule=\"evenodd\" fill=\"#66cc99\" stroke=\"#555555\" stroke-width=\"0.032400000000000005\" opacity=\"0.6\" d=\"M 0.5,0.0 L 0.0,0.0 L -0.5,0.0 L -0.5,1.0 L 0.0,1.0 L 0.5,1.0 L 1.0,1.0 L 1.0,0.0 L 0.5,0.0 z\" /></g></svg>",
      "text/plain": [
       "<shapely.geometry.polygon.Polygon at 0x24481264f70>"
      ]
     },
     "execution_count": 19,
     "metadata": {},
     "output_type": "execute_result"
    }
   ],
   "source": [
    "polygons.unary_union"
   ]
  },
  {
   "cell_type": "code",
   "execution_count": 20,
   "metadata": {},
   "outputs": [
    {
     "data": {
      "text/plain": [
       "'Polygon'"
      ]
     },
     "execution_count": 20,
     "metadata": {},
     "output_type": "execute_result"
    }
   ],
   "source": [
    "polygons.unary_union.geom_type"
   ]
  },
  {
   "cell_type": "markdown",
   "metadata": {},
   "source": [
    "## 2.2 仿射变换"
   ]
  },
  {
   "cell_type": "markdown",
   "metadata": {},
   "source": [
    "- **rotate()**"
   ]
  },
  {
   "cell_type": "code",
   "execution_count": 34,
   "metadata": {},
   "outputs": [
    {
     "data": {
      "image/png": "[encoded data removed]",
      "text/plain": [
       "<Figure size 432x288 with 1 Axes>"
      ]
     },
     "metadata": {
      "needs_background": "light"
     },
     "output_type": "display_data"
    }
   ],
   "source": [
    "ax = world.query(\"iso_a3 == 'USA'\").plot(color='blue',\n",
    "                                         alpha=0.4)\n",
    "ax = world.query(\"iso_a3 == 'USA'\").rotate(angle=90,\n",
    "                                           origin='center') \\\n",
    "                                   .plot(color='red',\n",
    "                                         ax=ax,\n",
    "                                         alpha=0.4)\n",
    "plt.savefig('图10.png', dpi=300, bbox_inches='tight', pad_inches=0)"
   ]
  },
  {
   "cell_type": "markdown",
   "metadata": {},
   "source": [
    "- **scale()**"
   ]
  },
  {
   "cell_type": "code",
   "execution_count": 40,
   "metadata": {},
   "outputs": [
    {
     "data": {
      "image/png": "[encoded data removed]",
      "text/plain": [
       "<Figure size 432x288 with 1 Axes>"
      ]
     },
     "metadata": {
      "needs_background": "light"
     },
     "output_type": "display_data"
    }
   ],
   "source": [
    "ax = world.query(\"iso_a3 == 'USA'\").plot(alpha=0.4)\n",
    "\n",
    "ax = world.query(\"iso_a3 == 'USA'\").scale(xfact=0.5, yfact=0.5) \\\n",
    "                                   .plot(color='red',\n",
    "                                         alpha=0.5,\n",
    "                                         ax=ax)\n",
    "\n",
    "plt.savefig('图11.png', dpi=300, bbox_inches='tight', pad_inches=0)"
   ]
  },
  {
   "cell_type": "markdown",
   "metadata": {},
   "source": [
    "- **translate()**"
   ]
  },
  {
   "cell_type": "code",
   "execution_count": 41,
   "metadata": {},
   "outputs": [
    {
     "data": {
      "text/plain": [
       "0    POINT (1.00000 1.00000)\n",
       "dtype: geometry"
      ]
     },
     "execution_count": 41,
     "metadata": {},
     "output_type": "execute_result"
    }
   ],
   "source": [
    "gpd.GeoSeries([shapely.geometry.Point([0, 0])]) \\\n",
    "   .translate(xoff=1, yoff=1)"
   ]
  },
  {
   "cell_type": "markdown",
   "metadata": {},
   "source": [
    "## 2.3 叠加分析"
   ]
  },
  {
   "cell_type": "code",
   "execution_count": 68,
   "metadata": {},
   "outputs": [
    {
     "data": {
      "image/png": "[encoded data removed]",
      "text/plain": [
       "<Figure size 432x288 with 1 Axes>"
      ]
     },
     "metadata": {
      "needs_background": "light"
     },
     "output_type": "display_data"
    }
   ],
   "source": [
    "polygon1 = gpd.GeoDataFrame({\n",
    "    'value1': [1, 2],\n",
    "    'geometry': [shapely.geometry.Polygon([(1, 0), (3, 0), (3, 10), (1, 10)]),\n",
    "                 shapely.geometry.Polygon([(6, 0), (8, 0), (8, 10), (6, 10)])]\n",
    "})\n",
    "\n",
    "polygon2 = gpd.GeoDataFrame({\n",
    "    'value2': [3, 4],\n",
    "    'geometry': [shapely.geometry.Polygon([(-1, 3), (-1, 5), (10, 5), (10, 3)]),\n",
    "                 shapely.geometry.Polygon([(-1, 6), (-1, 8), (10, 8), (10, 6)])]\n",
    "})\n",
    "\n",
    "ax = polygon1.plot(color='red', alpha=0.4)\n",
    "ax = polygon2.plot(color='grey', alpha=0.4, ax=ax)\n",
    "ax.axis('off')\n",
    "plt.savefig('图14.png', dpi=300, bbox_inches='tight', pad_inches=0)"
   ]
  },
  {
   "cell_type": "markdown",
   "metadata": {},
   "source": [
    "- **how='union'**"
   ]
  },
  {
   "cell_type": "code",
   "execution_count": 75,
   "metadata": {},
   "outputs": [
    {
     "data": {
      "text/html": [
       "<div>\n",
       "<style scoped>\n",
       "    .dataframe tbody tr th:only-of-type {\n",
       "        vertical-align: middle;\n",
       "    }\n",
       "\n",
       "    .dataframe tbody tr th {\n",
       "        vertical-align: top;\n",
       "    }\n",
       "\n",
       "    .dataframe thead th {\n",
       "        text-align: right;\n",
       "    }\n",
       "</style>\n",
       "<table border=\"1\" class=\"dataframe\">\n",
       "  <thead>\n",
       "    <tr style=\"text-align: right;\">\n",
       "      <th></th>\n",
       "      <th>value1</th>\n",
       "      <th>value2</th>\n",
       "      <th>geometry</th>\n",
       "    </tr>\n",
       "  </thead>\n",
       "  <tbody>\n",
       "    <tr>\n",
       "      <th>0</th>\n",
       "      <td>1.0</td>\n",
       "      <td>3.0</td>\n",
       "      <td>POLYGON ((1.00000 3.00000, 1.00000 5.00000, 3....</td>\n",
       "    </tr>\n",
       "    <tr>\n",
       "      <th>1</th>\n",
       "      <td>2.0</td>\n",
       "      <td>3.0</td>\n",
       "      <td>POLYGON ((6.00000 3.00000, 6.00000 5.00000, 8....</td>\n",
       "    </tr>\n",
       "    <tr>\n",
       "      <th>2</th>\n",
       "      <td>1.0</td>\n",
       "      <td>4.0</td>\n",
       "      <td>POLYGON ((1.00000 6.00000, 1.00000 8.00000, 3....</td>\n",
       "    </tr>\n",
       "    <tr>\n",
       "      <th>3</th>\n",
       "      <td>2.0</td>\n",
       "      <td>4.0</td>\n",
       "      <td>POLYGON ((6.00000 6.00000, 6.00000 8.00000, 8....</td>\n",
       "    </tr>\n",
       "    <tr>\n",
       "      <th>4</th>\n",
       "      <td>1.0</td>\n",
       "      <td>NaN</td>\n",
       "      <td>MULTIPOLYGON (((1.00000 0.00000, 1.00000 3.000...</td>\n",
       "    </tr>\n",
       "    <tr>\n",
       "      <th>5</th>\n",
       "      <td>2.0</td>\n",
       "      <td>NaN</td>\n",
       "      <td>MULTIPOLYGON (((6.00000 0.00000, 6.00000 3.000...</td>\n",
       "    </tr>\n",
       "    <tr>\n",
       "      <th>6</th>\n",
       "      <td>NaN</td>\n",
       "      <td>3.0</td>\n",
       "      <td>MULTIPOLYGON (((8.00000 5.00000, 10.00000 5.00...</td>\n",
       "    </tr>\n",
       "    <tr>\n",
       "      <th>7</th>\n",
       "      <td>NaN</td>\n",
       "      <td>4.0</td>\n",
       "      <td>MULTIPOLYGON (((8.00000 8.00000, 10.00000 8.00...</td>\n",
       "    </tr>\n",
       "  </tbody>\n",
       "</table>\n",
       "</div>"
      ],
      "text/plain": [
       "   value1  value2                                           geometry\n",
       "0     1.0     3.0  POLYGON ((1.00000 3.00000, 1.00000 5.00000, 3....\n",
       "1     2.0     3.0  POLYGON ((6.00000 3.00000, 6.00000 5.00000, 8....\n",
       "2     1.0     4.0  POLYGON ((1.00000 6.00000, 1.00000 8.00000, 3....\n",
       "3     2.0     4.0  POLYGON ((6.00000 6.00000, 6.00000 8.00000, 8....\n",
       "4     1.0     NaN  MULTIPOLYGON (((1.00000 0.00000, 1.00000 3.000...\n",
       "5     2.0     NaN  MULTIPOLYGON (((6.00000 0.00000, 6.00000 3.000...\n",
       "6     NaN     3.0  MULTIPOLYGON (((8.00000 5.00000, 10.00000 5.00...\n",
       "7     NaN     4.0  MULTIPOLYGON (((8.00000 8.00000, 10.00000 8.00..."
      ]
     },
     "execution_count": 75,
     "metadata": {},
     "output_type": "execute_result"
    }
   ],
   "source": [
    "overlay_result = gpd.overlay(df1=polygon1,\n",
    "                             df2=polygon2,\n",
    "                             how='union')\n",
    "overlay_result"
   ]
  },
  {
   "cell_type": "code",
   "execution_count": 91,
   "metadata": {},
   "outputs": [
    {
     "data": {
      "image/png": "[encoded data removed]",
      "text/plain": [
       "<Figure size 432x288 with 1 Axes>"
      ]
     },
     "metadata": {
      "needs_background": "light"
     },
     "output_type": "display_data"
    }
   ],
   "source": [
    "# 存在缺失值的行\n",
    "ax = overlay_result[overlay_result.isna().any(axis=1)] \\\n",
    "                   .plot(color='grey')\n",
    "\n",
    "# 不存在缺失值的行\n",
    "ax = overlay_result[~overlay_result.isna().any(axis=1)] \\\n",
    "                   .plot(color='blue',\n",
    "                         ax=ax)\n",
    "\n",
    "ax.set_xlim((-1, 10))\n",
    "ax.set_ylim((0, 10))\n",
    "plt.savefig('图16.png', dpi=300, bbox_inches='tight', pad_inches=0)"
   ]
  },
  {
   "cell_type": "markdown",
   "metadata": {},
   "source": [
    "- **how='intersection'**"
   ]
  },
  {
   "cell_type": "code",
   "execution_count": 92,
   "metadata": {},
   "outputs": [
    {
     "data": {
      "text/html": [
       "<div>\n",
       "<style scoped>\n",
       "    .dataframe tbody tr th:only-of-type {\n",
       "        vertical-align: middle;\n",
       "    }\n",
       "\n",
       "    .dataframe tbody tr th {\n",
       "        vertical-align: top;\n",
       "    }\n",
       "\n",
       "    .dataframe thead th {\n",
       "        text-align: right;\n",
       "    }\n",
       "</style>\n",
       "<table border=\"1\" class=\"dataframe\">\n",
       "  <thead>\n",
       "    <tr style=\"text-align: right;\">\n",
       "      <th></th>\n",
       "      <th>value1</th>\n",
       "      <th>value2</th>\n",
       "      <th>geometry</th>\n",
       "    </tr>\n",
       "  </thead>\n",
       "  <tbody>\n",
       "    <tr>\n",
       "      <th>0</th>\n",
       "      <td>1</td>\n",
       "      <td>3</td>\n",
       "      <td>POLYGON ((1.00000 3.00000, 1.00000 5.00000, 3....</td>\n",
       "    </tr>\n",
       "    <tr>\n",
       "      <th>1</th>\n",
       "      <td>2</td>\n",
       "      <td>3</td>\n",
       "      <td>POLYGON ((6.00000 3.00000, 6.00000 5.00000, 8....</td>\n",
       "    </tr>\n",
       "    <tr>\n",
       "      <th>2</th>\n",
       "      <td>1</td>\n",
       "      <td>4</td>\n",
       "      <td>POLYGON ((1.00000 6.00000, 1.00000 8.00000, 3....</td>\n",
       "    </tr>\n",
       "    <tr>\n",
       "      <th>3</th>\n",
       "      <td>2</td>\n",
       "      <td>4</td>\n",
       "      <td>POLYGON ((6.00000 6.00000, 6.00000 8.00000, 8....</td>\n",
       "    </tr>\n",
       "  </tbody>\n",
       "</table>\n",
       "</div>"
      ],
      "text/plain": [
       "   value1  value2                                           geometry\n",
       "0       1       3  POLYGON ((1.00000 3.00000, 1.00000 5.00000, 3....\n",
       "1       2       3  POLYGON ((6.00000 3.00000, 6.00000 5.00000, 8....\n",
       "2       1       4  POLYGON ((1.00000 6.00000, 1.00000 8.00000, 3....\n",
       "3       2       4  POLYGON ((6.00000 6.00000, 6.00000 8.00000, 8...."
      ]
     },
     "execution_count": 92,
     "metadata": {},
     "output_type": "execute_result"
    }
   ],
   "source": [
    "overlay_result = gpd.overlay(df1=polygon1,\n",
    "                             df2=polygon2,\n",
    "                             how='intersection')\n",
    "overlay_result"
   ]
  },
  {
   "cell_type": "code",
   "execution_count": 95,
   "metadata": {},
   "outputs": [
    {
     "data": {
      "image/png": "[encoded data removed]",
      "text/plain": [
       "<Figure size 432x288 with 1 Axes>"
      ]
     },
     "metadata": {
      "needs_background": "light"
     },
     "output_type": "display_data"
    }
   ],
   "source": [
    "ax = overlay_result.plot()\n",
    "\n",
    "ax.set_xlim((-1, 10))\n",
    "ax.set_ylim((0, 10))\n",
    "plt.savefig('图18.png', dpi=300, bbox_inches='tight', pad_inches=0)"
   ]
  },
  {
   "cell_type": "markdown",
   "metadata": {},
   "source": [
    "- **how='difference'**"
   ]
  },
  {
   "cell_type": "code",
   "execution_count": 98,
   "metadata": {},
   "outputs": [
    {
     "data": {
      "text/html": [
       "<div>\n",
       "<style scoped>\n",
       "    .dataframe tbody tr th:only-of-type {\n",
       "        vertical-align: middle;\n",
       "    }\n",
       "\n",
       "    .dataframe tbody tr th {\n",
       "        vertical-align: top;\n",
       "    }\n",
       "\n",
       "    .dataframe thead th {\n",
       "        text-align: right;\n",
       "    }\n",
       "</style>\n",
       "<table border=\"1\" class=\"dataframe\">\n",
       "  <thead>\n",
       "    <tr style=\"text-align: right;\">\n",
       "      <th></th>\n",
       "      <th>value1</th>\n",
       "      <th>geometry</th>\n",
       "    </tr>\n",
       "  </thead>\n",
       "  <tbody>\n",
       "    <tr>\n",
       "      <th>0</th>\n",
       "      <td>1</td>\n",
       "      <td>MULTIPOLYGON (((1.00000 0.00000, 1.00000 3.000...</td>\n",
       "    </tr>\n",
       "    <tr>\n",
       "      <th>1</th>\n",
       "      <td>2</td>\n",
       "      <td>MULTIPOLYGON (((6.00000 0.00000, 6.00000 3.000...</td>\n",
       "    </tr>\n",
       "  </tbody>\n",
       "</table>\n",
       "</div>"
      ],
      "text/plain": [
       "   value1                                           geometry\n",
       "0       1  MULTIPOLYGON (((1.00000 0.00000, 1.00000 3.000...\n",
       "1       2  MULTIPOLYGON (((6.00000 0.00000, 6.00000 3.000..."
      ]
     },
     "execution_count": 98,
     "metadata": {},
     "output_type": "execute_result"
    }
   ],
   "source": [
    "overlay_result = gpd.overlay(df1=polygon1,\n",
    "                             df2=polygon2,\n",
    "                             how='difference')\n",
    "overlay_result"
   ]
  },
  {
   "cell_type": "code",
   "execution_count": 99,
   "metadata": {},
   "outputs": [
    {
     "data": {
      "image/png": "[encoded data removed]",
      "text/plain": [
       "<Figure size 432x288 with 1 Axes>"
      ]
     },
     "metadata": {
      "needs_background": "light"
     },
     "output_type": "display_data"
    }
   ],
   "source": [
    "ax = overlay_result.plot()\n",
    "\n",
    "ax.set_xlim((-1, 10))\n",
    "ax.set_ylim((0, 10))\n",
    "plt.savefig('图20.png', dpi=300, bbox_inches='tight', pad_inches=0)"
   ]
  },
  {
   "cell_type": "markdown",
   "metadata": {},
   "source": [
    "- **how='symmetric_difference'**"
   ]
  },
  {
   "cell_type": "code",
   "execution_count": 100,
   "metadata": {},
   "outputs": [
    {
     "data": {
      "text/html": [
       "<div>\n",
       "<style scoped>\n",
       "    .dataframe tbody tr th:only-of-type {\n",
       "        vertical-align: middle;\n",
       "    }\n",
       "\n",
       "    .dataframe tbody tr th {\n",
       "        vertical-align: top;\n",
       "    }\n",
       "\n",
       "    .dataframe thead th {\n",
       "        text-align: right;\n",
       "    }\n",
       "</style>\n",
       "<table border=\"1\" class=\"dataframe\">\n",
       "  <thead>\n",
       "    <tr style=\"text-align: right;\">\n",
       "      <th></th>\n",
       "      <th>value1</th>\n",
       "      <th>value2</th>\n",
       "      <th>geometry</th>\n",
       "    </tr>\n",
       "  </thead>\n",
       "  <tbody>\n",
       "    <tr>\n",
       "      <th>0</th>\n",
       "      <td>1.0</td>\n",
       "      <td>NaN</td>\n",
       "      <td>MULTIPOLYGON (((1.00000 0.00000, 1.00000 3.000...</td>\n",
       "    </tr>\n",
       "    <tr>\n",
       "      <th>1</th>\n",
       "      <td>2.0</td>\n",
       "      <td>NaN</td>\n",
       "      <td>MULTIPOLYGON (((6.00000 0.00000, 6.00000 3.000...</td>\n",
       "    </tr>\n",
       "    <tr>\n",
       "      <th>2</th>\n",
       "      <td>NaN</td>\n",
       "      <td>3.0</td>\n",
       "      <td>MULTIPOLYGON (((8.00000 5.00000, 10.00000 5.00...</td>\n",
       "    </tr>\n",
       "    <tr>\n",
       "      <th>3</th>\n",
       "      <td>NaN</td>\n",
       "      <td>4.0</td>\n",
       "      <td>MULTIPOLYGON (((8.00000 8.00000, 10.00000 8.00...</td>\n",
       "    </tr>\n",
       "  </tbody>\n",
       "</table>\n",
       "</div>"
      ],
      "text/plain": [
       "   value1  value2                                           geometry\n",
       "0     1.0     NaN  MULTIPOLYGON (((1.00000 0.00000, 1.00000 3.000...\n",
       "1     2.0     NaN  MULTIPOLYGON (((6.00000 0.00000, 6.00000 3.000...\n",
       "2     NaN     3.0  MULTIPOLYGON (((8.00000 5.00000, 10.00000 5.00...\n",
       "3     NaN     4.0  MULTIPOLYGON (((8.00000 8.00000, 10.00000 8.00..."
      ]
     },
     "execution_count": 100,
     "metadata": {},
     "output_type": "execute_result"
    }
   ],
   "source": [
    "overlay_result = gpd.overlay(df1=polygon1,\n",
    "                             df2=polygon2,\n",
    "                             how='symmetric_difference')\n",
    "overlay_result"
   ]
  },
  {
   "cell_type": "code",
   "execution_count": 102,
   "metadata": {},
   "outputs": [
    {
     "data": {
      "image/png": "[encoded data removed]",
      "text/plain": [
       "<Figure size 432x288 with 1 Axes>"
      ]
     },
     "metadata": {
      "needs_background": "light"
     },
     "output_type": "display_data"
    }
   ],
   "source": [
    "ax = overlay_result.plot()\n",
    "\n",
    "ax.set_xlim((-1, 10))\n",
    "ax.set_ylim((0, 10))\n",
    "plt.savefig('图22.png', dpi=300, bbox_inches='tight', pad_inches=0)"
   ]
  },
  {
   "cell_type": "markdown",
   "metadata": {},
   "source": [
    "- **how='identity'**"
   ]
  },
  {
   "cell_type": "code",
   "execution_count": 103,
   "metadata": {},
   "outputs": [
    {
     "data": {
      "text/html": [
       "<div>\n",
       "<style scoped>\n",
       "    .dataframe tbody tr th:only-of-type {\n",
       "        vertical-align: middle;\n",
       "    }\n",
       "\n",
       "    .dataframe tbody tr th {\n",
       "        vertical-align: top;\n",
       "    }\n",
       "\n",
       "    .dataframe thead th {\n",
       "        text-align: right;\n",
       "    }\n",
       "</style>\n",
       "<table border=\"1\" class=\"dataframe\">\n",
       "  <thead>\n",
       "    <tr style=\"text-align: right;\">\n",
       "      <th></th>\n",
       "      <th>value1</th>\n",
       "      <th>value2</th>\n",
       "      <th>geometry</th>\n",
       "    </tr>\n",
       "  </thead>\n",
       "  <tbody>\n",
       "    <tr>\n",
       "      <th>0</th>\n",
       "      <td>1.0</td>\n",
       "      <td>3.0</td>\n",
       "      <td>POLYGON ((1.00000 3.00000, 1.00000 5.00000, 3....</td>\n",
       "    </tr>\n",
       "    <tr>\n",
       "      <th>1</th>\n",
       "      <td>2.0</td>\n",
       "      <td>3.0</td>\n",
       "      <td>POLYGON ((6.00000 3.00000, 6.00000 5.00000, 8....</td>\n",
       "    </tr>\n",
       "    <tr>\n",
       "      <th>2</th>\n",
       "      <td>1.0</td>\n",
       "      <td>4.0</td>\n",
       "      <td>POLYGON ((1.00000 6.00000, 1.00000 8.00000, 3....</td>\n",
       "    </tr>\n",
       "    <tr>\n",
       "      <th>3</th>\n",
       "      <td>2.0</td>\n",
       "      <td>4.0</td>\n",
       "      <td>POLYGON ((6.00000 6.00000, 6.00000 8.00000, 8....</td>\n",
       "    </tr>\n",
       "    <tr>\n",
       "      <th>4</th>\n",
       "      <td>1.0</td>\n",
       "      <td>NaN</td>\n",
       "      <td>MULTIPOLYGON (((1.00000 0.00000, 1.00000 3.000...</td>\n",
       "    </tr>\n",
       "    <tr>\n",
       "      <th>5</th>\n",
       "      <td>2.0</td>\n",
       "      <td>NaN</td>\n",
       "      <td>MULTIPOLYGON (((6.00000 0.00000, 6.00000 3.000...</td>\n",
       "    </tr>\n",
       "  </tbody>\n",
       "</table>\n",
       "</div>"
      ],
      "text/plain": [
       "   value1  value2                                           geometry\n",
       "0     1.0     3.0  POLYGON ((1.00000 3.00000, 1.00000 5.00000, 3....\n",
       "1     2.0     3.0  POLYGON ((6.00000 3.00000, 6.00000 5.00000, 8....\n",
       "2     1.0     4.0  POLYGON ((1.00000 6.00000, 1.00000 8.00000, 3....\n",
       "3     2.0     4.0  POLYGON ((6.00000 6.00000, 6.00000 8.00000, 8....\n",
       "4     1.0     NaN  MULTIPOLYGON (((1.00000 0.00000, 1.00000 3.000...\n",
       "5     2.0     NaN  MULTIPOLYGON (((6.00000 0.00000, 6.00000 3.000..."
      ]
     },
     "execution_count": 103,
     "metadata": {},
     "output_type": "execute_result"
    }
   ],
   "source": [
    "overlay_result = gpd.overlay(df1=polygon1,\n",
    "                             df2=polygon2,\n",
    "                             how='identity')\n",
    "overlay_result"
   ]
  },
  {
   "cell_type": "code",
   "execution_count": 105,
   "metadata": {},
   "outputs": [
    {
     "data": {
      "image/png": "[encoded data removed]",
      "text/plain": [
       "<Figure size 432x288 with 1 Axes>"
      ]
     },
     "metadata": {
      "needs_background": "light"
     },
     "output_type": "display_data"
    }
   ],
   "source": [
    "# 存在缺失值的行\n",
    "ax = overlay_result[overlay_result.isna().any(axis=1)] \\\n",
    "                   .plot(color='grey')\n",
    "\n",
    "# 不存在缺失值的行\n",
    "ax = overlay_result[~overlay_result.isna().any(axis=1)] \\\n",
    "                   .plot(color='blue',\n",
    "                         ax=ax)\n",
    "\n",
    "ax.set_xlim((-1, 10))\n",
    "ax.set_ylim((0, 10))\n",
    "plt.savefig('图24.png', dpi=300, bbox_inches='tight', pad_inches=0)"
   ]
  },
  {
   "cell_type": "markdown",
   "metadata": {},
   "source": [
    "- **keep_geom_type**"
   ]
  },
  {
   "cell_type": "code",
   "execution_count": 109,
   "metadata": {},
   "outputs": [
    {
     "data": {
      "image/png": "[encoded data removed]",
      "text/plain": [
       "<Figure size 432x288 with 1 Axes>"
      ]
     },
     "metadata": {
      "needs_background": "light"
     },
     "output_type": "display_data"
    }
   ],
   "source": [
    "# 构造面\n",
    "polygon = gpd.GeoDataFrame({\n",
    "    'value1': [1],\n",
    "    'geometry': [shapely.geometry.Polygon([(0, 0), (1, 0), (1, 1), (0, 1)])]\n",
    "})\n",
    "\n",
    "# 构造线\n",
    "line = gpd.GeoDataFrame({\n",
    "    'value2': [2],\n",
    "    'geometry': [shapely.geometry.LineString([(1, 0.5), (-1, 0.5), (-1, 1), (0, 1)])]\n",
    "})\n",
    "\n",
    "ax = polygon.plot(alpha=0.2)\n",
    "ax = line.plot(alpha=0.2, ax=ax)"
   ]
  },
  {
   "cell_type": "code",
   "execution_count": 119,
   "metadata": {},
   "outputs": [
    {
     "data": {
      "text/html": [
       "<div>\n",
       "<style scoped>\n",
       "    .dataframe tbody tr th:only-of-type {\n",
       "        vertical-align: middle;\n",
       "    }\n",
       "\n",
       "    .dataframe tbody tr th {\n",
       "        vertical-align: top;\n",
       "    }\n",
       "\n",
       "    .dataframe thead th {\n",
       "        text-align: right;\n",
       "    }\n",
       "</style>\n",
       "<table border=\"1\" class=\"dataframe\">\n",
       "  <thead>\n",
       "    <tr style=\"text-align: right;\">\n",
       "      <th></th>\n",
       "      <th>value1</th>\n",
       "      <th>value2</th>\n",
       "      <th>geometry</th>\n",
       "    </tr>\n",
       "  </thead>\n",
       "  <tbody>\n",
       "  </tbody>\n",
       "</table>\n",
       "</div>"
      ],
      "text/plain": [
       "Empty GeoDataFrame\n",
       "Columns: [value1, value2, geometry]\n",
       "Index: []"
      ]
     },
     "execution_count": 119,
     "metadata": {},
     "output_type": "execute_result"
    }
   ],
   "source": [
    "# 默认参数：keep_geom_type=True\n",
    "gpd.overlay(df1=polygon,\n",
    "            df2=line)"
   ]
  },
  {
   "cell_type": "code",
   "execution_count": 122,
   "metadata": {},
   "outputs": [
    {
     "data": {
      "image/svg+xml": "<svg xmlns=\"http://www.w3.org/2000/svg\" xmlns:xlink=\"http://www.w3.org/1999/xlink\" width=\"100.0\" height=\"100.0\" viewBox=\"-0.04 0.46 1.08 0.5800000000000001\" preserveAspectRatio=\"xMinYMin meet\"><g transform=\"matrix(1,0,0,-1,0,1.5)\"><g><circle cx=\"0.0\" cy=\"1.0\" r=\"0.0324\" stroke=\"#555555\" stroke-width=\"0.0108\" fill=\"#66cc99\" opacity=\"0.6\" /><polyline fill=\"none\" stroke=\"#66cc99\" stroke-width=\"0.0216\" points=\"1.0,0.5 0.0,0.5\" opacity=\"0.8\" /></g></g></svg>",
      "text/plain": [
       "<shapely.geometry.collection.GeometryCollection at 0x244fe55c730>"
      ]
     },
     "execution_count": 122,
     "metadata": {},
     "output_type": "execute_result"
    }
   ],
   "source": [
    "# 默认参数：keep_geom_type=False\n",
    "gpd.overlay(df1=polygon,\n",
    "            df2=line,\n",
    "            keep_geom_type=False).unary_union"
   ]
  },
  {
   "cell_type": "markdown",
   "metadata": {},
   "source": [
    "## 2.4 空间融合与拆分"
   ]
  },
  {
   "cell_type": "markdown",
   "metadata": {},
   "source": [
    "- **dissolve()**"
   ]
  },
  {
   "cell_type": "code",
   "execution_count": 147,
   "metadata": {},
   "outputs": [
    {
     "data": {
      "text/html": [
       "<div>\n",
       "<style scoped>\n",
       "    .dataframe tbody tr th:only-of-type {\n",
       "        vertical-align: middle;\n",
       "    }\n",
       "\n",
       "    .dataframe tbody tr th {\n",
       "        vertical-align: top;\n",
       "    }\n",
       "\n",
       "    .dataframe thead th {\n",
       "        text-align: right;\n",
       "    }\n",
       "</style>\n",
       "<table border=\"1\" class=\"dataframe\">\n",
       "  <thead>\n",
       "    <tr style=\"text-align: right;\">\n",
       "      <th></th>\n",
       "      <th>pop_est</th>\n",
       "      <th>continent</th>\n",
       "      <th>name</th>\n",
       "      <th>iso_a3</th>\n",
       "      <th>gdp_md_est</th>\n",
       "      <th>geometry</th>\n",
       "      <th>less_than_median_gdp</th>\n",
       "    </tr>\n",
       "  </thead>\n",
       "  <tbody>\n",
       "    <tr>\n",
       "      <th>0</th>\n",
       "      <td>920938</td>\n",
       "      <td>Oceania</td>\n",
       "      <td>Fiji</td>\n",
       "      <td>FJI</td>\n",
       "      <td>8374.0</td>\n",
       "      <td>MULTIPOLYGON (((180.00000 -16.06713, 180.00000...</td>\n",
       "      <td>1</td>\n",
       "    </tr>\n",
       "    <tr>\n",
       "      <th>1</th>\n",
       "      <td>53950935</td>\n",
       "      <td>Africa</td>\n",
       "      <td>Tanzania</td>\n",
       "      <td>TZA</td>\n",
       "      <td>150600.0</td>\n",
       "      <td>POLYGON ((33.90371 -0.95000, 34.07262 -1.05982...</td>\n",
       "      <td>0</td>\n",
       "    </tr>\n",
       "    <tr>\n",
       "      <th>2</th>\n",
       "      <td>603253</td>\n",
       "      <td>Africa</td>\n",
       "      <td>W. Sahara</td>\n",
       "      <td>ESH</td>\n",
       "      <td>906.5</td>\n",
       "      <td>POLYGON ((-8.66559 27.65643, -8.66512 27.58948...</td>\n",
       "      <td>1</td>\n",
       "    </tr>\n",
       "    <tr>\n",
       "      <th>3</th>\n",
       "      <td>35623680</td>\n",
       "      <td>North America</td>\n",
       "      <td>Canada</td>\n",
       "      <td>CAN</td>\n",
       "      <td>1674000.0</td>\n",
       "      <td>MULTIPOLYGON (((-122.84000 49.00000, -122.9742...</td>\n",
       "      <td>0</td>\n",
       "    </tr>\n",
       "    <tr>\n",
       "      <th>4</th>\n",
       "      <td>326625791</td>\n",
       "      <td>North America</td>\n",
       "      <td>United States of America</td>\n",
       "      <td>USA</td>\n",
       "      <td>18560000.0</td>\n",
       "      <td>MULTIPOLYGON (((-122.84000 49.00000, -120.0000...</td>\n",
       "      <td>0</td>\n",
       "    </tr>\n",
       "  </tbody>\n",
       "</table>\n",
       "</div>"
      ],
      "text/plain": [
       "     pop_est      continent                      name iso_a3  gdp_md_est  \\\n",
       "0     920938        Oceania                      Fiji    FJI      8374.0   \n",
       "1   53950935         Africa                  Tanzania    TZA    150600.0   \n",
       "2     603253         Africa                 W. Sahara    ESH       906.5   \n",
       "3   35623680  North America                    Canada    CAN   1674000.0   \n",
       "4  326625791  North America  United States of America    USA  18560000.0   \n",
       "\n",
       "                                            geometry  less_than_median_gdp  \n",
       "0  MULTIPOLYGON (((180.00000 -16.06713, 180.00000...                     1  \n",
       "1  POLYGON ((33.90371 -0.95000, 34.07262 -1.05982...                     0  \n",
       "2  POLYGON ((-8.66559 27.65643, -8.66512 27.58948...                     1  \n",
       "3  MULTIPOLYGON (((-122.84000 49.00000, -122.9742...                     0  \n",
       "4  MULTIPOLYGON (((-122.84000 49.00000, -120.0000...                     0  "
      ]
     },
     "execution_count": 147,
     "metadata": {},
     "output_type": "execute_result"
    }
   ],
   "source": [
    "median = world['gdp_md_est'].median()\n",
    "world['less_than_median_gdp'] = world['gdp_md_est'].apply(lambda x: 1 if x < median else 0)\n",
    "world.head()"
   ]
  },
  {
   "cell_type": "code",
   "execution_count": 152,
   "metadata": {},
   "outputs": [
    {
     "data": {
      "text/html": [
       "<div>\n",
       "<style scoped>\n",
       "    .dataframe tbody tr th:only-of-type {\n",
       "        vertical-align: middle;\n",
       "    }\n",
       "\n",
       "    .dataframe tbody tr th {\n",
       "        vertical-align: top;\n",
       "    }\n",
       "\n",
       "    .dataframe thead th {\n",
       "        text-align: right;\n",
       "    }\n",
       "</style>\n",
       "<table border=\"1\" class=\"dataframe\">\n",
       "  <thead>\n",
       "    <tr style=\"text-align: right;\">\n",
       "      <th></th>\n",
       "      <th>geometry</th>\n",
       "      <th>pop_est</th>\n",
       "      <th>gdp_md_est</th>\n",
       "    </tr>\n",
       "    <tr>\n",
       "      <th>continent</th>\n",
       "      <th></th>\n",
       "      <th></th>\n",
       "      <th></th>\n",
       "    </tr>\n",
       "  </thead>\n",
       "  <tbody>\n",
       "    <tr>\n",
       "      <th>Africa</th>\n",
       "      <td>MULTIPOLYGON (((32.830 -26.742, 32.580 -27.470...</td>\n",
       "      <td>1219176238</td>\n",
       "      <td>6025295.50</td>\n",
       "    </tr>\n",
       "    <tr>\n",
       "      <th>Antarctica</th>\n",
       "      <td>MULTIPOLYGON (((-163.713 -78.596, -163.713 -78...</td>\n",
       "      <td>4050</td>\n",
       "      <td>810.00</td>\n",
       "    </tr>\n",
       "    <tr>\n",
       "      <th>Asia</th>\n",
       "      <td>MULTIPOLYGON (((120.295 -10.259, 118.968 -9.55...</td>\n",
       "      <td>4389144868</td>\n",
       "      <td>55434607.77</td>\n",
       "    </tr>\n",
       "    <tr>\n",
       "      <th>Europe</th>\n",
       "      <td>MULTIPOLYGON (((-51.658 4.156, -52.249 3.241, ...</td>\n",
       "      <td>746398461</td>\n",
       "      <td>25284877.00</td>\n",
       "    </tr>\n",
       "    <tr>\n",
       "      <th>North America</th>\n",
       "      <td>MULTIPOLYGON (((-61.680 10.760, -61.105 10.890...</td>\n",
       "      <td>573042112</td>\n",
       "      <td>23505137.00</td>\n",
       "    </tr>\n",
       "    <tr>\n",
       "      <th>Oceania</th>\n",
       "      <td>MULTIPOLYGON (((169.668 -43.555, 170.525 -43.0...</td>\n",
       "      <td>36782844</td>\n",
       "      <td>1412885.00</td>\n",
       "    </tr>\n",
       "    <tr>\n",
       "      <th>Seven seas (open ocean)</th>\n",
       "      <td>POLYGON ((68.935 -48.625, 69.580 -48.940, 70.5...</td>\n",
       "      <td>140</td>\n",
       "      <td>16.00</td>\n",
       "    </tr>\n",
       "    <tr>\n",
       "      <th>South America</th>\n",
       "      <td>MULTIPOLYGON (((-66.960 -54.897, -67.291 -55.3...</td>\n",
       "      <td>418540749</td>\n",
       "      <td>6377091.80</td>\n",
       "    </tr>\n",
       "  </tbody>\n",
       "</table>\n",
       "</div>"
      ],
      "text/plain": [
       "                                                                  geometry  \\\n",
       "continent                                                                    \n",
       "Africa                   MULTIPOLYGON (((32.830 -26.742, 32.580 -27.470...   \n",
       "Antarctica               MULTIPOLYGON (((-163.713 -78.596, -163.713 -78...   \n",
       "Asia                     MULTIPOLYGON (((120.295 -10.259, 118.968 -9.55...   \n",
       "Europe                   MULTIPOLYGON (((-51.658 4.156, -52.249 3.241, ...   \n",
       "North America            MULTIPOLYGON (((-61.680 10.760, -61.105 10.890...   \n",
       "Oceania                  MULTIPOLYGON (((169.668 -43.555, 170.525 -43.0...   \n",
       "Seven seas (open ocean)  POLYGON ((68.935 -48.625, 69.580 -48.940, 70.5...   \n",
       "South America            MULTIPOLYGON (((-66.960 -54.897, -67.291 -55.3...   \n",
       "\n",
       "                            pop_est   gdp_md_est  \n",
       "continent                                         \n",
       "Africa                   1219176238   6025295.50  \n",
       "Antarctica                     4050       810.00  \n",
       "Asia                     4389144868  55434607.77  \n",
       "Europe                    746398461  25284877.00  \n",
       "North America             573042112  23505137.00  \n",
       "Oceania                    36782844   1412885.00  \n",
       "Seven seas (open ocean)         140        16.00  \n",
       "South America             418540749   6377091.80  "
      ]
     },
     "execution_count": 152,
     "metadata": {},
     "output_type": "execute_result"
    }
   ],
   "source": [
    "world.dissolve(by='continent', aggfunc={'pop_est': 'sum',\n",
    "                                        'gdp_md_est': 'sum'})"
   ]
  },
  {
   "cell_type": "markdown",
   "metadata": {},
   "source": [
    "- **explode()**"
   ]
  },
  {
   "cell_type": "code",
   "execution_count": 153,
   "metadata": {},
   "outputs": [
    {
     "data": {
      "text/html": [
       "<div>\n",
       "<style scoped>\n",
       "    .dataframe tbody tr th:only-of-type {\n",
       "        vertical-align: middle;\n",
       "    }\n",
       "\n",
       "    .dataframe tbody tr th {\n",
       "        vertical-align: top;\n",
       "    }\n",
       "\n",
       "    .dataframe thead th {\n",
       "        text-align: right;\n",
       "    }\n",
       "</style>\n",
       "<table border=\"1\" class=\"dataframe\">\n",
       "  <thead>\n",
       "    <tr style=\"text-align: right;\">\n",
       "      <th></th>\n",
       "      <th>value1</th>\n",
       "      <th>value2</th>\n",
       "      <th>geometry</th>\n",
       "    </tr>\n",
       "  </thead>\n",
       "  <tbody>\n",
       "    <tr>\n",
       "      <th>0</th>\n",
       "      <td>1</td>\n",
       "      <td>a</td>\n",
       "      <td>MULTIPOINT (0.00000 0.00000, 1.00000 1.00000, ...</td>\n",
       "    </tr>\n",
       "  </tbody>\n",
       "</table>\n",
       "</div>"
      ],
      "text/plain": [
       "   value1 value2                                           geometry\n",
       "0       1      a  MULTIPOINT (0.00000 0.00000, 1.00000 1.00000, ..."
      ]
     },
     "execution_count": 153,
     "metadata": {},
     "output_type": "execute_result"
    }
   ],
   "source": [
    "gpd.GeoDataFrame({\n",
    "    'value1': [1],\n",
    "    'value2': ['a'],\n",
    "    'geometry': [shapely.geometry.MultiPoint([(0, 0), (1, 1), (2, 3)])]\n",
    "})"
   ]
  },
  {
   "cell_type": "code",
   "execution_count": 154,
   "metadata": {},
   "outputs": [
    {
     "data": {
      "text/html": [
       "<div>\n",
       "<style scoped>\n",
       "    .dataframe tbody tr th:only-of-type {\n",
       "        vertical-align: middle;\n",
       "    }\n",
       "\n",
       "    .dataframe tbody tr th {\n",
       "        vertical-align: top;\n",
       "    }\n",
       "\n",
       "    .dataframe thead th {\n",
       "        text-align: right;\n",
       "    }\n",
       "</style>\n",
       "<table border=\"1\" class=\"dataframe\">\n",
       "  <thead>\n",
       "    <tr style=\"text-align: right;\">\n",
       "      <th></th>\n",
       "      <th></th>\n",
       "      <th>value1</th>\n",
       "      <th>value2</th>\n",
       "      <th>geometry</th>\n",
       "    </tr>\n",
       "  </thead>\n",
       "  <tbody>\n",
       "    <tr>\n",
       "      <th rowspan=\"3\" valign=\"top\">0</th>\n",
       "      <th>0</th>\n",
       "      <td>1</td>\n",
       "      <td>a</td>\n",
       "      <td>POINT (0.00000 0.00000)</td>\n",
       "    </tr>\n",
       "    <tr>\n",
       "      <th>1</th>\n",
       "      <td>1</td>\n",
       "      <td>a</td>\n",
       "      <td>POINT (1.00000 1.00000)</td>\n",
       "    </tr>\n",
       "    <tr>\n",
       "      <th>2</th>\n",
       "      <td>1</td>\n",
       "      <td>a</td>\n",
       "      <td>POINT (2.00000 3.00000)</td>\n",
       "    </tr>\n",
       "  </tbody>\n",
       "</table>\n",
       "</div>"
      ],
      "text/plain": [
       "     value1 value2                 geometry\n",
       "0 0       1      a  POINT (0.00000 0.00000)\n",
       "  1       1      a  POINT (1.00000 1.00000)\n",
       "  2       1      a  POINT (2.00000 3.00000)"
      ]
     },
     "execution_count": 154,
     "metadata": {},
     "output_type": "execute_result"
    }
   ],
   "source": [
    "gpd.GeoDataFrame({\n",
    "    'value1': [1],\n",
    "    'value2': ['a'],\n",
    "    'geometry': [shapely.geometry.MultiPoint([(0, 0), (1, 1), (2, 3)])]\n",
    "}).explode()"
   ]
  }
 ],
 "metadata": {
  "kernelspec": {
   "display_name": "Python 3",
   "language": "python",
   "name": "python3"
  },
  "language_info": {
   "codemirror_mode": {
    "name": "ipython",
    "version": 3
   },
   "file_extension": ".py",
   "mimetype": "text/x-python",
   "name": "python",
   "nbconvert_exporter": "python",
   "pygments_lexer": "ipython3",
   "version": "3.9.7"
  },
  "widgets": {
   "application/vnd.jupyter.widget-state+json": {
    "state": {},
    "version_major": 2,
    "version_minor": 0
   }
  }
 },
 "nbformat": 4,
 "nbformat_minor": 4
}
