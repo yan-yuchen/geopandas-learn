{
 "cells": [
  {
   "cell_type": "code",
   "execution_count": 1,
   "metadata": {},
   "outputs": [],
   "source": [
    "import json\n",
    "import time\n",
    "\n",
    "with open('geometry/重庆市渝中区_osm路网_道路.geojson') as g:\n",
    "    raw_roads = json.load(g)"
   ]
  },
  {
   "cell_type": "code",
   "execution_count": 2,
   "metadata": {},
   "outputs": [
    {
     "data": {
      "text/plain": [
       "{'type': 'Feature',\n",
       " 'properties': {'NAME': '39874499'},\n",
       " 'geometry': {'type': 'LineString',\n",
       "  'coordinates': [[106.5635507, 29.5752053],\n",
       "   [106.5633808, 29.5732665],\n",
       "   [106.5628144, 29.5687874],\n",
       "   [106.5626684, 29.5679961],\n",
       "   [106.5624624, 29.5664881],\n",
       "   [106.5623701, 29.5657564],\n",
       "   [106.5621303, 29.5641204]]}}"
      ]
     },
     "execution_count": 2,
     "metadata": {},
     "output_type": "execute_result"
    }
   ],
   "source": [
    "raw_roads['features'][1]"
   ]
  },
  {
   "cell_type": "code",
   "execution_count": 3,
   "metadata": {},
   "outputs": [],
   "source": [
    "start_time = time.mktime(time.strptime('2020-05-29 20:00:00', \"%Y-%m-%d %H:%M:%S\"))\n",
    "\n",
    "for i in range(raw_roads['features'].__len__()):\n",
    "    for j in range(raw_roads['features'][i]['geometry']['coordinates'].__len__()):\n",
    "        \n",
    "        shift_time = int((j / raw_roads['features'][i]['geometry']['coordinates'].__len__())*3600) # 更新当前对应的时间戳\n",
    "        \n",
    "        raw_roads['features'][i]['geometry']['coordinates'][j] \\\n",
    "            .extend([0, # 高度设置为0\n",
    "                     int(start_time) + shift_time])"
   ]
  },
  {
   "cell_type": "code",
   "execution_count": 4,
   "metadata": {},
   "outputs": [
    {
     "data": {
      "text/plain": [
       "{'type': 'Feature',\n",
       " 'properties': {'NAME': '39874499'},\n",
       " 'geometry': {'type': 'LineString',\n",
       "  'coordinates': [[106.5635507, 29.5752053, 0, 1590753600],\n",
       "   [106.5633808, 29.5732665, 0, 1590754114],\n",
       "   [106.5628144, 29.5687874, 0, 1590754628],\n",
       "   [106.5626684, 29.5679961, 0, 1590755142],\n",
       "   [106.5624624, 29.5664881, 0, 1590755657],\n",
       "   [106.5623701, 29.5657564, 0, 1590756171],\n",
       "   [106.5621303, 29.5641204, 0, 1590756685]]}}"
      ]
     },
     "execution_count": 4,
     "metadata": {},
     "output_type": "execute_result"
    }
   ],
   "source": [
    "raw_roads['features'][1]"
   ]
  },
  {
   "cell_type": "code",
   "execution_count": 5,
   "metadata": {},
   "outputs": [
    {
     "name": "stdout",
     "output_type": "stream",
     "text": [
      "User Guide: https://docs.kepler.gl/docs/keplergl-jupyter\n"
     ]
    },
    {
     "data": {
      "application/vnd.jupyter.widget-view+json": {
       "model_id": "f2b701e3942e4fdc8da5257ace68c979",
       "version_major": 2,
       "version_minor": 0
      },
      "text/plain": [
       "KeplerGl(data={'flow': {'type': 'FeatureCollection', 'crs': {'type': 'name', 'properties': {'name': 'urn:ogc:d…"
      ]
     },
     "metadata": {},
     "output_type": "display_data"
    }
   ],
   "source": [
    "from keplergl import KeplerGl\n",
    "# 生成KeplerGl对象s\n",
    "map1 = KeplerGl(height=400, \n",
    "                data={'flow': raw_roads}) # data以图层名为键，对应的矢量数据为值\n",
    "map1"
   ]
  },
  {
   "cell_type": "code",
   "execution_count": 6,
   "metadata": {},
   "outputs": [
    {
     "name": "stdout",
     "output_type": "stream",
     "text": [
      "Map saved to 渝中区.html!\n"
     ]
    }
   ],
   "source": [
    "map1.save_to_html(file_name='渝中区.html') # 导出到本地可编辑html文件"
   ]
  }
 ],
 "metadata": {
  "interpreter": {
   "hash": "37b255bb5dc0d995b91bd1b934b878e610a26475f52eafaf29fdb395fb105534"
  },
  "kernelspec": {
   "display_name": "Python 3.9.7 ('base')",
   "language": "python",
   "name": "python3"
  },
  "language_info": {
   "codemirror_mode": {
    "name": "ipython",
    "version": 3
   },
   "file_extension": ".py",
   "mimetype": "text/x-python",
   "name": "python",
   "nbconvert_exporter": "python",
   "pygments_lexer": "ipython3",
   "version": "3.9.7"
  },
  "orig_nbformat": 4
 },
 "nbformat": 4,
 "nbformat_minor": 2
}
