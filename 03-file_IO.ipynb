{
 "cells": [
  {
   "cell_type": "markdown",
   "metadata": {},
   "source": [
    "# 2 文件IO\n",
    "## 2.1 矢量文件的读入\n",
    "## 2.2 矢量文件的写出\n",
    "### 2.1.1 shapefile\n",
    "- **完整的shapefile**"
   ]
  },
  {
   "cell_type": "code",
   "execution_count": 1,
   "metadata": {},
   "outputs": [
    {
     "name": "stderr",
     "output_type": "stream",
     "text": [
      "C:\\Program Files\\Python37\\lib\\site-packages\\geopandas\\_compat.py:115: UserWarning: The Shapely GEOS version (3.9.1-CAPI-1.14.2) is incompatible with the GEOS version PyGEOS was compiled with (3.10.0-CAPI-1.16.0). Conversions between both will be slow.\n",
      "  shapely_geos_version, geos_capi_version_string\n"
     ]
    },
    {
     "name": "stdout",
     "output_type": "stream",
     "text": [
      "epsg:4326\n"
     ]
    },
    {
     "data": {
      "text/html": [
       "<div>\n",
       "<style scoped>\n",
       "    .dataframe tbody tr th:only-of-type {\n",
       "        vertical-align: middle;\n",
       "    }\n",
       "\n",
       "    .dataframe tbody tr th {\n",
       "        vertical-align: top;\n",
       "    }\n",
       "\n",
       "    .dataframe thead th {\n",
       "        text-align: right;\n",
       "    }\n",
       "</style>\n",
       "<table border=\"1\" class=\"dataframe\">\n",
       "  <thead>\n",
       "    <tr style=\"text-align: right;\">\n",
       "      <th></th>\n",
       "      <th>NAME</th>\n",
       "      <th>geometry</th>\n",
       "    </tr>\n",
       "  </thead>\n",
       "  <tbody>\n",
       "    <tr>\n",
       "      <th>0</th>\n",
       "      <td>上海市</td>\n",
       "      <td>POLYGON ((121.26507 30.69900, 121.26502 30.699...</td>\n",
       "    </tr>\n",
       "    <tr>\n",
       "      <th>1</th>\n",
       "      <td>云南省</td>\n",
       "      <td>POLYGON ((99.10984 29.25104, 99.11170 29.24993...</td>\n",
       "    </tr>\n",
       "    <tr>\n",
       "      <th>2</th>\n",
       "      <td>内蒙古自治区</td>\n",
       "      <td>POLYGON ((106.82306 38.16423, 106.82241 38.164...</td>\n",
       "    </tr>\n",
       "    <tr>\n",
       "      <th>3</th>\n",
       "      <td>北京市</td>\n",
       "      <td>POLYGON ((116.45671 40.76884, 116.45995 40.770...</td>\n",
       "    </tr>\n",
       "    <tr>\n",
       "      <th>4</th>\n",
       "      <td>台湾省</td>\n",
       "      <td>POLYGON ((121.50042 25.28757, 121.50481 25.287...</td>\n",
       "    </tr>\n",
       "  </tbody>\n",
       "</table>\n",
       "</div>"
      ],
      "text/plain": [
       "     NAME                                           geometry\n",
       "0     上海市  POLYGON ((121.26507 30.69900, 121.26502 30.699...\n",
       "1     云南省  POLYGON ((99.10984 29.25104, 99.11170 29.24993...\n",
       "2  内蒙古自治区  POLYGON ((106.82306 38.16423, 106.82241 38.164...\n",
       "3     北京市  POLYGON ((116.45671 40.76884, 116.45995 40.770...\n",
       "4     台湾省  POLYGON ((121.50042 25.28757, 121.50481 25.287..."
      ]
     },
     "execution_count": 1,
     "metadata": {},
     "output_type": "execute_result"
    }
   ],
   "source": [
    "import geopandas as gpd\n",
    "\n",
    "data = gpd.read_file('geometry/china_provinces/china_provinces.shp')\n",
    "print(data.crs) # 查看数据对应的crs\n",
    "data.head() # 查看前5行"
   ]
  },
  {
   "cell_type": "markdown",
   "metadata": {},
   "source": [
    "- **缺少投影的shapefile**"
   ]
  },
  {
   "cell_type": "code",
   "execution_count": 2,
   "metadata": {},
   "outputs": [
    {
     "name": "stdout",
     "output_type": "stream",
     "text": [
      "None\n"
     ]
    }
   ],
   "source": [
    "data = gpd.read_file('geometry/china_provinces_without_crs/china_provinces.shp')\n",
    "print(data.crs) # 查看数据对应的crs"
   ]
  },
  {
   "cell_type": "markdown",
   "metadata": {},
   "source": [
    "如果已经知道数据对应的CRS，可以在读入数据后补充上crs信息以进行其他操作："
   ]
  },
  {
   "cell_type": "code",
   "execution_count": 3,
   "metadata": {},
   "outputs": [
    {
     "data": {
      "text/plain": [
       "<Geographic 2D CRS: EPSG:4326>\n",
       "Name: WGS 84\n",
       "Axis Info [ellipsoidal]:\n",
       "- Lat[north]: Geodetic latitude (degree)\n",
       "- Lon[east]: Geodetic longitude (degree)\n",
       "Area of Use:\n",
       "- name: World.\n",
       "- bounds: (-180.0, -90.0, 180.0, 90.0)\n",
       "Datum: World Geodetic System 1984 ensemble\n",
       "- Ellipsoid: WGS 84\n",
       "- Prime Meridian: Greenwich"
      ]
     },
     "execution_count": 3,
     "metadata": {},
     "output_type": "execute_result"
    }
   ],
   "source": [
    "import pyproj\n",
    "\n",
    "data.crs = pyproj.CRS.from_user_input('EPSG:4326')\n",
    "data.crs"
   ]
  },
  {
   "cell_type": "markdown",
   "metadata": {},
   "source": [
    "- **直接读取文件夹**"
   ]
  },
  {
   "cell_type": "code",
   "execution_count": 4,
   "metadata": {},
   "outputs": [
    {
     "name": "stdout",
     "output_type": "stream",
     "text": [
      "epsg:4326\n"
     ]
    },
    {
     "data": {
      "text/html": [
       "<div>\n",
       "<style scoped>\n",
       "    .dataframe tbody tr th:only-of-type {\n",
       "        vertical-align: middle;\n",
       "    }\n",
       "\n",
       "    .dataframe tbody tr th {\n",
       "        vertical-align: top;\n",
       "    }\n",
       "\n",
       "    .dataframe thead th {\n",
       "        text-align: right;\n",
       "    }\n",
       "</style>\n",
       "<table border=\"1\" class=\"dataframe\">\n",
       "  <thead>\n",
       "    <tr style=\"text-align: right;\">\n",
       "      <th></th>\n",
       "      <th>NAME</th>\n",
       "      <th>geometry</th>\n",
       "    </tr>\n",
       "  </thead>\n",
       "  <tbody>\n",
       "    <tr>\n",
       "      <th>0</th>\n",
       "      <td>上海市</td>\n",
       "      <td>POLYGON ((121.26507 30.69900, 121.26502 30.699...</td>\n",
       "    </tr>\n",
       "    <tr>\n",
       "      <th>1</th>\n",
       "      <td>云南省</td>\n",
       "      <td>POLYGON ((99.10984 29.25104, 99.11170 29.24993...</td>\n",
       "    </tr>\n",
       "    <tr>\n",
       "      <th>2</th>\n",
       "      <td>内蒙古自治区</td>\n",
       "      <td>POLYGON ((106.82306 38.16423, 106.82241 38.164...</td>\n",
       "    </tr>\n",
       "    <tr>\n",
       "      <th>3</th>\n",
       "      <td>北京市</td>\n",
       "      <td>POLYGON ((116.45671 40.76884, 116.45995 40.770...</td>\n",
       "    </tr>\n",
       "    <tr>\n",
       "      <th>4</th>\n",
       "      <td>台湾省</td>\n",
       "      <td>POLYGON ((121.50042 25.28757, 121.50481 25.287...</td>\n",
       "    </tr>\n",
       "  </tbody>\n",
       "</table>\n",
       "</div>"
      ],
      "text/plain": [
       "     NAME                                           geometry\n",
       "0     上海市  POLYGON ((121.26507 30.69900, 121.26502 30.699...\n",
       "1     云南省  POLYGON ((99.10984 29.25104, 99.11170 29.24993...\n",
       "2  内蒙古自治区  POLYGON ((106.82306 38.16423, 106.82241 38.164...\n",
       "3     北京市  POLYGON ((116.45671 40.76884, 116.45995 40.770...\n",
       "4     台湾省  POLYGON ((121.50042 25.28757, 121.50481 25.287..."
      ]
     },
     "execution_count": 4,
     "metadata": {},
     "output_type": "execute_result"
    }
   ],
   "source": [
    "data = gpd.read_file('geometry\\china_provinces')\n",
    "print(data.crs) # 查看数据对应的crs\n",
    "data.head() # 查看前5行"
   ]
  },
  {
   "cell_type": "markdown",
   "metadata": {},
   "source": [
    "- **读取zip压缩包中的文件**："
   ]
  },
  {
   "cell_type": "code",
   "execution_count": 5,
   "metadata": {},
   "outputs": [
    {
     "name": "stdout",
     "output_type": "stream",
     "text": [
      "epsg:4326\n"
     ]
    },
    {
     "data": {
      "text/html": [
       "<div>\n",
       "<style scoped>\n",
       "    .dataframe tbody tr th:only-of-type {\n",
       "        vertical-align: middle;\n",
       "    }\n",
       "\n",
       "    .dataframe tbody tr th {\n",
       "        vertical-align: top;\n",
       "    }\n",
       "\n",
       "    .dataframe thead th {\n",
       "        text-align: right;\n",
       "    }\n",
       "</style>\n",
       "<table border=\"1\" class=\"dataframe\">\n",
       "  <thead>\n",
       "    <tr style=\"text-align: right;\">\n",
       "      <th></th>\n",
       "      <th>NAME</th>\n",
       "      <th>geometry</th>\n",
       "    </tr>\n",
       "  </thead>\n",
       "  <tbody>\n",
       "    <tr>\n",
       "      <th>0</th>\n",
       "      <td>上海市</td>\n",
       "      <td>POLYGON ((121.26507 30.69900, 121.26502 30.699...</td>\n",
       "    </tr>\n",
       "    <tr>\n",
       "      <th>1</th>\n",
       "      <td>云南省</td>\n",
       "      <td>POLYGON ((99.10984 29.25104, 99.11170 29.24993...</td>\n",
       "    </tr>\n",
       "    <tr>\n",
       "      <th>2</th>\n",
       "      <td>内蒙古自治区</td>\n",
       "      <td>POLYGON ((106.82306 38.16423, 106.82241 38.164...</td>\n",
       "    </tr>\n",
       "    <tr>\n",
       "      <th>3</th>\n",
       "      <td>北京市</td>\n",
       "      <td>POLYGON ((116.45671 40.76884, 116.45995 40.770...</td>\n",
       "    </tr>\n",
       "    <tr>\n",
       "      <th>4</th>\n",
       "      <td>台湾省</td>\n",
       "      <td>POLYGON ((121.50042 25.28757, 121.50481 25.287...</td>\n",
       "    </tr>\n",
       "  </tbody>\n",
       "</table>\n",
       "</div>"
      ],
      "text/plain": [
       "     NAME                                           geometry\n",
       "0     上海市  POLYGON ((121.26507 30.69900, 121.26502 30.699...\n",
       "1     云南省  POLYGON ((99.10984 29.25104, 99.11170 29.24993...\n",
       "2  内蒙古自治区  POLYGON ((106.82306 38.16423, 106.82241 38.164...\n",
       "3     北京市  POLYGON ((116.45671 40.76884, 116.45995 40.770...\n",
       "4     台湾省  POLYGON ((121.50042 25.28757, 121.50481 25.287..."
      ]
     },
     "execution_count": 5,
     "metadata": {},
     "output_type": "execute_result"
    }
   ],
   "source": [
    "data = gpd.read_file('zip://geometry/china_provinces_.zip')\n",
    "print(data.crs) # 查看数据对应的crs\n",
    "data.head() # 查看前5行"
   ]
  },
  {
   "cell_type": "markdown",
   "metadata": {},
   "source": [
    "### 2.1.2 gdb与gpkg\n",
    "- **gdb**"
   ]
  },
  {
   "cell_type": "code",
   "execution_count": 6,
   "metadata": {},
   "outputs": [
    {
     "name": "stdout",
     "output_type": "stream",
     "text": [
      "epsg:4326\n"
     ]
    },
    {
     "data": {
      "text/html": [
       "<div>\n",
       "<style scoped>\n",
       "    .dataframe tbody tr th:only-of-type {\n",
       "        vertical-align: middle;\n",
       "    }\n",
       "\n",
       "    .dataframe tbody tr th {\n",
       "        vertical-align: top;\n",
       "    }\n",
       "\n",
       "    .dataframe thead th {\n",
       "        text-align: right;\n",
       "    }\n",
       "</style>\n",
       "<table border=\"1\" class=\"dataframe\">\n",
       "  <thead>\n",
       "    <tr style=\"text-align: right;\">\n",
       "      <th></th>\n",
       "      <th>NAME</th>\n",
       "      <th>Shape_Length</th>\n",
       "      <th>Shape_Area</th>\n",
       "      <th>geometry</th>\n",
       "    </tr>\n",
       "  </thead>\n",
       "  <tbody>\n",
       "    <tr>\n",
       "      <th>0</th>\n",
       "      <td>上海市</td>\n",
       "      <td>5.318338</td>\n",
       "      <td>1.045633</td>\n",
       "      <td>MULTIPOLYGON (((121.26507 30.69900, 121.26502 ...</td>\n",
       "    </tr>\n",
       "    <tr>\n",
       "      <th>1</th>\n",
       "      <td>云南省</td>\n",
       "      <td>63.186939</td>\n",
       "      <td>34.274694</td>\n",
       "      <td>MULTIPOLYGON (((99.10984 29.25104, 99.11170 29...</td>\n",
       "    </tr>\n",
       "    <tr>\n",
       "      <th>2</th>\n",
       "      <td>内蒙古自治区</td>\n",
       "      <td>136.955559</td>\n",
       "      <td>128.846038</td>\n",
       "      <td>MULTIPOLYGON (((106.82306 38.16424, 106.82241 ...</td>\n",
       "    </tr>\n",
       "    <tr>\n",
       "      <th>3</th>\n",
       "      <td>北京市</td>\n",
       "      <td>9.198662</td>\n",
       "      <td>1.731521</td>\n",
       "      <td>MULTIPOLYGON (((116.45671 40.76884, 116.45995 ...</td>\n",
       "    </tr>\n",
       "    <tr>\n",
       "      <th>4</th>\n",
       "      <td>台湾省</td>\n",
       "      <td>9.967244</td>\n",
       "      <td>3.186530</td>\n",
       "      <td>MULTIPOLYGON (((121.50042 25.28757, 121.50481 ...</td>\n",
       "    </tr>\n",
       "  </tbody>\n",
       "</table>\n",
       "</div>"
      ],
      "text/plain": [
       "     NAME  Shape_Length  Shape_Area  \\\n",
       "0     上海市      5.318338    1.045633   \n",
       "1     云南省     63.186939   34.274694   \n",
       "2  内蒙古自治区    136.955559  128.846038   \n",
       "3     北京市      9.198662    1.731521   \n",
       "4     台湾省      9.967244    3.186530   \n",
       "\n",
       "                                            geometry  \n",
       "0  MULTIPOLYGON (((121.26507 30.69900, 121.26502 ...  \n",
       "1  MULTIPOLYGON (((99.10984 29.25104, 99.11170 29...  \n",
       "2  MULTIPOLYGON (((106.82306 38.16424, 106.82241 ...  \n",
       "3  MULTIPOLYGON (((116.45671 40.76884, 116.45995 ...  \n",
       "4  MULTIPOLYGON (((121.50042 25.28757, 121.50481 ...  "
      ]
     },
     "execution_count": 6,
     "metadata": {},
     "output_type": "execute_result"
    }
   ],
   "source": [
    "data = gpd.read_file('geometry/china_provinces.gdb', \n",
    "                     layer='china_provinces')\n",
    "print(data.crs) # 查看数据对应的crs\n",
    "data.head() # 查看前5行"
   ]
  },
  {
   "cell_type": "markdown",
   "metadata": {},
   "source": [
    "- **gpkg**"
   ]
  },
  {
   "cell_type": "code",
   "execution_count": 7,
   "metadata": {},
   "outputs": [
    {
     "name": "stdout",
     "output_type": "stream",
     "text": [
      "epsg:4326\n"
     ]
    },
    {
     "data": {
      "text/html": [
       "<div>\n",
       "<style scoped>\n",
       "    .dataframe tbody tr th:only-of-type {\n",
       "        vertical-align: middle;\n",
       "    }\n",
       "\n",
       "    .dataframe tbody tr th {\n",
       "        vertical-align: top;\n",
       "    }\n",
       "\n",
       "    .dataframe thead th {\n",
       "        text-align: right;\n",
       "    }\n",
       "</style>\n",
       "<table border=\"1\" class=\"dataframe\">\n",
       "  <thead>\n",
       "    <tr style=\"text-align: right;\">\n",
       "      <th></th>\n",
       "      <th>NAME</th>\n",
       "      <th>geometry</th>\n",
       "    </tr>\n",
       "  </thead>\n",
       "  <tbody>\n",
       "    <tr>\n",
       "      <th>0</th>\n",
       "      <td>上海市</td>\n",
       "      <td>POLYGON ((121.26507 30.69900, 121.26502 30.699...</td>\n",
       "    </tr>\n",
       "    <tr>\n",
       "      <th>1</th>\n",
       "      <td>云南省</td>\n",
       "      <td>POLYGON ((99.10984 29.25104, 99.11170 29.24993...</td>\n",
       "    </tr>\n",
       "    <tr>\n",
       "      <th>2</th>\n",
       "      <td>内蒙古自治区</td>\n",
       "      <td>POLYGON ((106.82306 38.16423, 106.82241 38.164...</td>\n",
       "    </tr>\n",
       "    <tr>\n",
       "      <th>3</th>\n",
       "      <td>北京市</td>\n",
       "      <td>POLYGON ((116.45671 40.76884, 116.45995 40.770...</td>\n",
       "    </tr>\n",
       "    <tr>\n",
       "      <th>4</th>\n",
       "      <td>台湾省</td>\n",
       "      <td>POLYGON ((121.50042 25.28757, 121.50481 25.287...</td>\n",
       "    </tr>\n",
       "  </tbody>\n",
       "</table>\n",
       "</div>"
      ],
      "text/plain": [
       "     NAME                                           geometry\n",
       "0     上海市  POLYGON ((121.26507 30.69900, 121.26502 30.699...\n",
       "1     云南省  POLYGON ((99.10984 29.25104, 99.11170 29.24993...\n",
       "2  内蒙古自治区  POLYGON ((106.82306 38.16423, 106.82241 38.164...\n",
       "3     北京市  POLYGON ((116.45671 40.76884, 116.45995 40.770...\n",
       "4     台湾省  POLYGON ((121.50042 25.28757, 121.50481 25.287..."
      ]
     },
     "execution_count": 7,
     "metadata": {},
     "output_type": "execute_result"
    }
   ],
   "source": [
    "data = gpd.read_file('geometry/china_provinces.gpkg', \n",
    "                     layer='china_provinces',\n",
    "                     encoding='utf-8')\n",
    "print(data.crs) # 查看数据对应的crs\n",
    "data.head() # 查看前5行"
   ]
  },
  {
   "cell_type": "markdown",
   "metadata": {},
   "source": [
    "### 2.1.3 GeoJSON"
   ]
  },
  {
   "cell_type": "code",
   "execution_count": 8,
   "metadata": {},
   "outputs": [
    {
     "name": "stdout",
     "output_type": "stream",
     "text": [
      "epsg:4326\n"
     ]
    },
    {
     "data": {
      "text/html": [
       "<div>\n",
       "<style scoped>\n",
       "    .dataframe tbody tr th:only-of-type {\n",
       "        vertical-align: middle;\n",
       "    }\n",
       "\n",
       "    .dataframe tbody tr th {\n",
       "        vertical-align: top;\n",
       "    }\n",
       "\n",
       "    .dataframe thead th {\n",
       "        text-align: right;\n",
       "    }\n",
       "</style>\n",
       "<table border=\"1\" class=\"dataframe\">\n",
       "  <thead>\n",
       "    <tr style=\"text-align: right;\">\n",
       "      <th></th>\n",
       "      <th>NAME</th>\n",
       "      <th>geometry</th>\n",
       "    </tr>\n",
       "  </thead>\n",
       "  <tbody>\n",
       "    <tr>\n",
       "      <th>0</th>\n",
       "      <td>上海市</td>\n",
       "      <td>POLYGON ((121.26507 30.69900, 121.26502 30.699...</td>\n",
       "    </tr>\n",
       "    <tr>\n",
       "      <th>1</th>\n",
       "      <td>云南省</td>\n",
       "      <td>POLYGON ((99.10984 29.25104, 99.11170 29.24993...</td>\n",
       "    </tr>\n",
       "    <tr>\n",
       "      <th>2</th>\n",
       "      <td>内蒙古自治区</td>\n",
       "      <td>POLYGON ((106.82306 38.16423, 106.82241 38.164...</td>\n",
       "    </tr>\n",
       "    <tr>\n",
       "      <th>3</th>\n",
       "      <td>北京市</td>\n",
       "      <td>POLYGON ((116.45671 40.76884, 116.45995 40.770...</td>\n",
       "    </tr>\n",
       "    <tr>\n",
       "      <th>4</th>\n",
       "      <td>台湾省</td>\n",
       "      <td>POLYGON ((121.50042 25.28757, 121.50481 25.287...</td>\n",
       "    </tr>\n",
       "  </tbody>\n",
       "</table>\n",
       "</div>"
      ],
      "text/plain": [
       "     NAME                                           geometry\n",
       "0     上海市  POLYGON ((121.26507 30.69900, 121.26502 30.699...\n",
       "1     云南省  POLYGON ((99.10984 29.25104, 99.11170 29.24993...\n",
       "2  内蒙古自治区  POLYGON ((106.82306 38.16423, 106.82241 38.164...\n",
       "3     北京市  POLYGON ((116.45671 40.76884, 116.45995 40.770...\n",
       "4     台湾省  POLYGON ((121.50042 25.28757, 121.50481 25.287..."
      ]
     },
     "execution_count": 8,
     "metadata": {},
     "output_type": "execute_result"
    }
   ],
   "source": [
    "data = gpd.read_file('geometry/china_provinces.json')\n",
    "print(data.crs) # 查看数据对应的crs\n",
    "data.head() # 查看前5行"
   ]
  },
  {
   "cell_type": "markdown",
   "metadata": {},
   "source": [
    "### 2.1.4 过滤\n",
    "- **bbox过滤**"
   ]
  },
  {
   "cell_type": "code",
   "execution_count": 9,
   "metadata": {},
   "outputs": [
    {
     "data": {
      "application/vnd.jupyter.widget-view+json": {
       "model_id": "0fa06bf0145a4e30967a466e499cec9a",
       "version_major": 2,
       "version_minor": 0
      },
      "image/png": "[encoded data removed]",
      "text/html": [
       "\n",
       "            <div style=\"display: inline-block;\">\n",
       "                <div class=\"jupyter-widgets widget-label\" style=\"text-align: center;\">\n",
       "                    Figure\n",
       "                </div>\n",
       "                <img src='data:image/png;base64,iVBORw0KGgoAAAANSUhEUgAAAoAAAAHgCAYAAAA10dzkAAAAOXRFWHRTb2Z0d2FyZQBNYXRwbG90bGliIHZlcnNpb24zLjUuMSwgaHR0cHM6Ly9tYXRwbG90bGliLm9yZy/YYfK9AAAACXBIWXMAAA9hAAAPYQGoP6dpAABgCElEQVR4nO3dd3hb9d028Ptob8ny3nb2dMiOgYZAQkJoGSW0ZbRAXwqlBFpIZ9rytHQ8UDqgg0If2tJFoIUyChQoAZJACdl7OIljx3vK1rT2ef9wImK8HUlH8rk/1+XrwtLROd9jE/nWbwqiKIogIiIiItlQSF0AERERESUXAyARERGRzDAAEhEREckMAyARERGRzDAAEhEREckMAyARERGRzDAAEhEREckMAyARERGRzDAAEhEREckMAyARERGRzDAAEhEREckMAyARERGRzDAAEhEREckMAyARERGRzDAAEhEREckMAyARERGRzDAAEhEREckMAyARERGRzDAAEhEREckMAyARERGRzDAAEhEREckMAyARERGRzDAAEhEREckMAyARERGRzDAAEhEREckMAyARERGRzDAAEhEREckMAyARERGRzDAAEhEREckMAyARERGRzDAAEhEREckMAyARERGRzDAAEhEREckMAyARERGRzDAAEhEREckMAyARERGRzDAAEhEREckMAyARERGRzDAAEhEREckMAyARERGRzDAAEhEREckMAyARERGRzDAAEhEREckMAyARERGRzDAAEhEREckMAyARERGRzDAAEhEREckMAyARERGRzDAAEhEREckMAyARERGRzDAAEhEREckMAyARERGRzDAAEhEREckMAyARERGRzDAAEhEREckMAyARERGRzKikLoBICtFoFE1NTTCbzRAEQepyiCgNiaIIt9uNgoICKBRsT6H0wgBIstTU1ITi4mKpyyCicaC+vh5FRUVSl0E0KgyAJEtmsxlA7xu3xWKRuBoiSkculwvFxcWx9xOidMIASLJ0ptvXYrEwABLROeEwEkpHHLRAKeexxx5DRUVFLJxVVlbitddeiz2/bNkyCILQ5+uOO+6QsGIiIqL0whZASjlFRUV48MEHMXnyZIiiiD//+c+46qqrsGfPHsycORMAcNttt+EHP/hB7DUGg0GqcomIiNIOAyClnCuuuKLP9z/+8Y/x2GOP4YMPPogFQIPBgLy8PCnKIyIiSnvsAqaUFolE8Mwzz8Dr9aKysjL2+FNPPYWsrCzMmjUL69evh8/nk7BKIiKi9MIWQEpJBw4cQGVlJfx+P0wmE1544QXMmDEDAHDDDTegtLQUBQUF2L9/P775zW+iqqoKzz///KDnCwQCCAQCse9dLlfC74GIiChVCaIoilIXQfRRwWAQdXV1cDqdeO655/D73/8emzdvjoXAs7399ttYvnw5Tpw4gYkTJw54vu9///u4//77+z3udDo5C5iIxsTlcsFqtfJ9hNISAyClhRUrVmDixIn43e9+1+85r9cLk8mE119/HatWrRrw9QO1ABYXF/ONm4jGjAGQ0hm7gCktRKPRPgHubHv37gUA5OfnD/p6rVYLrVabiNKIiIjSDgMgpZz169dj9erVKCkpgdvtxoYNG7Bp0ya88cYbqK6uxoYNG3D55ZcjMzMT+/fvx7333oulS5eioqJC6tKJiIjSAgMgpZy2tjbcdNNNaG5uhtVqRUVFBd544w1ceumlqK+vx8aNG/HII4/A6/WiuLgYa9aswXe/+12pyyYiIkobHANIssSxO0R0rvg+QumM6wASERERyQwDIBEREZHMMAAS0ajVdfpwoMGJX7x5TOpSiIhoDDgJhIhG5VirG2t++z7cgTAAoHJCJionZkpcFRERjQZbAIloxI61urHmsQ/DHwDc+PsPsOBHG+H2hySsjIiIRoMtgEQ0rJ//pwp76rrRE4pApRD6PBcVgQ5PAO8d78Dq2YMvxk1ERKmDAZBoDMKRKG55cgfuumQSlkzo7f6MREUoPxKO0llDlw//PtAMvVqJX799Ytjjs83caYWIKF0wABKNkMMbxJZj7dhd14W99d3Y3+DETZWlqHf48MBrR/D20TbY9BoYtUp8adkkrJlXiEhUhEqZniMtNh9rx//+++iIj3/tYAsWlNkTWBEREcULAyDRCG051o57/r63z2Nf/NsunL2UekvIDwD4zdvH8eu3jyMUjuKrK6dizfyiJFYaHzcsKsGGbXU41OQa0fE9oQicPSFY9WoAwK5TDswqtEKrUiayTCIiGgPuBEKyNJYV/EORKCq+/x/0hCKjupZWpcBD11bgqvMKx1KqpA43uXDTH7ejwxMY0fFalQJr5hdBq1LgaLMbv7tpPgxqZdq2ghINhTuBUDpjCyDRCAkALHrVqANgIBzFN/+5H/NKMlBsNySmuASZmmfGaD4jBsJRbNhWBwDIMmlw9W/+CwCYXmBBplGDk+1emHUqeIMRfOHCciydkp2QuomIaGgMgESjcNfFk/CH92pQ2+kb1ev8oSgON7tSNgD++f1aqJQCblxc2udxpULAn//fIjyy8Tg2Hmkd1Tk7PEF0eIIAgJMd3n7PbzvZiV33XQqTlm9DRETJxn4ZohFSKRX4XGUZlk/PhTCGyb7feeEgdp3qin9hcfCvfU14bFM1guFov+dmFVpx28fK435NEUBPcHStqUREFB8MgESjdN8nZmDXdy/Fjz85C6WZI2/R6/AE8NYoW9ESLRIVcc8ze3Ck2QVnTwjesxZ4FkURW4614/0THfh5ArZ8C4ajWP/8ATh7uIA0EVGyse+FaAyOt7rx/O5GnBplV/Czuxrw9VVTIYylCTEB9tZ34cW9TQCAe1dMQYZRAwA42uLC09vq8OetpxJ6/Y1HWvHdFw9iTpEVV88tRJaJawkSESUDWwCJRkkURTy88diYunMDoQj21HfHv6hR8Icisa7XeSUZeGhNBeaW2LD24olodwfw8r4m/Pw/xxIe/s54/0QHPrOwGLbTy8fIUYvTj20nO/HM9jrUdfqwp64L7e7BZ15HoyL2DvD/0a5TDvhHOUmJiOSJLYBEo+APRXDbX3big5OOMb3e5Q/j9++exK+um5vUpVGaunvwyv4mbK9xQKVQYNOxNvzqurlYVG7HwxuPodMTRCAcxdqndmN77djubaw6vUEcbXFjoUwXkW5x+nHt4++joaunz+NKhYAFpRmxSTI3n1+GUCSKNncAe+u68dzuBuz67gpY9WpsPdmJ+/91GDWdXpw/MRNfvXQqZhdZpbgdIkoTXAeQZGms63cFwhFc8ev3cKzVc07XL8004LqFJZhXYsOicnvCu4R/ufE4Ht7YfxzfwrIM7KjtglalwIwCC/bUdSe0jsF847KpuHPZJEmuLbVoVESnN4gPTnbCEwjjuV0NI25dVikELJuajY1H2vo8btQo8eTnF2FRuTxDdbJwHUBKZ+wCJhoFjVKB0kzjOZ/nVKcPP3n9KD7zfx9g2c82YXvN0K1u9Q4fGrt7hjxmIOFIFCfbPXh2V/2Az++o7Q0agXBUsvAHAEea3bKdDKJQCMg2a3HFnAJcv6gEf/r8whG/NhwV+4U/APCHo/jZG1Vj+n+GiOSBAZBohB595wTm3P8fvHk4vjN5T3X68LM3qgBgwEWXn95eh1v/vAN3/HXXqK+tUiowIduEzNOTO1LRqpm5uHZ+UWwLuZHa39CN463uBFUlnUNNLmhVCqgUY28VjkRFbK91wCXTUE1Ew2MAJBohjVIBlz88/IFjsL3Wgct/+S4u/Mk7+PGrh7HtZGfsuaoWN461enCg0Yk7n9qFv++oG/X5N9y2JGW7A4syDFgyYfS1/fSNKvzk9ao+j0WiIqrbPdh1qgv/2DFwq2eqm1Nkw9tfW4ad312Bv926GJdMyxnzuX7x5jE0O9kKSET9MQASjVDJKNb8G4vDzS40dvfgiXdrcN0TH+D+lw9hf0M3thxvjx0Tioh441BvK2A0KiIUiSIQHn7Wp1Grwoz81Byj9If3arDiF5ux5Vg7nL6Rt1h96aKJ2FTVhv0N3RBFEdtrHPj+vw5h+c83Y81j7+NP79cmrugE0muUKLTpYTNocOHkLPzxloVYMT13TOd683ArVvx8M/ZJPPOciFIPJ4GQLI1l8LYoirj76T14ZX9zgqv7kEal6Lc7x+eWlOKHV8/CJT/bhJ5QBCV2A/54y0IYtSp4AmFolApoVIpYzcfbPDDrVPjM7z5AnWN06xYmm0WnwrdWT8fKmbnIMmkRiYpQfqQr1BcM4/0Tnfj5m8dwpNmFOUVW6NRKbBtgHOX5EzNx8dQcLCjLwJRcMwwaJeocPnT5QvjFm8fQ7QvCoFEi16KDPxTBzz41B2Zd6i1H89cPTuG+Fw+O+fWlmQZsuG0JCm36OFZFnARC6YwBkGRprG/c4UgUbxxqxa/eOo4qicafFdv1uHhqDv5y1jp9N1WW4gdXzcK/9jXhh68chk2vxtVzC7G3vhvvHG2DQhAQjPTf5i1VqRQCpuWbYdCosHJGLl7e34yLpmTDqFHiZ/+pQigy+retOcU2QBSxr8E56DHf/fh0fOFjE86h8rHzhyLY3+BEnkWHfJsOXd4gciw6HG1x4XCTC19/bj8i0bG/XVdOyMSnFxYhGgUun50PvUYZx+rliQGQ0hkDIMnSub5xewNhPPHuSWyvcWBbjeOc/jDHgyD0/lFvc/ljM3tp9H72qTm4dn4RAGBffTeanT24bFZ+Uq6961QXPvX4+4iKiLV6LpuSjX0N3ejwBON6rVmFFnxx6UScV2xDsT2xQxvGMwZASmcMgCRL8Xzj9gTCONbqxjPb6/CPnQ1xqpCkYNaqcOOSUlw6IxdrHnsfFUVWvHjnBVCcw4zckWjs7sFlD2+BO5CYSUZDubmyFJfPzsfiCZkjfk0wHIVaKaDLF4J9gBnmA3Xdj0cMgJTOGABJlhL1xn2gwYkn3j2Jf+1rits5Kfn0aiV6Tm+pNrvQimA4iqIMPX5/84KELNr9yMZjeGTj8bifd6R0agU+UVGAOUVWrJqZh8PNLhxtceNIswsz8i1YPj0HBxtd2HKsHWqlAu9UteGCSVn494Fm3H/lTHxmYTEEQYAoinhhTyPWP38AG25bgvmlGZLdUzIwAFI6YwAkWUrkG7cnEMb8H76JQDh9xtzRyEzKMeGFO8/vN1GkyxtEhlFzelZ2NLZ920j977+P4P+2nIxnqWNm0CjhC458P2GNUoF7Lp2MAqsev3nnBE609e6S88RNC3DpjLHNXk4XDICUzrgXMFGcmbQqrJiRi1eTOFuYkuNEmwdffnoPbj6/DEsmZOIHrxxGJCLizSOtyLPo0OkJwKBR4e9fXIIci27E573rkkk41urGpqr24Q9OsNGEPwAIRqJ46CPrMfaeJ/nd2UQ0cgyARAnw/StmYmt1Jxze+A7eJ+m9U9WOd6raMb80o8+evQ5vEHNLbNhT143KB9/GHRdNwM3nlyHbpB2229iiU2P5tJyUCIDxoFEqoFNzljFRKuNC0EQJkG3W4t9f/him5ZmlLoUS5OzwBwBqhQClICDX0rt+4aPvVGPRj9/CY5ur0ekJDHu+8TQWJxSNjmpRbyJKPgZAogTJs+rw/y4sl7oMSpK5JRmobveg1dU37D30ehU+9butWP/8frxztG3A/Z4BYHLO+PmwIIrAxiOtiEq8PBIRDY4BkCiBDgyx6DCNL6FIBF2DtHqdbPfi6e31+PyfduCev+9Fm9vf75iBHktn/zncil11XWjs5l7ERKmIAZAoga6YUwC1cvyvh0bAnnonyrOMmJhtHPK4l/Y24fa/7MLej+zPOzHbNO7WzvvS33bhrg27AQDvV3fgggffxj921EtcFREBXAaGZCqZyze8ur8Zdz+9G+wNk48JWUac7PAOecyaeUX40rIJaHUF0OULYkeNA9tqOlHV4hlX4wEBYHKOCcdPLw+jUSlw/sRMzMi3oMsXQmmmAXdcNFHiCseGy8BQOmMAJFlK9hv32qd249UDXBZGDiblGOELRtDUPbYu3dmFFhxodMW5qtT12I3zsHp2crbbizcGQEpn7AImSoKHrq3ANXMLpS6DEmxhWQZOtHnHHP4AQK9WYVKOKY5Vpbb9jU789YNTA06O+coze7Cj1iFBVUTjH1sASZak+OQejYr4439r8NAbVQhyl5BxZWFZBkQR2PmRpWHGSqkQUGo3IBIVccrhi8s5U12BVYcH11QgIoqo6/ThzcOt2F7rwB0XTcS6S6dIXd6A2AJI6YwBkGRJyjfu3XVd+Nzvt8E7yh0XKDWpFQKm5VtwoDH+M771aiVmF1lxvNU96Azj8W5xuR1fWTEZFp0aswqtUpfTBwMgpTN2ARMlQTgSxa/eOg5nTwhufxiKcTbbU84m5pgSEv4AoCcUwfYaBybnjp81AkdrW40DNzyxDev+sRebqtqkLodo3OBWcERJUNvpwy/ePIa3j7ahocsHt5/7pI4Hi8rt2FMXn27foYQjHDJwrNWD+18+DBHAxVNzpC6HKO0xABIlQZ5VhxXTc7HxSKvUpVCchSKJH0XT4hpfi0SPVU2HF3/6by3ePtKGw80u/OX/LUI4KsKqV0tdGlHa4RhAkiUpxu5EoiJWPbIFJ06vh0bpTa9WAIKAniSM5ZxVYMHBJvksDTNSWSYNIlERf711sSTjAzkGkNIZxwASJYlSIeDJWxaiLNMgdSkUB9PzLdAok/MWqhA4ZnQgHZ4gunwhfOrxrfjWP/cjwtXWiUaMAZAoifKtOo7/Gwf0agXaPQE4e5IzM1enViblOumqxG7AZbPyEOJYSaIR4xhAoiRSKRX432tm48tP70GAawGmhTlFVqiVCggCIADYUduFaXkWHG1xJ+R60/LM0KgUqO30otRuQGO3H0da2P07mNuXTsC6S6cwJBONEgMgUZKtmpmH39+8APf+fS86PEGpy6EhTMgy4libp884v1yLFnvquxNyvQWlGX0Wkz7Q6IJBrYAvxA8LA5mSa0JFkZXhj2gMGACJJCBAgKuHXcGpzhMIw6hR9gmAra5A3K9jN6oxMduEQwOsJ8jwN7gvfGwCPlFRIHUZRGmJYwCJJGAzqBHkeKWU5/AGkGfRjem1Jq0KZl3vZ2xB6N3RItesxYLSDAC9awjmW3WYkW+GKPZ2LTPsjc7P3qjC+9UdUpdBlJYYAIkkYDNw3bJ0ML/UPurlVwwaJdRKATMLLJieZ0FRhh4LS+3YVuNAqzsATyCMqbkmbK9xoDjDgFZXQLbbvJ2rNncAdz61G54AW9OJRotdwEQSKLTpMavQgoONHNwfT0U2PRq6e+JyrjlFVmyrcYzqNTlmLdrcAZg0yj6vbej6sKazJ49srx3d+ak/V08I7e4ATFr+OSMaDbYAEklAEASUZhqlLmNcmZRjRJsn0NviVpaBWQVjX5hXr1bAN8YFnsuzjPAkYXFo6mXUqpBl0khdBlHaYQCklPPYY4+hoqICFosFFosFlZWVeO2112LP+/1+rF27FpmZmTCZTFizZg1aW9Nvi7UsI/9oxUtZpgE6tRLBcBQNXT3YUduFg00uTMw24swSygKAhWUZmFtsw7wS25Dnqyiy4fgYdmxpcwfQ0OXDeUVDn5/ix+0P486ndqPbxxn1RKPBAEgpp6ioCA8++CB27dqFnTt34pJLLsFVV12FQ4cOAQDuvfdevPzyy3j22WexefNmNDU14ZprrpG46tHLNmulLmFcKM8yQq1UDNidXt3uxcJyOxaWZUCvUWJHbRf21HdjqP0iyrOM2D/AbNyRCkVEiENegeLt3eMd+ORv3+dOIESjwL2AKS3Y7Xb89Kc/xbXXXovs7Gxs2LAB1157LQDg6NGjmD59OrZu3YolS5aM6HypsIfnqU4vLvn55pH/0RJF6EPxX4Ik3c0vtaGqxTPqiQADjcGckGVAuyd4zru1fHQ9v3PRo9b2TiMehFYlYHaRDZGoiP313YjI+B39lbsvTOqewKnwPkI0Vhw1SyktEong2WefhdfrRWVlJXbt2oVQKIQVK1bEjpk2bRpKSkqGDICBQACBwIfhyeWSfvJFaaYR0/PNI5sIIop47qlvYEHjkcQXRillR+EMfOrGn/QJgZlGDcqzjPAFIzDpVNh+esLJecU2aFSnO3ZEEbWdPrS55fOhoc3tB5C8AEiUzhgAKSUdOHAAlZWV8Pv9MJlMeOGFFzBjxgzs3bsXGo0GNputz/G5ubloaWkZ9HwPPPAA7r///gRXPXpTckcWAPWhAMOfTC1sPAx9KIAezYfrEXoCIbS6/Kjv6jvjee9HdijJNmsxq8Ay6qVs0pViiJZSIuqLAZBS0tSpU7F37144nU4899xzuPnmm7F58+Yxn2/9+vVYt25d7HuXy4Xi4uJ4lHpOxrIV3Py7/gafemyLE49XaoWAmYUW7K0f+9i9eMg0qVFo06OhqwdatQLN3WNvfTOE/Nj1m88O+JwAYUTbn7W7A3D7QzBpVbDoVSi06SFAQJOzBzlmLY40u9CThotPCwKgVij6Lab+k9ersGxqjkRVEaUXBkBKSRqNBpMmTQIAzJ8/Hzt27MAvf/lLfOYzn0EwGER3d3efVsDW1lbk5eUNej6tVgutNrUmXXR6AthyrH3Ur/OpdX1ag+RuTrEVR5vd2NoaACT+uWRkW7Gr2Yl5pdnYfaoLOtPYloSx6lVQ+j8MeEaNEme39fnDUdR2ejGvxIbddd1DnssfigKIwhMIo6nbH3u8oas3BGaaFH3WKRzKtDwTjrYMPDvaqFFiRoEF++q7EUzQQMRZhRY8cdMCWPVqdLiDuPuZPdh3VqvnJdOyE3JdovGIAZDSQjQaRSAQwPz586FWq/HWW29hzZo1AICqqirU1dWhsrJS4ipH55BMuuUSaVKOCT3BCALh1GjFOtDoxKJyO2o6vAhHRWSaNPA4RrcwdUWhFfsbnTCddU8atQILCjOwt64L4ShQYtcj06hFbafvnOptcwcgCBhRN/GicjsONTqxoDQD9Q4fWs8aW1ieZYSrJwR/KJKw8AcAt5xfjnyrHgBQkqnCC186H28fbcPBJicunZGLmQUc/0c0UgyAlHLWr1+P1atXo6SkBG63Gxs2bMCmTZvwxhtvwGq14tZbb8W6detgt9thsVhw9913o7KycsQzgFNFbLA+jZrdoIZRp0K9w5cy4e+M7WftAOIORLCwLAOBUHTIpWXMOhUKbTp0eIKobu9tYTt7dniXN4Sm2i5MyTUhw6DBgUYn6kYZLAcjikCLy49F5Rno9ARR3e6FSatEUYYBDm8QXb4g5pVkYHddF9RKRe/4w7PCX75VB4c3CGdPCL5gBKWZBuSadXHZ5eTWC8sxq9CCnbVdWDO/CPNKMvo8r1AIWDEjFytm5J7ztYjkhgGQUk5bWxtuuukmNDc3w2q1oqKiAm+88QYuvfRSAMDDDz8MhUKBNWvWIBAIYNWqVfjtb38rcdWjt7jcHtflQuREp1aiPk4BKJEc3iAc3iAmZg++60umUYNMkwZHWzxQCMBQqwIdax394tQj0eEJosMThFopYFaBBRqVIta1bNaqYtvaaVUCqs7qAs636qBUCHD29O5l3BOK4FSnDza9eth7GcpnFhTDGwzjcJML931iBj45t+ic7o+I+mMApJTzhz/8YcjndTodHn30UTz66KNJqigxBEFAeZaRAXAMss1atLoDabPwb4ZRA7R7B3yuJNOAPafDVircTnWHFz1njVt0n7W+oicQxqIyO3zBMDq9QWhVin7d0HqNEkqFAINaOabxj3cum4jrF5WgKEMvqyVsiJKNAZBIQnlWTuYYi30NTswttmHPR5Y9SVV767oxI98CZ08QnkAYzp7eUDUpx4gDDdLOXD5bKCIiFBk6tG2vdUCtFBAVMWAAPzMmU6Ec2ZIsggAsn5YDTyAMq16NCdkmFNsNAIBcC/99ECUKAyCRhHK4HdyYeYNhWHQquPxhKBUCNEoFekKjb3FKhnBUhF6jRJ0jjJkFlliXaoZBgxPRgVsGU1loiIkeRRl6nOr0whMY+Hdx/aJirJ6Vj05vAC3OAJZOyeLkDSIJMAASSUQURSyZkIkMgxpdvpDU5aSdY60eGDVK5Fm0MOnU8AXC6HEmJgAaNUp4x9CdebZdp7v6g6cnrcwqsKCmI/3C33CMWhUUAuAJ9B2jmWXSINeiw4rpuVg6hcu1EEmNAZBIIndt2INXDzQjw6CWupS05Q1GeoOZK4AFpRlocvqHf9EoLCzLQJc3CINWBbVSgWhURE2nF93nENgbu3uwqMwOCGNbCDzVVbW4UVFk7TNL+WOTs/DETQtGtHg1ESUHAyCRRD5ekY9XDzTDpFWxBTAO4r0LmFGjRIcn2K+Vzm7UxP57QWkGvMEwXP4w9GolTrQNP0u3zR1AuyeARWX2c5opm8oCoSgWl9sRjEQRDEfw+5sXQKti+CNKJQyAREnS0OXDrlNduGhKNgRBwD93NQDo7TKjc9fQ1QODRglfMAK9RtlnJutYqJQKuP39g/mkHCMgmnCi3RObwa1XKzCrcOTj2ESxd4mY8Rj+AKCq1Q0AUCkELCq3M/wRpSCuREuUJOufP4CvPLMXL+1tws5aB9462gYAUCq4gX08NDv9yLXosLjcDq1KgcXldswssKDYrh/xOYyaD4OKsyeECdmmfsdsr+nC9loHHN4Pu297QlEcbnKN6nepl0F3aDgqYketAw/8+wh8wfDwLyCipGEAJEqS8qzexYCr2z2YkmvGtDwzAODkIBMBMgxqlGUaklbfeFDT4cW2Gge6fSFsq3HgUJML3kAkFswKMwYOg0pF75qMUVHEwrLe3Sbml2Zg/yiWmfEGIzCMItR1esff+L+BhCIifrflJH63+SQ6PFzXjyhVMAASJcmicjsA4C9bT+FjD72Doy293WTFg4SSwgw9DBp2D4/F2TtvdPuCKLT1/oxzzdpYwDtjTpEVJXYD6h1e9ISi2FvXjfIsI3ad6oJ/lNvMDRYwB1I0imPHg1++dRwtcZ6kQ0RjxwBIlAS1HV787I2qAZ+zGTT9HltcbsfBRhcON7swt9gKnTr9/6kKQu9SIGdTKwVoVApo47gv8rQ8Mxq7e7DgdNCLih+ut7i7rhvdPSHML/0wBGpUCtR0eHEm64Wi4piWZ9EoBYQivSfJtQy9vqNaKSAcSa09jBPNqFFicm7/LnUikkb6/1UhSgO5Fh0augbeu7bV2X+9tC7fh92De+qdo5pgkKpK7QYoBQHzSzIwLc+EIpseAoBMoxoTs00wncNkGKXQG5oXldkhioA/FMXO2i6YdSrkW7WoanHBpFWh0KZHTbsHqtNdwgvLMgb9vYxWMCKiut2LApsOra4A5pXYBj22KEOPqNhbt1yUZxs5GYQohbB/iSgJdGoF7EbNgHubtrsD0KgUCIZ7l87YV9/db324nbXpv19wtlmLHbVdaP3IzyDPose+hu5zmhE7tzQjtrvG2dz+MEKRKCoKrdCqlKhzeGHVaxAIR5Bn0WFPXRdG2cs7rKZuP6x6FY61emKzkj+qpsOHxeU6DLGhxrjj8Yex8XArLpmWAwUnPhFJji2AREkgCAL+9oXFGOjvnlKpiO2pGopERz3uLF20ugaeANDdc27LoSgEoHOIyQX+UBTba7vwXnUHTjl60OkNYm+9s7cbNkE/amdPGHlWHbJNmgEn8swtscmuC7i204cfvnoYUVFGqZcohTEAEsWZwxvEzX/cjsbuvl2LU3LN+MzC4n7Hu/1hzC22AUAsCA5lYVlGWi4hUufwDRiGrHoN8qy6MZ83KgJZJi0EAdBrBv+5fDR31Mep63cgdoMGCqF30Wezru9OL2atCnvqumW5/M+pTh9+u6la6jKICAyARHFnN2pg0qnw41cP93vug5P9uykBYH9DN2YWWBAYQZPUjtoulKbR8jBnwl1FkRWeQP+14I42uxAMRTE5Z+wTBE51+lBRaEWp3ZAS4djhC+JYqwd2o7bfhJIZBRYAQGO3v9+M5PHuY5OzcFNlqdRlEBE4BpAo7v5vSzU2HW2DIPTOCg2GozjS7MLmY+2oc/gGfE0wIqLDHUCxffhgt7AsA/u60mM5jfmlGdh1qguTckzY3+Ac8Bh/OIpQJIiCjLG3Ara5A7HxlZNzTDh+eks2pUIYUatqorQ4e1CWZcQUvQmCIEB5ulUQ6N0T+MzyNONdUYYelRMy8ZM1FRz/R5QiGACJ4kgURWzYVgfv6YH/v3n7BP65u2FEM01bT+8RO5wdtV3o0Yw9LCXL3GIbdp3eKm24PXIFAVApBu+QMGiU0KgU6B7BnskalQILyzLg7Amhus2DxeX2ASeIJENEBKrbB19SprF74A8E4801cwuxbuVUqcsgorOwC5gozs7e4eGXbx0f1TIjI2msmlVoGUtZSWXVq9ETGtlevDaDGhVFNuwdZNcNjUoBs1YFV08Ii8vtUA+zdsqhJhd21HbhWKsHERE41OSEVa8e8jVSMOtUKMpIn678sVAIvesy5p7DGE8iSgwGQKI4CkaiKLAmtlvvYKMLFYOsCyikSO+asyeE7p4Qcs1DL4gMAN2+EDo9AeQPEhKm5ZnR6g4gKgI7ah2jHv/oCURQMor9gJPFH4rgYOPA3eLjwSfnFuKNe5bi+TvPx42LOe6PKNUwABLFkValxK0fK0/4daKiGNvNojzLCJtBjSm5JuRbdSkzu9Ru0PRb828wpxw9sRa+skwDFpVlYFaBBaV2fZ+xg1ERsOn775wynO6e4buOky0UEZE9goCcrr68fDIm55q5nSFRiuK/TKI4u3BSVsInHxxsciHXrIVRo4Q/FIZSEFDv8CEcFVGcoUdtp/Rjy0y60b29eIOR2Fi9oerv8PQunG3SKKFWKgYNmdkmLawGFZy+MPJP78SSakvQZZm0KfG7ijeFANQ7fCjPMg5/MBFJggGQKM4KbHpMzjHhaIs7odfp8ARQlKHHKUffMYbhiDjoDhTJoFIIOK/Yhu0JmnhR5/BhXkkGdtV1QRSBReV27KvvwowCK9QKBbzBMPyhCBq6emKTakYyuUYKNR1ezC+1YdepbqlLiat1l07B0inZUpdBRENgFzBRAvzmhrkAgAsmZeKW88swpyj+e/lGRPQLfwDQ0N2D6XnmAXcdSYapeWbsPJW4reuiIvq05m2vcUCjUmJPXTe21zpwqMmF6nbviNZUlFqnN4gTbYPPEk5Hl8/Owx0XTZS6DCIaBgMgUQJMyjGj2K7HkvJMfP/Kmfj19fPwxE0LkhbKdtV1ozQzud1vSoWARWUZaOhKbJfm4nI7Wlx910F0+/svMJ0OLDoVpuaOfQHsVLRmXhFUSv5pIUp17AImSpA37lka25WiJNMAjUpxTnvejla2uf8uFIm0oDRjzOvtzSyw4FCTa0THpkPL3lDUSgEmrQq+YAR6tRLbaxPXWiqFw00uLJ+eK3UZRDQMBkCiBPno7EerXg21UkAokpwUuL3GMapgNRbT8sxQKgQYNEocaRn+OgU2HUIREQa1ItZ9PS3PjCPNLhTa9NCqFDg5QGidW2JDTzACi16Nwwm8n2SYVWhFVbMLBo1yxLOk00lU7F0Q3R0Io9MT5EQQohTFAEiUJHqNEtfOL8bT2+uSdk2nLwSTVjXgHrzxEAxHBwxsg8kx67C3vhtmrQqLy+1o7O5BncOHqNi7NVqBVYdF5XYEQhGIIqBRK+ALRLCnrjsh9SdbeZYR9Q4ffKEofKH0bskczKPvnMDGI6043OzCZTPz8OiN86QuiYgGwABIlCShSBS7TiV3S7KG7h5MzzfjVKdPslnBAGDSKFGebYrt9uEOhLGtxgGVQkD4rH7xJqcfTc702Od4tBaX27Gj1pHUYQBSCEaiOHB6getZgyxYTkTS40hdoiRRCgI6PcHhD4yzI81uTM8zJ+TcGcbhF2W2GzSYnGuOhYKzhcd7GjrNqFHieJsHUbF3DKBKAcwqsGBhWcagu7qkuxn5Fnz+gjKpyyCiQbAFkChJFAoBK2fm4unt9Um/tjJBszI7R7C+XmmWAcdbPQm5fjrIMmlg0CgRjoqYXWhFJBqFWqnAvtM7nJh1KswqsOBgmo9t/Ch3IJQyWxMSUX9sASRKokKbNHvStrn8mJgd/8H4gfDw3cqnOryj3r93POnwBBGJAtEocKDRicPN7lj4A3qXsEnFrerOVb2jB59/cgf8IemGHhDR4BgAiZIo0yTN3q+1nT44e0KYkW+GKo6LEWYah78fhy+EQ00uZBjUcbtuumns7um3duEZWSYNCqzSfDBItPerO9EyTsd0EqU7BkCiJPJIuGBxhyeIw81uzCm2xe+c3iAs+uFHkiwsyxiXrVzx4PAGgXHaVXr9ohKUcRkYopTEAEiURLlWndQlQEDv/rnx0OL0Y3LO8BNMoiLi2vI4XigEYH5phqQfDBJJzq2+RKmOAZAoiXLM0nQBn23nqS5E4zj7diTnOtzkROQjx2WbtdCoet+CKgqtcQul6SLLpMHMAgt21HbhcPP4mgByxqEmF0RRHjO9idINAyBREkk1CeRs0/JMqI/jfr2d3uGXthHF3sB3hs2gBkRAoxSQbdLiZIcHnZ4AFpXbY6FwvOvwBNHqCsCgHr/3u/lYO1Y9sgXrn98fWwOSiFIDl4EhSqKdSV4IeiBVLR7MK8lAuzsQl0WJfcEwzFol3IHBZ3v6w1How1EsKsuACMAbCONwsxsA4Dn9Ok+7F9XtXiwsy8COcbY/7mCiogjlOO8aP9bqwbFWD2bkW3BeHMefEtG5Gb8fPYlSUIc7+QtBf5QIYFddFyZkm+LSJV2eZRwy/J3R5Qthe23X6S5P96DHHW12ocAm/VjJZCi1G0b0sxsPtCql1CUQ0VkYAImSJBIVselYm9RlxJxo84xqfb6KIisWlX04Tq8s04AFpfGf3WvRa8Z9qxgATM4xYdc57nGcZdJArfzwZ7WozI5pCdr15VxMzjHh0wuLpS6DiM7CLmCiJNle48DW6k6py4hRKYDGrh6YtCp4AoPPQl1QmoGT7R7sb3BiWp4p9tjuui7UdsZvLCEAlNr1aHUH4A9F43reVNTmDmBRmR1RUcTuuq5Rd8cvKrNje60D+VYt8q16qJUKnOr0osUVgFopYGK2CRqVAvsb+m/Bl2yrZuZJXQIRfQRbAImSpHJiJi6aki11GTHhKNDk9AMQUWzvPzml0KZHoU2Pnae64PD1tvIdbfFgUo6xdyZxAiZ35lh0sgh/AODsCWF7rQO1nd4Bf5ZZ5sH3WZ6Rb0FNhxcA0OwMYHddN7bVONDi6t2aLxQRcbTFDXWCtgAcjQlZRkzLN+PZnfW4/S870TrIgthElFxsASRKgme21+G/1Z3YeSr1Jjd4AhFMydVCgACbXg2XPwSVUoEGhw/+cP8wdqLNm5A6TBol5LpiyEB7ARcOsjvI4nI7ttWMbDKRd4iW3WQ52eHF3U/vQXGGAesunYJM4+DBloiShwGQKAmm5pnxrecPSF3GoHbXdSPDoEado7dLVykAkSSHsQnZppQMyIkWjYpQKRRYXG5HOCriSLMLswqtqK5pjR2zoNSGgM6Ao80u7KwdWfgrzzLilCO+XfRjdfnsfPz6urlQyGBsJ1G6kL5/gEgGZhRY8KVlE6UuY0hdvg8ncyQ7/AGAdhyvhzeUyblm7G3o7cJ19gQRFUX4gmF4gh/ODt55qhsnWt3IMKhH/LvJNGrQE0yNGcYqhcDwR5Ri5PmOS5RE/lAEPcEI7lw2sc+MTerLMYIFpcebErsBu85aGzIQjmJangXtp8fync3hC+GUo2fE597f0I3F5XYU2/VYVG6HlPnrkmk50l2ciAbELmCiBPvWP/fjv9WdsBs0CEnRtJYGimz6WPfzeKUQgAWldkDonQBS1eKGQaPE2cMs6x09qD8d8s51z5hgRIyNFcw0ahMyaWckpuSacNV5hdJcnIgGxQBIlECdngBePdCMUEREu7t/qw4BdoMGTn9oXIdji06FqXlmeAIh1HR4ERVFTM4xobF75C16Y5FhUMOkU0m6DdudyyZJdm0iGhy7gInibH9DN+o6fRBFEd/854FxHWziQkBKLfycYVDHrav+vGIbpuWZ4fKHsaO2CxqVEj2hKAJhEcfbPHD7EztL1x+KwJPgawznqW2nEAinxlhEIvoQWwCJ4igYjuL379Zg45FWnFdsw/sptPBzqnJ4gxAAzCywoM0dkLSldG6xDXUOH84rto16P+ISuwFtbn9sHUObQY3aTi+KbL1j8AT0BjKFgKR1x/aEolAqEvc5X3U6uIeHuKEDjU40dvVgQrYpYXUQ0egxABLFkSD07vjhC0YY/kZBBBAIR5Bj1koSAHVqBSblmLDndFdppzeI2YVWHGgcfhcNm0GN4gwD2t1+lNoN0KqU2N/oRHmWEXvqutHti+9WeaMxJdeEY62ehJx7TpEVzp4Q1CoF2t2BAe9TEIBLpubAolcnpAYiGjsGQKI42nbSAWec98aVixNtXuSatZhXYsPuc9wjd7QUgoBTHX0XuA5FIiMKUEU2PQ42OiECsZ045hbboE5gy9tITMk1JWRm9Zlt5uq7emLnL7HrUZZpgLMnhJoOH/RqJQBgUo4R/z7YgsIMPb7z8Rl9ztPU3YNndzbA7Q/hOx+fDkFInWEARHLAMYCUch544AEsXLgQZrMZOTk5uPrqq1FVVdXnmGXLlkEQhD5fd9xxhyT1Rk93f712oBlfe3YfekIc7zRWre4ADjY6MbvQAr1GmbTr+oIRTMm19HnsaIsHFp0aVr0aeo0SMwssA77WqFXhox2ge+q7cbIjMS1vIzGnyIpjrR50eOIbABeV22HVq3G0xd0nXNY5erC33omaDh+m5JqgUgow61Q41uoGAJxs9+Ld4+349VvH8bcPTuG2v+zEDU98gIc3HsPv36vBZ373Ad473hHXWoloaGwBpJSzefNmrF27FgsXLkQ4HMa3v/1trFy5EocPH4bRaIwdd9ttt+EHP/hB7HuDwZD0Wv2hCK78zXu4Zl4RfvZG1ZBjoWhkghERBxpdKM8yosMTSPhECaB3/OGBxu5+j+881YXF5XbUd/kAiJhbYsOe062TJq0KSoWATu/AXdbxDl8jpTyHMYYalQKhSHTQLfm6fUFkmbQIRqJw9Qz8eznTYnr27+396k68dbRt0OvuOOWALyj9tnVEcsIASCnn9ddf7/P9n/70J+Tk5GDXrl1YunRp7HGDwYC8vLxkl9fHv/Y24VirBw++dlTSOsab8iwjHN4g/AlqTZ2Rb4EvGEYwEoXDE8Shj+zDe7Yza+k1dfth1CgxOccEq16NQ01OeALRlOrytxvUUCgEHGh0Qq0UMD3fghanHw5vcNgPJzMLLHB4g1ApBWQYNNCplfAGwhBFEYebe1vyjrV6MK/ENmj4G8xwreJ6tRIaFTukiJKJAZBSntPZOxDfbrf3efypp57C3/72N+Tl5eGKK67AfffdN2grYCAQQCDwYUuNyzX4H/yRanX58cNXD5/zeagvvVqBbJMWNR8ZkxcPeRYdSux67G9wwn/2Cswj5A1GcLxNuq7d4UzKMWN7rQPFdj1sejX2NzihFICK4g9bLgdj0ChxqMkPALHFqM+YVWjBwcbefzNNTn9ca/6fT8zAeSU2zCvJiOt5iWhoDICU0qLRKO655x5ccMEFmDVrVuzxG264AaWlpSgoKMD+/fvxzW9+E1VVVXj++ecHPM8DDzyA+++/P661ObzBpHRPyk1PKAoMMB9AEIAFpRlweIOobh9ZODTrVJiQZYRWpUAgHMXhZhdaXPENMKnEf3q9PZtejQOnA1tEBJTDTLBQCL3j9AajUfZtnROAfuMeR2t2oRU/uGomziu2cQIIkQQYACmlrV27FgcPHsR7773X5/Hbb7899t+zZ89Gfn4+li9fjurqakycOLHfedavX49169bFvne5XCguLj6n2ooy9MiWaNmS8Wx2oQU7ah19HjvTnbmjtgsZBjWKM/RQCBh2b1xRBBq6etApk32GDzc5MSHL2K9Le7gu2KgITMoxobPGMeDzu+t69xUWRREufwgtw6+OM6z1l0/D3HNs9evyBvHqgWa8e7wdV84pxMcr8hGNilAoBPiCYaiVCqiV7FomGggDIKWsu+66C6+88gq2bNmCoqKiIY9dvHgxAODEiRMDBkCtVgutVhu32kKRKB7bVI05RVZsPDL44HYanfIsI462uPtNQpiQZcL+ht7U0eULoev0mnOLyu1weIM4MUi3rCcQRlGGWTYBMBwFTg7Qdd7lC0IQEPu5qhRCnzGBFYVW1A7T5b5tkHA4FnNLbFhSnnnO59mwvQ4/faN3hYA3DrXiF28a4QmE8fCnz8Pftp3CPSumYEqu+ZyvQzQeMQBSyhFFEXfffTdeeOEFbNq0CeXl5cO+Zu/evQCA/Pz8BFcHHG914/ontqHDw5a/eCvM0KHZ2RPbPq/AqkOWSYvjbe4Bj99+OpTkW7UosRtx4PQCzEdb3IhERSwqy8D2Ue7oMR4ZNKpY+JuUY8SpTh9yzVrYTRrkmHXYfKw9abVoVQrccn4ZFMNs/yeKIgRBwL76bvxzdwOOt3oQiYp4/HPzYTdqAAAHP7JQ95mhATf8fhsAwKrX4Furp8HKhaiJ+mEApJSzdu1abNiwAS+99BLMZjNaWloAAFarFXq9HtXV1diwYQMuv/xyZGZmYv/+/bj33nuxdOlSVFRUJLw+i17N8Jcg1W1elGUaoFIooFIq4A2GsX8Eu3E0OwNodvb+Tg41ubC43A5fMMzwd1okKmJ+aQYC4UhsMkerOwCrQZ3U8Fdo0+O+T0zHZbMG/6B2oMGJl/Y24rWDLZhZYME7VW199tP+xnP78cRN8yEIAhaX2/HawZZBz/X09jqYdSp8ekER9jc4cbzNgysqCjBjkDUdieSEAZBSzmOPPQagd7Hnsz355JO45ZZboNFosHHjRjzyyCPwer0oLi7GmjVr8N3vfjcp9QXHMHuURibDoI4tOXIu4tldOR7UdHgHnFXtCYSRY9aiLUnjWBu7e/Clp3bjnuVTcOvHyqFWCvCHoth2shPHWt2xsYtnQl1jd/8xnhuPtGLO/f/B/920AOeVZCDPohtyYs9zuxrwp/drEQxHUZppwFcvnZKYmyNKMwyAlHLEwVahPa24uBibN29OUjX9DTbejM4dZ4MmV1O3H4vK7EkLgEDvOMSHNx5Ds7MHO2odqHP4EI6KUCmEPi19Q3H5w7j+iQ8GXbD6bGfvWNLi9OONQ634eEXih4oQpToGQKJRyrFo8dQXFuPXbx/HByfZ0hRPh5pcqCiywu0PQyEARo0KWrUCAoBQVBx2LTsaPYdPmgkyz+yo7/P9SMPfGSMJfx8VCEfxo1cP48LJWRwXSLLH+fFEozSzwIoLJmWh0Jb8refkoKbdgxyzFtXtXuxvdGJHbRe213bhWIsbi8vtw5+ARuVUpxd5lvjNkE91zU4/fv3WcanLIJIcAyDRGK1bOQWFNr3UZYw77kBkwDF83mAELn/qbLuW7gQBKLEbMDXXjBaXvCY1vVPFpZuIGACJxsiiU8E1xn1gVcMsgUED6/QEUZjB0B0PNr0adQ4fDg6xD/J4Vd3uxT921g9/INE4xjGARGP00t4muAMfbgWnUytw4aRszMg3w6JXoycYQUWxDXq1Em8dbYVGqcDHJmcj16LFd144iPdOdEhYffqy6FQoLLNjT30Xss1aRCIijFoVGrp7EI5EMavACqVSQLcviJoOn9TlpixvMAK1cuQTL8aTCVlGXDtv6MXlicY7BkCiURJFEc/vbsR3XzwIoHdh2y98rBzXLSxBsX3gcYGLTm+j1eT04xvP7cN/T3Qms+Rxo80diM1YnZprgk6txL4GJwqVCkQiUcwssKDJ2YMOTxATs40SV5vaguEoFpXbY4tpy0ltpxcn2j3cJYRkjQGQaJTePNyKrz67DwBw9XkF+PLyyZiQbRr2dSc7vLj6N//t02pIY1fV+uFyPGfWizvQ+GF3ZnW7V7YBZyTKs4x9lkiRk6gI7D7VxQBIssYASDRKK2fmYcMXFqPDG8QVFfkjXrvObtAw/CXZ4UYn8qw6tDgHXyhYbrJMGnR6g1Aq5L2m5TtVbfjMwmKuPUmyxUkgRGNw/qQsXDmnYFR/PKKiiK+tnIKyTC4fkyzT8i1oHWKXCLmxGzXo9ARh1Chxoq3/ziBy8ubh1gF3RyGSCwZAoiTJNGlx1yWT8fkLyqUuRTb84ciYFgwerzRKBSx6FTyBiNSlSC4qAi/uaUQkyv9BSJ4YAImS7Mo5BSgZZLIIxZdBw1EuZywozYBKIcDZw2EIAPCV5ZNRbDfg07/bCg+HZpAM8d2RKMkefecE6hxcniQR8ixaWPRqnGjzwKgd+zqN402WSYM9dV2Q4YovA7r/ypm4+fwy9AQjWD07HyYt/xSS/LAFkCjJPrukFJ/gZvRxNzHbCKNWhWOtHkzMNsGqV+Noi1vqsiRn0qpg1CgZ/s5y5ZwCAIBeo2T4I9liACRKsrIsI5ZNzZG6jLSlVAi4dn7fRXwn55jQ4vSjur13UP/xNg8aunqkKC/llNgNOOXgzwLoXaz9yc8vRIZRI3UpRJLjRx8iCZRncZHi0dIoFZiQbcSaeUW4+fwy5Fq0+N3mk5hVYEVdlxfeICc2DIQtXB+anm/BxfzwRQSAAZBIEpuPtUtdQtrQqhS4flEJvrx8Mmx6NRSn91H++qppsOrU+MN7NXB4OdZvMP4wg7FGqcD0AgvWLpuEbl8QNgNbAIkYAIkkcO+Kyfj0giL84j/H8J/DrQiGoyjK0CMUjaKe3XUAAIUArJ6Vj+9dOQM5Zt2Ax9x+0URUt3vx9531Sa4ufXCZE+DNdUuRYdTAolNLXQpRymAAJJKAIAgoyjDg55+eg6gIdHgCyLXoEIpEcbzVg68+uw9Hml3Dn2gci4rAtz8+fdDwd8bnKkuxeIId/znUitcPtSSpuvTR6vKjLNOA2k75zjzvCUVQyvBH1AcngRBJSBAEKBUCci29IUetVGB6vhkzCywSV5Yanh1By96sQiuumVeExz83H7+6fi5UCgGFNj1+e+M8/PTaClx1XkGf4zVKeb3tZRg0SQt/OWZtUq4znCyTFnkWHZQKARdNyUahTS91SUQphy2ARCnmnr/vhZPr12HljFzcsLhkVK+5ck4BLp6aDaNGFRsrePXcQpxs9yIUiWLF9Fx8ZmExXjvYjNcPtmB3XXcCKk8tNkPyWr4WlttR3eZJ+PI7WSYt1EoBzQPs8bygNAN//PxC6FRK+MMRmLUq7vdLNAAGQKIU8taRVrx7vAMOb1DqUsZsWp4ZLS4/un29ITbTqEHnAPdz+ew8rJieiyferYl1d6+ZV4SrzitAdbsHNywugValHPX1zR/p6lMrFXj57gshimIsCNy+dCL+3wXl+MvWU3hk4zG4/ONzJ4hFZXZsr3Uk7XqNXT24Yk4BTrQdQ3gUYw8FASiw6jG3xIZX9jcDAHItWiwos2NhaQZe2teEE60eeIJhlGUa8dJdF0ApCNiwrQ6/fvs4lkzIxK0XlqMnFMGSCZnQqXv/v9Go5NXaSzQaDIBEKeJEmxvfeeFgSoa/y2fn4a6LJ+NHrx7GthrHkBMLHrnuPGiUClzy882YlmfGM7cvwXdeOIhXDzTHjlkzrwg/vbYCCoUAtz+M37xzAusunYLrFhZDEAQsnZId93v4aCuQSqmAPxwZd+FPp1ZgTpEN4Ug0qeEPAI61uvGVFZOx4bYl+NP7Nfj3gaHHZAoC8Pnzy3Hb0nLUdHjx+Sd3xB7/3ecW4LxiGwDglgvK8aNXDuO53Q1YPi0H4YgIi1GNTy8sxsqZuSjN5LJKRKPFAEiUIiZmm2DQjr7FK9FMWhV+dPVs2I0abLhtCXzBMB5+8xj++sEp+EPR2HGZRg1uXzoBU3PNAIClU7IxNdcEm0GDR647DyatKjZbd9nU7FgX7c3nl+EzC4tjrTbJ4vKH8Mf3apJ6zUQrsOlQnGHAjloHpJj86wtGsKu2C19bNRXeQBivHWyBOEQdJXYDFpXbkW/VY3uNA4FwFBadCr+/eWEs/J1x9/LJ+Nqqqdh9qgsZp7u1rXo1rHpO7iAaCwZAohQhCALmFmfg5OndLFKBIABfXzUV9rN2TjBoVPjOx2fgjosm4vwH30Yg3BsCr51fhC9eNDF23GM3zkPk9F9/tVKBH31yFgDg7zvrUVFk7XOdZIe/n/+nCu3uADo8qdfaOloKAVhYZocnEMaxFjeauvuPi0sWlULAjUt6x21ePC0HNy0pxV8/OBULo7MKLZhdaMOVcwpg0qrw8zerYmHuwklZePaOSrS6/FhUbu937jNB7/xJWcm5GaJxjgGQKEWIoojazuSHv8tn50GnUuL5PY39nvt/F5Tj5vPLBnxdpkmLH39yNh5+8xgumpqNr62a2ud540d2oFArFXhwzWx8emGRpLMyvYEw/vx+7bjp+p2WZ8a2muR29Q5GRN+dR768fDIEQcDls/ORadJgYrapz/GTc0x4fncjziuxIdOkRaYpNWYRE8kBAyBRCvAGwvj+vw5h16mupF63PMuI3944Hz3BCBq7e/CVFZMxOceMrSc7AQCzC61Dvv7a+UW4fHYeIlER6hEsryIIAuaX9m/dSaYOT2DchD+gf9CW0sKyjD4BMNOkxfevnDno8d+4bNqI/r8hovjjvzyiFODwBvH6weQvYnymK1avUeLvX6zE+ROzkG3W4so5BbhyTsGI9iw2aFT9Zt6mMpteg29eNg069fh4+2vo6oEpRcaOfnDSgX/u7t+SPBiGPyLp8F8fUQp4blcD3IHktkqtnpWHb62eltRrpgKrQY0vLZuIq+YUSl3KOcuz6GDSqpAqq9xplAosKpO2hZeIRiZ1+g6IZKre4cMfJJiNure+G5lGjrlKJxOyjbDqVFCdbjkTAeysTe6wAQConJCJsiwDnt7eO6v72vlFmJZnxrQ8C0oyDUmvh4hGjwGQSGLFdgNeuPN8bKtxIBiOonJiJo61utHlDeIvW0+h3ROAVRP/LtZgOAoREqwVkiKm5JmlLmHU6jp9UAhAMCLd702lEPB/N83Hz/9zDEDvONL7Pj4D1iTuOEJE544BkCgFTM41Y3Luh4Fken7vXsCfnFcEvVqJuro24IfxvWanN4h3j3VgxYzc+J44TXj8YSybmo2dtV3wJLn7fawEAQglIfzNKbZhX333gM9FRBFKhYD1l/cOH/jmZdOg16TGGEQiGjkGQKIUdmbts0m5iWmtenjjMWSaNJhbkpGQ86ey25dOiE0EeWZHPdz+EP7330clrmpgerUSPQDMOhXKMo0J38O4KKN3mZ4zITDbrMWvr5+LH716GB3uILp9IRTY9PjW6mlJX8ORiOKDk0CIZOxQkytlt59LNL1GCUEQIAgCrl80tn2HE8l4VqtaTygCu0GNbl8o4eEPAHyBMKpaevdnnpRjwktrL8CSCZn4wVWz8LcvLELB6XUcGf6I0hcDINE4t3JGLjSqwf+pH29zIzrUfl0y8bklpXjujkpMzjFBEHq7W6VUYNP1+d7hC8Vle7cskxa3XlgeW4z7kmk5+MPNC7Bx3UWxFtE8qx6bv34xPn9BGR64ZnYs8M0rycCknPQbO0lE/bELmCjN3PeJ6Xh4axPa3YFBj1EpBNx8fhmWTMjE8mk5uOrR/+JAo3PAY8NREa0uP7JkvguDQiFgQZkd/7zzfLQ6/XhhTyMe31wNlUKBYOTDPY8FAUPubwv0dt3fVFmKP75XA28wMqo6dGoF/KEobAbN8AePQYcngMNNLnxt1RSYtGpcetYY0BfXXgCHN4gFpXZoVAp874rBF3EmovTGAEiUZgpsuiHDHwA8euM8rJqZF/v+mnmFgwZAAPjpG1V48paFEKRu9koBFp0aFp0a18wrxIWTsnCg0Ylmpx+iKOLjFQU4r9iG7798CBu21Q34epVCwA2LS/DVlVOxckYe9jV045X9TTjU6BrRWo8VRTbUdnixI47Lu5wJlUDv1nG3XzQBF0/N6XfctDxL3K5JRKmNAZAozRg0KhRl6NHQ1YOrziuAQaOMrcdm1avxnY9Px8qPzOz9REUBNmyrw/E2z4Dn/Om1cxj+PmJSjhmTcsw4f1JWv+d+fPUsLCzLwNPb6qFQAEqFgEun5+L8SVkIR0RMye3d83Z2kRWzi6z47JJSeANhHG524dX9zfjz1tp+rYirZubiYKMLgVAEbe4Axrpb8scmZ+Hd4x3INGrg8odg1Krw/y4ox+66LkzNNWPlzDzML5XfpB8i6osBkCjNLCrPxKavFeFQkwtzim2IREVcOCkb3T1BrJqZN2BXrl6jRG2nd8DzZZm0yDIlprtxvBIEAZ+cW4QFpXbYDOoRbYVn1KpQYjfgvRMdsfBXbNcj36LHxBwTfnjVTLS6A/jK03uGuG7vjGDfIN3KdqMGK2fm4dYLy5Fn1aG524+yLOOItvQjInlhACRKQyqlAnOKbQB6W58+XpE/5PFvHWkddP244gw9W//GqNg+ul0vci06/PvLH8Njm6qxqNyOeaW2PrOPC216TMg2Yeepgbt/RRGYVWjF9hoHgN6t1+aW2PCt1dPg7AnhoinZfX6X7NIlosFwFjCRDFw5pwB3XTxpwOdOdnjx9PY6ROMxxZSGpVEp8JUVk1E5MXPApWdmFQ4d2iZmm2A4vUTM8uk5+L/PLcDckgwsm5rDIE9EI8YWQCIZEAQBMwssWFRmx2crSzGzwIIMgwbf+ud+vHu8Ay/va8KaeUXQKBggpGbWDf22fLTFhTuXTYROrUTlxExuwUZEY8IASCQTq2fnY/Xsvl3F/3fTAuw61YWJ2cYh1wqk5Hi/ugNfe3b/gM+ZtSqUZhlw/5UzUVFkS25hRDTuMAASyRxnhKaO2YVWRAboilcIwK+un4uLp/VfuoWIaCz4kZ+IKEW8ebh1wMcrJ2Yy/BFRXDEAEhGliBaXf8DHHd4gun3y26+ZiBKHAZCIKEXccn4ZPjW/qN/jR5rdWPTjt7DoxxuxtbpTgsqIaLxhACQiShEGjQpLJmQO+FwwEoVJp0Knd+htAImIRoIBkIgohWjVCujUA78169VKmLScu0dE544BkIgohXyiogCfXlA84HOHmlxY//wB/HVrbXKLIqJxhwGQiCjFfHpBMS6amj3gc81OP+576RDqHb4kV0VE4wkDIBFRiplZYIFyiF1ZKidkItusTWJFRDTeMABSynnggQewcOFCmM1m5OTk4Oqrr0ZVVVWfY/x+P9auXYvMzEyYTCasWbMGra0Dr6FGlG4EQcDqWXkDPnfhpCz84jNzoFP330eYiGikGAAp5WzevBlr167FBx98gDfffBOhUAgrV66E1+uNHXPvvffi5ZdfxrPPPovNmzejqakJ11xzjYRVE8VXcYY+9t+3Ly3Hq1++EBtuW4y/fWEx8q36IV5JRDQ8QRTF/vsOEaWQ9vZ25OTkYPPmzVi6dCmcTieys7OxYcMGXHvttQCAo0ePYvr06di6dSuWLFky7DldLhesViucTicsFkuib+Hceb2AydT73x4PYDRKWw8l3gh+5/5QBO3uAIrthiQXR0Aavo8QnYXrCVDKczqdAAC73Q4A2LVrF0KhEFasWBE7Ztq0aSgpKRlxAExrZ7WE0jh21u95T10XYAxiy7EOnHJ4MTnHjONtbryyrxmFGXo8e0clskwcE0hEI8cASCktGo3innvuwQUXXIBZs2YBAFpaWqDRaGCz2focm5ubi5aWlgHPEwgEEAh8uICuy+VKWM0Jl5srdQWUZJ/9/TZ41boBn6vp8OLCn7yNKyoKMKvQipvPL0tucUSUljgGkFLa2rVrcfDgQTzzzDPndJ4HHngAVqs19lVcPPA6aynLYAAuuEDqKkgCZd98ZdDwd4Y/FMWzuxrwk9ePIhiOJqkyIkpnbAGklHXXXXfhlVdewZYtW1BU9OH+qHl5eQgGg+ju7u7TCtja2oq8vIFnTq5fvx7r1q2Lfe9yudIrBAoC8O67gI9rv40H++q78MW/7oazJwRBAAxqJbzByDmf1xeMYE9dFxYPsp0cEdEZDICUckRRxN13340XXngBmzZtQnl5eZ/n58+fD7Vajbfeegtr1qwBAFRVVaGurg6VlZUDnlOr1UKrTfMxUoLAyR/jxA/e2YeWiBLQ9C7l4gMAjTou537vRAcDIBENiwGQUs7atWuxYcMGvPTSSzCbzbFxfVarFXq9HlarFbfeeivWrVsHu90Oi8WCu+++G5WVleN/AgilvX/sqMfuuq6Enf/d4x346sqpCTs/EY0PDICUch577DEAwLJly/o8/uSTT+KWW24BADz88MNQKBRYs2YNAoEAVq1ahd/+9rdJrpRo5KJREY9vqcZDr1cNf/AYZZm0uPq8goSdn4jGD64DSLLE9bsomZw9IXz1H/uw8UjidquZVWjBP75YCYOGn+uThe8jlM74TkFElECHmpy486ndONWZuAk8M/It+O0N8xn+iGjE+G5BRJQATd09+Moze7C7rhuRaOI6Wj4+Ox+/vO48qJRc1YuIRo4BkIgoAX799nHsqE3cZA8AUAjAV1dOYfgjolHjuwYRUQLsq3cm/BqfqCjAhGxTwq8zVo++cwK1Hdy6kCgVsQWQiCgBAuFzX9h5OFfMSe0Zv7cvnQA1WyeJUhL/ZRIRJcDsQmvCr1FgG3qLOKkx/BGlLv7rJCJKgDnFtoRfo8CqT/g1iGh8YgAkIkqADk8goefXqRWwGeKzfRwRyQ8DIBFRAmyvcST0/BWFNgiCkNBrENH4xQBIRJQAt144IWHnnpBtxN+/yH2viWjsOAuYiCgBPjY5K67nM2tVuHpuIUozDSi06dn6R0TnhAGQiCgBWl3+uJ1rVqEFj392PooyDHE7JxHJG7uAiYgSQKtWItusPefzaJQKPHN7JcMfEcUVWwCJiBKg0KbH9m8vR5PTj3313fjKM3sQiox8T+CiDD1cPSFcPbcQJi3fqokovviuQkSUIIIgoNCmR6FND28gjNpOL9rdAfxjZ8Ogr8k2a/Gvuy5APtf4I6IEYgAkIkqCTy0oBgCEIlF88aKJ8AUi+NXbx7HxSCvEsxoGl0zIZPgjooRjACQiSiK1UoGJ2SYAwBM3LUCHJ4C3jrRi16kuLCrPxPJpORJXSERyIIiiOPJBKUTjhMvlgtVqhdPphMVikbocIkpDfB+hdMZZwEREREQywwBIREREJDMMgEREREQywwBIREREJDMMgEREREQywwBIREREJDMMgEREREQywwBIREREJDMMgEREREQywwBIREREJDMMgEREREQywwBIREREJDMMgEREREQywwBIREREJDMMgEREREQywwBIREREJDMMgEREREQywwBIREREJDMMgEREREQywwBIREREJDMMgEREMiaKIsKRqNRlEFGSMQASEcnYsVYPOr3BPo95A2G8X90BZ09IoqqIKNEYAImIZGJ7jQM9wUifx6bmmZFr0fV5TK9W4vyJWbDq1cksj4iSSCV1AURElBwVRVbo1Mphj1MohCRUQ0RSYgsgEZFMjCT8neH0hfDCngZEo2ICKyIiqTAAEhFRP43dPZiRb2VrINE4xS5gIiLqZ0aBReoSiCiB2AJIREREJDMMgEREREQywwBIREREJDMMgEREREQywwBIREREJDMMgEREREQywwBIKWfLli244oorUFBQAEEQ8OKLL/Z5/pZbboEgCH2+LrvsMmmKJSIiSkMMgJRyvF4v5syZg0cffXTQYy677DI0NzfHvp5++ukkVkhERJTeuBA0pZzVq1dj9erVQx6j1WqRl5eXpIqIiIjGF7YAUlratGkTcnJyMHXqVHzpS19CZ2en1CURERGlDbYAUtq57LLLcM0116C8vBzV1dX49re/jdWrV2Pr1q1QKgfe7D4QCCAQCMS+d7lcySqXiIgo5TAAUtq57rrrYv89e/ZsVFRUYOLEidi0aROWL18+4GseeOAB3H///ckqkYiIKKWxC5jS3oQJE5CVlYUTJ04Mesz69evhdDpjX/X19UmskIiIKLWwBZDSXkNDAzo7O5Gfnz/oMVqtFlqtNolVERERpS4GQEo5Ho+nT2teTU0N9u7dC7vdDrvdjvvvvx9r1qxBXl4eqqur8Y1vfAOTJk3CqlWrJKyaiIgofTAAUsrZuXMnLr744tj369atAwDcfPPNeOyxx7B//378+c9/Rnd3NwoKCrBy5Ur88Ic/ZAsfERHRCAmiKIpSF0GUbC6XC1arFU6nExaLRepyiCgN8X2E0hkngRARERHJDAMgERERkcwwABIRERHJDAMgERERkcwwABIRERHJDAMgERERkcwwABIRERHJDAMgERERkcwwABIRERHJDAMgERERkcwwABIRERHJDAMgERERkcwwABIRERHJDAMgERERkcwwABIRERHJDAMgERERkcwwABIRERHJDAMgERERkcwwABIRERHJDAMgERERkcwwABIRERHJDAMgERERkcwwABIRERHJDAMgERERkcwwABIRERHJDAMgERERkcwwABIRERHJDAMgERERkcwwABIRERHJDAMgERERkcwwABIRERHJDAMgERERkcwwABIRERHJDAMgERERkcwwABIRERHJDAMgERERkcwwABIRERHJDAMgERERkcwwABIRERHJDAMgERERkcwwABIRERHJDAMgERERkcwwABIRkeR213WhwxOQugwi2WAAJCIiyRXa9MgyaaUug0g2GACJiEgynkAYAJBr0UlcCZG8MAASEZEkqlrceO94u9RlEMmSSuoCiIhInqbmmTE1zyx1GQAAURThDUZg0vLPIskDWwCJiEj2thzvwL/3N0tdBlHS8KMOERHJ3kVTsqUugSip2AJIREREJDMMgEREREQywwBIRETj1j921OPFPY0IhqNSl0KUUhgAKeVs2bIFV1xxBQoKCiAIAl588cU+z4uiiP/5n/9Bfn4+9Ho9VqxYgePHj0tTLBGltBkFFswvzYBGxT93RGfjvwhKOV6vF3PmzMGjjz464PMPPfQQfvWrX+Hxxx/Htm3bYDQasWrVKvj9/iRXSkSpblahFcV2g9RlEKUczgKmlLN69WqsXr16wOdEUcQjjzyC7373u7jqqqsAAH/5y1+Qm5uLF198Edddd10ySyUiIkpLbAGktFJTU4OWlhasWLEi9pjVasXixYuxdevWQV8XCATgcrn6fBEREckVAyCllZaWFgBAbm5un8dzc3Njzw3kgQcegNVqjX0VFxcntE4iIqJUxgBIsrB+/Xo4nc7YV319vdQlERERSYYBkNJKXl4eAKC1tbXP462trbHnBqLVamGxWPp8EdH4EAhHpC6BKO0wAFJaKS8vR15eHt56663YYy6XC9u2bUNlZaWElRGRFF7c04hDTRzTSzRanAVMKcfj8eDEiROx72tqarB3717Y7XaUlJTgnnvuwY9+9CNMnjwZ5eXluO+++1BQUICrr75auqKJSBJXzimAKHURRGmIAZBSzs6dO3HxxRfHvl+3bh0A4Oabb8af/vQnfOMb34DX68Xtt9+O7u5uXHjhhXj99deh0+mkKpmIJKJQCFKXQJSWBFEU+eGJZMflcsFqtcLpdHI8IBGNCd9HKJ1xDCARERGRzDAAEhEREckMAyARERGRzDAAEhEREckMAyARERGRzDAAEhEREckMAyARERGRzDAAEhFRQr17vB3+EPfrJUolDIBERJRQC8vs0Kr454YolXArOCIiSiidWil1CUT0EfxIRkRERCQzDIBEREREMsMASERERCQzDIBERJSSolERv9x4HC/tbZS6FKJxh5NAiIgoJSkUAr6yYjJEUZS6FKJxhy2ARERpyBcMS11C0giCIHUJROMOAyARUZp5ZnsdnvxvrdRlEFEaYxcwEVGa+czCYraKEdE5YQsgEVGKCoajONnu6fd4uoe/YDiKf+ysx5/+WwOXPyR1OUSyxBZAIqIU5AuGcekvtmD95dMwIdskdTlxc6DBiS8/swc1HV5oVApcNisfFp1a6rKIZIcBkIgoBRk0Kjxz+xIU2w1SlxI3Td09uPvp3ajt9CHXosUTNy1AnlUndVlEssQASESUosZL+ItGRfxt2yn85LWj8AYjAICvrpyKiiKbtIURyRgDIBERJcwbh1rw8JvHcLTFDQAwaVVYPSsPV1QUSFwZkbwxABIRpQBfMIwfv3oETd09mJ5vwZxiG1bNzJO6rHNWnmXE1DwzLpmWgxkFFiyflgu9Ril1WUSyJ4hcYp1kyOVywWq1wul0wmKxSF0OyZzbH8IX/rwTV8wpwJXnFcCiU8MfikCnZlBKZXwfoXTGFkAiIol971+H8KkFxbh2flHsMYY/IkokBkAiIgmJoojPLinFvJIMqUshIhnhQtBERBISBIHhj4iSjgGQiIiISGYYAImIiIhkhgGQiIiISGYYAImIiIhkhgGQiIiISGYYAImIiIhkhgGQiIiISGYYAImIiIhkhgGQiIiISGYYAImIiIhkhgGQiIiISGYYAImIiIhkhgGQiIiISGYYAImIiIhkRiV1AURSEEURAOByuSSuhIjS1Zn3jzPvJ0TphAGQZMntdgMAiouLJa6EiNKd2+2G1WqVugyiURFEfnQhGYpGo2hqaoLZbIYgCFKXMyIulwvFxcWor6+HxWKRupykket9A/K993S5b1EU4Xa7UVBQAIWCI6oovbAFkGRJoVCgqKhI6jLGxGKxpPQfxUSR630D8r33dLhvtvxRuuJHFiIiIiKZYQAkIiIikhkGQKI0odVq8b3vfQ9arVbqUpJKrvcNyPfe5XrfRMnESSBEREREMsMWQCIiIiKZYQAkIiIikhkGQCIiIiKZYQAkIiIikhkGQCKJbdmyBVdccQUKCgogCAJefPHFPs+Looj/+Z//QX5+PvR6PVasWIHjx4/3OcbhcODGG2+ExWKBzWbDrbfeCo/Hk8S7GL143HdZWRkEQejz9eCDDybxLkZvuPt+/vnnsXLlSmRmZkIQBOzdu7ffOfx+P9auXYvMzEyYTCasWbMGra2tybmBMYrHfS9btqzf7/uOO+5Izg0QjTMMgEQS83q9mDNnDh599NEBn3/ooYfwq1/9Co8//ji2bdsGo9GIVatWwe/3x4658cYbcejQIbz55pt45ZVXsGXLFtx+++3JuoUxicd9A8APfvADNDc3x77uvvvuZJQ/ZsPdt9frxYUXXoif/OQng57j3nvvxcsvv4xnn30WmzdvRlNTE6655ppElRwX8bhvALjtttv6/L4feuihRJRLNP6JRJQyAIgvvPBC7PtoNCrm5eWJP/3pT2OPdXd3i1qtVnz66adFURTFw4cPiwDEHTt2xI557bXXREEQxMbGxqTVfi7Gct+iKIqlpaXiww8/nMRK4+uj9322mpoaEYC4Z8+ePo93d3eLarVafPbZZ2OPHTlyRAQgbt26NYHVxs9Y7lsURfGiiy4Sv/KVryS0NiK5YAsgUQqrqalBS0sLVqxYEXvMarVi8eLF2Lp1KwBg69atsNlsWLBgQeyYFStWQKFQYNu2bUmvOR5Gct9nPPjgg8jMzMTcuXPx05/+FOFwONnlJtWuXbsQCoX6/GymTZuGkpKSfj+b8eipp55CVlYWZs2ahfXr18Pn80ldElFaUkldABENrqWlBQCQm5vb5/Hc3NzYcy0tLcjJyenzvEqlgt1ujx2TbkZy3wDw5S9/GfPmzYPdbsf777+P9evXo7m5Gb/4xS+SWm8ytbS0QKPRwGaz9Xn8oz+b8eiGG25AaWkpCgoKsH//fnzzm99EVVUVnn/+ealLI0o7DIBElLbWrVsX+++KigpoNBp88YtfxAMPPMBtxMahs8e1zp49G/n5+Vi+fDmqq6sxceJECSsjSj/sAiZKYXl5eQDQb4Zna2tr7Lm8vDy0tbX1eT4cDsPhcMSOSTcjue+BLF68GOFwGLW1tYksT1J5eXkIBoPo7u7u8/hwP5vxaPHixQCAEydOSFwJUfphACRKYeXl5cjLy8Nbb70Ve8zlcmHbtm2orKwEAFRWVqK7uxu7du2KHfP2228jGo3G/kCmm5Hc90D27t0LhULRr0t8PJk/fz7UanWfn01VVRXq6uqG/NmMR2eWisnPz5e2EKI0xC5gIol5PJ4+LRg1NTXYu3cv7HY7SkpKcM899+BHP/oRJk+ejPLyctx3330oKCjA1VdfDQCYPn06LrvsMtx22214/PHHEQqFcNddd+G6665DQUGBRHc1vHO9761bt2Lbtm24+OKLYTabsXXrVtx777347Gc/i4yMDInuanjD3bfD4UBdXR2ampoA9IY7oLflLy8vD1arFbfeeivWrVsHu90Oi8WCu+++G5WVlViyZIkk9zQS53rf1dXV2LBhAy6//HJkZmZi//79uPfee7F06VJUVFRIck9EaU3qachEcvfOO++IAPp93XzzzaIo9i6Jct9994m5ubmiVqsVly9fLlZVVfU5R2dnp3j99deLJpNJtFgs4uc//3nR7XZLcDcjd673vWvXLnHx4sWi1WoVdTqdOH36dPF///d/Rb/fL9Edjcxw9/3kk08O+Pz3vve92Dl6enrEO++8U8zIyBANBoP4yU9+UmxubpbmhkboXO+7rq5OXLp0qWi320WtVitOmjRJ/PrXvy46nU7pbooojQmiKIrJCJpERERElBo4BpCIiIhIZhgAiYiIiGSGAZCIiIhIZhgAiYiIiGSGAZCIiIhIZhgAiYiIiGSGAZCIiIhIZhgAiYiIiGSGAZCIiIhIZhgAiYiIiGSGAZCIiIhIZhgAiYiIiGSGAZCIiIhIZhgAiYiIiGSGAZCIiIhIZhgAiYiIiGSGAZCIiIhIZhgAiYiIiGSGAZCIiIhIZhgAiYiIiGSGAZCIiIhIZhgAiYiIiGSGAZCIiIhIZhgAiYiIiGSGAZCIiIhIZhgAiYiIiGSGAZCIiIhIZhgAiYiIiGSGAZCIiIhIZhgAiYiIiGSGAZCIiIhIZv4/zl1SwABl8pUAAAAASUVORK5CYII=' width=640.0/>\n",
       "            </div>\n",
       "        "
      ],
      "text/plain": [
       "Canvas(toolbar=Toolbar(toolitems=[('Home', 'Reset original view', 'home', 'home'), ('Back', 'Back to previous …"
      ]
     },
     "metadata": {},
     "output_type": "display_data"
    }
   ],
   "source": [
    "from shapely import geometry\n",
    "\n",
    "data = gpd.read_file('geometry/china_provinces.json',\n",
    "                    bbox=(100, 20, 110, 30))\n",
    "\n",
    "%matplotlib widget\n",
    "ax = data.plot()\n",
    "# 绘制bbox框示意\n",
    "ax = gpd.GeoSeries([geometry.box(minx=100, \n",
    "                                 miny=20, \n",
    "                                 maxx=110, \n",
    "                                 maxy=30).boundary]).plot(ax=ax, color='red')"
   ]
  },
  {
   "cell_type": "markdown",
   "metadata": {},
   "source": [
    "- **蒙版过滤**"
   ]
  },
  {
   "cell_type": "code",
   "execution_count": 10,
   "metadata": {},
   "outputs": [
    {
     "data": {
      "application/vnd.jupyter.widget-view+json": {
       "model_id": "a6ce9bd86ee341d094a57f708c1ff96b",
       "version_major": 2,
       "version_minor": 0
      },
      "image/png": "[encoded data removed]",
      "text/html": [
       "\n",
       "            <div style=\"display: inline-block;\">\n",
       "                <div class=\"jupyter-widgets widget-label\" style=\"text-align: center;\">\n",
       "                    Figure\n",
       "                </div>\n",
       "                <img src='data:image/png;base64,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' width=640.0/>\n",
       "            </div>\n",
       "        "
      ],
      "text/plain": [
       "Canvas(toolbar=Toolbar(toolitems=[('Home', 'Reset original view', 'home', 'home'), ('Back', 'Back to previous …"
      ]
     },
     "metadata": {},
     "output_type": "display_data"
    }
   ],
   "source": [
    "data = gpd.read_file('geometry/china_provinces.json',\n",
    "                    mask=geometry.Polygon([(100, 20), (110, 30), (120, 20)]))\n",
    "\n",
    "ax = data.plot()\n",
    "# 绘制bbox框示意\n",
    "ax = gpd.GeoSeries([geometry.Polygon([(100, 20), \n",
    "                                      (110, 30), \n",
    "                                      (120, 20)]).boundary]).plot(ax=ax, color='red')"
   ]
  },
  {
   "cell_type": "markdown",
   "metadata": {},
   "source": [
    "- **行过滤**"
   ]
  },
  {
   "cell_type": "code",
   "execution_count": 11,
   "metadata": {},
   "outputs": [
    {
     "data": {
      "text/html": [
       "<div>\n",
       "<style scoped>\n",
       "    .dataframe tbody tr th:only-of-type {\n",
       "        vertical-align: middle;\n",
       "    }\n",
       "\n",
       "    .dataframe tbody tr th {\n",
       "        vertical-align: top;\n",
       "    }\n",
       "\n",
       "    .dataframe thead th {\n",
       "        text-align: right;\n",
       "    }\n",
       "</style>\n",
       "<table border=\"1\" class=\"dataframe\">\n",
       "  <thead>\n",
       "    <tr style=\"text-align: right;\">\n",
       "      <th></th>\n",
       "      <th>NAME</th>\n",
       "      <th>geometry</th>\n",
       "    </tr>\n",
       "  </thead>\n",
       "  <tbody>\n",
       "    <tr>\n",
       "      <th>0</th>\n",
       "      <td>上海市</td>\n",
       "      <td>POLYGON ((121.26507 30.69900, 121.26502 30.699...</td>\n",
       "    </tr>\n",
       "    <tr>\n",
       "      <th>1</th>\n",
       "      <td>云南省</td>\n",
       "      <td>POLYGON ((99.10984 29.25104, 99.11170 29.24993...</td>\n",
       "    </tr>\n",
       "    <tr>\n",
       "      <th>2</th>\n",
       "      <td>内蒙古自治区</td>\n",
       "      <td>POLYGON ((106.82306 38.16423, 106.82241 38.164...</td>\n",
       "    </tr>\n",
       "    <tr>\n",
       "      <th>3</th>\n",
       "      <td>北京市</td>\n",
       "      <td>POLYGON ((116.45671 40.76884, 116.45995 40.770...</td>\n",
       "    </tr>\n",
       "    <tr>\n",
       "      <th>4</th>\n",
       "      <td>台湾省</td>\n",
       "      <td>POLYGON ((121.50042 25.28757, 121.50481 25.287...</td>\n",
       "    </tr>\n",
       "  </tbody>\n",
       "</table>\n",
       "</div>"
      ],
      "text/plain": [
       "     NAME                                           geometry\n",
       "0     上海市  POLYGON ((121.26507 30.69900, 121.26502 30.699...\n",
       "1     云南省  POLYGON ((99.10984 29.25104, 99.11170 29.24993...\n",
       "2  内蒙古自治区  POLYGON ((106.82306 38.16423, 106.82241 38.164...\n",
       "3     北京市  POLYGON ((116.45671 40.76884, 116.45995 40.770...\n",
       "4     台湾省  POLYGON ((121.50042 25.28757, 121.50481 25.287..."
      ]
     },
     "execution_count": 11,
     "metadata": {},
     "output_type": "execute_result"
    }
   ],
   "source": [
    "data = gpd.read_file('geometry/china_provinces.json',\n",
    "                    rows=5) # 读取前5行\n",
    "data"
   ]
  },
  {
   "cell_type": "markdown",
   "metadata": {},
   "source": [
    "## 2.2 矢量文件的写出\n",
    "- **ESRI Shapefile**"
   ]
  },
  {
   "cell_type": "code",
   "execution_count": null,
   "metadata": {},
   "outputs": [],
   "source": [
    "'''在工程根目录下创建output文件夹'''\n",
    "import os\n",
    "\n",
    "try:\n",
    "    os.mkdir('output')\n",
    "except FileExistsError:\n",
    "    pass\n",
    "    \n",
    "data.to_file('output/output.shp', \n",
    "             driver='ESRI Shapefile',\n",
    "             encoding='utf-8')"
   ]
  },
  {
   "cell_type": "code",
   "execution_count": null,
   "metadata": {},
   "outputs": [],
   "source": [
    "data.to_file('output/output_shapefile', \n",
    "             driver='ESRI Shapefile',\n",
    "             encoding='utf-8')"
   ]
  },
  {
   "cell_type": "code",
   "execution_count": null,
   "metadata": {},
   "outputs": [],
   "source": [
    "data.to_file('output/output_shapefile_multi_layer', \n",
    "             driver='ESRI Shapefile',\n",
    "             layer='layer1',\n",
    "             encoding='utf-8')\n",
    "\n",
    "data.to_file('output/output_shapefile_multi_layer', \n",
    "             driver='ESRI Shapefile',\n",
    "             layer='layer2',\n",
    "             encoding='utf-8')\n",
    "\n",
    "data.to_file('output/output_shapefile_multi_layer', \n",
    "             driver='ESRI Shapefile',\n",
    "             layer='layer3',\n",
    "             encoding='utf-8')"
   ]
  },
  {
   "cell_type": "markdown",
   "metadata": {},
   "source": [
    "- **GeoPackage**"
   ]
  },
  {
   "cell_type": "code",
   "execution_count": null,
   "metadata": {},
   "outputs": [],
   "source": [
    "data.to_file('output/output.gpkg',\n",
    "        driver='GPKG',\n",
    "        layer='layer1',\n",
    "        encoding='utf-8')\n",
    "\n",
    "gpd.read_file('output/output.gpkg',\n",
    "             layer='layer1')"
   ]
  },
  {
   "cell_type": "markdown",
   "metadata": {},
   "source": [
    "- **GeoJSON**"
   ]
  },
  {
   "cell_type": "code",
   "execution_count": null,
   "metadata": {},
   "outputs": [],
   "source": [
    "data.to_file('output/output.json',\n",
    "            driver='GeoJSON',\n",
    "            encoding='utf-8')\n",
    "\n",
    "gpd.read_file('output/output.json')"
   ]
  }
 ],
 "metadata": {
  "interpreter": {
   "hash": "0600588c3b5f4418cbe7b5ebc6825b479f3bc010269d8b60d75058cdd010adfe"
  },
  "kernelspec": {
   "display_name": "Python 3.7.3 64-bit",
   "language": "python",
   "name": "python3"
  },
  "language_info": {
   "codemirror_mode": {
    "name": "ipython",
    "version": 3
   },
   "file_extension": ".py",
   "mimetype": "text/x-python",
   "name": "python",
   "nbconvert_exporter": "python",
   "pygments_lexer": "ipython3",
   "version": "3.7.3"
  },
  "orig_nbformat": 4
 },
 "nbformat": 4,
 "nbformat_minor": 2
}
